{
 "cells": [
  {
   "cell_type": "markdown",
   "metadata": {},
   "source": [
    "# Batch Testing Scripts\n",
    "To test all of the variations of our models, we'll submit batch jobs to the clusters (using `sbatch`) to test *everything, everywhere, all at once*."
   ]
  },
  {
   "cell_type": "code",
   "execution_count": null,
   "metadata": {},
   "outputs": [],
   "source": [
    "\"\"\"\n",
    "A simple loop to generate dead Simple Queue (dSQ) files for batch training\n",
    "Usage: change the values as you desire, then run the script to generate a txt file each line of which is a job.\n",
    "Then log into the cluster and execute two commands:\n",
    "module load dSQ\n",
    "dSQ --job-file {specified name}.txt\n",
    "\"\"\"\n",
    "import numpy as np\n",
    "import math\n",
    "# the name of your testing job, for easy reference.\n",
    "name = 'DOUBLE_DYNAMO'\n",
    "model_to_test = 'LEGS_Dynamo'\n",
    "datasets_to_use = [ # comment out any you don't want\n",
    "    # TUD Datasets\n",
    "    \"NCI1\",\n",
    "    \"NCI109\",\n",
    "    \"DD\",\n",
    "    \"PROTEINS\",\n",
    "    \"MUTAG\",\n",
    "    \"PTC\",\n",
    "    \"ENZYMES\",\n",
    "    \"REDDIT-BINARY\",\n",
    "    \"REDDIT-MULTI-12K\",\n",
    "    \"IMDB-BINARY\",\n",
    "    \"IMDB-MULTI\",\n",
    "    \"COLLAB\",\n",
    "    \"REDDIT-MULTI-5K\",\n",
    "    #Non TUD datasets\n",
    "    # \"ogbg-molhiv\"\n",
    "]\n",
    "# Training specifications\n",
    "transform = 'scatter_cat'\n",
    "splits = [ # train-val-test.\n",
    "    '8 1 1'\n",
    "]\n",
    "num_epochs = 1000\n",
    "model_args = {}\n",
    "use_cuda = True\n",
    "\n",
    "file = open(name+'.txt','w')\n",
    "for set in datasets_to_use:\n",
    "    for split in splits:\n",
    "        test_split = int(split[-1])\n",
    "        test_seed_range = [test_split*i for i in range(int(np.ceil(10/test_split)))]\n",
    "        for test_seed in test_seed_range:\n",
    "            val_split = int(split[-3])\n",
    "            val_seed_range = [val_split * i for i in range(int(np.ceil((10-test_split) / val_split)))]\n",
    "            for val_seed in val_seed_range:\n",
    "                command = f\"module purge; module load miniconda; module load CUDA/10.1.105; module load cuDNN/7.6.2.24-CUDA-10.1.105; conda activate legsnet3; python argrun.py --dataset '{set}' --model '{model_to_test}' --transform '{transform}' --test_seed {test_seed} --val_seed {val_seed} --num_epochs {num_epochs} --splits {split} --out_file '{'outs/'+name+'_' + model_to_test +'_'+split.replace(' ','_')+'_'+set+'testseed'+str(test_seed)+'valseed'+str(val_seed)+'.pth'}'\"\n",
    "                if not use_cuda:\n",
    "                    command += ' --no_cuda '\n",
    "                command += '\\n'\n",
    "                file.write(command)\n",
    "file.close()"
   ]
  }
 ],
 "metadata": {
  "kernelspec": {
   "display_name": "Python 3.9.13 ('pyg_from_source')",
   "language": "python",
   "name": "python3"
  }
 },
 "nbformat": 4,
 "nbformat_minor": 2
}
