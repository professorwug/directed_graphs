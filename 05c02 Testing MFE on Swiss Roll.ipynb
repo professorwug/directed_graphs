{
 "cells": [
  {
   "cell_type": "code",
<<<<<<< HEAD
   "execution_count": 1,
   "id": "57e1acf6",
=======
   "execution_count": null,
   "id": "db49aaa2",
>>>>>>> 4100ef955ea4295c1ee634ec188d233eb91f0ed6
   "metadata": {},
   "outputs": [],
   "source": [
    "import torch\n",
    "from directed_graphs.multiscale_flow_embedder import MultiscaleDiffusionFlowEmbedder\n",
    "from directed_graphs.datasets import directed_swiss_roll\n",
    "device = torch.device(\"cuda\" if torch.cuda.is_available() else \"cpu\")"
   ]
  },
  {
   "cell_type": "code",
<<<<<<< HEAD
   "execution_count": 2,
   "id": "81c0a1d5",
=======
   "execution_count": null,
   "id": "4d0993a4",
>>>>>>> 4100ef955ea4295c1ee634ec188d233eb91f0ed6
   "metadata": {},
   "outputs": [],
   "source": [
    "X, flow, labels = directed_swiss_roll()\n",
    "lw = {\"diffusion\":0,\"smoothness\":0,\"reconstruction\":0,\"diffusion map regularization\":1,\"flow cosine loss\":1}"
   ]
  },
  {
   "cell_type": "code",
<<<<<<< HEAD
   "execution_count": 3,
   "id": "e98d2540",
=======
   "execution_count": null,
   "id": "8dfab42e",
>>>>>>> 4100ef955ea4295c1ee634ec188d233eb91f0ed6
   "metadata": {},
   "outputs": [],
   "source": [
    "X = torch.tensor(X)\n",
    "flow = torch.tensor(flow)\n",
    "X = X.float().to(device)\n",
    "flow = flow.float().to(device)"
   ]
  },
  {
   "cell_type": "code",
<<<<<<< HEAD
   "execution_count": 4,
   "id": "76743985",
=======
   "execution_count": null,
   "id": "4b026031",
>>>>>>> 4100ef955ea4295c1ee634ec188d233eb91f0ed6
   "metadata": {},
   "outputs": [],
   "source": [
    "MFE = MultiscaleDiffusionFlowEmbedder(X, flow, device=device, loss_weights=lw).to(device)"
   ]
  },
  {
   "cell_type": "code",
<<<<<<< HEAD
   "execution_count": 5,
   "id": "d4a9bd22",
=======
   "execution_count": null,
   "id": "e0dcb9c5",
>>>>>>> 4100ef955ea4295c1ee634ec188d233eb91f0ed6
   "metadata": {},
   "outputs": [
    {
     "name": "stderr",
     "output_type": "stream",
     "text": [
      "  0%|          | 0/10000 [00:00<?, ?it/s]\n"
     ]
    },
    {
     "ename": "TypeError",
     "evalue": "linspace(): argument 'start' (position 1) must be Number, not Tensor",
     "output_type": "error",
     "traceback": [
      "\u001b[0;31m---------------------------------------------------------------------------\u001b[0m",
      "\u001b[0;31mTypeError\u001b[0m                                 Traceback (most recent call last)",
      "Input \u001b[0;32mIn [5]\u001b[0m, in \u001b[0;36m<cell line: 1>\u001b[0;34m()\u001b[0m\n\u001b[0;32m----> 1\u001b[0m \u001b[43mMFE\u001b[49m\u001b[38;5;241;43m.\u001b[39;49m\u001b[43mfit\u001b[49m\u001b[43m(\u001b[49m\u001b[43mn_steps\u001b[49m\u001b[38;5;241;43m=\u001b[39;49m\u001b[38;5;241;43m10000\u001b[39;49m\u001b[43m)\u001b[49m\n",
      "File \u001b[0;32m/gpfs/ysm/project/sumry2022/sumry2022_gt392/directed_graphs/directed_graphs/multiscale_flow_embedder.py:293\u001b[0m, in \u001b[0;36mMultiscaleDiffusionFlowEmbedder.fit\u001b[0;34m(self, n_steps)\u001b[0m\n\u001b[1;32m    291\u001b[0m \u001b[38;5;28mself\u001b[39m\u001b[38;5;241m.\u001b[39moptim\u001b[38;5;241m.\u001b[39mzero_grad()\n\u001b[1;32m    292\u001b[0m \u001b[38;5;66;03m# compute loss\u001b[39;00m\n\u001b[0;32m--> 293\u001b[0m loss \u001b[38;5;241m=\u001b[39m \u001b[38;5;28;43mself\u001b[39;49m\u001b[38;5;241;43m.\u001b[39;49m\u001b[43mloss\u001b[49m\u001b[43m(\u001b[49m\u001b[43m)\u001b[49m\n\u001b[1;32m    294\u001b[0m \u001b[38;5;66;03m# print(\"loss is \",loss)\u001b[39;00m\n\u001b[1;32m    295\u001b[0m \u001b[38;5;66;03m# compute gradient and step backwards\u001b[39;00m\n\u001b[1;32m    296\u001b[0m loss\u001b[38;5;241m.\u001b[39mbackward()\n",
      "File \u001b[0;32m/gpfs/ysm/project/sumry2022/sumry2022_gt392/directed_graphs/directed_graphs/multiscale_flow_embedder.py:176\u001b[0m, in \u001b[0;36mMultiscaleDiffusionFlowEmbedder.loss\u001b[0;34m(self)\u001b[0m\n\u001b[1;32m    174\u001b[0m \u001b[38;5;28mself\u001b[39m\u001b[38;5;241m.\u001b[39membedded_points \u001b[38;5;241m=\u001b[39m \u001b[38;5;28mself\u001b[39m\u001b[38;5;241m.\u001b[39membedder(\u001b[38;5;28mself\u001b[39m\u001b[38;5;241m.\u001b[39mX)\n\u001b[1;32m    175\u001b[0m \u001b[38;5;66;03m# compute diffusion loss on embedded points\u001b[39;00m\n\u001b[0;32m--> 176\u001b[0m diffusion_loss \u001b[38;5;241m=\u001b[39m \u001b[38;5;28;43mself\u001b[39;49m\u001b[38;5;241;43m.\u001b[39;49m\u001b[43mdiffusion_loss\u001b[49m\u001b[43m(\u001b[49m\u001b[43m)\u001b[49m\n\u001b[1;32m    177\u001b[0m \u001b[38;5;66;03m# compute autoencoder loss\u001b[39;00m\n\u001b[1;32m    178\u001b[0m \u001b[38;5;28;01mif\u001b[39;00m \u001b[38;5;28mself\u001b[39m\u001b[38;5;241m.\u001b[39mdecoder \u001b[38;5;129;01mis\u001b[39;00m \u001b[38;5;129;01mnot\u001b[39;00m \u001b[38;5;28;01mNone\u001b[39;00m:\n",
      "File \u001b[0;32m/gpfs/ysm/project/sumry2022/sumry2022_gt392/directed_graphs/directed_graphs/multiscale_flow_embedder.py:147\u001b[0m, in \u001b[0;36mMultiscaleDiffusionFlowEmbedder.diffusion_loss\u001b[0;34m(self)\u001b[0m\n\u001b[1;32m    145\u001b[0m \u001b[38;5;28;01mdef\u001b[39;00m \u001b[38;5;21mdiffusion_loss\u001b[39m(\u001b[38;5;28mself\u001b[39m):\n\u001b[1;32m    146\u001b[0m \t\u001b[38;5;66;03m# compute grid around points\u001b[39;00m\n\u001b[0;32m--> 147\u001b[0m \t\u001b[38;5;28mself\u001b[39m\u001b[38;5;241m.\u001b[39mgrid \u001b[38;5;241m=\u001b[39m \u001b[43mcompute_grid\u001b[49m\u001b[43m(\u001b[49m\u001b[38;5;28;43mself\u001b[39;49m\u001b[38;5;241;43m.\u001b[39;49m\u001b[43membedded_points\u001b[49m\u001b[43m)\u001b[49m\u001b[38;5;241m.\u001b[39mto(\u001b[38;5;28mself\u001b[39m\u001b[38;5;241m.\u001b[39mdevice)\n\u001b[1;32m    148\u001b[0m \t\u001b[38;5;66;03m# normalize embedded points to lie within -self.embedding_bounds, self.embedding_bounds\u001b[39;00m\n\u001b[1;32m    149\u001b[0m \t\u001b[38;5;66;03m# if any are trying to escape, constrain them to lie on the edges\u001b[39;00m\n\u001b[1;32m    150\u001b[0m \t\u001b[38;5;66;03m# self.embedded_points[:,0][torch.abs(self.embedded_points[:,0]) > self.embedding_bounds] = self.embedding_bounds * (self.embedded_points[:,0][torch.abs(self.embedded_points[:,0]) > self.embedding_bounds])/torch.abs(self.embedded_points[:,0][torch.abs(self.embedded_points[:,0]) > self.embedding_bounds])\u001b[39;00m\n\u001b[1;32m    151\u001b[0m \t\u001b[38;5;66;03m# self.embedded_points[:,1][torch.abs(self.embedded_points[:,1]) > self.embedding_bounds] = self.embedding_bounds * (self.embedded_points[:,1][torch.abs(self.embedded_points[:,1]) > self.embedding_bounds])/torch.abs(self.embedded_points[:,0][torch.abs(self.embedded_points[:,1]) > self.embedding_bounds])\u001b[39;00m\n\u001b[1;32m    152\u001b[0m \t\u001b[38;5;66;03m# compute embedding diffusion matrix, using including diffusion to grid points\u001b[39;00m\n\u001b[1;32m    153\u001b[0m \t\u001b[38;5;28;01mfor\u001b[39;00m i,t \u001b[38;5;129;01min\u001b[39;00m \u001b[38;5;28menumerate\u001b[39m(\u001b[38;5;28mself\u001b[39m\u001b[38;5;241m.\u001b[39mts):\n",
      "File \u001b[0;32m/gpfs/ysm/project/sumry2022/sumry2022_gt392/directed_graphs/directed_graphs/multiscale_flow_embedder.py:19\u001b[0m, in \u001b[0;36mcompute_grid\u001b[0;34m(X, grid_width)\u001b[0m\n\u001b[1;32m     17\u001b[0m maxy \u001b[38;5;241m=\u001b[39m (torch\u001b[38;5;241m.\u001b[39mmax(X[:,\u001b[38;5;241m1\u001b[39m])\u001b[38;5;241m+\u001b[39m\u001b[38;5;241m1\u001b[39m)\n\u001b[1;32m     18\u001b[0m \u001b[38;5;66;03m# form grid around points\u001b[39;00m\n\u001b[0;32m---> 19\u001b[0m x, y \u001b[38;5;241m=\u001b[39m torch\u001b[38;5;241m.\u001b[39mmeshgrid(\u001b[43mtorch\u001b[49m\u001b[38;5;241;43m.\u001b[39;49m\u001b[43mlinspace\u001b[49m\u001b[43m(\u001b[49m\u001b[43mminx\u001b[49m\u001b[43m,\u001b[49m\u001b[43mmaxx\u001b[49m\u001b[43m,\u001b[49m\u001b[43msteps\u001b[49m\u001b[38;5;241;43m=\u001b[39;49m\u001b[43mgrid_width\u001b[49m\u001b[43m)\u001b[49m,torch\u001b[38;5;241m.\u001b[39mlinspace(miny,maxy,steps\u001b[38;5;241m=\u001b[39mgrid_width))\n\u001b[1;32m     20\u001b[0m xy_t \u001b[38;5;241m=\u001b[39m torch\u001b[38;5;241m.\u001b[39mconcat([x[:,:,\u001b[38;5;28;01mNone\u001b[39;00m],y[:,:,\u001b[38;5;28;01mNone\u001b[39;00m]],dim\u001b[38;5;241m=\u001b[39m\u001b[38;5;241m2\u001b[39m)\u001b[38;5;241m.\u001b[39mfloat()\n\u001b[1;32m     21\u001b[0m xy_t \u001b[38;5;241m=\u001b[39m xy_t\u001b[38;5;241m.\u001b[39mreshape(grid_width\u001b[38;5;241m*\u001b[39m\u001b[38;5;241m*\u001b[39m\u001b[38;5;241m2\u001b[39m,\u001b[38;5;241m2\u001b[39m)\u001b[38;5;241m.\u001b[39mdetach()\n",
      "\u001b[0;31mTypeError\u001b[0m: linspace(): argument 'start' (position 1) must be Number, not Tensor"
     ]
    }
   ],
   "source": [
    "MFE.fit(n_steps=10000)"
   ]
  },
  {
   "cell_type": "code",
   "execution_count": null,
   "id": "ec9e1482",
   "metadata": {},
   "outputs": [],
   "source": []
  }
 ],
 "metadata": {
  "kernelspec": {
   "display_name": "Python 3 (ipykernel)",
   "language": "python",
   "name": "python3"
  }
 },
 "nbformat": 4,
 "nbformat_minor": 5
}
