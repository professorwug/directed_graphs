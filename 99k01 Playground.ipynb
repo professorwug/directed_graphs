{
 "cells": [
  {
   "cell_type": "code",
   "execution_count": null,
   "id": "92de3e82",
   "metadata": {},
   "outputs": [],
   "source": [
    "import torch\n",
    "a = torch.rand(10,2)"
   ]
  },
  {
   "cell_type": "code",
   "execution_count": null,
   "id": "c65d7b15",
   "metadata": {},
   "outputs": [
    {
     "data": {
      "text/plain": [
       "tensor([[0.0309, 0.6632],\n",
       "        [0.7177, 0.7729],\n",
       "        [0.7208, 0.7186],\n",
       "        [0.8478, 0.9783],\n",
       "        [0.2358, 0.9450],\n",
       "        [0.0973, 0.6377],\n",
       "        [0.3760, 0.2887],\n",
       "        [0.3563, 0.7361],\n",
       "        [0.3755, 0.5331],\n",
       "        [0.7038, 0.9974]])"
      ]
     },
     "execution_count": null,
     "metadata": {},
     "output_type": "execute_result"
    }
   ],
   "source": [
    "import copy\n",
    "copy.copy(a)"
   ]
  },
  {
   "cell_type": "code",
   "execution_count": null,
   "id": "6ff77a76",
   "metadata": {},
   "outputs": [
    {
     "data": {
      "text/plain": [
       "tensor([[0.7038, 0.9974],\n",
       "        [0.3755, 0.5331],\n",
       "        [0.3563, 0.7361],\n",
       "        [0.3760, 0.2887],\n",
       "        [0.0973, 0.6377],\n",
       "        [0.2358, 0.9450],\n",
       "        [0.8478, 0.9783],\n",
       "        [0.7208, 0.7186],\n",
       "        [0.7177, 0.7729],\n",
       "        [0.0309, 0.6632]])"
      ]
     },
     "execution_count": null,
     "metadata": {},
     "output_type": "execute_result"
    }
   ],
   "source": [
    "torch.flip(a,[0])"
   ]
  },
  {
   "cell_type": "code",
   "execution_count": null,
   "id": "45f60a58",
   "metadata": {},
   "outputs": [
    {
     "data": {
      "text/plain": [
       "tensor(0.9574)"
      ]
     },
     "execution_count": null,
     "metadata": {},
     "output_type": "execute_result"
    }
   ],
   "source": [
    "import torch\n",
    "a = torch.rand(4,4)\n",
    "torch.max(a)"
   ]
  },
  {
   "cell_type": "code",
   "execution_count": null,
   "id": "0b456fad",
   "metadata": {},
   "outputs": [
    {
     "data": {
      "text/plain": [
       "tensor([[0.1284, 0.5562, 0.2131, 0.9279],\n",
       "        [0.1983, 0.0147, 0.3610, 0.7372],\n",
       "        [0.5342, 0.3589, 0.9574, 0.5749],\n",
       "        [0.3356, 0.3594, 0.2055, 0.3572]])"
      ]
     },
     "execution_count": null,
     "metadata": {},
     "output_type": "execute_result"
    }
   ],
   "source": [
    "a"
   ]
  },
  {
   "cell_type": "code",
   "execution_count": null,
   "id": "124060e7",
   "metadata": {},
   "outputs": [],
   "source": []
  }
 ],
 "metadata": {
  "kernelspec": {
   "display_name": "Python 3 (ipykernel)",
   "language": "python",
   "name": "python3"
  }
 },
 "nbformat": 4,
 "nbformat_minor": 5
}
