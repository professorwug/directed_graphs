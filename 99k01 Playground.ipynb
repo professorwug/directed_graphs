{
 "cells": [
  {
   "cell_type": "code",
   "execution_count": 1,
   "id": "92de3e82",
   "metadata": {},
   "outputs": [],
   "source": [
    "import torch\n",
    "a = torch.rand(10,2)"
   ]
  },
  {
   "cell_type": "code",
   "execution_count": 12,
   "id": "c65d7b15",
   "metadata": {},
   "outputs": [
    {
     "data": {
      "text/plain": [
       "tensor([[0.0309, 0.6632],\n",
       "        [0.7177, 0.7729],\n",
       "        [0.7208, 0.7186],\n",
       "        [0.8478, 0.9783],\n",
       "        [0.2358, 0.9450],\n",
       "        [0.0973, 0.6377],\n",
       "        [0.3760, 0.2887],\n",
       "        [0.3563, 0.7361],\n",
       "        [0.3755, 0.5331],\n",
       "        [0.7038, 0.9974]])"
      ]
     },
     "execution_count": 12,
     "metadata": {},
     "output_type": "execute_result"
    }
   ],
   "source": [
    "import copy\n",
    "copy.copy(a)"
   ]
  },
  {
   "cell_type": "code",
   "execution_count": 8,
   "id": "6ff77a76",
   "metadata": {},
   "outputs": [
    {
     "data": {
      "text/plain": [
       "tensor([[0.7038, 0.9974],\n",
       "        [0.3755, 0.5331],\n",
       "        [0.3563, 0.7361],\n",
       "        [0.3760, 0.2887],\n",
       "        [0.0973, 0.6377],\n",
       "        [0.2358, 0.9450],\n",
       "        [0.8478, 0.9783],\n",
       "        [0.7208, 0.7186],\n",
       "        [0.7177, 0.7729],\n",
       "        [0.0309, 0.6632]])"
      ]
     },
     "execution_count": 8,
     "metadata": {},
     "output_type": "execute_result"
    }
   ],
   "source": [
    "torch.flip(a,[0])"
   ]
  },
  {
   "cell_type": "code",
   "execution_count": null,
   "id": "45f60a58",
   "metadata": {},
   "outputs": [],
   "source": []
  }
 ],
 "metadata": {
  "kernelspec": {
   "display_name": "Python 3 (ipykernel)",
   "language": "python",
   "name": "python3"
  },
  "language_info": {
   "codemirror_mode": {
    "name": "ipython",
    "version": 3
   },
   "file_extension": ".py",
   "mimetype": "text/x-python",
   "name": "python",
   "nbconvert_exporter": "python",
   "pygments_lexer": "ipython3",
   "version": "3.9.13"
  }
 },
 "nbformat": 4,
 "nbformat_minor": 5
}
