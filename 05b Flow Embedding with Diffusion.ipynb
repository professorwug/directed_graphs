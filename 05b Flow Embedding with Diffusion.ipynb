{
 "cells": [
  {
   "cell_type": "code",
   "execution_count": null,
   "metadata": {},
   "outputs": [
    {
     "name": "stdout",
     "output_type": "stream",
     "text": [
      "The autoreload extension is already loaded. To reload it, use:\n",
      "  %reload_ext autoreload\n"
     ]
    }
   ],
   "source": [
    "# default_exp diffusion_flow_embedding\n",
    "from nbdev.showdoc import *\n",
    "import numpy as np\n",
    "%load_ext autoreload\n",
    "%autoreload 2"
   ]
  },
  {
   "cell_type": "code",
   "execution_count": null,
   "metadata": {},
   "outputs": [],
   "source": [
    "# export\n",
    "# hide\n",
    "import torch\n",
    "import torch.nn as nn"
   ]
  },
  {
   "cell_type": "markdown",
   "metadata": {},
   "source": [
    "# Flow Embedding with Diffusion"
   ]
  },
  {
   "cell_type": "markdown",
   "metadata": {},
   "source": [
    "The first generation of the flow embedding network was based around the preservation of distances in the embedding space. It's now obvious that this was the wrong tact. Caring about distance preservation puts most emphasis on far away points (including pathological cases, when there's no connectivity and the distance is \"infinite\"). \n",
    "\n",
    "Affinities do the trick here much better. They naturally emphasize only local distances, and allow the network to heavily discount (if not outright ignore) long-range connectivity. \n",
    "\n",
    "This locality creates a new model of flow. Previously, our network used euclidean lines between points, and used the flow only to determine the length of each line. Going against (and especially, going perpendicular) to the flow was *possible*, just not easy.\n",
    "\n",
    "With the diffusion-based model, we think in terms of probabilities, rather than distances. \n",
    "This has a couple of downstream effects:\n",
    "- Going with the flow is *highly* encouraged. Going against or even perpendicular is given (depending on the kernel function used) a probability close to zero.\n",
    "- Points travel on *paths* dictated by the flow. The likelihood of reaching point $i$ from $j$ is governed not by the *shortest* path, but the aggregate of all paths, weighted by probability. This has the dual effects of diminishing the effect of outliers, and providing an intuitive model of motion. You don't have to reason about which path is \"lowest energy\", just which path is most likely based on the directions of flow."
   ]
  },
  {
   "cell_type": "markdown",
   "metadata": {},
   "source": [
    "## The Pieces of the Algorithm"
   ]
  },
  {
   "cell_type": "markdown",
   "metadata": {},
   "source": [
    "We compute the probabilities of transition between the points with three steps:\n",
    "1. Learn a \"Flow Artist\": a neural network to learn flow over the euclidean field.\n",
    "  - This is currently a function of two variables $F(x,y): \\mathbb{R}^2 \\to \\mathbb{R}$. The direction of flow is the negative gradient $-\\Delta F$.\n",
    "2. Compute the probabilities of transition between the grid points and the embeddings of points.\n",
    "3. Compute the probabilities of transition from grid points to grid points.\n",
    "\n",
    "The probability of transitioning from one point to another is then the amalgam of these steps: we transition to the grid, transition within the grid for $t$ steps, and then transition back to a point. Each probability gives a matrix."
   ]
  },
  {
   "cell_type": "markdown",
   "metadata": {},
   "source": [
    "## Probability Kernel from Flow"
   ]
  },
  {
   "cell_type": "markdown",
   "metadata": {},
   "source": [
    "The foundation of these is the conversion from *flow* (the vector field) to probabilities of transition. This is done using a kernel based on the degree of divergence between the direction specified and the flow, as below, where $r$ is the flow direction (a vector) and $v$ is the direction of the edge.\n",
    "$$ e^{-(\\|r\\|^2 - r \\cdot v)/\\sigma} $$\n",
    "When the flow is aligned with the direction, this returns 1. When it is perpendicular, $e^{-\\|r\\|^2/\\sigma}$, and when against the flow, $e^{-2\\|r\\|^2/\\sigma}$.\n",
    "\n",
    "We should tune $\\sigma$ to ensure that a 45 degree angle returns a quantity significantly above zero."
   ]
  },
  {
   "cell_type": "markdown",
   "metadata": {},
   "source": [
    "We'll create a function that performs this operation on batches of flows and directions. The input will be an array of flows (e.g. the flow per point), and a batch of directions (e.g. NESW for each point). It will, of course, use PyTorch for backpropogation capable operations"
   ]
  },
  {
   "cell_type": "code",
   "execution_count": null,
   "metadata": {},
   "outputs": [
    {
     "data": {
      "text/plain": [
       "tensor([[0.5857, 0.0836],\n",
       "        [0.7917, 0.7582],\n",
       "        [0.2730, 0.0338],\n",
       "        [0.5266, 0.3210],\n",
       "        [0.8569, 0.9281],\n",
       "        [0.4532, 0.7811],\n",
       "        [0.9677, 0.2641],\n",
       "        [0.1259, 0.6766],\n",
       "        [0.9726, 0.9734],\n",
       "        [0.3223, 0.2165]])"
      ]
     },
     "execution_count": null,
     "metadata": {},
     "output_type": "execute_result"
    }
   ],
   "source": [
    "a = torch.rand(10,2)\n",
    "b = torch.rand(4,10,2)\n",
    "a"
   ]
  },
  {
   "cell_type": "code",
   "execution_count": null,
   "metadata": {},
   "outputs": [
    {
     "data": {
      "text/plain": [
       "tensor([[[0.0286, 0.8096],\n",
       "         [0.0188, 0.5186],\n",
       "         [0.9790, 0.3125],\n",
       "         [0.6664, 0.6509],\n",
       "         [0.1978, 0.4633],\n",
       "         [0.1147, 0.9813],\n",
       "         [0.2836, 0.6794],\n",
       "         [0.1924, 0.8352],\n",
       "         [0.5591, 0.9357],\n",
       "         [0.0068, 0.7522]],\n",
       "\n",
       "        [[0.8827, 0.2488],\n",
       "         [0.1642, 0.5875],\n",
       "         [0.6806, 0.7231],\n",
       "         [0.6844, 0.1229],\n",
       "         [0.6839, 0.8143],\n",
       "         [0.7458, 0.8132],\n",
       "         [0.1249, 0.7201],\n",
       "         [0.6592, 0.4469],\n",
       "         [0.2138, 0.7757],\n",
       "         [0.6287, 0.8367]],\n",
       "\n",
       "        [[0.1657, 0.5261],\n",
       "         [0.9927, 0.1669],\n",
       "         [0.0886, 0.6551],\n",
       "         [0.9052, 0.6809],\n",
       "         [0.7167, 0.9240],\n",
       "         [0.8961, 0.6752],\n",
       "         [0.2881, 0.4703],\n",
       "         [0.9801, 0.3566],\n",
       "         [0.1731, 0.6491],\n",
       "         [0.7587, 0.0785]],\n",
       "\n",
       "        [[0.3101, 0.8077],\n",
       "         [0.0194, 0.1158],\n",
       "         [0.8932, 0.5461],\n",
       "         [0.3795, 0.7143],\n",
       "         [0.2692, 0.2848],\n",
       "         [0.6996, 0.5824],\n",
       "         [0.4373, 0.2561],\n",
       "         [0.8315, 0.0070],\n",
       "         [0.4333, 0.7136],\n",
       "         [0.9070, 0.7660]]])"
      ]
     },
     "execution_count": null,
     "metadata": {},
     "output_type": "execute_result"
    }
   ],
   "source": [
    "b"
   ]
  },
  {
   "cell_type": "code",
   "execution_count": null,
   "metadata": {},
   "outputs": [
    {
     "data": {
      "text/plain": [
       "tensor([[[0.5917, 0.5917],\n",
       "         [1.0963, 1.0963],\n",
       "         [0.2751, 0.2751],\n",
       "         [0.6167, 0.6167],\n",
       "         [1.2632, 1.2632],\n",
       "         [0.9031, 0.9031],\n",
       "         [1.0031, 1.0031],\n",
       "         [0.6882, 0.6882],\n",
       "         [1.3761, 1.3761],\n",
       "         [0.3883, 0.3883]],\n",
       "\n",
       "        [[0.5917, 0.5917],\n",
       "         [1.0963, 1.0963],\n",
       "         [0.2751, 0.2751],\n",
       "         [0.6167, 0.6167],\n",
       "         [1.2632, 1.2632],\n",
       "         [0.9031, 0.9031],\n",
       "         [1.0031, 1.0031],\n",
       "         [0.6882, 0.6882],\n",
       "         [1.3761, 1.3761],\n",
       "         [0.3883, 0.3883]],\n",
       "\n",
       "        [[0.5917, 0.5917],\n",
       "         [1.0963, 1.0963],\n",
       "         [0.2751, 0.2751],\n",
       "         [0.6167, 0.6167],\n",
       "         [1.2632, 1.2632],\n",
       "         [0.9031, 0.9031],\n",
       "         [1.0031, 1.0031],\n",
       "         [0.6882, 0.6882],\n",
       "         [1.3761, 1.3761],\n",
       "         [0.3883, 0.3883]],\n",
       "\n",
       "        [[0.5917, 0.5917],\n",
       "         [1.0963, 1.0963],\n",
       "         [0.2751, 0.2751],\n",
       "         [0.6167, 0.6167],\n",
       "         [1.2632, 1.2632],\n",
       "         [0.9031, 0.9031],\n",
       "         [1.0031, 1.0031],\n",
       "         [0.6882, 0.6882],\n",
       "         [1.3761, 1.3761],\n",
       "         [0.3883, 0.3883]]])"
      ]
     },
     "execution_count": null,
     "metadata": {},
     "output_type": "execute_result"
    }
   ],
   "source": [
    "anorm = torch.linalg.norm(a, dim=-1)[:,None].repeat(4,1,2)\n",
    "anorm"
   ]
  },
  {
   "cell_type": "code",
   "execution_count": null,
   "metadata": {},
   "outputs": [
    {
     "data": {
      "text/plain": [
       "tensor([[[0.0169, 0.4790],\n",
       "         [0.0206, 0.5685],\n",
       "         [0.2693, 0.0860],\n",
       "         [0.4109, 0.4014],\n",
       "         [0.2498, 0.5852],\n",
       "         [0.1035, 0.8862],\n",
       "         [0.2845, 0.6816],\n",
       "         [0.1324, 0.5748],\n",
       "         [0.7693, 1.2877],\n",
       "         [0.0026, 0.2921]],\n",
       "\n",
       "        [[0.5223, 0.1472],\n",
       "         [0.1801, 0.6440],\n",
       "         [0.1872, 0.1989],\n",
       "         [0.4221, 0.0758],\n",
       "         [0.8639, 1.0286],\n",
       "         [0.6735, 0.7344],\n",
       "         [0.1253, 0.7223],\n",
       "         [0.4536, 0.3075],\n",
       "         [0.2942, 1.0674],\n",
       "         [0.2441, 0.3249]],\n",
       "\n",
       "        [[0.0981, 0.3112],\n",
       "         [1.0883, 0.1829],\n",
       "         [0.0244, 0.1802],\n",
       "         [0.5583, 0.4199],\n",
       "         [0.9053, 1.1672],\n",
       "         [0.8093, 0.6097],\n",
       "         [0.2890, 0.4717],\n",
       "         [0.6744, 0.2454],\n",
       "         [0.2382, 0.8932],\n",
       "         [0.2946, 0.0305]],\n",
       "\n",
       "        [[0.1835, 0.4779],\n",
       "         [0.0213, 0.1269],\n",
       "         [0.2457, 0.1502],\n",
       "         [0.2340, 0.4405],\n",
       "         [0.3401, 0.3597],\n",
       "         [0.6318, 0.5259],\n",
       "         [0.4386, 0.2569],\n",
       "         [0.5722, 0.0048],\n",
       "         [0.5963, 0.9820],\n",
       "         [0.3522, 0.2974]]])"
      ]
     },
     "execution_count": null,
     "metadata": {},
     "output_type": "execute_result"
    }
   ],
   "source": [
    "b * anorm"
   ]
  },
  {
   "cell_type": "code",
   "execution_count": null,
   "metadata": {},
   "outputs": [],
   "source": []
  },
  {
   "cell_type": "code",
   "execution_count": null,
   "metadata": {},
   "outputs": [],
   "source": [
    "#export\n",
    "import torch.nn.functional as F\n",
    "def affinity_from_flow(flows, directions_array, flow_strength = 1, sigma=1):\n",
    "  \"\"\"Compute probabilities of transition in the given directions based on the flow. \n",
    "\n",
    "  Parameters\n",
    "  ----------\n",
    "  flows : torch tensor of shape n_points x n_dims\n",
    "      _description_\n",
    "  directions_array : torch tensor of shape n_directions x n_points x n_dims. Assumed to be normalized.\n",
    "      _description_\n",
    "  sigma : int, optional\n",
    "      kernel bandwidth, by default 1\n",
    "  returns (n_points)\n",
    "  \"\"\"\n",
    "  assert len(flows.shape) == 2 # flows should only have one dimension\n",
    "  assert len(directions_array.shape) > 1 and len(directions_array.shape) < 4\n",
    "  n_directions = directions_array.shape[0]\n",
    "  # Normalize directions\n",
    "  length_of_directions = torch.linalg.norm(directions_array,dim=-1)\n",
    "  normed_directions = F.normalize(directions_array,dim=-1)\n",
    "  # and normalize flows # TODO: Perhaps reconsider\n",
    "  # Calculate flow lengths, used to scale directions to flow\n",
    "  # flow_lengths = torch.linalg.norm(flows,dim=-1)\n",
    "  if len(directions_array) == 1: # convert to 2d array if necessary\n",
    "    directions_array = directions_array[:,None] \n",
    "  # scale directions to have same norm as flow\n",
    "  # scaled_directions = normed_directions * flow_lengths[:,None].repeat(directions_array.shape[0],1,directions_array.shape[2])\n",
    "  # compute dot products as matrix multiplication\n",
    "  dot_products = (normed_directions * flows).sum(-1)\n",
    "  # take distance between flow projected onto direction and the direction\n",
    "  distance_from_flow = (torch.linalg.norm(flows,dim=1)).repeat(n_directions,1) - dot_products\n",
    "  # take absolute value\n",
    "  distance_from_flow = torch.abs(distance_from_flow)\n",
    "  # print('shape of dff',distance_from_flow.shape)\n",
    "  # add to this the length of each direction\n",
    "  distance_from_flow = flow_strength*distance_from_flow + length_of_directions\n",
    "  # put the points on rows, directions in columns\n",
    "  distance_from_flow = distance_from_flow.T\n",
    "  # take kernel of distances\n",
    "  kernel =  torch.exp(-distance_from_flow/sigma)\n",
    "  return kernel\n",
    "  \n",
    "  "
   ]
  },
  {
   "cell_type": "markdown",
   "metadata": {},
   "source": [
    "### A Sample Computation"
   ]
  },
  {
   "cell_type": "code",
   "execution_count": null,
   "metadata": {},
   "outputs": [],
   "source": [
    "flows = torch.rand(4,2) # Flows for each of 4 points\n",
    "directions_array = torch.rand(7,4,2) # 7 directions, for each of the four points"
   ]
  },
  {
   "cell_type": "code",
   "execution_count": null,
   "metadata": {},
   "outputs": [],
   "source": [
    "normed_directions = directions_array / torch.linalg.norm(directions_array,dim=-1)[:,:,None]"
   ]
  },
  {
   "cell_type": "code",
   "execution_count": null,
   "metadata": {},
   "outputs": [
    {
     "data": {
      "text/plain": [
       "tensor([[[0.4674, 0.8841],\n",
       "         [0.9748, 0.2232],\n",
       "         [0.6857, 0.7279],\n",
       "         [0.9789, 0.2043]],\n",
       "\n",
       "        [[0.9571, 0.2898],\n",
       "         [0.6251, 0.7805],\n",
       "         [0.7995, 0.6007],\n",
       "         [0.7129, 0.7013]],\n",
       "\n",
       "        [[0.3908, 0.9205],\n",
       "         [0.8566, 0.5161],\n",
       "         [0.9761, 0.2173],\n",
       "         [0.5867, 0.8098]],\n",
       "\n",
       "        [[0.1934, 0.9811],\n",
       "         [0.5751, 0.8181],\n",
       "         [0.8606, 0.5093],\n",
       "         [0.5597, 0.8287]],\n",
       "\n",
       "        [[0.8100, 0.5865],\n",
       "         [0.2269, 0.9739],\n",
       "         [0.7607, 0.6491],\n",
       "         [0.4428, 0.8966]],\n",
       "\n",
       "        [[0.9632, 0.2687],\n",
       "         [0.7942, 0.6076],\n",
       "         [0.0499, 0.9988],\n",
       "         [0.6534, 0.7570]],\n",
       "\n",
       "        [[0.9103, 0.4140],\n",
       "         [0.9074, 0.4202],\n",
       "         [0.8328, 0.5536],\n",
       "         [0.6674, 0.7447]]])"
      ]
     },
     "execution_count": null,
     "metadata": {},
     "output_type": "execute_result"
    }
   ],
   "source": [
    "import torch.nn.functional as F\n",
    "F.normalize(directions_array,dim=-1)"
   ]
  },
  {
   "cell_type": "code",
   "execution_count": null,
   "metadata": {},
   "outputs": [
    {
     "data": {
      "text/plain": [
       "tensor([[[0.5274, 0.9977],\n",
       "         [0.9200, 0.2106],\n",
       "         [0.5137, 0.5453],\n",
       "         [0.9586, 0.2001]],\n",
       "\n",
       "        [[0.5697, 0.1725],\n",
       "         [0.6286, 0.7848],\n",
       "         [0.2435, 0.1829],\n",
       "         [0.4767, 0.4689]],\n",
       "\n",
       "        [[0.3113, 0.7331],\n",
       "         [0.9090, 0.5476],\n",
       "         [0.2197, 0.0489],\n",
       "         [0.3884, 0.5361]],\n",
       "\n",
       "        [[0.1778, 0.9023],\n",
       "         [0.5292, 0.7528],\n",
       "         [0.5165, 0.3057],\n",
       "         [0.5618, 0.8318]],\n",
       "\n",
       "        [[0.7550, 0.5467],\n",
       "         [0.1268, 0.5443],\n",
       "         [0.6926, 0.5909],\n",
       "         [0.4218, 0.8542]],\n",
       "\n",
       "        [[0.3335, 0.0930],\n",
       "         [0.4197, 0.3211],\n",
       "         [0.0500, 0.9991],\n",
       "         [0.8574, 0.9934]],\n",
       "\n",
       "        [[0.4357, 0.1982],\n",
       "         [0.6340, 0.2936],\n",
       "         [0.7950, 0.5285],\n",
       "         [0.7775, 0.8674]]])"
      ]
     },
     "execution_count": null,
     "metadata": {},
     "output_type": "execute_result"
    }
   ],
   "source": [
    "directions_array"
   ]
  },
  {
   "cell_type": "code",
   "execution_count": null,
   "metadata": {},
   "outputs": [
    {
     "data": {
      "text/plain": [
       "torch.Size([7, 4, 2])"
      ]
     },
     "execution_count": null,
     "metadata": {},
     "output_type": "execute_result"
    }
   ],
   "source": [
    "normed_directions.shape"
   ]
  },
  {
   "cell_type": "code",
   "execution_count": null,
   "metadata": {},
   "outputs": [
    {
     "data": {
      "text/plain": [
       "array([[1.        , 1.        , 1.        , 0.99999994],\n",
       "       [1.        , 1.        , 0.99999994, 1.        ],\n",
       "       [0.99999994, 1.        , 0.99999994, 0.99999994],\n",
       "       [0.99999994, 1.        , 0.99999994, 0.99999994],\n",
       "       [1.        , 0.99999994, 0.99999994, 1.        ],\n",
       "       [1.        , 0.99999994, 1.        , 1.        ],\n",
       "       [1.        , 0.99999994, 1.        , 1.        ]], dtype=float32)"
      ]
     },
     "execution_count": null,
     "metadata": {},
     "output_type": "execute_result"
    }
   ],
   "source": [
    "np.linalg.norm(normed_directions,axis=-1)"
   ]
  },
  {
   "cell_type": "markdown",
   "metadata": {},
   "source": [
    "Next, take a dot product between the directions and the flow, to get a strength of flow at each point in each direction"
   ]
  },
  {
   "cell_type": "code",
   "execution_count": null,
   "metadata": {},
   "outputs": [
    {
     "data": {
      "text/plain": [
       "torch.Size([7, 4])"
      ]
     },
     "execution_count": null,
     "metadata": {},
     "output_type": "execute_result"
    }
   ],
   "source": [
    "dot_products = (directions_array * flows).sum(-1)\n",
    "dot_products.shape"
   ]
  },
  {
   "cell_type": "markdown",
   "metadata": {},
   "source": [
    "Convert these dot products into distances by subtracting the norm squared of the flows from the dot product with the flow. If exactly with the flow, we get zero."
   ]
  },
  {
   "cell_type": "code",
   "execution_count": null,
   "metadata": {},
   "outputs": [
    {
     "data": {
      "text/plain": [
       "tensor([[-0.0750,  0.0648, -0.0468,  0.3015],\n",
       "        [ 0.5565, -0.1253,  0.2596,  0.3018],\n",
       "        [ 0.2780, -0.1402,  0.3394,  0.2868],\n",
       "        [ 0.2303, -0.0473,  0.0758, -0.0412],\n",
       "        [ 0.1362,  0.3181, -0.1492,  0.0054],\n",
       "        [ 0.7748,  0.2873, -0.0770, -0.3142],\n",
       "        [ 0.6239,  0.1796, -0.1621, -0.1716]])"
      ]
     },
     "execution_count": null,
     "metadata": {},
     "output_type": "execute_result"
    }
   ],
   "source": [
    "distance_from_flow = (torch.linalg.norm(flows,dim=1)**2).repeat(7,1) - dot_products\n",
    "distance_from_flow"
   ]
  },
  {
   "cell_type": "markdown",
   "metadata": {},
   "source": [
    "### Testing"
   ]
  },
  {
   "cell_type": "markdown",
   "metadata": {},
   "source": [
    "To ensure this is working as expected, we'll try computations on a single sample point, with flow going in direction (1,1). We'll compare this with six directions: one with, one against, and the rest in the shape of a grid."
   ]
  },
  {
   "cell_type": "code",
   "execution_count": null,
   "metadata": {},
   "outputs": [],
   "source": [
    "flow = torch.tensor([[1,1]]).float()\n",
    "directions = torch.tensor([\n",
    "  [[0.7,0.7]],\n",
    "  [[0,1]],\n",
    "  [[1,0]],\n",
    "  [[0,-1]],\n",
    "  [[-1,0]],\n",
    "  [[-0.7,-0.7]]\n",
    "]).float()\n",
    "probs = affinity_from_flow(flow,directions,sigma=0.5)"
   ]
  },
  {
   "cell_type": "code",
   "execution_count": null,
   "metadata": {},
   "outputs": [
    {
     "data": {
      "text/plain": [
       "tensor([[0.1381, 0.0591, 0.0591, 0.0011, 0.0011, 0.0005]])"
      ]
     },
     "execution_count": null,
     "metadata": {},
     "output_type": "execute_result"
    }
   ],
   "source": [
    "probs"
   ]
  },
  {
   "cell_type": "markdown",
   "metadata": {},
   "source": [
    "If this went according to plan, the direction with the flow should have probability 1, and the one against should have probability near zero."
   ]
  },
  {
   "cell_type": "code",
   "execution_count": null,
   "metadata": {},
   "outputs": [
    {
     "data": {
      "text/plain": [
       "[<matplotlib.lines.Line2D at 0x17fd9dfd0>]"
      ]
     },
     "execution_count": null,
     "metadata": {},
     "output_type": "execute_result"
    },
    {
     "data": {
      "image/png": "[encoded data removed]",
      "text/plain": [
       "<Figure size 432x288 with 1 Axes>"
      ]
     },
     "metadata": {
      "needs_background": "light"
     },
     "output_type": "display_data"
    }
   ],
   "source": [
    "import matplotlib.pyplot as plt\n",
    "plt.plot(probs[0])"
   ]
  },
  {
   "cell_type": "markdown",
   "metadata": {},
   "source": [
    "$\\sigma=0.5$ works well here. In particular, the 45 degree angles have fairly high probability, while still being less than the probability of going straight."
   ]
  },
  {
   "cell_type": "markdown",
   "metadata": {},
   "source": [
    "This should look like a 3-dimensional pacman"
   ]
  },
  {
   "cell_type": "code",
   "execution_count": null,
   "metadata": {},
   "outputs": [],
   "source": [
    "flow = torch.tensor([[1,1]]).float()\n",
    "x, y = np.meshgrid(np.linspace(-5,5,20),np.linspace(-5,5,20))\n",
    "x = torch.tensor(x,dtype=float).cpu()\n",
    "y = torch.tensor(y,dtype=float).cpu()\n",
    "xy_t = torch.concat([x[:,:,None],y[:,:,None]],dim=2).float()"
   ]
  },
  {
   "cell_type": "code",
   "execution_count": null,
   "metadata": {},
   "outputs": [],
   "source": [
    "directions_array = xy_t.reshape(400,1,2)\n",
    "flows = affinity_from_flow(flow, directions_array,flow_strength=2)"
   ]
  },
  {
   "cell_type": "code",
   "execution_count": null,
   "metadata": {},
   "outputs": [],
   "source": [
    "length_of_directions = torch.linalg.norm(directions_array,dim=-1)\n",
    "normed_directions = directions_array / length_of_directions[:,:,None]"
   ]
  },
  {
   "cell_type": "code",
   "execution_count": null,
   "metadata": {},
   "outputs": [
    {
     "data": {
      "text/plain": [
       "torch.Size([400, 1, 2])"
      ]
     },
     "execution_count": null,
     "metadata": {},
     "output_type": "execute_result"
    }
   ],
   "source": [
    "normed_directions.shape"
   ]
  },
  {
   "cell_type": "code",
   "execution_count": null,
   "metadata": {},
   "outputs": [],
   "source": [
    "flows = flows.reshape(20,20)"
   ]
  },
  {
   "cell_type": "code",
   "execution_count": null,
   "metadata": {},
   "outputs": [
    {
     "data": {
      "text/plain": [
       "<matplotlib.image.AxesImage at 0x17fe098b0>"
      ]
     },
     "execution_count": null,
     "metadata": {},
     "output_type": "execute_result"
    },
    {
     "data": {
      "image/png": "[encoded data removed]",
      "text/plain": [
       "<Figure size 432x288 with 1 Axes>"
      ]
     },
     "metadata": {
      "needs_background": "light"
     },
     "output_type": "display_data"
    }
   ],
   "source": [
    "plt.imshow(flows)"
   ]
  },
  {
   "cell_type": "code",
   "execution_count": null,
   "metadata": {},
   "outputs": [
    {
     "data": {
      "image/png": "[encoded data removed]",
      "text/plain": [
       "<Figure size 432x288 with 1 Axes>"
      ]
     },
     "metadata": {
      "needs_background": "light"
     },
     "output_type": "display_data"
    }
   ],
   "source": [
    "fig = plt.figure()\n",
    "ax = fig.add_subplot(111, projection='3d')\n",
    "\n",
    "ax.plot_surface(x,y,flows)\n",
    "\n",
    "ax.set_xlabel('X Label')\n",
    "ax.set_ylabel('Y Label')\n",
    "ax.set_zlabel('Z Label')\n",
    "\n",
    "plt.show()"
   ]
  },
  {
   "cell_type": "code",
   "execution_count": null,
   "metadata": {},
   "outputs": [
    {
     "data": {
      "text/plain": [
       "tensor(0.6892)"
      ]
     },
     "execution_count": null,
     "metadata": {},
     "output_type": "execute_result"
    }
   ],
   "source": [
    "torch.max(flows)"
   ]
  },
  {
   "cell_type": "code",
   "execution_count": null,
   "metadata": {},
   "outputs": [],
   "source": [
    "X = np.column_stack([x.reshape(400),y.reshape(400),flows.reshape(400)*4])"
   ]
  },
  {
   "cell_type": "code",
   "execution_count": null,
   "metadata": {},
   "outputs": [
    {
     "data": {
      "application/vnd.plotly.v1+json": {
       "config": {
        "plotlyServerURL": "https://plot.ly"
       },
       "data": [
        {
         "hovertemplate": "x=%{x}<br>y=%{y}<br>z=%{z}<br>colors=%{marker.color}<extra></extra>",
         "legendgroup": "",
         "marker": {
          "color": [
           2.9671091397176497e-06,
           4.279238964954857e-06,
           6.0961128838243894e-06,
           8.57414306665305e-06,
           1.1901431207661517e-05,
           1.6294980014208704e-05,
           2.1986867068335414e-05,
           2.9186760002630763e-05,
           3.800392369157635e-05,
           4.831829573959112e-05,
           5.962326758890413e-05,
           7.091912993928418e-05,
           8.077667007455602e-05,
           8.764261292526498e-05,
           9.030585351865739e-05,
           8.830557635519654e-05,
           8.206295751733705e-05,
           7.269182242453098e-05,
           6.1618018662557e-05,
           5.0200022087665275e-05,
           4.279238964954857e-06,
           6.245816166483564e-06,
           9.006644177134149e-06,
           1.2828153558075428e-05,
           1.8045553588308394e-05,
           2.5072939024539664e-05,
           3.4402481105644256e-05,
           4.656502278521657e-05,
           6.200010102475062e-05,
           8.077543316176161e-05,
           0.00010216212103841826,
           0.00012424778833519667,
           0.0001439571351511404,
           0.00015776829968672246,
           0.0001629331090953201,
           0.0001585237478138879,
           0.000145684476592578,
           0.00012703324318863451,
           0.00010567181743681431,
           8.433026960119605e-05,
           6.0961128838243894e-06,
           9.006644177134149e-06,
           1.3147538993507624e-05,
           1.895957757369615e-05,
           2.701863195397891e-05,
           3.808127439697273e-05,
           5.3138825023779646e-05,
           7.343276956817135e-05,
           0.00010029816621681675,
           0.00013460499758366495,
           0.00017563722212798893,
           0.00021977696451358497,
           0.0002601558808237314,
           0.0002884294372051954,
           0.0002981825964525342,
           0.00028771787765435874,
           0.000260351225733757,
           0.00022244101273827255,
           0.00018078600987792015,
           0.00014077775995247066,
           8.57414306665305e-06,
           1.2828153558075428e-05,
           1.895957757369615e-05,
           2.7675772798829712e-05,
           3.992523852502927e-05,
           5.701915142708458e-05,
           8.083916327450424e-05,
           0.00011409927537897602,
           0.00016039145702961832,
           0.00022327904298435897,
           0.0003034475666936487,
           0.00039427782758139074,
           0.0004796155553776771,
           0.000538539607077837,
           0.0005556991090998054,
           0.0005288884276524186,
           0.0004682417493313551,
           0.00038957863580435514,
           0.0003076840075664222,
           0.0002327536349184811,
           1.1901431207661517e-05,
           1.8045553588308394e-05,
           2.701863195397891e-05,
           3.992523852502927e-05,
           5.8257926866644993e-05,
           8.414292824454606e-05,
           0.00012088626681361347,
           0.0001739895815262571,
           0.00025236079818569124,
           0.0003678046923596412,
           0.0005283160135149956,
           0.00072294200072065,
           0.0009106943616643548,
           0.0010352027602493763,
           0.001059410860762,
           0.0009856560500338674,
           0.0008460290264338255,
           0.0006800362025387585,
           0.0005186244379729033,
           0.00037931380211375654,
           1.6294980014208704e-05,
           2.5072939024539664e-05,
           3.808127439697273e-05,
           5.701915142708458e-05,
           8.414292824454606e-05,
           0.0001226338354172185,
           0.00017768927500583231,
           0.00025933125289157033,
           0.00038789183599874377,
           0.0005991168436594307,
           0.0009318606462329626,
           0.0013742140727117658,
           0.0018092693062499166,
           0.0020710236858576536,
           0.0020748211536556482,
           0.0018600262701511383,
           0.0015286740381270647,
           0.001175789162516594,
           0.0008600066648796201,
           0.0006053508841432631,
           2.1986867068335414e-05,
           3.4402481105644256e-05,
           5.3138825023779646e-05,
           8.083916327450424e-05,
           0.00012088626681361347,
           0.00017768927500583231,
           0.00025814634864218533,
           0.0003774244396481663,
           0.000576401362195611,
           0.0009567425004206598,
           0.001684493152424693,
           0.002786331344395876,
           0.003859616117551923,
           0.004367530811578035,
           0.004177403170615435,
           0.00353156472556293,
           0.002736256457865238,
           0.0019934873562306166,
           0.0013896969612687826,
           0.0009380633709952235,
           2.9186760002630763e-05,
           4.656502278521657e-05,
           7.343276956817135e-05,
           0.00011409927537897602,
           0.0001739895815262571,
           0.00025933125289157033,
           0.0003774244396481663,
           0.0005434018094092607,
           0.0008194592664949596,
           0.0014682731125503778,
           0.0032173299696296453,
           0.0064165000803768635,
           0.009193723089993,
           0.009782048873603344,
           0.008558977395296097,
           0.00663730688393116,
           0.0047716679982841015,
           0.0032652884256094694,
           0.002160969190299511,
           0.0013969041174277663,
           3.800392369157635e-05,
           6.200010102475062e-05,
           0.00010029816621681675,
           0.00016039145702961832,
           0.00025236079818569124,
           0.00038789183599874377,
           0.000576401362195611,
           0.0008194592664949596,
           0.001143869711086154,
           0.0020489501766860485,
           0.007258978672325611,
           0.019352929666638374,
           0.02530144713819027,
           0.022774212062358856,
           0.017248140648007393,
           0.011967074126005173,
           0.007904458791017532,
           0.005066830199211836,
           0.003185200970619917,
           0.0019758245907723904,
           4.831829573959112e-05,
           8.077543316176161e-05,
           0.00013460499758366495,
           0.00022327904298435897,
           0.0003678046923596412,
           0.0005991168436594307,
           0.0009567425004206598,
           0.0014682731125503778,
           0.0020489501766860485,
           0.0024078632704913616,
           0.04073822498321533,
           0.09110940247774124,
           0.074173703789711,
           0.050178032368421555,
           0.031920116394758224,
           0.019754262641072273,
           0.01204783283174038,
           0.007284363731741905,
           0.004379851743578911,
           0.0026235426776111126,
           5.962326758890413e-05,
           0.00010216212103841826,
           0.00017563722212798893,
           0.0003034475666936487,
           0.0005283160135149956,
           0.0009318606462329626,
           0.001684493152424693,
           0.0032173299696296453,
           0.007258978672325611,
           0.04073822498321533,
           0.689242959022522,
           0.3227803111076355,
           0.16253192722797394,
           0.08834614604711533,
           0.0496482253074646,
           0.02837510220706463,
           0.016373610123991966,
           0.009504883550107479,
           0.005539493169635534,
           0.003237369703128934,
           7.091912993928418e-05,
           0.00012424778833519667,
           0.00021977696451358497,
           0.00039427782758139074,
           0.00072294200072065,
           0.0013742140727117658,
           0.002786331344395876,
           0.0064165000803768635,
           0.019352929666638374,
           0.09110940247774124,
           0.3227803111076355,
           0.3274288773536682,
           0.19811441004276276,
           0.11009085923433304,
           0.06110631674528122,
           0.03428228572010994,
           0.019430913031101227,
           0.011102610267698765,
           0.006383117754012346,
           0.003687086747959256,
           8.077667007455602e-05,
           0.0001439571351511404,
           0.0002601558808237314,
           0.0004796155553776771,
           0.0009106943616643548,
           0.0018092693062499166,
           0.003859616117551923,
           0.009193723089993,
           0.02530144713819027,
           0.074173703789711,
           0.16253192722797394,
           0.19811441004276276,
           0.15554700791835785,
           0.10003314167261124,
           0.059713151305913925,
           0.034740909934043884,
           0.02005767822265625,
           0.011568186804652214,
           0.006680693477392197,
           0.003866042708978057,
           8.764261292526498e-05,
           0.00015776829968672246,
           0.0002884294372051954,
           0.000538539607077837,
           0.0010352027602493763,
           0.0020710236858576536,
           0.004367530811578035,
           0.009782048873603344,
           0.022774212062358856,
           0.050178032368421555,
           0.08834614604711533,
           0.11009085923433304,
           0.10003314167261124,
           0.07389351725578308,
           0.048688940703868866,
           0.030242349952459335,
           0.0182285625487566,
           0.010820334777235985,
           0.006373096723109484,
           0.0037392452359199524,
           9.030585351865739e-05,
           0.0001629331090953201,
           0.0002981825964525342,
           0.0005556991090998054,
           0.001059410860762,
           0.0020748211536556482,
           0.004177403170615435,
           0.008558977395296097,
           0.017248140648007393,
           0.031920116394758224,
           0.0496482253074646,
           0.06110631674528122,
           0.059713151305913925,
           0.048688940703868866,
           0.03510354459285736,
           0.023418866097927094,
           0.014898194000124931,
           0.009206617251038551,
           0.005588639993220568,
           0.0033548215869814157,
           8.830557635519654e-05,
           0.0001585237478138879,
           0.00028771787765435874,
           0.0005288884276524186,
           0.0009856560500338674,
           0.0018600262701511383,
           0.00353156472556293,
           0.00663730688393116,
           0.011967074126005173,
           0.019754262641072273,
           0.02837510220706463,
           0.03428228572010994,
           0.034740909934043884,
           0.030242349952459335,
           0.023418866097927094,
           0.01667614094913006,
           0.011207320727407932,
           0.007241623476147652,
           0.004555930383503437,
           0.0028144116513431072,
           8.206295751733705e-05,
           0.000145684476592578,
           0.000260351225733757,
           0.0004682417493313551,
           0.0008460290264338255,
           0.0015286740381270647,
           0.002736256457865238,
           0.0047716679982841015,
           0.007904458791017532,
           0.01204783283174038,
           0.016373610123991966,
           0.019430913031101227,
           0.02005767822265625,
           0.0182285625487566,
           0.014898194000124931,
           0.011207320727407932,
           0.007922099903225899,
           0.005349656566977501,
           0.0034942510537803173,
           0.0022276805248111486,
           7.269182242453098e-05,
           0.00012703324318863451,
           0.00022244101273827255,
           0.00038957863580435514,
           0.0006800362025387585,
           0.001175789162516594,
           0.0019934873562306166,
           0.0032652884256094694,
           0.005066830199211836,
           0.007284363731741905,
           0.009504883550107479,
           0.011102610267698765,
           0.011568186804652214,
           0.010820334777235985,
           0.009206617251038551,
           0.007241623476147652,
           0.005349656566977501,
           0.0037634402979165316,
           0.0025498769246041775,
           0.0016786742489784956,
           6.1618018662557e-05,
           0.00010567181743681431,
           0.00018078600987792015,
           0.0003076840075664222,
           0.0005186244379729033,
           0.0008600066648796201,
           0.0013896969612687826,
           0.002160969190299511,
           0.003185200970619917,
           0.004379851743578911,
           0.005539493169635534,
           0.006383117754012346,
           0.006680693477392197,
           0.006373096723109484,
           0.005588639993220568,
           0.004555930383503437,
           0.0034942510537803173,
           0.0025498769246041775,
           0.0017878436483442783,
           0.0012142962077632546,
           5.0200022087665275e-05,
           8.433026960119605e-05,
           0.00014077775995247066,
           0.0002327536349184811,
           0.00037931380211375654,
           0.0006053508841432631,
           0.0009380633709952235,
           0.0013969041174277663,
           0.0019758245907723904,
           0.0026235426776111126,
           0.003237369703128934,
           0.003687086747959256,
           0.003866042708978057,
           0.0037392452359199524,
           0.0033548215869814157,
           0.0028144116513431072,
           0.0022276805248111486,
           0.0016786742489784956,
           0.0012142962077632546,
           0.0008493257337249815
          ],
          "coloraxis": "coloraxis",
          "symbol": "circle"
         },
         "mode": "markers",
         "name": "",
         "scene": "scene",
         "showlegend": false,
         "type": "scatter3d",
         "x": [
          -5,
          -4.473684210526316,
          -3.947368421052632,
          -3.4210526315789473,
          -2.8947368421052633,
          -2.368421052631579,
          -1.8421052631578947,
          -1.3157894736842106,
          -0.7894736842105265,
          -0.2631578947368425,
          0.2631578947368416,
          0.7894736842105257,
          1.3157894736842106,
          1.8421052631578947,
          2.3684210526315788,
          2.894736842105263,
          3.421052631578947,
          3.947368421052632,
          4.473684210526315,
          5,
          -5,
          -4.473684210526316,
          -3.947368421052632,
          -3.4210526315789473,
          -2.8947368421052633,
          -2.368421052631579,
          -1.8421052631578947,
          -1.3157894736842106,
          -0.7894736842105265,
          -0.2631578947368425,
          0.2631578947368416,
          0.7894736842105257,
          1.3157894736842106,
          1.8421052631578947,
          2.3684210526315788,
          2.894736842105263,
          3.421052631578947,
          3.947368421052632,
          4.473684210526315,
          5,
          -5,
          -4.473684210526316,
          -3.947368421052632,
          -3.4210526315789473,
          -2.8947368421052633,
          -2.368421052631579,
          -1.8421052631578947,
          -1.3157894736842106,
          -0.7894736842105265,
          -0.2631578947368425,
          0.2631578947368416,
          0.7894736842105257,
          1.3157894736842106,
          1.8421052631578947,
          2.3684210526315788,
          2.894736842105263,
          3.421052631578947,
          3.947368421052632,
          4.473684210526315,
          5,
          -5,
          -4.473684210526316,
          -3.947368421052632,
          -3.4210526315789473,
          -2.8947368421052633,
          -2.368421052631579,
          -1.8421052631578947,
          -1.3157894736842106,
          -0.7894736842105265,
          -0.2631578947368425,
          0.2631578947368416,
          0.7894736842105257,
          1.3157894736842106,
          1.8421052631578947,
          2.3684210526315788,
          2.894736842105263,
          3.421052631578947,
          3.947368421052632,
          4.473684210526315,
          5,
          -5,
          -4.473684210526316,
          -3.947368421052632,
          -3.4210526315789473,
          -2.8947368421052633,
          -2.368421052631579,
          -1.8421052631578947,
          -1.3157894736842106,
          -0.7894736842105265,
          -0.2631578947368425,
          0.2631578947368416,
          0.7894736842105257,
          1.3157894736842106,
          1.8421052631578947,
          2.3684210526315788,
          2.894736842105263,
          3.421052631578947,
          3.947368421052632,
          4.473684210526315,
          5,
          -5,
          -4.473684210526316,
          -3.947368421052632,
          -3.4210526315789473,
          -2.8947368421052633,
          -2.368421052631579,
          -1.8421052631578947,
          -1.3157894736842106,
          -0.7894736842105265,
          -0.2631578947368425,
          0.2631578947368416,
          0.7894736842105257,
          1.3157894736842106,
          1.8421052631578947,
          2.3684210526315788,
          2.894736842105263,
          3.421052631578947,
          3.947368421052632,
          4.473684210526315,
          5,
          -5,
          -4.473684210526316,
          -3.947368421052632,
          -3.4210526315789473,
          -2.8947368421052633,
          -2.368421052631579,
          -1.8421052631578947,
          -1.3157894736842106,
          -0.7894736842105265,
          -0.2631578947368425,
          0.2631578947368416,
          0.7894736842105257,
          1.3157894736842106,
          1.8421052631578947,
          2.3684210526315788,
          2.894736842105263,
          3.421052631578947,
          3.947368421052632,
          4.473684210526315,
          5,
          -5,
          -4.473684210526316,
          -3.947368421052632,
          -3.4210526315789473,
          -2.8947368421052633,
          -2.368421052631579,
          -1.8421052631578947,
          -1.3157894736842106,
          -0.7894736842105265,
          -0.2631578947368425,
          0.2631578947368416,
          0.7894736842105257,
          1.3157894736842106,
          1.8421052631578947,
          2.3684210526315788,
          2.894736842105263,
          3.421052631578947,
          3.947368421052632,
          4.473684210526315,
          5,
          -5,
          -4.473684210526316,
          -3.947368421052632,
          -3.4210526315789473,
          -2.8947368421052633,
          -2.368421052631579,
          -1.8421052631578947,
          -1.3157894736842106,
          -0.7894736842105265,
          -0.2631578947368425,
          0.2631578947368416,
          0.7894736842105257,
          1.3157894736842106,
          1.8421052631578947,
          2.3684210526315788,
          2.894736842105263,
          3.421052631578947,
          3.947368421052632,
          4.473684210526315,
          5,
          -5,
          -4.473684210526316,
          -3.947368421052632,
          -3.4210526315789473,
          -2.8947368421052633,
          -2.368421052631579,
          -1.8421052631578947,
          -1.3157894736842106,
          -0.7894736842105265,
          -0.2631578947368425,
          0.2631578947368416,
          0.7894736842105257,
          1.3157894736842106,
          1.8421052631578947,
          2.3684210526315788,
          2.894736842105263,
          3.421052631578947,
          3.947368421052632,
          4.473684210526315,
          5,
          -5,
          -4.473684210526316,
          -3.947368421052632,
          -3.4210526315789473,
          -2.8947368421052633,
          -2.368421052631579,
          -1.8421052631578947,
          -1.3157894736842106,
          -0.7894736842105265,
          -0.2631578947368425,
          0.2631578947368416,
          0.7894736842105257,
          1.3157894736842106,
          1.8421052631578947,
          2.3684210526315788,
          2.894736842105263,
          3.421052631578947,
          3.947368421052632,
          4.473684210526315,
          5,
          -5,
          -4.473684210526316,
          -3.947368421052632,
          -3.4210526315789473,
          -2.8947368421052633,
          -2.368421052631579,
          -1.8421052631578947,
          -1.3157894736842106,
          -0.7894736842105265,
          -0.2631578947368425,
          0.2631578947368416,
          0.7894736842105257,
          1.3157894736842106,
          1.8421052631578947,
          2.3684210526315788,
          2.894736842105263,
          3.421052631578947,
          3.947368421052632,
          4.473684210526315,
          5,
          -5,
          -4.473684210526316,
          -3.947368421052632,
          -3.4210526315789473,
          -2.8947368421052633,
          -2.368421052631579,
          -1.8421052631578947,
          -1.3157894736842106,
          -0.7894736842105265,
          -0.2631578947368425,
          0.2631578947368416,
          0.7894736842105257,
          1.3157894736842106,
          1.8421052631578947,
          2.3684210526315788,
          2.894736842105263,
          3.421052631578947,
          3.947368421052632,
          4.473684210526315,
          5,
          -5,
          -4.473684210526316,
          -3.947368421052632,
          -3.4210526315789473,
          -2.8947368421052633,
          -2.368421052631579,
          -1.8421052631578947,
          -1.3157894736842106,
          -0.7894736842105265,
          -0.2631578947368425,
          0.2631578947368416,
          0.7894736842105257,
          1.3157894736842106,
          1.8421052631578947,
          2.3684210526315788,
          2.894736842105263,
          3.421052631578947,
          3.947368421052632,
          4.473684210526315,
          5,
          -5,
          -4.473684210526316,
          -3.947368421052632,
          -3.4210526315789473,
          -2.8947368421052633,
          -2.368421052631579,
          -1.8421052631578947,
          -1.3157894736842106,
          -0.7894736842105265,
          -0.2631578947368425,
          0.2631578947368416,
          0.7894736842105257,
          1.3157894736842106,
          1.8421052631578947,
          2.3684210526315788,
          2.894736842105263,
          3.421052631578947,
          3.947368421052632,
          4.473684210526315,
          5,
          -5,
          -4.473684210526316,
          -3.947368421052632,
          -3.4210526315789473,
          -2.8947368421052633,
          -2.368421052631579,
          -1.8421052631578947,
          -1.3157894736842106,
          -0.7894736842105265,
          -0.2631578947368425,
          0.2631578947368416,
          0.7894736842105257,
          1.3157894736842106,
          1.8421052631578947,
          2.3684210526315788,
          2.894736842105263,
          3.421052631578947,
          3.947368421052632,
          4.473684210526315,
          5,
          -5,
          -4.473684210526316,
          -3.947368421052632,
          -3.4210526315789473,
          -2.8947368421052633,
          -2.368421052631579,
          -1.8421052631578947,
          -1.3157894736842106,
          -0.7894736842105265,
          -0.2631578947368425,
          0.2631578947368416,
          0.7894736842105257,
          1.3157894736842106,
          1.8421052631578947,
          2.3684210526315788,
          2.894736842105263,
          3.421052631578947,
          3.947368421052632,
          4.473684210526315,
          5,
          -5,
          -4.473684210526316,
          -3.947368421052632,
          -3.4210526315789473,
          -2.8947368421052633,
          -2.368421052631579,
          -1.8421052631578947,
          -1.3157894736842106,
          -0.7894736842105265,
          -0.2631578947368425,
          0.2631578947368416,
          0.7894736842105257,
          1.3157894736842106,
          1.8421052631578947,
          2.3684210526315788,
          2.894736842105263,
          3.421052631578947,
          3.947368421052632,
          4.473684210526315,
          5,
          -5,
          -4.473684210526316,
          -3.947368421052632,
          -3.4210526315789473,
          -2.8947368421052633,
          -2.368421052631579,
          -1.8421052631578947,
          -1.3157894736842106,
          -0.7894736842105265,
          -0.2631578947368425,
          0.2631578947368416,
          0.7894736842105257,
          1.3157894736842106,
          1.8421052631578947,
          2.3684210526315788,
          2.894736842105263,
          3.421052631578947,
          3.947368421052632,
          4.473684210526315,
          5,
          -5,
          -4.473684210526316,
          -3.947368421052632,
          -3.4210526315789473,
          -2.8947368421052633,
          -2.368421052631579,
          -1.8421052631578947,
          -1.3157894736842106,
          -0.7894736842105265,
          -0.2631578947368425,
          0.2631578947368416,
          0.7894736842105257,
          1.3157894736842106,
          1.8421052631578947,
          2.3684210526315788,
          2.894736842105263,
          3.421052631578947,
          3.947368421052632,
          4.473684210526315,
          5
         ],
         "y": [
          -5,
          -5,
          -5,
          -5,
          -5,
          -5,
          -5,
          -5,
          -5,
          -5,
          -5,
          -5,
          -5,
          -5,
          -5,
          -5,
          -5,
          -5,
          -5,
          -5,
          -4.473684210526316,
          -4.473684210526316,
          -4.473684210526316,
          -4.473684210526316,
          -4.473684210526316,
          -4.473684210526316,
          -4.473684210526316,
          -4.473684210526316,
          -4.473684210526316,
          -4.473684210526316,
          -4.473684210526316,
          -4.473684210526316,
          -4.473684210526316,
          -4.473684210526316,
          -4.473684210526316,
          -4.473684210526316,
          -4.473684210526316,
          -4.473684210526316,
          -4.473684210526316,
          -4.473684210526316,
          -3.947368421052632,
          -3.947368421052632,
          -3.947368421052632,
          -3.947368421052632,
          -3.947368421052632,
          -3.947368421052632,
          -3.947368421052632,
          -3.947368421052632,
          -3.947368421052632,
          -3.947368421052632,
          -3.947368421052632,
          -3.947368421052632,
          -3.947368421052632,
          -3.947368421052632,
          -3.947368421052632,
          -3.947368421052632,
          -3.947368421052632,
          -3.947368421052632,
          -3.947368421052632,
          -3.947368421052632,
          -3.4210526315789473,
          -3.4210526315789473,
          -3.4210526315789473,
          -3.4210526315789473,
          -3.4210526315789473,
          -3.4210526315789473,
          -3.4210526315789473,
          -3.4210526315789473,
          -3.4210526315789473,
          -3.4210526315789473,
          -3.4210526315789473,
          -3.4210526315789473,
          -3.4210526315789473,
          -3.4210526315789473,
          -3.4210526315789473,
          -3.4210526315789473,
          -3.4210526315789473,
          -3.4210526315789473,
          -3.4210526315789473,
          -3.4210526315789473,
          -2.8947368421052633,
          -2.8947368421052633,
          -2.8947368421052633,
          -2.8947368421052633,
          -2.8947368421052633,
          -2.8947368421052633,
          -2.8947368421052633,
          -2.8947368421052633,
          -2.8947368421052633,
          -2.8947368421052633,
          -2.8947368421052633,
          -2.8947368421052633,
          -2.8947368421052633,
          -2.8947368421052633,
          -2.8947368421052633,
          -2.8947368421052633,
          -2.8947368421052633,
          -2.8947368421052633,
          -2.8947368421052633,
          -2.8947368421052633,
          -2.368421052631579,
          -2.368421052631579,
          -2.368421052631579,
          -2.368421052631579,
          -2.368421052631579,
          -2.368421052631579,
          -2.368421052631579,
          -2.368421052631579,
          -2.368421052631579,
          -2.368421052631579,
          -2.368421052631579,
          -2.368421052631579,
          -2.368421052631579,
          -2.368421052631579,
          -2.368421052631579,
          -2.368421052631579,
          -2.368421052631579,
          -2.368421052631579,
          -2.368421052631579,
          -2.368421052631579,
          -1.8421052631578947,
          -1.8421052631578947,
          -1.8421052631578947,
          -1.8421052631578947,
          -1.8421052631578947,
          -1.8421052631578947,
          -1.8421052631578947,
          -1.8421052631578947,
          -1.8421052631578947,
          -1.8421052631578947,
          -1.8421052631578947,
          -1.8421052631578947,
          -1.8421052631578947,
          -1.8421052631578947,
          -1.8421052631578947,
          -1.8421052631578947,
          -1.8421052631578947,
          -1.8421052631578947,
          -1.8421052631578947,
          -1.8421052631578947,
          -1.3157894736842106,
          -1.3157894736842106,
          -1.3157894736842106,
          -1.3157894736842106,
          -1.3157894736842106,
          -1.3157894736842106,
          -1.3157894736842106,
          -1.3157894736842106,
          -1.3157894736842106,
          -1.3157894736842106,
          -1.3157894736842106,
          -1.3157894736842106,
          -1.3157894736842106,
          -1.3157894736842106,
          -1.3157894736842106,
          -1.3157894736842106,
          -1.3157894736842106,
          -1.3157894736842106,
          -1.3157894736842106,
          -1.3157894736842106,
          -0.7894736842105265,
          -0.7894736842105265,
          -0.7894736842105265,
          -0.7894736842105265,
          -0.7894736842105265,
          -0.7894736842105265,
          -0.7894736842105265,
          -0.7894736842105265,
          -0.7894736842105265,
          -0.7894736842105265,
          -0.7894736842105265,
          -0.7894736842105265,
          -0.7894736842105265,
          -0.7894736842105265,
          -0.7894736842105265,
          -0.7894736842105265,
          -0.7894736842105265,
          -0.7894736842105265,
          -0.7894736842105265,
          -0.7894736842105265,
          -0.2631578947368425,
          -0.2631578947368425,
          -0.2631578947368425,
          -0.2631578947368425,
          -0.2631578947368425,
          -0.2631578947368425,
          -0.2631578947368425,
          -0.2631578947368425,
          -0.2631578947368425,
          -0.2631578947368425,
          -0.2631578947368425,
          -0.2631578947368425,
          -0.2631578947368425,
          -0.2631578947368425,
          -0.2631578947368425,
          -0.2631578947368425,
          -0.2631578947368425,
          -0.2631578947368425,
          -0.2631578947368425,
          -0.2631578947368425,
          0.2631578947368416,
          0.2631578947368416,
          0.2631578947368416,
          0.2631578947368416,
          0.2631578947368416,
          0.2631578947368416,
          0.2631578947368416,
          0.2631578947368416,
          0.2631578947368416,
          0.2631578947368416,
          0.2631578947368416,
          0.2631578947368416,
          0.2631578947368416,
          0.2631578947368416,
          0.2631578947368416,
          0.2631578947368416,
          0.2631578947368416,
          0.2631578947368416,
          0.2631578947368416,
          0.2631578947368416,
          0.7894736842105257,
          0.7894736842105257,
          0.7894736842105257,
          0.7894736842105257,
          0.7894736842105257,
          0.7894736842105257,
          0.7894736842105257,
          0.7894736842105257,
          0.7894736842105257,
          0.7894736842105257,
          0.7894736842105257,
          0.7894736842105257,
          0.7894736842105257,
          0.7894736842105257,
          0.7894736842105257,
          0.7894736842105257,
          0.7894736842105257,
          0.7894736842105257,
          0.7894736842105257,
          0.7894736842105257,
          1.3157894736842106,
          1.3157894736842106,
          1.3157894736842106,
          1.3157894736842106,
          1.3157894736842106,
          1.3157894736842106,
          1.3157894736842106,
          1.3157894736842106,
          1.3157894736842106,
          1.3157894736842106,
          1.3157894736842106,
          1.3157894736842106,
          1.3157894736842106,
          1.3157894736842106,
          1.3157894736842106,
          1.3157894736842106,
          1.3157894736842106,
          1.3157894736842106,
          1.3157894736842106,
          1.3157894736842106,
          1.8421052631578947,
          1.8421052631578947,
          1.8421052631578947,
          1.8421052631578947,
          1.8421052631578947,
          1.8421052631578947,
          1.8421052631578947,
          1.8421052631578947,
          1.8421052631578947,
          1.8421052631578947,
          1.8421052631578947,
          1.8421052631578947,
          1.8421052631578947,
          1.8421052631578947,
          1.8421052631578947,
          1.8421052631578947,
          1.8421052631578947,
          1.8421052631578947,
          1.8421052631578947,
          1.8421052631578947,
          2.3684210526315788,
          2.3684210526315788,
          2.3684210526315788,
          2.3684210526315788,
          2.3684210526315788,
          2.3684210526315788,
          2.3684210526315788,
          2.3684210526315788,
          2.3684210526315788,
          2.3684210526315788,
          2.3684210526315788,
          2.3684210526315788,
          2.3684210526315788,
          2.3684210526315788,
          2.3684210526315788,
          2.3684210526315788,
          2.3684210526315788,
          2.3684210526315788,
          2.3684210526315788,
          2.3684210526315788,
          2.894736842105263,
          2.894736842105263,
          2.894736842105263,
          2.894736842105263,
          2.894736842105263,
          2.894736842105263,
          2.894736842105263,
          2.894736842105263,
          2.894736842105263,
          2.894736842105263,
          2.894736842105263,
          2.894736842105263,
          2.894736842105263,
          2.894736842105263,
          2.894736842105263,
          2.894736842105263,
          2.894736842105263,
          2.894736842105263,
          2.894736842105263,
          2.894736842105263,
          3.421052631578947,
          3.421052631578947,
          3.421052631578947,
          3.421052631578947,
          3.421052631578947,
          3.421052631578947,
          3.421052631578947,
          3.421052631578947,
          3.421052631578947,
          3.421052631578947,
          3.421052631578947,
          3.421052631578947,
          3.421052631578947,
          3.421052631578947,
          3.421052631578947,
          3.421052631578947,
          3.421052631578947,
          3.421052631578947,
          3.421052631578947,
          3.421052631578947,
          3.947368421052632,
          3.947368421052632,
          3.947368421052632,
          3.947368421052632,
          3.947368421052632,
          3.947368421052632,
          3.947368421052632,
          3.947368421052632,
          3.947368421052632,
          3.947368421052632,
          3.947368421052632,
          3.947368421052632,
          3.947368421052632,
          3.947368421052632,
          3.947368421052632,
          3.947368421052632,
          3.947368421052632,
          3.947368421052632,
          3.947368421052632,
          3.947368421052632,
          4.473684210526315,
          4.473684210526315,
          4.473684210526315,
          4.473684210526315,
          4.473684210526315,
          4.473684210526315,
          4.473684210526315,
          4.473684210526315,
          4.473684210526315,
          4.473684210526315,
          4.473684210526315,
          4.473684210526315,
          4.473684210526315,
          4.473684210526315,
          4.473684210526315,
          4.473684210526315,
          4.473684210526315,
          4.473684210526315,
          4.473684210526315,
          4.473684210526315,
          5,
          5,
          5,
          5,
          5,
          5,
          5,
          5,
          5,
          5,
          5,
          5,
          5,
          5,
          5,
          5,
          5,
          5,
          5,
          5
         ],
         "z": [
          1.1868436558870599e-05,
          1.7116955859819427e-05,
          2.4384451535297558e-05,
          3.42965722666122e-05,
          4.760572483064607e-05,
          6.517992005683482e-05,
          8.794746827334166e-05,
          0.00011674704001052305,
          0.0001520156947663054,
          0.0001932731829583645,
          0.0002384930703556165,
          0.0002836765197571367,
          0.0003231066802982241,
          0.00035057045170105994,
          0.00036122341407462955,
          0.00035322230542078614,
          0.0003282518300693482,
          0.00029076728969812393,
          0.000246472074650228,
          0.0002008000883506611,
          1.7116955859819427e-05,
          2.4983264665934257e-05,
          3.6026576708536595e-05,
          5.131261423230171e-05,
          7.218221435323358e-05,
          0.00010029175609815866,
          0.00013760992442257702,
          0.00018626009114086628,
          0.0002480004040990025,
          0.00032310173264704645,
          0.00040864848415367305,
          0.0004969911533407867,
          0.0005758285406045616,
          0.0006310731987468898,
          0.0006517324363812804,
          0.0006340949912555516,
          0.000582737906370312,
          0.0005081329727545381,
          0.00042268726974725723,
          0.0003373210784047842,
          2.4384451535297558e-05,
          3.6026576708536595e-05,
          5.2590155974030495e-05,
          7.58383102947846e-05,
          0.00010807452781591564,
          0.00015232509758789092,
          0.00021255530009511858,
          0.0002937310782726854,
          0.000401192664867267,
          0.0005384199903346598,
          0.0007025488885119557,
          0.0008791078580543399,
          0.0010406235232949257,
          0.0011537177488207817,
          0.0011927303858101368,
          0.001150871510617435,
          0.001041404902935028,
          0.0008897640509530902,
          0.0007231440395116806,
          0.0005631110398098826,
          3.42965722666122e-05,
          5.131261423230171e-05,
          7.58383102947846e-05,
          0.00011070309119531885,
          0.0001597009541001171,
          0.00022807660570833832,
          0.000323356653098017,
          0.00045639710151590407,
          0.0006415658281184733,
          0.0008931161719374359,
          0.0012137902667745948,
          0.001577111310325563,
          0.0019184622215107083,
          0.002154158428311348,
          0.0022227964363992214,
          0.0021155537106096745,
          0.0018729669973254204,
          0.0015583145432174206,
          0.001230736030265689,
          0.0009310145396739244,
          4.760572483064607e-05,
          7.218221435323358e-05,
          0.00010807452781591564,
          0.0001597009541001171,
          0.00023303170746657997,
          0.0003365717129781842,
          0.0004835450672544539,
          0.0006959583261050284,
          0.001009443192742765,
          0.0014712187694385648,
          0.0021132640540599823,
          0.0028917680028826,
          0.003642777446657419,
          0.004140811040997505,
          0.004237643443048,
          0.0039426242001354694,
          0.003384116105735302,
          0.002720144810155034,
          0.002074497751891613,
          0.0015172552084550261,
          6.517992005683482e-05,
          0.00010029175609815866,
          0.00015232509758789092,
          0.00022807660570833832,
          0.0003365717129781842,
          0.000490535341668874,
          0.0007107571000233293,
          0.0010373250115662813,
          0.001551567343994975,
          0.002396467374637723,
          0.0037274425849318504,
          0.005496856290847063,
          0.007237077224999666,
          0.008284094743430614,
          0.008299284614622593,
          0.007440105080604553,
          0.006114696152508259,
          0.004703156650066376,
          0.0034400266595184803,
          0.0024214035365730524,
          8.794746827334166e-05,
          0.00013760992442257702,
          0.00021255530009511858,
          0.000323356653098017,
          0.0004835450672544539,
          0.0007107571000233293,
          0.0010325853945687413,
          0.0015096977585926652,
          0.002305605448782444,
          0.003826970001682639,
          0.006737972609698772,
          0.011145325377583504,
          0.015438464470207691,
          0.01747012324631214,
          0.01670961268246174,
          0.01412625890225172,
          0.010945025831460953,
          0.007973949424922466,
          0.0055587878450751305,
          0.003752253483980894,
          0.00011674704001052305,
          0.00018626009114086628,
          0.0002937310782726854,
          0.00045639710151590407,
          0.0006959583261050284,
          0.0010373250115662813,
          0.0015096977585926652,
          0.002173607237637043,
          0.0032778370659798384,
          0.005873092450201511,
          0.012869319878518581,
          0.025666000321507454,
          0.036774892359972,
          0.039128195494413376,
          0.03423590958118439,
          0.02654922753572464,
          0.019086671993136406,
          0.013061153702437878,
          0.008643876761198044,
          0.005587616469711065,
          0.0001520156947663054,
          0.0002480004040990025,
          0.000401192664867267,
          0.0006415658281184733,
          0.001009443192742765,
          0.001551567343994975,
          0.002305605448782444,
          0.0032778370659798384,
          0.004575478844344616,
          0.008195800706744194,
          0.029035914689302444,
          0.0774117186665535,
          0.10120578855276108,
          0.09109684824943542,
          0.06899256259202957,
          0.04786829650402069,
          0.03161783516407013,
          0.020267320796847343,
          0.012740803882479668,
          0.007903298363089561,
          0.0001932731829583645,
          0.00032310173264704645,
          0.0005384199903346598,
          0.0008931161719374359,
          0.0014712187694385648,
          0.002396467374637723,
          0.003826970001682639,
          0.005873092450201511,
          0.008195800706744194,
          0.009631453081965446,
          0.16295289993286133,
          0.36443760991096497,
          0.296694815158844,
          0.20071212947368622,
          0.1276804655790329,
          0.07901705056428909,
          0.04819133132696152,
          0.02913745492696762,
          0.017519406974315643,
          0.01049417071044445,
          0.0002384930703556165,
          0.00040864848415367305,
          0.0007025488885119557,
          0.0012137902667745948,
          0.0021132640540599823,
          0.0037274425849318504,
          0.006737972609698772,
          0.012869319878518581,
          0.029035914689302444,
          0.16295289993286133,
          2.756971836090088,
          1.291121244430542,
          0.6501277089118958,
          0.3533845841884613,
          0.1985929012298584,
          0.11350040882825851,
          0.06549444049596786,
          0.038019534200429916,
          0.022157972678542137,
          0.012949478812515736,
          0.0002836765197571367,
          0.0004969911533407867,
          0.0008791078580543399,
          0.001577111310325563,
          0.0028917680028826,
          0.005496856290847063,
          0.011145325377583504,
          0.025666000321507454,
          0.0774117186665535,
          0.36443760991096497,
          1.291121244430542,
          1.3097155094146729,
          0.792457640171051,
          0.44036343693733215,
          0.24442526698112488,
          0.13712914288043976,
          0.07772365212440491,
          0.04441044107079506,
          0.025532471016049385,
          0.014748346991837025,
          0.0003231066802982241,
          0.0005758285406045616,
          0.0010406235232949257,
          0.0019184622215107083,
          0.003642777446657419,
          0.007237077224999666,
          0.015438464470207691,
          0.036774892359972,
          0.10120578855276108,
          0.296694815158844,
          0.6501277089118958,
          0.792457640171051,
          0.6221880316734314,
          0.40013256669044495,
          0.2388526052236557,
          0.13896363973617554,
          0.080230712890625,
          0.046272747218608856,
          0.026722773909568787,
          0.015464170835912228,
          0.00035057045170105994,
          0.0006310731987468898,
          0.0011537177488207817,
          0.002154158428311348,
          0.004140811040997505,
          0.008284094743430614,
          0.01747012324631214,
          0.039128195494413376,
          0.09109684824943542,
          0.20071212947368622,
          0.3533845841884613,
          0.44036343693733215,
          0.40013256669044495,
          0.2955740690231323,
          0.19475576281547546,
          0.12096939980983734,
          0.0729142501950264,
          0.04328133910894394,
          0.025492386892437935,
          0.01495698094367981,
          0.00036122341407462955,
          0.0006517324363812804,
          0.0011927303858101368,
          0.0022227964363992214,
          0.004237643443048,
          0.008299284614622593,
          0.01670961268246174,
          0.03423590958118439,
          0.06899256259202957,
          0.1276804655790329,
          0.1985929012298584,
          0.24442526698112488,
          0.2388526052236557,
          0.19475576281547546,
          0.14041417837142944,
          0.09367546439170837,
          0.059592776000499725,
          0.036826469004154205,
          0.02235455997288227,
          0.013419286347925663,
          0.00035322230542078614,
          0.0006340949912555516,
          0.001150871510617435,
          0.0021155537106096745,
          0.0039426242001354694,
          0.007440105080604553,
          0.01412625890225172,
          0.02654922753572464,
          0.04786829650402069,
          0.07901705056428909,
          0.11350040882825851,
          0.13712914288043976,
          0.13896363973617554,
          0.12096939980983734,
          0.09367546439170837,
          0.06670456379652023,
          0.04482928290963173,
          0.028966493904590607,
          0.018223721534013748,
          0.011257646605372429,
          0.0003282518300693482,
          0.000582737906370312,
          0.001041404902935028,
          0.0018729669973254204,
          0.003384116105735302,
          0.006114696152508259,
          0.010945025831460953,
          0.019086671993136406,
          0.03161783516407013,
          0.04819133132696152,
          0.06549444049596786,
          0.07772365212440491,
          0.080230712890625,
          0.0729142501950264,
          0.059592776000499725,
          0.04482928290963173,
          0.031688399612903595,
          0.021398626267910004,
          0.01397700421512127,
          0.008910722099244595,
          0.00029076728969812393,
          0.0005081329727545381,
          0.0008897640509530902,
          0.0015583145432174206,
          0.002720144810155034,
          0.004703156650066376,
          0.007973949424922466,
          0.013061153702437878,
          0.020267320796847343,
          0.02913745492696762,
          0.038019534200429916,
          0.04441044107079506,
          0.046272747218608856,
          0.04328133910894394,
          0.036826469004154205,
          0.028966493904590607,
          0.021398626267910004,
          0.015053761191666126,
          0.01019950769841671,
          0.006714696995913982,
          0.000246472074650228,
          0.00042268726974725723,
          0.0007231440395116806,
          0.001230736030265689,
          0.002074497751891613,
          0.0034400266595184803,
          0.0055587878450751305,
          0.008643876761198044,
          0.012740803882479668,
          0.017519406974315643,
          0.022157972678542137,
          0.025532471016049385,
          0.026722773909568787,
          0.025492386892437935,
          0.02235455997288227,
          0.018223721534013748,
          0.01397700421512127,
          0.01019950769841671,
          0.007151374593377113,
          0.004857184831053019,
          0.0002008000883506611,
          0.0003373210784047842,
          0.0005631110398098826,
          0.0009310145396739244,
          0.0015172552084550261,
          0.0024214035365730524,
          0.003752253483980894,
          0.005587616469711065,
          0.007903298363089561,
          0.01049417071044445,
          0.012949478812515736,
          0.014748346991837025,
          0.015464170835912228,
          0.01495698094367981,
          0.013419286347925663,
          0.011257646605372429,
          0.008910722099244595,
          0.006714696995913982,
          0.004857184831053019,
          0.003397302934899926
         ]
        }
       ],
       "layout": {
        "coloraxis": {
         "colorbar": {
          "title": {
           "text": "colors"
          }
         },
         "colorscale": [
          [
           0,
           "#0d0887"
          ],
          [
           0.1111111111111111,
           "#46039f"
          ],
          [
           0.2222222222222222,
           "#7201a8"
          ],
          [
           0.3333333333333333,
           "#9c179e"
          ],
          [
           0.4444444444444444,
           "#bd3786"
          ],
          [
           0.5555555555555556,
           "#d8576b"
          ],
          [
           0.6666666666666666,
           "#ed7953"
          ],
          [
           0.7777777777777778,
           "#fb9f3a"
          ],
          [
           0.8888888888888888,
           "#fdca26"
          ],
          [
           1,
           "#f0f921"
          ]
         ]
        },
        "legend": {
         "tracegroupgap": 0
        },
        "margin": {
         "t": 60
        },
        "scene": {
         "domain": {
          "x": [
           0,
           1
          ],
          "y": [
           0,
           1
          ]
         },
         "xaxis": {
          "range": [
           -7.071068627984545,
           7.071068627984545
          ],
          "title": {
           "text": "x"
          }
         },
         "yaxis": {
          "range": [
           -7.071068627984545,
           7.071068627984545
          ],
          "title": {
           "text": "y"
          }
         },
         "zaxis": {
          "range": [
           -7.071068627984545,
           7.071068627984545
          ],
          "title": {
           "text": "z"
          }
         }
        },
        "template": {
         "data": {
          "bar": [
           {
            "error_x": {
             "color": "#2a3f5f"
            },
            "error_y": {
             "color": "#2a3f5f"
            },
            "marker": {
             "line": {
              "color": "#E5ECF6",
              "width": 0.5
             },
             "pattern": {
              "fillmode": "overlay",
              "size": 10,
              "solidity": 0.2
             }
            },
            "type": "bar"
           }
          ],
          "barpolar": [
           {
            "marker": {
             "line": {
              "color": "#E5ECF6",
              "width": 0.5
             },
             "pattern": {
              "fillmode": "overlay",
              "size": 10,
              "solidity": 0.2
             }
            },
            "type": "barpolar"
           }
          ],
          "carpet": [
           {
            "aaxis": {
             "endlinecolor": "#2a3f5f",
             "gridcolor": "white",
             "linecolor": "white",
             "minorgridcolor": "white",
             "startlinecolor": "#2a3f5f"
            },
            "baxis": {
             "endlinecolor": "#2a3f5f",
             "gridcolor": "white",
             "linecolor": "white",
             "minorgridcolor": "white",
             "startlinecolor": "#2a3f5f"
            },
            "type": "carpet"
           }
          ],
          "choropleth": [
           {
            "colorbar": {
             "outlinewidth": 0,
             "ticks": ""
            },
            "type": "choropleth"
           }
          ],
          "contour": [
           {
            "colorbar": {
             "outlinewidth": 0,
             "ticks": ""
            },
            "colorscale": [
             [
              0,
              "#0d0887"
             ],
             [
              0.1111111111111111,
              "#46039f"
             ],
             [
              0.2222222222222222,
              "#7201a8"
             ],
             [
              0.3333333333333333,
              "#9c179e"
             ],
             [
              0.4444444444444444,
              "#bd3786"
             ],
             [
              0.5555555555555556,
              "#d8576b"
             ],
             [
              0.6666666666666666,
              "#ed7953"
             ],
             [
              0.7777777777777778,
              "#fb9f3a"
             ],
             [
              0.8888888888888888,
              "#fdca26"
             ],
             [
              1,
              "#f0f921"
             ]
            ],
            "type": "contour"
           }
          ],
          "contourcarpet": [
           {
            "colorbar": {
             "outlinewidth": 0,
             "ticks": ""
            },
            "type": "contourcarpet"
           }
          ],
          "heatmap": [
           {
            "colorbar": {
             "outlinewidth": 0,
             "ticks": ""
            },
            "colorscale": [
             [
              0,
              "#0d0887"
             ],
             [
              0.1111111111111111,
              "#46039f"
             ],
             [
              0.2222222222222222,
              "#7201a8"
             ],
             [
              0.3333333333333333,
              "#9c179e"
             ],
             [
              0.4444444444444444,
              "#bd3786"
             ],
             [
              0.5555555555555556,
              "#d8576b"
             ],
             [
              0.6666666666666666,
              "#ed7953"
             ],
             [
              0.7777777777777778,
              "#fb9f3a"
             ],
             [
              0.8888888888888888,
              "#fdca26"
             ],
             [
              1,
              "#f0f921"
             ]
            ],
            "type": "heatmap"
           }
          ],
          "heatmapgl": [
           {
            "colorbar": {
             "outlinewidth": 0,
             "ticks": ""
            },
            "colorscale": [
             [
              0,
              "#0d0887"
             ],
             [
              0.1111111111111111,
              "#46039f"
             ],
             [
              0.2222222222222222,
              "#7201a8"
             ],
             [
              0.3333333333333333,
              "#9c179e"
             ],
             [
              0.4444444444444444,
              "#bd3786"
             ],
             [
              0.5555555555555556,
              "#d8576b"
             ],
             [
              0.6666666666666666,
              "#ed7953"
             ],
             [
              0.7777777777777778,
              "#fb9f3a"
             ],
             [
              0.8888888888888888,
              "#fdca26"
             ],
             [
              1,
              "#f0f921"
             ]
            ],
            "type": "heatmapgl"
           }
          ],
          "histogram": [
           {
            "marker": {
             "pattern": {
              "fillmode": "overlay",
              "size": 10,
              "solidity": 0.2
             }
            },
            "type": "histogram"
           }
          ],
          "histogram2d": [
           {
            "colorbar": {
             "outlinewidth": 0,
             "ticks": ""
            },
            "colorscale": [
             [
              0,
              "#0d0887"
             ],
             [
              0.1111111111111111,
              "#46039f"
             ],
             [
              0.2222222222222222,
              "#7201a8"
             ],
             [
              0.3333333333333333,
              "#9c179e"
             ],
             [
              0.4444444444444444,
              "#bd3786"
             ],
             [
              0.5555555555555556,
              "#d8576b"
             ],
             [
              0.6666666666666666,
              "#ed7953"
             ],
             [
              0.7777777777777778,
              "#fb9f3a"
             ],
             [
              0.8888888888888888,
              "#fdca26"
             ],
             [
              1,
              "#f0f921"
             ]
            ],
            "type": "histogram2d"
           }
          ],
          "histogram2dcontour": [
           {
            "colorbar": {
             "outlinewidth": 0,
             "ticks": ""
            },
            "colorscale": [
             [
              0,
              "#0d0887"
             ],
             [
              0.1111111111111111,
              "#46039f"
             ],
             [
              0.2222222222222222,
              "#7201a8"
             ],
             [
              0.3333333333333333,
              "#9c179e"
             ],
             [
              0.4444444444444444,
              "#bd3786"
             ],
             [
              0.5555555555555556,
              "#d8576b"
             ],
             [
              0.6666666666666666,
              "#ed7953"
             ],
             [
              0.7777777777777778,
              "#fb9f3a"
             ],
             [
              0.8888888888888888,
              "#fdca26"
             ],
             [
              1,
              "#f0f921"
             ]
            ],
            "type": "histogram2dcontour"
           }
          ],
          "mesh3d": [
           {
            "colorbar": {
             "outlinewidth": 0,
             "ticks": ""
            },
            "type": "mesh3d"
           }
          ],
          "parcoords": [
           {
            "line": {
             "colorbar": {
              "outlinewidth": 0,
              "ticks": ""
             }
            },
            "type": "parcoords"
           }
          ],
          "pie": [
           {
            "automargin": true,
            "type": "pie"
           }
          ],
          "scatter": [
           {
            "fillpattern": {
             "fillmode": "overlay",
             "size": 10,
             "solidity": 0.2
            },
            "type": "scatter"
           }
          ],
          "scatter3d": [
           {
            "line": {
             "colorbar": {
              "outlinewidth": 0,
              "ticks": ""
             }
            },
            "marker": {
             "colorbar": {
              "outlinewidth": 0,
              "ticks": ""
             }
            },
            "type": "scatter3d"
           }
          ],
          "scattercarpet": [
           {
            "marker": {
             "colorbar": {
              "outlinewidth": 0,
              "ticks": ""
             }
            },
            "type": "scattercarpet"
           }
          ],
          "scattergeo": [
           {
            "marker": {
             "colorbar": {
              "outlinewidth": 0,
              "ticks": ""
             }
            },
            "type": "scattergeo"
           }
          ],
          "scattergl": [
           {
            "marker": {
             "colorbar": {
              "outlinewidth": 0,
              "ticks": ""
             }
            },
            "type": "scattergl"
           }
          ],
          "scattermapbox": [
           {
            "marker": {
             "colorbar": {
              "outlinewidth": 0,
              "ticks": ""
             }
            },
            "type": "scattermapbox"
           }
          ],
          "scatterpolar": [
           {
            "marker": {
             "colorbar": {
              "outlinewidth": 0,
              "ticks": ""
             }
            },
            "type": "scatterpolar"
           }
          ],
          "scatterpolargl": [
           {
            "marker": {
             "colorbar": {
              "outlinewidth": 0,
              "ticks": ""
             }
            },
            "type": "scatterpolargl"
           }
          ],
          "scatterternary": [
           {
            "marker": {
             "colorbar": {
              "outlinewidth": 0,
              "ticks": ""
             }
            },
            "type": "scatterternary"
           }
          ],
          "surface": [
           {
            "colorbar": {
             "outlinewidth": 0,
             "ticks": ""
            },
            "colorscale": [
             [
              0,
              "#0d0887"
             ],
             [
              0.1111111111111111,
              "#46039f"
             ],
             [
              0.2222222222222222,
              "#7201a8"
             ],
             [
              0.3333333333333333,
              "#9c179e"
             ],
             [
              0.4444444444444444,
              "#bd3786"
             ],
             [
              0.5555555555555556,
              "#d8576b"
             ],
             [
              0.6666666666666666,
              "#ed7953"
             ],
             [
              0.7777777777777778,
              "#fb9f3a"
             ],
             [
              0.8888888888888888,
              "#fdca26"
             ],
             [
              1,
              "#f0f921"
             ]
            ],
            "type": "surface"
           }
          ],
          "table": [
           {
            "cells": {
             "fill": {
              "color": "#EBF0F8"
             },
             "line": {
              "color": "white"
             }
            },
            "header": {
             "fill": {
              "color": "#C8D4E3"
             },
             "line": {
              "color": "white"
             }
            },
            "type": "table"
           }
          ]
         },
         "layout": {
          "annotationdefaults": {
           "arrowcolor": "#2a3f5f",
           "arrowhead": 0,
           "arrowwidth": 1
          },
          "autotypenumbers": "strict",
          "coloraxis": {
           "colorbar": {
            "outlinewidth": 0,
            "ticks": ""
           }
          },
          "colorscale": {
           "diverging": [
            [
             0,
             "#8e0152"
            ],
            [
             0.1,
             "#c51b7d"
            ],
            [
             0.2,
             "#de77ae"
            ],
            [
             0.3,
             "#f1b6da"
            ],
            [
             0.4,
             "#fde0ef"
            ],
            [
             0.5,
             "#f7f7f7"
            ],
            [
             0.6,
             "#e6f5d0"
            ],
            [
             0.7,
             "#b8e186"
            ],
            [
             0.8,
             "#7fbc41"
            ],
            [
             0.9,
             "#4d9221"
            ],
            [
             1,
             "#276419"
            ]
           ],
           "sequential": [
            [
             0,
             "#0d0887"
            ],
            [
             0.1111111111111111,
             "#46039f"
            ],
            [
             0.2222222222222222,
             "#7201a8"
            ],
            [
             0.3333333333333333,
             "#9c179e"
            ],
            [
             0.4444444444444444,
             "#bd3786"
            ],
            [
             0.5555555555555556,
             "#d8576b"
            ],
            [
             0.6666666666666666,
             "#ed7953"
            ],
            [
             0.7777777777777778,
             "#fb9f3a"
            ],
            [
             0.8888888888888888,
             "#fdca26"
            ],
            [
             1,
             "#f0f921"
            ]
           ],
           "sequentialminus": [
            [
             0,
             "#0d0887"
            ],
            [
             0.1111111111111111,
             "#46039f"
            ],
            [
             0.2222222222222222,
             "#7201a8"
            ],
            [
             0.3333333333333333,
             "#9c179e"
            ],
            [
             0.4444444444444444,
             "#bd3786"
            ],
            [
             0.5555555555555556,
             "#d8576b"
            ],
            [
             0.6666666666666666,
             "#ed7953"
            ],
            [
             0.7777777777777778,
             "#fb9f3a"
            ],
            [
             0.8888888888888888,
             "#fdca26"
            ],
            [
             1,
             "#f0f921"
            ]
           ]
          },
          "colorway": [
           "#636efa",
           "#EF553B",
           "#00cc96",
           "#ab63fa",
           "#FFA15A",
           "#19d3f3",
           "#FF6692",
           "#B6E880",
           "#FF97FF",
           "#FECB52"
          ],
          "font": {
           "color": "#2a3f5f"
          },
          "geo": {
           "bgcolor": "white",
           "lakecolor": "white",
           "landcolor": "#E5ECF6",
           "showlakes": true,
           "showland": true,
           "subunitcolor": "white"
          },
          "hoverlabel": {
           "align": "left"
          },
          "hovermode": "closest",
          "mapbox": {
           "style": "light"
          },
          "paper_bgcolor": "white",
          "plot_bgcolor": "#E5ECF6",
          "polar": {
           "angularaxis": {
            "gridcolor": "white",
            "linecolor": "white",
            "ticks": ""
           },
           "bgcolor": "#E5ECF6",
           "radialaxis": {
            "gridcolor": "white",
            "linecolor": "white",
            "ticks": ""
           }
          },
          "scene": {
           "xaxis": {
            "backgroundcolor": "#E5ECF6",
            "gridcolor": "white",
            "gridwidth": 2,
            "linecolor": "white",
            "showbackground": true,
            "ticks": "",
            "zerolinecolor": "white"
           },
           "yaxis": {
            "backgroundcolor": "#E5ECF6",
            "gridcolor": "white",
            "gridwidth": 2,
            "linecolor": "white",
            "showbackground": true,
            "ticks": "",
            "zerolinecolor": "white"
           },
           "zaxis": {
            "backgroundcolor": "#E5ECF6",
            "gridcolor": "white",
            "gridwidth": 2,
            "linecolor": "white",
            "showbackground": true,
            "ticks": "",
            "zerolinecolor": "white"
           }
          },
          "shapedefaults": {
           "line": {
            "color": "#2a3f5f"
           }
          },
          "ternary": {
           "aaxis": {
            "gridcolor": "white",
            "linecolor": "white",
            "ticks": ""
           },
           "baxis": {
            "gridcolor": "white",
            "linecolor": "white",
            "ticks": ""
           },
           "bgcolor": "#E5ECF6",
           "caxis": {
            "gridcolor": "white",
            "linecolor": "white",
            "ticks": ""
           }
          },
          "title": {
           "x": 0.05
          },
          "xaxis": {
           "automargin": true,
           "gridcolor": "white",
           "linecolor": "white",
           "ticks": "",
           "title": {
            "standoff": 15
           },
           "zerolinecolor": "white",
           "zerolinewidth": 2
          },
          "yaxis": {
           "automargin": true,
           "gridcolor": "white",
           "linecolor": "white",
           "ticks": "",
           "title": {
            "standoff": 15
           },
           "zerolinecolor": "white",
           "zerolinewidth": 2
          }
         }
        }
       }
      }
     },
     "metadata": {},
     "output_type": "display_data"
    }
   ],
   "source": [
    "from directed_graphs.utils import plot_3d\n",
    "plot_3d(X,distribution=flows.reshape(400),use_plotly=True)"
   ]
  },
  {
   "cell_type": "markdown",
   "metadata": {},
   "source": [
    "## Computing Transition Probabilities Between a Grid and Points, and Vice Versa"
   ]
  },
  {
   "cell_type": "markdown",
   "metadata": {},
   "source": [
    "The next functions will take three inputs: a set of points, a grid, and flows at each point and each point on the grid. It is tasked with returning three matrices: a transition matrix between the points and the grid, a transition matrix between the grid and the points, and the transition matrix from the grid to the grid.\n",
    "\n",
    "These tasks should be separated, as each is called in different circumstances.\n",
    "- The grid-to-point (and vv) function will be called each time the points are moved, or the grid is updated, or the flow is updated.\n",
    "- The grid-to-grid function will be called whenever the grid is updated, or the flow is updated.\n",
    "\n",
    "Both can be encapsulated in the same function, which computes an affinity matrix from pointset 1 to pointset 2."
   ]
  },
  {
   "cell_type": "markdown",
   "metadata": {},
   "source": [
    "The logic of the functions: \n",
    "1. For each point in set 1, sort the points in set 2 by distance.\n",
    "2. Choose the $n$ nearest neighbors (optional computational boost), and compute the transition probabilities to them, storing the results in the affinity matrix."
   ]
  },
  {
   "cell_type": "code",
   "execution_count": null,
   "metadata": {},
   "outputs": [],
   "source": [
    "#export\n",
    "def affinity_matrix_from_pointset_to_pointset(pointset1, pointset2, flows,n_neighbors=None,sigma=0.5, flow_strength=1):\n",
    "  \"\"\"Compute affinity matrix between the points of pointset1 and pointset2, using the provided flow.\n",
    "\n",
    "  Parameters\n",
    "  ----------\n",
    "  pointset1 : torch tensor, n1 x d\n",
    "      The first pointset, to calculate affinities *from*\n",
    "  pointset2 : torch tensor, n2 x d\n",
    "      The second pointset, to calculate affinities *to* (from pointset1)\n",
    "  flow : a function that, when called at a point, gives the flow at that point\n",
    "  n_neighbors : number of neighbors to include in affinity computations. All neighbors beyond it are given affinity zero\n",
    "  (currently not implemented)\n",
    "\n",
    "  Returns:\n",
    "  Affinity matrix: torch tensor of shape n1 x n2\n",
    "  \"\"\"\n",
    "  # Calculate the directions from point i in pointset 1 to point j in pointset 2\n",
    "  n1 = pointset1.shape[0]\n",
    "  n2 = pointset2.shape[0]\n",
    "  P2 = pointset2[:,:,None].repeat(1,1,n1)\n",
    "  P1 = pointset1.T.repeat(n2,1,1)\n",
    "  P3 = (P2 - P1)\n",
    "  P3 = P3.transpose(1,2)\n",
    "  # compute affinities from flows and directions\n",
    "  affinities = affinity_from_flow(flows,P3,sigma=sigma,flow_strength=flow_strength)\n",
    "  return affinities\n"
   ]
  },
  {
   "cell_type": "markdown",
   "metadata": {},
   "source": [
    "### Building the function"
   ]
  },
  {
   "cell_type": "markdown",
   "metadata": {},
   "source": [
    "This is an illustration of how the function should work."
   ]
  },
  {
   "cell_type": "code",
   "execution_count": null,
   "metadata": {},
   "outputs": [],
   "source": [
    "pointset1 = torch.rand(4,2)\n",
    "pointset2 = torch.rand(7,2)\n",
    "def flow(x):\n",
    "  return x**2/torch.linalg.norm(x**2)"
   ]
  },
  {
   "cell_type": "code",
   "execution_count": null,
   "metadata": {},
   "outputs": [
    {
     "data": {
      "text/plain": [
       "tensor([[0.3947, 0.6869],\n",
       "        [0.1816, 0.4224],\n",
       "        [0.3769, 0.9989],\n",
       "        [0.7760, 0.5209]])"
      ]
     },
     "execution_count": null,
     "metadata": {},
     "output_type": "execute_result"
    }
   ],
   "source": [
    "pointset1"
   ]
  },
  {
   "cell_type": "code",
   "execution_count": null,
   "metadata": {},
   "outputs": [
    {
     "data": {
      "text/plain": [
       "tensor([[0.8008, 0.3310],\n",
       "        [0.6904, 0.7117],\n",
       "        [0.0941, 0.9056],\n",
       "        [0.9365, 0.0529],\n",
       "        [0.2421, 0.0651],\n",
       "        [0.1895, 0.1140],\n",
       "        [0.0940, 0.2614]])"
      ]
     },
     "execution_count": null,
     "metadata": {},
     "output_type": "execute_result"
    }
   ],
   "source": [
    "pointset2"
   ]
  },
  {
   "cell_type": "code",
   "execution_count": null,
   "metadata": {},
   "outputs": [
    {
     "data": {
      "text/plain": [
       "tensor([[[0.8008],\n",
       "         [0.3310]],\n",
       "\n",
       "        [[0.6904],\n",
       "         [0.7117]],\n",
       "\n",
       "        [[0.0941],\n",
       "         [0.9056]],\n",
       "\n",
       "        [[0.9365],\n",
       "         [0.0529]],\n",
       "\n",
       "        [[0.2421],\n",
       "         [0.0651]],\n",
       "\n",
       "        [[0.1895],\n",
       "         [0.1140]],\n",
       "\n",
       "        [[0.0940],\n",
       "         [0.2614]]])"
      ]
     },
     "execution_count": null,
     "metadata": {},
     "output_type": "execute_result"
    }
   ],
   "source": [
    "pointset2[:,:,None]"
   ]
  },
  {
   "cell_type": "code",
   "execution_count": null,
   "metadata": {},
   "outputs": [
    {
     "data": {
      "text/plain": [
       "tensor([[[0.8008, 0.8008, 0.8008, 0.8008],\n",
       "         [0.3310, 0.3310, 0.3310, 0.3310]],\n",
       "\n",
       "        [[0.6904, 0.6904, 0.6904, 0.6904],\n",
       "         [0.7117, 0.7117, 0.7117, 0.7117]],\n",
       "\n",
       "        [[0.0941, 0.0941, 0.0941, 0.0941],\n",
       "         [0.9056, 0.9056, 0.9056, 0.9056]],\n",
       "\n",
       "        [[0.9365, 0.9365, 0.9365, 0.9365],\n",
       "         [0.0529, 0.0529, 0.0529, 0.0529]],\n",
       "\n",
       "        [[0.2421, 0.2421, 0.2421, 0.2421],\n",
       "         [0.0651, 0.0651, 0.0651, 0.0651]],\n",
       "\n",
       "        [[0.1895, 0.1895, 0.1895, 0.1895],\n",
       "         [0.1140, 0.1140, 0.1140, 0.1140]],\n",
       "\n",
       "        [[0.0940, 0.0940, 0.0940, 0.0940],\n",
       "         [0.2614, 0.2614, 0.2614, 0.2614]]])"
      ]
     },
     "execution_count": null,
     "metadata": {},
     "output_type": "execute_result"
    }
   ],
   "source": [
    "P2 = pointset2[:,:,None].repeat(1,1,4)\n",
    "P2"
   ]
  },
  {
   "cell_type": "code",
   "execution_count": null,
   "metadata": {},
   "outputs": [
    {
     "data": {
      "text/plain": [
       "tensor([[[0.3947, 0.1816, 0.3769, 0.7760],\n",
       "         [0.6869, 0.4224, 0.9989, 0.5209]],\n",
       "\n",
       "        [[0.3947, 0.1816, 0.3769, 0.7760],\n",
       "         [0.6869, 0.4224, 0.9989, 0.5209]],\n",
       "\n",
       "        [[0.3947, 0.1816, 0.3769, 0.7760],\n",
       "         [0.6869, 0.4224, 0.9989, 0.5209]],\n",
       "\n",
       "        [[0.3947, 0.1816, 0.3769, 0.7760],\n",
       "         [0.6869, 0.4224, 0.9989, 0.5209]],\n",
       "\n",
       "        [[0.3947, 0.1816, 0.3769, 0.7760],\n",
       "         [0.6869, 0.4224, 0.9989, 0.5209]],\n",
       "\n",
       "        [[0.3947, 0.1816, 0.3769, 0.7760],\n",
       "         [0.6869, 0.4224, 0.9989, 0.5209]],\n",
       "\n",
       "        [[0.3947, 0.1816, 0.3769, 0.7760],\n",
       "         [0.6869, 0.4224, 0.9989, 0.5209]]])"
      ]
     },
     "execution_count": null,
     "metadata": {},
     "output_type": "execute_result"
    }
   ],
   "source": [
    "P1 = pointset1.T.repeat(7,1,1)\n",
    "P1"
   ]
  },
  {
   "cell_type": "code",
   "execution_count": null,
   "metadata": {},
   "outputs": [
    {
     "data": {
      "text/plain": [
       "tensor([[[ 0.4062,  0.6193,  0.4239,  0.0248],\n",
       "         [-0.3559, -0.0914, -0.6679, -0.1899]],\n",
       "\n",
       "        [[ 0.2958,  0.5089,  0.3135, -0.0856],\n",
       "         [ 0.0248,  0.2893, -0.2872,  0.1908]],\n",
       "\n",
       "        [[-0.3006, -0.0875, -0.2828, -0.6819],\n",
       "         [ 0.2187,  0.4832, -0.0933,  0.3847]],\n",
       "\n",
       "        [[ 0.5418,  0.7549,  0.5596,  0.1605],\n",
       "         [-0.6340, -0.3695, -0.9460, -0.4680]],\n",
       "\n",
       "        [[-0.1526,  0.0605, -0.1349, -0.5340],\n",
       "         [-0.6218, -0.3573, -0.9338, -0.4558]],\n",
       "\n",
       "        [[-0.2052,  0.0079, -0.1874, -0.5865],\n",
       "         [-0.5729, -0.3084, -0.8849, -0.4069]],\n",
       "\n",
       "        [[-0.3006, -0.0875, -0.2829, -0.6820],\n",
       "         [-0.4255, -0.1610, -0.7375, -0.2595]]])"
      ]
     },
     "execution_count": null,
     "metadata": {},
     "output_type": "execute_result"
    }
   ],
   "source": [
    "P3 = (P2-P1)\n",
    "P3"
   ]
  },
  {
   "cell_type": "code",
   "execution_count": null,
   "metadata": {},
   "outputs": [
    {
     "data": {
      "text/plain": [
       "tensor([[[ 0.4062, -0.3559],\n",
       "         [ 0.6193, -0.0914],\n",
       "         [ 0.4239, -0.6679],\n",
       "         [ 0.0248, -0.1899]],\n",
       "\n",
       "        [[ 0.2958,  0.0248],\n",
       "         [ 0.5089,  0.2893],\n",
       "         [ 0.3135, -0.2872],\n",
       "         [-0.0856,  0.1908]],\n",
       "\n",
       "        [[-0.3006,  0.2187],\n",
       "         [-0.0875,  0.4832],\n",
       "         [-0.2828, -0.0933],\n",
       "         [-0.6819,  0.3847]],\n",
       "\n",
       "        [[ 0.5418, -0.6340],\n",
       "         [ 0.7549, -0.3695],\n",
       "         [ 0.5596, -0.9460],\n",
       "         [ 0.1605, -0.4680]],\n",
       "\n",
       "        [[-0.1526, -0.6218],\n",
       "         [ 0.0605, -0.3573],\n",
       "         [-0.1349, -0.9338],\n",
       "         [-0.5340, -0.4558]],\n",
       "\n",
       "        [[-0.2052, -0.5729],\n",
       "         [ 0.0079, -0.3084],\n",
       "         [-0.1874, -0.8849],\n",
       "         [-0.5865, -0.4069]],\n",
       "\n",
       "        [[-0.3006, -0.4255],\n",
       "         [-0.0875, -0.1610],\n",
       "         [-0.2829, -0.7375],\n",
       "         [-0.6820, -0.2595]]])"
      ]
     },
     "execution_count": null,
     "metadata": {},
     "output_type": "execute_result"
    }
   ],
   "source": [
    "P3 = P3.transpose(1,2)\n",
    "P3"
   ]
  },
  {
   "cell_type": "code",
   "execution_count": null,
   "metadata": {},
   "outputs": [
    {
     "data": {
      "text/plain": [
       "torch.Size([7, 4, 2])"
      ]
     },
     "execution_count": null,
     "metadata": {},
     "output_type": "execute_result"
    }
   ],
   "source": [
    "P3.shape"
   ]
  },
  {
   "cell_type": "code",
   "execution_count": null,
   "metadata": {},
   "outputs": [
    {
     "data": {
      "text/plain": [
       "tensor([[0.1184, 0.3585],\n",
       "        [0.0251, 0.1356],\n",
       "        [0.1080, 0.7582],\n",
       "        [0.4576, 0.2062]])"
      ]
     },
     "execution_count": null,
     "metadata": {},
     "output_type": "execute_result"
    }
   ],
   "source": [
    "flows = flow(pointset1)\n",
    "flows"
   ]
  },
  {
   "cell_type": "code",
   "execution_count": null,
   "metadata": {},
   "outputs": [],
   "source": [
    "A = affinity_from_flow(flows,P3)"
   ]
  },
  {
   "cell_type": "code",
   "execution_count": null,
   "metadata": {},
   "outputs": [
    {
     "data": {
      "text/plain": [
       "tensor([[-7.9537e-02,  3.1266e-03, -4.6065e-01, -2.7791e-02],\n",
       "        [ 4.3903e-02,  5.1971e-02, -1.8389e-01,  1.9012e-04],\n",
       "        [ 4.2818e-02,  6.3309e-02, -1.0129e-01, -2.3273e-01],\n",
       "        [-1.6318e-01, -3.1170e-02, -6.5684e-01, -2.3060e-02],\n",
       "        [-2.4102e-01, -4.6919e-02, -7.2259e-01, -3.3832e-01],\n",
       "        [-2.2970e-01, -4.1602e-02, -6.9115e-01, -3.5228e-01],\n",
       "        [-1.8814e-01, -2.4011e-02, -5.8969e-01, -3.6556e-01]])"
      ]
     },
     "execution_count": null,
     "metadata": {},
     "output_type": "execute_result"
    }
   ],
   "source": [
    "(P3 * flows).sum(-1)"
   ]
  },
  {
   "cell_type": "code",
   "execution_count": null,
   "metadata": {},
   "outputs": [
    {
     "data": {
      "text/plain": [
       "tensor([[0.3776, 0.1379, 0.7659, 0.5019],\n",
       "        [0.3776, 0.1379, 0.7659, 0.5019],\n",
       "        [0.3776, 0.1379, 0.7659, 0.5019],\n",
       "        [0.3776, 0.1379, 0.7659, 0.5019]])"
      ]
     },
     "execution_count": null,
     "metadata": {},
     "output_type": "execute_result"
    }
   ],
   "source": [
    "torch.linalg.norm(flows,dim=1).repeat(4,1)"
   ]
  },
  {
   "cell_type": "markdown",
   "metadata": {},
   "source": [
    "### Testing the function"
   ]
  },
  {
   "cell_type": "code",
   "execution_count": null,
   "metadata": {},
   "outputs": [],
   "source": [
    "pointset1 = torch.rand(4,2)\n",
    "pointset2 = torch.rand(7,2)\n",
    "def flow(x):\n",
    "  return 5*x**2 - 3*x\n"
   ]
  },
  {
   "cell_type": "code",
   "execution_count": null,
   "metadata": {},
   "outputs": [],
   "source": [
    "P = affinity_matrix_from_pointset_to_pointset(pointset1,pointset2,flow(pointset1))"
   ]
  },
  {
   "cell_type": "code",
   "execution_count": null,
   "metadata": {},
   "outputs": [
    {
     "data": {
      "text/plain": [
       "tensor([[0.1386, 0.4177, 0.0518, 0.0434, 0.1400, 0.1832, 0.1011],\n",
       "        [0.1786, 0.0781, 0.0666, 0.2181, 0.1150, 0.0766, 0.1826],\n",
       "        [0.0046, 0.0036, 0.0172, 0.0314, 0.0042, 0.0047, 0.0051],\n",
       "        [0.0080, 0.0059, 0.0210, 0.0494, 0.0072, 0.0076, 0.0090]])"
      ]
     },
     "execution_count": null,
     "metadata": {},
     "output_type": "execute_result"
    }
   ],
   "source": [
    "P"
   ]
  },
  {
   "cell_type": "code",
   "execution_count": null,
   "metadata": {},
   "outputs": [
    {
     "data": {
      "text/plain": [
       "tensor([1.0758, 0.9156, 0.0707, 0.1081])"
      ]
     },
     "execution_count": null,
     "metadata": {},
     "output_type": "execute_result"
    }
   ],
   "source": [
    "P.sum(axis=1)"
   ]
  },
  {
   "cell_type": "code",
   "execution_count": null,
   "metadata": {},
   "outputs": [
    {
     "data": {
      "text/plain": [
       "tensor([[0.1289, 0.3883, 0.0482, 0.0403, 0.1301, 0.1703, 0.0940],\n",
       "        [0.1950, 0.0853, 0.0727, 0.2382, 0.1256, 0.0837, 0.1994],\n",
       "        [0.0644, 0.0507, 0.2426, 0.4438, 0.0596, 0.0665, 0.0725],\n",
       "        [0.0737, 0.0550, 0.1946, 0.4569, 0.0665, 0.0700, 0.0833]])"
      ]
     },
     "execution_count": null,
     "metadata": {},
     "output_type": "execute_result"
    }
   ],
   "source": [
    "torch.diag(1/P.sum(axis=1)) @ P"
   ]
  },
  {
   "cell_type": "markdown",
   "metadata": {},
   "source": [
    "# Putting the pieces together"
   ]
  },
  {
   "cell_type": "markdown",
   "metadata": {},
   "source": [
    "## The Loss Function: KL Divergence"
   ]
  },
  {
   "cell_type": "markdown",
   "metadata": {},
   "source": [
    "Previously, our network used a frobenius norm between matrices as the loss function. Now, it is comparing probability distributions, rather than distance matrices, and so we want something more robust. \n",
    "\n",
    "We'll start by using the simplest possible divergence: the KL Divergence"
   ]
  },
  {
   "cell_type": "code",
   "execution_count": null,
   "metadata": {},
   "outputs": [],
   "source": [
    "loss = nn.KLDivLoss(reduction = 'batchmean',log_target = False)"
   ]
  },
  {
   "cell_type": "code",
   "execution_count": null,
   "metadata": {},
   "outputs": [],
   "source": [
    "Pg = torch.rand(10,10)\n",
    "Pe = torch.rand(10,10)\n",
    "Pg_log = torch.log(Pg)"
   ]
  },
  {
   "cell_type": "code",
   "execution_count": null,
   "metadata": {},
   "outputs": [
    {
     "data": {
      "text/plain": [
       "tensor(2.5559)"
      ]
     },
     "execution_count": null,
     "metadata": {},
     "output_type": "execute_result"
    }
   ],
   "source": [
    "loss(Pg_log,Pe)"
   ]
  },
  {
   "cell_type": "markdown",
   "metadata": {},
   "source": [
    "### A Gaussian-based flow field\n",
    "\n",
    "As defined in [Vector Field Neural Networks](x-devonthink-item://67DF5481-E16A-4D6C-90D5-C03CAF439BC5)"
   ]
  },
  {
   "cell_type": "code",
   "execution_count": null,
   "metadata": {},
   "outputs": [],
   "source": [
    "#export\n",
    "class GaussianVectorField(nn.Module):\n",
    "  def __init__(self,n_dims, n_gaussians, device):\n",
    "    super(GaussianVectorField, self).__init__()\n",
    "    self.n_dims = n_dims\n",
    "    # each gaussian has a mean and a variance, which are initialized randomly, but\n",
    "    # are afterwards tuned by the network\n",
    "    self.means = torch.nn.Parameter(torch.rand(n_gaussians,n_dims)*8 - 4).to(device)\n",
    "    vecs = torch.randn(n_gaussians,n_dims)\n",
    "    \n",
    "    vecs = vecs / torch.linalg.norm(vecs, dim=1)[:,None]\n",
    "    self.vectors = torch.nn.Parameter(vecs).to(device)\n",
    "  def forward(self,points):\n",
    "    # evaluates the vector field at each point\n",
    "    # First, take distances between the points and the means\n",
    "    dist_between_pts_and_means = torch.cdist(points,self.means)\n",
    "    # print(\"distances between points and means\",dist_between_pts_and_means)\n",
    "    # apply kernel to this\n",
    "    # creates n_points x n_means array\n",
    "    kernel_from_mean = torch.exp(-(dist_between_pts_and_means**2))\n",
    "    # print(\"kernalized\",kernel_from_mean)\n",
    "    # multiply kernel value by vectors associated with each Gaussian\n",
    "    kernel_repeated = kernel_from_mean[:,:,None].repeat(1,1,self.n_dims)\n",
    "    # print('kernel repeated has shape',kernel_repeated.shape, 'and vecs has shape', self.vectors.shape)\n",
    "    kernel_times_vectors = kernel_repeated * self.vectors\n",
    "    # creates tensor of shape\n",
    "    # n_points x n_means x n_dims\n",
    "    # collapse along dim 1 to sum vectors along dimension\n",
    "    vector_field = kernel_times_vectors.sum(dim=1)\n",
    "    return vector_field\n",
    "    \n",
    "\n",
    "  \n"
   ]
  },
  {
   "cell_type": "code",
   "execution_count": null,
   "metadata": {},
   "outputs": [
    {
     "data": {
      "text/plain": [
       "torch.Size([3, 2])"
      ]
     },
     "execution_count": null,
     "metadata": {},
     "output_type": "execute_result"
    }
   ],
   "source": [
    "vecs = torch.randn(3,2)\n",
    "vecs = vecs / torch.linalg.norm(vecs, dim=1)[:,None]\n",
    "vecs.shape"
   ]
  },
  {
   "cell_type": "code",
   "execution_count": null,
   "metadata": {},
   "outputs": [
    {
     "data": {
      "text/plain": [
       "tensor(0.9900)"
      ]
     },
     "execution_count": null,
     "metadata": {},
     "output_type": "execute_result"
    }
   ],
   "source": [
    "torch.exp(-torch.tensor(0.01))"
   ]
  },
  {
   "cell_type": "code",
   "execution_count": null,
   "metadata": {},
   "outputs": [
    {
     "data": {
      "text/plain": [
       "tensor([[[1, 1],\n",
       "         [2, 2],\n",
       "         [3, 3]],\n",
       "\n",
       "        [[4, 4],\n",
       "         [5, 5],\n",
       "         [6, 6]]])"
      ]
     },
     "execution_count": null,
     "metadata": {},
     "output_type": "execute_result"
    }
   ],
   "source": [
    "y = torch.tensor([[1,2,3],[4,5,6]])\n",
    "yr = y[:,:,None].repeat(1,1,2)\n",
    "yr"
   ]
  },
  {
   "cell_type": "code",
   "execution_count": null,
   "metadata": {},
   "outputs": [
    {
     "data": {
      "text/plain": [
       "tensor([[[ 6,  7],\n",
       "         [10, 16],\n",
       "         [12, 27]],\n",
       "\n",
       "        [[24, 28],\n",
       "         [25, 40],\n",
       "         [24, 54]]])"
      ]
     },
     "execution_count": null,
     "metadata": {},
     "output_type": "execute_result"
    }
   ],
   "source": [
    "vecs = torch.tensor([[6,7],[5,8],[4,9]])\n",
    "vv = vecs * y[:,:,None].repeat(1,1,2)\n",
    "vv"
   ]
  },
  {
   "cell_type": "code",
   "execution_count": null,
   "metadata": {},
   "outputs": [
    {
     "data": {
      "text/plain": [
       "tensor([[ 28,  50],\n",
       "        [ 73, 122]])"
      ]
     },
     "execution_count": null,
     "metadata": {},
     "output_type": "execute_result"
    }
   ],
   "source": [
    "vvsummed = vv.sum(dim=1)\n",
    "vvsummed"
   ]
  },
  {
   "cell_type": "code",
   "execution_count": null,
   "metadata": {},
   "outputs": [
    {
     "data": {
      "text/plain": [
       "tensor([28, 50])"
      ]
     },
     "execution_count": null,
     "metadata": {},
     "output_type": "execute_result"
    }
   ],
   "source": [
    "vvsummed[0]"
   ]
  },
  {
   "cell_type": "markdown",
   "metadata": {},
   "source": [
    "Testing this does as expected..."
   ]
  },
  {
   "cell_type": "code",
   "execution_count": null,
   "metadata": {},
   "outputs": [
    {
     "data": {
      "image/png": "[encoded data removed]",
      "text/plain": [
       "<Figure size 432x288 with 1 Axes>"
      ]
     },
     "metadata": {
      "needs_background": "light"
     },
     "output_type": "display_data"
    }
   ],
   "source": [
    "K = GaussianVectorField(n_dims = 2, n_gaussians = 70)\n",
    "x, y = np.meshgrid(np.linspace(-8,8,30),np.linspace(-8,8,30))\n",
    "x = torch.tensor(x,dtype=float).cpu()\n",
    "y = torch.tensor(y,dtype=float).cpu()\n",
    "xy_t = torch.concat([x[:,:,None],y[:,:,None]],dim=2).float().reshape(900,2)\n",
    "uv = K(xy_t)\n",
    "# uv[uv < 0.9] = 0\n",
    "u = uv[:,0].detach()\n",
    "v = uv[:,1].detach()\n",
    "plt.quiver(x,y,u,v)\n",
    "plt.show()\n",
    "\n"
   ]
  },
  {
   "cell_type": "code",
   "execution_count": null,
   "metadata": {},
   "outputs": [
    {
     "data": {
      "text/plain": [
       "Parameter containing:\n",
       "tensor([[-1.2035,  1.8134],\n",
       "        [ 2.5874, -3.0941],\n",
       "        [-2.5597,  3.9178],\n",
       "        [ 3.8847,  0.0570],\n",
       "        [ 2.4936, -3.8329],\n",
       "        [-2.1414,  2.3705],\n",
       "        [ 0.8534, -1.0282],\n",
       "        [ 0.3508,  3.5981],\n",
       "        [-3.7317, -3.3408],\n",
       "        [-0.6885,  3.6234],\n",
       "        [-3.5146, -1.2114],\n",
       "        [ 1.6195, -0.5768],\n",
       "        [ 0.3307,  3.3992],\n",
       "        [ 2.1762,  2.0068],\n",
       "        [ 2.3957,  2.3138],\n",
       "        [-0.9029, -1.5436],\n",
       "        [ 1.5134,  2.7309],\n",
       "        [-3.9998,  3.4449],\n",
       "        [ 2.0271,  0.6240],\n",
       "        [-0.1693,  2.3897],\n",
       "        [-0.6088, -2.7984],\n",
       "        [-0.0073, -1.7446],\n",
       "        [ 0.7096,  0.0806],\n",
       "        [-1.8273, -0.0409],\n",
       "        [-1.0921, -0.7665],\n",
       "        [-2.6537, -0.8272],\n",
       "        [-2.2520, -1.7244],\n",
       "        [-0.7214, -0.7830],\n",
       "        [-0.9902,  2.8503],\n",
       "        [-3.0893, -2.4358],\n",
       "        [ 1.3951, -1.3209],\n",
       "        [ 1.3595, -2.9160],\n",
       "        [ 2.0104, -1.9445],\n",
       "        [-1.6724, -3.1848],\n",
       "        [-0.7881, -3.7321],\n",
       "        [-2.4156, -0.2790],\n",
       "        [-2.0317, -0.7203],\n",
       "        [ 0.4842,  1.8185],\n",
       "        [-1.5345,  0.8463],\n",
       "        [ 3.9290,  2.1221],\n",
       "        [-1.7984,  1.6561],\n",
       "        [ 2.4316, -0.3590],\n",
       "        [ 2.8793, -1.3752],\n",
       "        [-2.6157,  2.3335],\n",
       "        [-3.2497,  1.8926],\n",
       "        [-3.2319, -1.5342],\n",
       "        [ 1.9675, -3.5805],\n",
       "        [ 3.2901, -2.7023],\n",
       "        [ 0.3361, -2.8436],\n",
       "        [ 1.7477, -1.6474],\n",
       "        [ 3.3073, -1.6943],\n",
       "        [-2.6710,  2.0397],\n",
       "        [ 0.4917, -3.9313],\n",
       "        [ 2.1497, -3.0871],\n",
       "        [-0.5560, -3.0997],\n",
       "        [-2.3065,  1.2626],\n",
       "        [ 3.4352, -0.1986],\n",
       "        [-1.9328,  0.5046],\n",
       "        [-2.8350,  0.0408],\n",
       "        [-2.2819, -0.9242],\n",
       "        [ 3.3348,  3.2927],\n",
       "        [-0.3755, -2.7892],\n",
       "        [-3.2208, -3.9901],\n",
       "        [-3.4363, -1.9073],\n",
       "        [ 0.1110, -3.5689],\n",
       "        [-3.4938,  1.5822],\n",
       "        [-0.4093, -2.8547],\n",
       "        [-3.4644,  1.8812],\n",
       "        [-3.4685,  0.8994],\n",
       "        [-0.3863,  2.2864]], requires_grad=True)"
      ]
     },
     "execution_count": null,
     "metadata": {},
     "output_type": "execute_result"
    }
   ],
   "source": [
    "K.means"
   ]
  },
  {
   "cell_type": "code",
   "execution_count": null,
   "metadata": {},
   "outputs": [
    {
     "data": {
      "text/plain": [
       "tensor(3.1613, grad_fn=<MaxBackward1>)"
      ]
     },
     "execution_count": null,
     "metadata": {},
     "output_type": "execute_result"
    }
   ],
   "source": [
    "torch.max(uv)"
   ]
  },
  {
   "cell_type": "code",
   "execution_count": null,
   "metadata": {},
   "outputs": [
    {
     "data": {
      "text/plain": [
       "torch.Size([70, 2])"
      ]
     },
     "execution_count": null,
     "metadata": {},
     "output_type": "execute_result"
    }
   ],
   "source": [
    "K.means.shape"
   ]
  },
  {
   "cell_type": "markdown",
   "metadata": {},
   "source": [
    "## PyTorch Anisotropic Kernel"
   ]
  },
  {
   "cell_type": "code",
   "execution_count": null,
   "metadata": {},
   "outputs": [],
   "source": [
    "#export\n",
    "def anisotropic_kernel(D, sigma=0.7, alpha = 1):\n",
    "  \"\"\"Computes anisotropic kernel of given distances matrix.\n",
    "\n",
    "  Parameters\n",
    "  ----------\n",
    "  D : ndarray or sparse\n",
    "  sigma : float, optional\n",
    "      Kernel bandwidth, by default 0.7\n",
    "  alpha : int, optional\n",
    "      Degree of density normalization, from 0 to 1; by default 1\n",
    "  This is a good function.\n",
    "  \"\"\"\n",
    "  W = torch.exp(-D**2/(2*sigma**2))\n",
    "  # Additional normalization step for density\n",
    "  D = torch.diag(1/(torch.sum(W,axis=1)**alpha)) \n",
    "  W = D @ W @ D\n",
    "  return W"
   ]
  },
  {
   "cell_type": "markdown",
   "metadata": {},
   "source": [
    "## Flow Artist (Flexible Function)"
   ]
  },
  {
   "cell_type": "code",
   "execution_count": null,
   "metadata": {},
   "outputs": [],
   "source": [
    "# export\n",
    "from collections import OrderedDict\n",
    "def FlowArtist(FA_type,dim = 2, num_gauss = 0, shape = [2,4,8,4,2], device = torch.device('cpu')):\n",
    "    # Function to create tailored flow artist\n",
    "    \n",
    "    FA = nn.Sequential()\n",
    "    \n",
    "    if FA_type == \"gaussian\": # default = Gaussian model\n",
    "        FA = GaussianVectorField(dim,num_gauss, device=device)\n",
    "    elif FA_type == \"ReLU\": # ReLu\n",
    "        d_len = len(shape)*2\n",
    "        d = OrderedDict()\n",
    "        d[str(0)] = nn.Linear(shape[0], shape[1])\n",
    "        for i in range(1,d_len-3):\n",
    "            if i%2 == 1:\n",
    "                d[str(i)] = nn.LeakyReLU()\n",
    "            else:\n",
    "                d[str(i)] = nn.Linear(shape[int(i/2)], shape[int(i/2)+1])\n",
    "        # create MLP\n",
    "        FA = nn.Sequential(d)\n",
    "        \n",
    "    elif FA_type == \"tanh\": # ReLu dim,2,4,8,4,2,dim\n",
    "        shape = [2,4,8,4,2]\n",
    "        FA = nn.Sequential(nn.Linear(dim, shape[0]),\n",
    "                           nn.tanh(),\n",
    "                           nn.Linear(shape[0], shape[1]),\n",
    "                           nn.tanh(),\n",
    "                           nn.Linear(shape[1], shape[2]),\n",
    "                           nn.tanh(),\n",
    "                           nn.Linear(shape[2], shape[3]),\n",
    "                           nn.tanh(),\n",
    "                           nn.Linear(shape[3], shape[4]),\n",
    "                           nn.tanh(),\n",
    "                           nn.Linear(shape[4], dim))\n",
    "        \n",
    "    return FA"
   ]
  },
  {
   "cell_type": "markdown",
   "metadata": {},
   "source": [
    "## Smoothness Regularization\n",
    "We want our vector field to be as simple as possible. One means of achieving this is to regularize it by smoothness, to penalize it for changing the direction of the vectors too suddenly. Here, I'll code up a grid-based laplacian normalizer. It will take samples from a grid graph in the support of the points and flow, calculate the  laplacian of the grid, and compute the smoothness via\n",
    "$$ \\frac{v^T L v}{v^T v} $$"
   ]
  },
  {
   "cell_type": "code",
   "execution_count": null,
   "metadata": {},
   "outputs": [],
   "source": [
    "# export\n",
    "def smoothness_of_vector_field(embedded_points, vector_field_function, device, grid_width = 20):\n",
    "  # find support of points\n",
    "  minx = (min(embedded_points[:,0])-1).detach()\n",
    "  maxx = (max(embedded_points[:,0])+1).detach()\n",
    "  miny = (min(embedded_points[:,1])-1).detach()\n",
    "  maxy = (max(embedded_points[:,1])+1).detach()\n",
    "  # form grid around points\n",
    "  x, y = torch.meshgrid(torch.linspace(minx,maxx,steps=grid_width),torch.linspace(miny,maxy,steps=grid_width))\n",
    "  xy_t = torch.concat([x[:,:,None],y[:,:,None]],dim=2).float()\n",
    "  xy_t = xy_t.reshape(grid_width**2,2).to(device)\n",
    "  # Compute distances between points\n",
    "  # TODO: Can compute A analytically for grid graph, don't need to run kernel\n",
    "  Dists = torch.cdist(xy_t,xy_t)\n",
    "  A = anisotropic_kernel(Dists)\n",
    "  # comment this out in production\n",
    "  # plt.imshow(A)\n",
    "  # Get degree matrix and build graph laplacian\n",
    "  D = A.sum(axis=1)\n",
    "  L = D - A\n",
    "  # compute vector field at each grid point\n",
    "  vecs = vector_field_function(xy_t)\n",
    "  x_vecs = vecs[:,0]\n",
    "  y_vecs = vecs[:,1]\n",
    "  # compute smoothness of each x and y and add them # TODO: There are other ways this could be done\n",
    "  x_smoothness = (x_vecs.T @ L @ x_vecs) #/ torch.linalg.norm(x_vecs)**2\n",
    "  y_smoothness = (y_vecs.T @ L @ y_vecs) #/ torch.linalg.norm(y_vecs)**2\n",
    "  total_smoothness = x_smoothness + y_smoothness\n",
    "  return total_smoothness"
   ]
  },
  {
   "cell_type": "markdown",
   "metadata": {},
   "source": [
    "Testing this on a grid with random data and flows:"
   ]
  },
  {
   "cell_type": "code",
   "execution_count": null,
   "metadata": {},
   "outputs": [],
   "source": [
    "K = GaussianVectorField(n_dims = 2, n_gaussians = 70)\n",
    "x, y = np.meshgrid(np.linspace(-8,8,30),np.linspace(-8,8,30))\n",
    "x = torch.tensor(x,dtype=float).cpu()\n",
    "y = torch.tensor(y,dtype=float).cpu()\n",
    "random_data = torch.concat([x[:,:,None],y[:,:,None]],dim=2).float().reshape(900,2)"
   ]
  },
  {
   "cell_type": "code",
   "execution_count": null,
   "metadata": {},
   "outputs": [
    {
     "data": {
      "text/plain": [
       "tensor(97.0659, grad_fn=<AddBackward0>)"
      ]
     },
     "execution_count": null,
     "metadata": {},
     "output_type": "execute_result"
    }
   ],
   "source": [
    "smoothness_of_vector_field(random_data,K)"
   ]
  },
  {
   "cell_type": "markdown",
   "metadata": {},
   "source": [
    "Now to put the pieces together, into a `FlowEmbedder` Network!"
   ]
  },
  {
   "cell_type": "code",
   "execution_count": null,
   "metadata": {},
   "outputs": [],
   "source": [
    "# export\n",
    "import torch\n",
    "from torch import nn\n",
    "import torch.nn.functional as F\n",
    "import torch_geometric\n",
    "from tqdm import trange\n",
    "from directed_graphs.utils import diffusion_matrix_from_graph\n",
    "import numpy as np\n",
    "import matplotlib.pyplot as plt\n",
    "\n",
    "class DiffusionFlowEmbedder(torch.nn.Module):\n",
    "\tdef __init__(self, \n",
    "\t\t\t\t\t\t\tX, \n",
    "\t\t\t\t\t\t\tflows, \n",
    "\t\t\t\t\t\t\tt = 1, \n",
    "\t\t\t\t\t\t\tsigma_graph = 0.5, \n",
    "\t\t\t\t\t\t\tsigma_embedding=0.5, \n",
    "\t\t\t\t\t\t\tembedding_dimension=2, \n",
    "\t\t\t\t\t\t\tdevice=torch.device('cpu'), \n",
    "\t\t\t\t\t\t\tautoencoder_shape = [10,10], \n",
    "\t\t\t\t\t\t\tflow_artist = \"gaussian\",\n",
    "\t\t\t\t\t\t\tflow_artist_shape = [30,20,10], \n",
    "\t\t\t\t\t\t\tflow_strength_graph=5, \n",
    "\t\t\t\t\t\t\tflow_strength_embedding=5, \n",
    "\t\t\t\t\t\t\tlearnable_flow_strength=True,\n",
    "\t\t\t\t\t\t\tmultiscale_loss=True,\n",
    "\t\t\t\t\t\t\tweight_of_flow = 0.5,\n",
    "\t\t\t\t\t\t\tlearning_rate = 1e-5,\n",
    "\t\t\t\t\t\t\tsmoothness = 1,\n",
    "\t\t\t\t\t\t\tembedding_bounds = 4,\n",
    "\t\t\t\t\t\t\tnum_gaussians = 25,\n",
    "\t\t\t\t\t\t\tlabels = None,      \n",
    "\n",
    "\t\t\t\t\t\t\t):\n",
    "\t\t\"\"\"Flow Embedding with diffusion\n",
    "\n",
    "\t\tParameters\n",
    "\t\t----------\n",
    "\t\tX : torch tensor n_points x n_dim\n",
    "\t\t\tdata matrix\n",
    "\t\tflows : torch tensor n_points x n_dim\n",
    "\t\t\tThe flow at each point\n",
    "\t\tt : int\n",
    "\t\t\tLoss is computed with the diffusion operator powered to this number\n",
    "\t\tsigma in [0,1]\n",
    "\t\t\tKernel bandwidth in the embedding\n",
    "\t\t\"\"\"\n",
    "\t\t# initialize parameters\n",
    "\t\tsuper(DiffusionFlowEmbedder, self).__init__()\n",
    "\t\tself.X = X\n",
    "\t\tself.ground_truth_flows = flows\n",
    "\t\tself.t = t\n",
    "\t\tself.sigma_embedding = sigma_embedding\n",
    "\t\tself.sigma_graph = sigma_graph\n",
    "\t\tself.nnodes = X.shape[0]\n",
    "\t\tself.data_dimension = X.shape[1]\n",
    "\t\tself.losses = []\n",
    "\t\tself.eps = 0.001\n",
    "\t\tself.weight_of_flow = weight_of_flow\n",
    "\t\tself.smoothness = smoothness\n",
    "\t\tself.embedding_bounds = embedding_bounds # will constrain embedding to live in -n, n in each dimension\n",
    "\t\tself.labels = labels\n",
    "\n",
    "\t\tif learnable_flow_strength:\n",
    "\t\t\tself.flow_strength = nn.Parameter(torch.tensor(flow_strength_embedding).float())\n",
    "\t\telse:\n",
    "\t\t\tself.flow_strength = flow_strength_embedding\n",
    "\n",
    "\t\tself.embedding_dimension = embedding_dimension\n",
    "\t\t# set device (used for shuffling points around during visualization)\n",
    "\t\tself.device = device\n",
    "\t\t# Compute P^t of the graph, the powered diffusion matrix\n",
    "\t\t# TODO: This can be optimized using landmarks, etc. For now it's straight sparse matrix multiplication\n",
    "\t\t# TODO: Migrate to a specialized function for dataset affinity calculation, with automatic kernel bandwidth selection, and the like\n",
    "\t\t\n",
    "\t\tself.P_graph = affinity_matrix_from_pointset_to_pointset(X,X,flows,sigma=sigma_graph,flow_strength=flow_strength_graph)\n",
    "\t\t# self.P_graph = torch.diag(1/self.P_graph.sum(axis=1)) @ self.P_graph\n",
    "\t\tself.P_graph = F.normalize(self.P_graph, p=1, dim=1)\n",
    "\t\tself.P_graph_t = torch.matrix_power(self.P_graph,self.t)\n",
    "\n",
    "\t\tif multiscale_loss:\n",
    "\t\t\tself.P_embedding_multiscale = [0,0,0,0]\n",
    "\t\t\t\n",
    "\t\t# Flow field\n",
    "\t\t# Gaussian model\n",
    "\t\tself.FlowArtist = FlowArtist(FA_type = flow_artist, \n",
    "                                     dim = self.embedding_dimension, \n",
    "                                     num_gauss=num_gaussians,\n",
    "                                     device=device)\n",
    "\t\t# Autoencoder to embed the points into a low dimension\n",
    "\t\tself.encoder = nn.Sequential(nn.Linear(self.data_dimension, autoencoder_shape[0]),\n",
    "\t\t\t\t\t\t\t\t\t\t\t\t\t\t\tnn.LeakyReLU(),\n",
    "\t\t\t\t\t\t\t\t\t\t\t\t\t\t\tnn.Linear(autoencoder_shape[0], autoencoder_shape[1]),\n",
    "\t\t\t\t\t\t\t\t\t\t\t\t\t\t\tnn.LeakyReLU(),\n",
    "\t\t\t\t\t\t\t\t\t\t\t\t\t\t\tnn.Linear(autoencoder_shape[1], self.embedding_dimension))\n",
    "\t\tself.decoder = nn.Sequential(nn.Linear(self.embedding_dimension, autoencoder_shape[1]),\n",
    "\t\t\t\t\t\t\t\t\t\t\t\t\t\t\tnn.LeakyReLU(),\n",
    "\t\t\t\t\t\t\t\t\t\t\t\t\t\t\tnn.Linear(autoencoder_shape[1], autoencoder_shape[0]),\n",
    "\t\t\t\t\t\t\t\t\t\t\t\t\t\t\tnn.LeakyReLU(),\n",
    "\t\t\t\t\t\t\t\t\t\t\t\t\t\t\tnn.Linear(autoencoder_shape[0], self.data_dimension))\n",
    "\t\t# training ops\n",
    "\t\tself.KLD = nn.KLDivLoss(reduction='batchmean',log_target=False)\n",
    "\t\tself.MSE = nn.MSELoss()\n",
    "\t\t# testing\n",
    "\t\t# self.KLD = nn.NLLLoss()\n",
    "\t\tself.optim = torch.optim.Adam(self.parameters(), lr = learning_rate, )\n",
    "\n",
    "\tdef compute_embedding_P(self):\n",
    "\t\tA = affinity_matrix_from_pointset_to_pointset(self.embedded_points,self.embedded_points,flows = self.FlowArtist(self.embedded_points), sigma = self.sigma_embedding, flow_strength=self.flow_strength)\n",
    "\t\t# print(\"affinities \",A)\n",
    "\t\t# flow\n",
    "\t\tself.P_embedding = F.normalize(A,p=1,dim=1)\n",
    "\t\t# power it\n",
    "\t\tself.P_embedding_t = torch.matrix_power(self.P_embedding,self.t)\n",
    "\n",
    "\n",
    "\tdef loss(self):\n",
    "\t\tself.embedded_points = self.encoder(self.X)\n",
    "\t\t# normalize embedded points to lie within -self.embedding_bounds, self.embedding_bounds\n",
    "\t\t# if any are trying to escape, constrain them to lie on the edges\n",
    "\t\t# self.embedded_points[:,0][torch.abs(self.embedded_points[:,0]) > self.embedding_bounds] = self.embedding_bounds * (self.embedded_points[:,0][torch.abs(self.embedded_points[:,0]) > self.embedding_bounds])/torch.abs(self.embedded_points[:,0][torch.abs(self.embedded_points[:,0]) > self.embedding_bounds])\n",
    "\t\t# self.embedded_points[:,1][torch.abs(self.embedded_points[:,1]) > self.embedding_bounds] = self.embedding_bounds * (self.embedded_points[:,1][torch.abs(self.embedded_points[:,1]) > self.embedding_bounds])/torch.abs(self.embedded_points[:,0][torch.abs(self.embedded_points[:,1]) > self.embedding_bounds])\n",
    "\t\t# print(self.embedded_points)\n",
    "\t\t# compute embedding diffusion matrix\n",
    "\t\tself.compute_embedding_P()\n",
    "\t\t# compute autoencoder loss\n",
    "\t\tX_reconstructed = self.decoder(self.embedded_points)\n",
    "\t\treconstruction_loss = self.MSE(X_reconstructed, self.X)\n",
    "\t\t# print(\"recon loss\",reconstruction_loss)\n",
    "\t\t# take KL divergence between it and actual P\n",
    "\t\t# print(\"embedding p\",self.P_embedding_t)\n",
    "\t\tlog_P_embedding_t = torch.log(self.P_embedding_t)\n",
    "\t\t# print(log_P_embedding_t)\n",
    "\t\tif log_P_embedding_t.is_sparse:\n",
    "\t\t\tdiffusion_loss = self.KLD(log_P_embedding_t.to_dense(),self.P_graph_t.to_dense())\n",
    "\t\telse:\n",
    "\t\t\tdiffusion_loss = self.KLD(log_P_embedding_t,self.P_graph_t)\n",
    "\t\t# print(\"diffusion loss is\",diffusion_loss)\n",
    "\t\tsmoothness_loss = self.smoothness*smoothness_of_vector_field(self.embedded_points,self.FlowArtist,device=self.device,grid_width=20)\n",
    "\t\tcost = self.weight_of_flow*diffusion_loss + (1 - self.weight_of_flow)*reconstruction_loss + smoothness_loss\n",
    "\t\t# print(f\"cost is KLD {diffusion_loss} with recon {reconstruction_loss}\")\n",
    "\t\tself.losses.append([diffusion_loss,reconstruction_loss, smoothness_loss])\n",
    "\t\treturn cost\n",
    "\n",
    "\tdef visualize_points(self, labels = None):\n",
    "\t\t# controls the x and y axes of the plot\n",
    "\t\t# linspace(min on axis, max on axis, spacing on plot -- large number = more field arrows)\n",
    "\t\tif labels is None:\n",
    "\t\t\tlabels = self.labels\n",
    "\t\tminx = min(self.embedded_points[:,0].detach().cpu().numpy())-1\n",
    "\t\tmaxx = max(self.embedded_points[:,0].detach().cpu().numpy())+1\n",
    "\t\tminy = min(self.embedded_points[:,1].detach().cpu().numpy())-1\n",
    "\t\tmaxy = max(self.embedded_points[:,1].detach().cpu().numpy())+1\n",
    "\t\tnum_grid = 20\n",
    "\t\tx, y = np.meshgrid(np.linspace(minx,maxx,num_grid),np.linspace(miny,maxy,num_grid))\n",
    "\t\tx = torch.tensor(x,dtype=float).cpu()\n",
    "\t\ty = torch.tensor(y,dtype=float).cpu()\n",
    "\t\txy_t = torch.concat([x[:,:,None],y[:,:,None]],dim=2).float().to(self.device) # TODO: cuda/cpu issue\n",
    "\t\txy_t = xy_t.reshape(num_grid**2,2)\n",
    "\t\tuv = self.FlowArtist(xy_t).detach()\n",
    "\t\tu = uv[:,0].cpu()\n",
    "\t\tv = uv[:,1].cpu()\n",
    "\t\t\n",
    "\t\t# quiver \n",
    "\t\t# \tplots a 2D field of arrows\n",
    "\t\t# \tquiver([X, Y], U, V, [C], **kw); \n",
    "\t\t# \tX, Y define the arrow locations, U, V define the arrow directions, and C optionally sets the color.\n",
    "\t\tif labels is not None:\n",
    "\t\t\tsc = plt.scatter(self.embedded_points[:,0].detach().cpu(),self.embedded_points[:,1].detach().cpu(), c=labels)\n",
    "\t\t\tplt.legend()\n",
    "\t\telse:\n",
    "\t\t\tsc = plt.scatter(self.embedded_points[:,0].detach().cpu(),self.embedded_points[:,1].detach().cpu())\n",
    "\t\tplt.suptitle(\"Flow Embedding\")\n",
    "\t\tplt.quiver(x,y,u,v)\n",
    "\t\t# Display all open figures.\n",
    "\t\tplt.show()\n",
    "\tdef visualize_diffusion_matrices(self):\n",
    "\t\tfig, axs = plt.subplots(1,2)\n",
    "\t\taxs[0].set_title(f\"Ambient $P^{self.t}$\")\n",
    "\t\taxs[0].imshow(self.P_graph_t.detach().cpu().numpy())\n",
    "\t\taxs[1].set_title(f\"Embedding $P^{self.t}$\")\n",
    "\t\taxs[1].imshow(self.P_embedding_t.detach().cpu().numpy())\n",
    "\t\tplt.show()\n",
    "\n",
    "\tdef fit(self,n_steps = 1000):\n",
    "\t\t# train Flow Embedder on the provided graph\n",
    "\t\tself.train()\n",
    "\t\t# self.weight_of_flow = 0\n",
    "\t\tfor step in trange(n_steps):\n",
    "\t\t\t# if step == 100:\n",
    "\t\t\t# \tself.weight_of_flow = 1\n",
    "\t\t\t# if step == 200:\n",
    "\t\t\t# \tself.weight_of_flow = 0.5\n",
    "\t\t\tself.optim.zero_grad()\n",
    "\t\t\t# compute loss\n",
    "\t\t\tloss = self.loss()\n",
    "\t\t\t# print(\"loss is \",loss)\n",
    "\t\t\t# compute gradient and step backwards\n",
    "\t\t\tloss.backward()\n",
    "\t\t\tself.optim.step()\n",
    "\t\t\tif step % 100 == 0:\n",
    "\t\t\t\tprint(f\"EPOCH {step}. Loss {loss}. Flow strength {self.flow_strength}. Weight of flow {self.weight_of_flow} Heatmap of P embedding is \")\n",
    "\t\t\t\tself.visualize_diffusion_matrices()\n",
    "\t\t\t\tself.visualize_points()\n",
    "\t\t\t# TODO: Criteria to automatically end training\n",
    "\t\tprint(\"Exiting training with loss \",loss)\n",
    "\t\treturn self.embedded_points"
   ]
  },
  {
   "cell_type": "code",
   "execution_count": null,
   "metadata": {},
   "outputs": [
    {
     "name": "stdout",
     "output_type": "stream",
     "text": [
      "Converted 00_core.ipynb.\n",
      "Converted 01a Graph Utils.ipynb.\n",
      "Converted 01b01 Directed Graph Utils.ipynb.\n",
      "Converted 01c Visualizations.ipynb.\n",
      "Converted 02a Toy Graph Datasets.ipynb.\n",
      "Converted 02a01 Communities Datasets.ipynb.\n",
      "Converted 02a02 Small Random Directed Graphs.ipynb.\n",
      "Converted 02b Directed Stochastic Block Model.ipynb.\n",
      "Converted 02b01 Sink Graph with SBM.ipynb.\n",
      "Converted 02b02 SBM Source Graph.ipynb.\n",
      "Converted 02b03 Directed_SBM_On_Manifold.ipynb.\n",
      "Converted 02c Trees.ipynb.\n",
      "Converted 02d01_Snake_TestCase.ipynb.\n",
      "Converted 02d02 Circles and Swiss roll Datasets.ipynb.\n",
      "Converted 02d02a Testing Diffusion Flow Embedder on Circle and Swiss Roll.ipynb.\n",
      "Converted 02d03 Spheres and Donuts with Flow (datasets).ipynb.\n",
      "Converted 02d04 Tree and Flow Artist Test.ipynb.\n",
      "Converted 03 Node2Vec on Directed Graphs.ipynb.\n",
      "Converted 03a Node2Vec_with_Backwards_Connection.ipynb.\n",
      "Converted 03a01 DeepWalk_with_Backwards_Connections.ipynb.\n",
      "Converted 03b Backwards Node2Vec.ipynb.\n",
      "Converted 03b01 Testing Backwards Node2vec on DirectedGraphs.ipynb.\n",
      "Converted 03c node2vec graph reversal walk.ipynb.\n",
      "Converted 03c01 Node2Vec_on_RootedTree.ipynb.\n",
      "Converted 03c01a Node2Vec_on_MultiTree.ipynb.\n",
      "Converted 03c01b Node2Vec_on_PolyTree.ipynb.\n",
      "Converted 03c01c Node2Vec_on_Cyclic_Graphs.ipynb.\n",
      "Converted 04 UW_Manifold_Based_Directed_Embedding.ipynb.\n",
      "Converted 05a Testing Distance-based Flow Embedder.ipynb.\n",
      "Converted 05a01 Flow_Embedding_with_Implicit_Vectors.ipynb.\n",
      "Converted 05a02 Model Spaces for Flow Embeddings.ipynb.\n",
      "Converted 05b Flow Embedding with Diffusion.ipynb.\n",
      "Converted 05b01 Testing diffusion flow embedder.ipynb.\n",
      "Converted 05b01a Diffusion Flow Embedding on Pancreas_RNA_Velocity.ipynb.\n",
      "Converted 05b01a01 RNA Velocity Analysis.ipynb.\n",
      "Converted 05b01a02 rna-velo_viz_phate.ipynb.\n",
      "Converted 05b01a03 More_RNA_Velocity_Datasets.ipynb.\n",
      "Converted 05b02 Flow-Artist_Upgrade.ipynb.\n",
      "Converted 05b03 Flow-Artist-Scratch-Upgrade.ipynb.\n",
      "Converted 05b03 Testing the Flow-Affinity Matrix.ipynb.\n",
      "Converted 05b04 Diffusion Flow Embedder on Toy Data.ipynb.\n",
      "Converted 05b05 Test Swiss Roll with New Kernel (7-11).ipynb.\n",
      "Converted 05b05a DFE on the Swiss Roll with Smoothness.ipynb.\n",
      "Converted 05c Multiscale Diffusion Flow Embedding.ipynb.\n",
      "Converted 05c01 Loss functions.ipynb.\n",
      "Converted 99_playground.ipynb.\n",
      "Converted Untitled.ipynb.\n",
      "Converted index.ipynb.\n"
     ]
    }
   ],
   "source": [
    "!nbdev_build_lib"
   ]
  },
  {
   "cell_type": "code",
   "execution_count": null,
   "metadata": {},
   "outputs": [],
   "source": []
  }
 ],
 "metadata": {
  "kernelspec": {
   "display_name": "Python 3.9.13 ('pyg_from_source')",
   "language": "python",
   "name": "python3"
  }
 },
 "nbformat": 4,
 "nbformat_minor": 2
}
