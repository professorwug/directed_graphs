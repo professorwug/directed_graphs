{
 "cells": [
  {
   "cell_type": "code",
   "execution_count": null,
   "metadata": {},
   "outputs": [],
   "source": [
    "# default_exp diffusion_flow_embedding\n",
    "from nbdev.showdoc import *\n",
    "import numpy as np\n",
    "%load_ext autoreload\n",
    "%autoreload 2"
   ]
  },
  {
   "cell_type": "code",
   "execution_count": null,
   "metadata": {},
   "outputs": [],
   "source": [
    "# export\n",
    "# hide\n",
    "import torch\n",
    "import torch.nn as nn"
   ]
  },
  {
   "cell_type": "markdown",
   "metadata": {},
   "source": [
    "# Flow Embedding with Diffusion"
   ]
  },
  {
   "cell_type": "markdown",
   "metadata": {},
   "source": [
    "The first generation of the flow embedding network was based around the preservation of distances in the embedding space. It's now obvious that this was the wrong tact. Caring about distance preservation puts most emphasis on far away points (including pathological cases, when there's no connectivity and the distance is \"infinite\"). \n",
    "\n",
    "Affinities do the trick here much better. They naturally emphasize only local distances, and allow the network to heavily discount (if not outright ignore) long-range connectivity. \n",
    "\n",
    "This locality creates a new model of flow. Previously, our network used euclidean lines between points, and used the flow only to determine the length of each line. Going against (and especially, going perpendicular) to the flow was *possible*, just not easy.\n",
    "\n",
    "With the diffusion-based model, we think in terms of probabilities, rather than distances. \n",
    "This has a couple of downstream effects:\n",
    "- Going with the flow is *highly* encouraged. Going against or even perpendicular is given (depending on the kernel function used) a probability close to zero.\n",
    "- Points travel on *paths* dictated by the flow. The likelihood of reaching point $i$ from $j$ is governed not by the *shortest* path, but the aggregate of all paths, weighted by probability. This has the dual effects of diminishing the effect of outliers, and providing an intuitive model of motion. You don't have to reason about which path is \"lowest energy\", just which path is most likely based on the directions of flow."
   ]
  },
  {
   "cell_type": "markdown",
   "metadata": {},
   "source": [
    "## The Pieces of the Algorithm"
   ]
  },
  {
   "cell_type": "markdown",
   "metadata": {},
   "source": [
    "We compute the probabilities of transition between the points with three steps:\n",
    "1. Learn a \"Flow Artist\": a neural network to learn flow over the euclidean field.\n",
    "  - This is currently a function of two variables $F(x,y): \\mathbb{R}^2 \\to \\mathbb{R}$. The direction of flow is the negative gradient $-\\Delta F$.\n",
    "2. Compute the probabilities of transition between the grid points and the embeddings of points.\n",
    "3. Compute the probabilities of transition from grid points to grid points.\n",
    "\n",
    "The probability of transitioning from one point to another is then the amalgam of these steps: we transition to the grid, transition within the grid for $t$ steps, and then transition back to a point. Each probability gives a matrix."
   ]
  },
  {
   "cell_type": "markdown",
   "metadata": {},
   "source": [
    "## Probability Kernel from Flow"
   ]
  },
  {
   "cell_type": "markdown",
   "metadata": {},
   "source": [
    "The foundation of these is the conversion from *flow* (the vector field) to probabilities of transition. This is done using a kernel based on the degree of divergence between the direction specified and the flow, as below, where $r$ is the flow direction (a vector) and $v$ is the direction of the edge.\n",
    "$$ e^{-(\\|r\\|^2 - r \\cdot v)/\\sigma} $$\n",
    "When the flow is aligned with the direction, this returns 1. When it is perpendicular, $e^{-\\|r\\|^2/\\sigma}$, and when against the flow, $e^{-2\\|r\\|^2/\\sigma}$.\n",
    "\n",
    "We should tune $\\sigma$ to ensure that a 45 degree angle returns a quantity significantly above zero."
   ]
  },
  {
   "cell_type": "markdown",
   "metadata": {},
   "source": [
    "We'll create a function that performs this operation on batches of flows and directions. The input will be an array of flows (e.g. the flow per point), and a batch of directions (e.g. NESW for each point). It will, of course, use PyTorch for backpropogation capable operations"
   ]
  },
  {
   "cell_type": "code",
   "execution_count": null,
   "metadata": {},
   "outputs": [
    {
     "data": {
      "text/plain": [
       "tensor([[0.8946, 0.5463],\n",
       "        [0.7522, 0.0148],\n",
       "        [0.0908, 0.0139],\n",
       "        [0.2149, 0.8459],\n",
       "        [0.8517, 0.7275],\n",
       "        [0.7860, 0.4420],\n",
       "        [0.1877, 0.2564],\n",
       "        [0.7948, 0.4543],\n",
       "        [0.9502, 0.0671],\n",
       "        [0.6981, 0.5650]])"
      ]
     },
     "execution_count": null,
     "metadata": {},
     "output_type": "execute_result"
    }
   ],
   "source": [
    "a = torch.rand(10,2)\n",
    "b = torch.rand(4,10,2)\n",
    "a"
   ]
  },
  {
   "cell_type": "code",
   "execution_count": null,
   "metadata": {},
   "outputs": [
    {
     "data": {
      "text/plain": [
       "tensor([[[0.6313, 0.1965],\n",
       "         [0.3358, 0.5033],\n",
       "         [0.5095, 0.0391],\n",
       "         [0.3363, 0.6521],\n",
       "         [0.8074, 0.2792],\n",
       "         [0.7595, 0.1175],\n",
       "         [0.9216, 0.4588],\n",
       "         [0.4332, 0.3004],\n",
       "         [0.5700, 0.5408],\n",
       "         [0.2259, 0.3619]],\n",
       "\n",
       "        [[0.9815, 0.6022],\n",
       "         [0.7698, 0.8830],\n",
       "         [0.8008, 0.2901],\n",
       "         [0.3351, 0.8947],\n",
       "         [0.9963, 0.8627],\n",
       "         [0.9498, 0.4384],\n",
       "         [0.7044, 0.6547],\n",
       "         [0.7867, 0.0879],\n",
       "         [0.0455, 0.9758],\n",
       "         [0.0345, 0.2223]],\n",
       "\n",
       "        [[0.7887, 0.4502],\n",
       "         [0.8803, 0.5009],\n",
       "         [0.0923, 0.6151],\n",
       "         [0.1794, 0.2279],\n",
       "         [0.9858, 0.3328],\n",
       "         [0.7548, 0.8217],\n",
       "         [0.2500, 0.0546],\n",
       "         [0.2648, 0.3524],\n",
       "         [0.9853, 0.3054],\n",
       "         [0.5371, 0.6696]],\n",
       "\n",
       "        [[0.7334, 0.8944],\n",
       "         [0.3859, 0.1035],\n",
       "         [0.1948, 0.9033],\n",
       "         [0.5854, 0.5692],\n",
       "         [0.3758, 0.5837],\n",
       "         [0.2569, 0.0938],\n",
       "         [0.9348, 0.7932],\n",
       "         [0.1991, 0.9768],\n",
       "         [0.4812, 0.2051],\n",
       "         [0.1437, 0.5160]]])"
      ]
     },
     "execution_count": null,
     "metadata": {},
     "output_type": "execute_result"
    }
   ],
   "source": [
    "b"
   ]
  },
  {
   "cell_type": "code",
   "execution_count": null,
   "metadata": {},
   "outputs": [
    {
     "data": {
      "text/plain": [
       "tensor([[[1.0482, 1.0482],\n",
       "         [0.7524, 0.7524],\n",
       "         [0.0919, 0.0919],\n",
       "         [0.8727, 0.8727],\n",
       "         [1.1201, 1.1201],\n",
       "         [0.9018, 0.9018],\n",
       "         [0.3178, 0.3178],\n",
       "         [0.9155, 0.9155],\n",
       "         [0.9525, 0.9525],\n",
       "         [0.8981, 0.8981]],\n",
       "\n",
       "        [[1.0482, 1.0482],\n",
       "         [0.7524, 0.7524],\n",
       "         [0.0919, 0.0919],\n",
       "         [0.8727, 0.8727],\n",
       "         [1.1201, 1.1201],\n",
       "         [0.9018, 0.9018],\n",
       "         [0.3178, 0.3178],\n",
       "         [0.9155, 0.9155],\n",
       "         [0.9525, 0.9525],\n",
       "         [0.8981, 0.8981]],\n",
       "\n",
       "        [[1.0482, 1.0482],\n",
       "         [0.7524, 0.7524],\n",
       "         [0.0919, 0.0919],\n",
       "         [0.8727, 0.8727],\n",
       "         [1.1201, 1.1201],\n",
       "         [0.9018, 0.9018],\n",
       "         [0.3178, 0.3178],\n",
       "         [0.9155, 0.9155],\n",
       "         [0.9525, 0.9525],\n",
       "         [0.8981, 0.8981]],\n",
       "\n",
       "        [[1.0482, 1.0482],\n",
       "         [0.7524, 0.7524],\n",
       "         [0.0919, 0.0919],\n",
       "         [0.8727, 0.8727],\n",
       "         [1.1201, 1.1201],\n",
       "         [0.9018, 0.9018],\n",
       "         [0.3178, 0.3178],\n",
       "         [0.9155, 0.9155],\n",
       "         [0.9525, 0.9525],\n",
       "         [0.8981, 0.8981]]])"
      ]
     },
     "execution_count": null,
     "metadata": {},
     "output_type": "execute_result"
    }
   ],
   "source": [
    "anorm = torch.linalg.norm(a, dim=-1)[:,None].repeat(4,1,2)\n",
    "anorm"
   ]
  },
  {
   "cell_type": "code",
   "execution_count": null,
   "metadata": {},
   "outputs": [
    {
     "data": {
      "text/plain": [
       "tensor([[[0.6617, 0.2060],\n",
       "         [0.2526, 0.3786],\n",
       "         [0.0468, 0.0036],\n",
       "         [0.2935, 0.5691],\n",
       "         [0.9044, 0.3127],\n",
       "         [0.6849, 0.1060],\n",
       "         [0.2929, 0.1458],\n",
       "         [0.3966, 0.2750],\n",
       "         [0.5429, 0.5152],\n",
       "         [0.2029, 0.3250]],\n",
       "\n",
       "        [[1.0288, 0.6312],\n",
       "         [0.5791, 0.6643],\n",
       "         [0.0736, 0.0267],\n",
       "         [0.2924, 0.7808],\n",
       "         [1.1160, 0.9664],\n",
       "         [0.8566, 0.3954],\n",
       "         [0.2238, 0.2080],\n",
       "         [0.7202, 0.0805],\n",
       "         [0.0434, 0.9295],\n",
       "         [0.0310, 0.1997]],\n",
       "\n",
       "        [[0.8267, 0.4719],\n",
       "         [0.6623, 0.3769],\n",
       "         [0.0085, 0.0565],\n",
       "         [0.1566, 0.1989],\n",
       "         [1.1042, 0.3727],\n",
       "         [0.6807, 0.7410],\n",
       "         [0.0794, 0.0174],\n",
       "         [0.2424, 0.3226],\n",
       "         [0.9385, 0.2909],\n",
       "         [0.4824, 0.6013]],\n",
       "\n",
       "        [[0.7688, 0.9375],\n",
       "         [0.2903, 0.0779],\n",
       "         [0.0179, 0.0830],\n",
       "         [0.5110, 0.4968],\n",
       "         [0.4210, 0.6539],\n",
       "         [0.2317, 0.0846],\n",
       "         [0.2970, 0.2521],\n",
       "         [0.1823, 0.8943],\n",
       "         [0.4584, 0.1953],\n",
       "         [0.1290, 0.4634]]])"
      ]
     },
     "execution_count": null,
     "metadata": {},
     "output_type": "execute_result"
    }
   ],
   "source": [
    "b * anorm"
   ]
  },
  {
   "cell_type": "code",
   "execution_count": null,
   "metadata": {},
   "outputs": [],
   "source": []
  },
  {
   "cell_type": "code",
   "execution_count": null,
   "metadata": {},
   "outputs": [],
   "source": [
    "#export\n",
    "import torch.nn.functional as F\n",
    "def affinity_from_flow(flows, directions_array, flow_strength = 1, sigma=1):\n",
    "  \"\"\"Compute probabilities of transition in the given directions based on the flow. \n",
    "\n",
    "  Parameters\n",
    "  ----------\n",
    "  flows : torch tensor of shape n_points x n_dims\n",
    "      _description_\n",
    "  directions_array : torch tensor of shape n_directions x n_points x n_dims. Assumed to be normalized.\n",
    "      _description_\n",
    "  sigma : int, optional\n",
    "      kernel bandwidth, by default 1\n",
    "  returns (n_points)\n",
    "  \"\"\"\n",
    "  assert len(flows.shape) == 2 # flows should only have one dimension\n",
    "  assert len(directions_array.shape) > 1 and len(directions_array.shape) < 4\n",
    "  n_directions = directions_array.shape[0]\n",
    "  # Normalize directions\n",
    "  length_of_directions = torch.linalg.norm(directions_array,dim=-1)\n",
    "  normed_directions = F.normalize(directions_array,dim=-1)\n",
    "  # and normalize flows # TODO: Perhaps reconsider\n",
    "  # Calculate flow lengths, used to scale directions to flow\n",
    "  # flow_lengths = torch.linalg.norm(flows,dim=-1)\n",
    "  if len(directions_array) == 1: # convert to 2d array if necessary\n",
    "    directions_array = directions_array[:,None] \n",
    "  # scale directions to have same norm as flow\n",
    "  # scaled_directions = normed_directions * flow_lengths[:,None].repeat(directions_array.shape[0],1,directions_array.shape[2])\n",
    "  # compute dot products as matrix multiplication\n",
    "  dot_products = (normed_directions * flows).sum(-1)\n",
    "  # take distance between flow projected onto direction and the direction\n",
    "  distance_from_flow = (torch.linalg.norm(flows,dim=1)).repeat(n_directions,1) - dot_products\n",
    "  # take absolute value\n",
    "  distance_from_flow = torch.abs(distance_from_flow)\n",
    "  # print('shape of dff',distance_from_flow.shape)\n",
    "  # add to this the length of each direction\n",
    "  distance_from_flow = flow_strength*distance_from_flow + length_of_directions\n",
    "  # put the points on rows, directions in columns\n",
    "  distance_from_flow = distance_from_flow.T\n",
    "  # take kernel of distances\n",
    "  kernel =  torch.exp(-distance_from_flow/sigma)\n",
    "  return kernel\n",
    "  \n",
    "  "
   ]
  },
  {
   "cell_type": "markdown",
   "metadata": {},
   "source": [
    "### A Sample Computation"
   ]
  },
  {
   "cell_type": "code",
   "execution_count": null,
   "metadata": {},
   "outputs": [],
   "source": [
    "flows = torch.rand(4,2) # Flows for each of 4 points\n",
    "directions_array = torch.rand(7,4,2) # 7 directions, for each of the four points"
   ]
  },
  {
   "cell_type": "code",
   "execution_count": null,
   "metadata": {},
   "outputs": [],
   "source": [
    "normed_directions = directions_array / torch.linalg.norm(directions_array,dim=-1)[:,:,None]"
   ]
  },
  {
   "cell_type": "code",
   "execution_count": null,
   "metadata": {},
   "outputs": [
    {
     "data": {
      "text/plain": [
       "tensor([[[0.4685, 0.8835],\n",
       "         [0.6949, 0.7191],\n",
       "         [0.6719, 0.7406],\n",
       "         [0.8264, 0.5631]],\n",
       "\n",
       "        [[0.7223, 0.6916],\n",
       "         [0.0237, 0.9997],\n",
       "         [0.5774, 0.8165],\n",
       "         [0.6267, 0.7793]],\n",
       "\n",
       "        [[0.9973, 0.0728],\n",
       "         [0.7189, 0.6951],\n",
       "         [0.6864, 0.7272],\n",
       "         [0.3710, 0.9286]],\n",
       "\n",
       "        [[0.4909, 0.8712],\n",
       "         [0.5468, 0.8373],\n",
       "         [0.7628, 0.6467],\n",
       "         [0.5665, 0.8241]],\n",
       "\n",
       "        [[0.0910, 0.9959],\n",
       "         [0.6018, 0.7987],\n",
       "         [0.7292, 0.6843],\n",
       "         [0.9155, 0.4024]],\n",
       "\n",
       "        [[0.5254, 0.8509],\n",
       "         [0.8800, 0.4750],\n",
       "         [0.7122, 0.7020],\n",
       "         [0.7936, 0.6084]],\n",
       "\n",
       "        [[0.8075, 0.5899],\n",
       "         [0.9500, 0.3123],\n",
       "         [0.9492, 0.3147],\n",
       "         [0.8428, 0.5383]]])"
      ]
     },
     "execution_count": null,
     "metadata": {},
     "output_type": "execute_result"
    }
   ],
   "source": [
    "import torch.nn.functional as F\n",
    "F.normalize(directions_array,dim=-1)"
   ]
  },
  {
   "cell_type": "code",
   "execution_count": null,
   "metadata": {},
   "outputs": [
    {
     "data": {
      "text/plain": [
       "tensor([[[0.4866, 0.9177],\n",
       "         [0.3354, 0.3470],\n",
       "         [0.8038, 0.8859],\n",
       "         [0.7855, 0.5352]],\n",
       "\n",
       "        [[0.7332, 0.7020],\n",
       "         [0.0159, 0.6678],\n",
       "         [0.6586, 0.9312],\n",
       "         [0.1737, 0.2160]],\n",
       "\n",
       "        [[0.7872, 0.0575],\n",
       "         [0.8306, 0.8032],\n",
       "         [0.7186, 0.7612],\n",
       "         [0.3315, 0.8299]],\n",
       "\n",
       "        [[0.2795, 0.4961],\n",
       "         [0.4603, 0.7047],\n",
       "         [0.4675, 0.3963],\n",
       "         [0.5629, 0.8188]],\n",
       "\n",
       "        [[0.0675, 0.7385],\n",
       "         [0.7202, 0.9559],\n",
       "         [0.2594, 0.2434],\n",
       "         [0.6147, 0.2702]],\n",
       "\n",
       "        [[0.5683, 0.9204],\n",
       "         [0.8045, 0.4342],\n",
       "         [0.8849, 0.8722],\n",
       "         [0.9338, 0.7159]],\n",
       "\n",
       "        [[0.4523, 0.3304],\n",
       "         [0.9496, 0.3121],\n",
       "         [0.7522, 0.2493],\n",
       "         [0.4636, 0.2961]]])"
      ]
     },
     "execution_count": null,
     "metadata": {},
     "output_type": "execute_result"
    }
   ],
   "source": [
    "directions_array"
   ]
  },
  {
   "cell_type": "code",
   "execution_count": null,
   "metadata": {},
   "outputs": [
    {
     "data": {
      "text/plain": [
       "torch.Size([7, 4, 2])"
      ]
     },
     "execution_count": null,
     "metadata": {},
     "output_type": "execute_result"
    }
   ],
   "source": [
    "normed_directions.shape"
   ]
  },
  {
   "cell_type": "code",
   "execution_count": null,
   "metadata": {},
   "outputs": [
    {
     "data": {
      "text/plain": [
       "array([[1.        , 1.        , 1.        , 1.        ],\n",
       "       [0.99999994, 1.        , 0.99999994, 1.        ],\n",
       "       [0.99999994, 1.        , 0.99999994, 1.        ],\n",
       "       [1.        , 1.        , 1.        , 1.        ],\n",
       "       [1.        , 1.        , 0.99999994, 1.        ],\n",
       "       [1.        , 1.        , 1.        , 1.        ],\n",
       "       [0.99999994, 1.        , 1.        , 1.        ]], dtype=float32)"
      ]
     },
     "execution_count": null,
     "metadata": {},
     "output_type": "execute_result"
    }
   ],
   "source": [
    "np.linalg.norm(normed_directions,axis=-1)"
   ]
  },
  {
   "cell_type": "markdown",
   "metadata": {},
   "source": [
    "Next, take a dot product between the directions and the flow, to get a strength of flow at each point in each direction"
   ]
  },
  {
   "cell_type": "code",
   "execution_count": null,
   "metadata": {},
   "outputs": [
    {
     "data": {
      "text/plain": [
       "torch.Size([7, 4])"
      ]
     },
     "execution_count": null,
     "metadata": {},
     "output_type": "execute_result"
    }
   ],
   "source": [
    "dot_products = (directions_array * flows).sum(-1)\n",
    "dot_products.shape"
   ]
  },
  {
   "cell_type": "markdown",
   "metadata": {},
   "source": [
    "Convert these dot products into distances by subtracting the norm squared of the flows from the dot product with the flow. If exactly with the flow, we get zero."
   ]
  },
  {
   "cell_type": "code",
   "execution_count": null,
   "metadata": {},
   "outputs": [
    {
     "data": {
      "text/plain": [
       "tensor([[ 0.4536,  0.5778, -0.0321, -0.1119],\n",
       "        [ 0.3982,  0.8720, -0.0475,  0.2104],\n",
       "        [ 0.9067,  0.0918,  0.1065, -0.1729],\n",
       "        [ 1.0254,  0.4476,  0.5125, -0.2203],\n",
       "        [ 1.0235,  0.1922,  0.7032,  0.0774],\n",
       "        [ 0.3706,  0.1282, -0.0348, -0.2483],\n",
       "        [ 0.9993, -0.0061,  0.5995,  0.0978]])"
      ]
     },
     "execution_count": null,
     "metadata": {},
     "output_type": "execute_result"
    }
   ],
   "source": [
    "distance_from_flow = (torch.linalg.norm(flows,dim=1)**2).repeat(7,1) - dot_products\n",
    "distance_from_flow"
   ]
  },
  {
   "cell_type": "markdown",
   "metadata": {},
   "source": [
    "### Testing"
   ]
  },
  {
   "cell_type": "markdown",
   "metadata": {},
   "source": [
    "To ensure this is working as expected, we'll try computations on a single sample point, with flow going in direction (1,1). We'll compare this with six directions: one with, one against, and the rest in the shape of a grid."
   ]
  },
  {
   "cell_type": "code",
   "execution_count": null,
   "metadata": {},
   "outputs": [],
   "source": [
    "flow = torch.tensor([[1,1]]).float()\n",
    "directions = torch.tensor([\n",
    "  [[0.7,0.7]],\n",
    "  [[0,1]],\n",
    "  [[1,0]],\n",
    "  [[0,-1]],\n",
    "  [[-1,0]],\n",
    "  [[-0.7,-0.7]]\n",
    "]).float()\n",
    "probs = affinity_from_flow(flow,directions,sigma=0.5)"
   ]
  },
  {
   "cell_type": "code",
   "execution_count": null,
   "metadata": {},
   "outputs": [
    {
     "data": {
      "text/plain": [
       "tensor([[0.1381, 0.0591, 0.0591, 0.0011, 0.0011, 0.0005]])"
      ]
     },
     "execution_count": null,
     "metadata": {},
     "output_type": "execute_result"
    }
   ],
   "source": [
    "probs"
   ]
  },
  {
   "cell_type": "markdown",
   "metadata": {},
   "source": [
    "If this went according to plan, the direction with the flow should have probability 1, and the one against should have probability near zero."
   ]
  },
  {
   "cell_type": "code",
   "execution_count": null,
   "metadata": {},
   "outputs": [
    {
     "data": {
      "text/plain": [
       "[<matplotlib.lines.Line2D at 0x177224d00>]"
      ]
     },
     "execution_count": null,
     "metadata": {},
     "output_type": "execute_result"
    },
    {
     "data": {
      "image/png": "[encoded data removed]",
      "text/plain": [
       "<Figure size 432x288 with 1 Axes>"
      ]
     },
     "metadata": {
      "needs_background": "light"
     },
     "output_type": "display_data"
    }
   ],
   "source": [
    "import matplotlib.pyplot as plt\n",
    "plt.plot(probs[0])"
   ]
  },
  {
   "cell_type": "markdown",
   "metadata": {},
   "source": [
    "$\\sigma=0.5$ works well here. In particular, the 45 degree angles have fairly high probability, while still being less than the probability of going straight."
   ]
  },
  {
   "cell_type": "markdown",
   "metadata": {},
   "source": [
    "This should look like a 3-dimensional pacman"
   ]
  },
  {
   "cell_type": "code",
   "execution_count": null,
   "metadata": {},
   "outputs": [],
   "source": [
    "flow = torch.tensor([[1,1]]).float()\n",
    "x, y = np.meshgrid(np.linspace(-5,5,20),np.linspace(-5,5,20))\n",
    "x = torch.tensor(x,dtype=float).cpu()\n",
    "y = torch.tensor(y,dtype=float).cpu()\n",
    "xy_t = torch.concat([x[:,:,None],y[:,:,None]],dim=2).float()"
   ]
  },
  {
   "cell_type": "code",
   "execution_count": null,
   "metadata": {},
   "outputs": [],
   "source": [
    "directions_array = xy_t.reshape(400,1,2)\n",
    "flows = affinity_from_flow(flow, directions_array,flow_strength=2)"
   ]
  },
  {
   "cell_type": "code",
   "execution_count": null,
   "metadata": {},
   "outputs": [],
   "source": [
    "length_of_directions = torch.linalg.norm(directions_array,dim=-1)\n",
    "normed_directions = directions_array / length_of_directions[:,:,None]"
   ]
  },
  {
   "cell_type": "code",
   "execution_count": null,
   "metadata": {},
   "outputs": [
    {
     "data": {
      "text/plain": [
       "torch.Size([400, 1, 2])"
      ]
     },
     "execution_count": null,
     "metadata": {},
     "output_type": "execute_result"
    }
   ],
   "source": [
    "normed_directions.shape"
   ]
  },
  {
   "cell_type": "code",
   "execution_count": null,
   "metadata": {},
   "outputs": [],
   "source": [
    "flows = flows.reshape(20,20)"
   ]
  },
  {
   "cell_type": "code",
   "execution_count": null,
   "metadata": {},
   "outputs": [
    {
     "data": {
      "text/plain": [
       "<matplotlib.image.AxesImage at 0x179cd9e50>"
      ]
     },
     "execution_count": null,
     "metadata": {},
     "output_type": "execute_result"
    },
    {
     "data": {
      "image/png": "[encoded data removed]",
      "text/plain": [
       "<Figure size 432x288 with 1 Axes>"
      ]
     },
     "metadata": {
      "needs_background": "light"
     },
     "output_type": "display_data"
    }
   ],
   "source": [
    "plt.imshow(flows)"
   ]
  },
  {
   "cell_type": "code",
   "execution_count": null,
   "metadata": {},
   "outputs": [
    {
     "data": {
      "image/png": "[encoded data removed]",
      "text/plain": [
       "<Figure size 432x288 with 1 Axes>"
      ]
     },
     "metadata": {
      "needs_background": "light"
     },
     "output_type": "display_data"
    }
   ],
   "source": [
    "# fig = plt.figure()\n",
    "# ax = fig.add_subplot(111, projection='3d')\n",
    "\n",
    "# ax.plot_surface(x,y,flows)\n",
    "\n",
    "# ax.set_xlabel('X Label')\n",
    "# ax.set_ylabel('Y Label')\n",
    "# ax.set_zlabel('Z Label')\n",
    "\n",
    "# plt.show()"
   ]
  },
  {
   "cell_type": "code",
   "execution_count": null,
   "metadata": {},
   "outputs": [
    {
     "data": {
      "text/plain": [
       "tensor(0.6892)"
      ]
     },
     "execution_count": null,
     "metadata": {},
     "output_type": "execute_result"
    }
   ],
   "source": [
    "torch.max(flows)"
   ]
  },
  {
   "cell_type": "code",
   "execution_count": null,
   "metadata": {},
   "outputs": [],
   "source": [
    "X = np.column_stack([x.reshape(400),y.reshape(400),flows.reshape(400)*4])"
   ]
  },
  {
   "cell_type": "code",
   "execution_count": null,
   "metadata": {},
   "outputs": [
    {
     "data": {
      "application/vnd.plotly.v1+json": {
       "config": {
        "plotlyServerURL": "https://plot.ly"
       },
       "data": [
        {
         "hovertemplate": "x=%{x}<br>y=%{y}<br>z=%{z}<br>colors=%{marker.color}<extra></extra>",
         "legendgroup": "",
         "marker": {
          "color": [
           2.9671091397176497e-06,
           4.279238964954857e-06,
           6.0961128838243894e-06,
           8.57414306665305e-06,
           1.1901431207661517e-05,
           1.6294980014208704e-05,
           2.1986867068335414e-05,
           2.9186760002630763e-05,
           3.800392369157635e-05,
           4.831829573959112e-05,
           5.962326758890413e-05,
           7.091912993928418e-05,
           8.077667007455602e-05,
           8.764261292526498e-05,
           9.030585351865739e-05,
           8.830557635519654e-05,
           8.206295751733705e-05,
           7.269182242453098e-05,
           6.1618018662557e-05,
           5.0200022087665275e-05,
           4.279238964954857e-06,
           6.245816166483564e-06,
           9.006644177134149e-06,
           1.2828153558075428e-05,
           1.8045553588308394e-05,
           2.5072939024539664e-05,
           3.4402481105644256e-05,
           4.656502278521657e-05,
           6.200010102475062e-05,
           8.077543316176161e-05,
           0.00010216212103841826,
           0.00012424778833519667,
           0.0001439571351511404,
           0.00015776829968672246,
           0.0001629331090953201,
           0.0001585237478138879,
           0.000145684476592578,
           0.00012703324318863451,
           0.00010567181743681431,
           8.433026960119605e-05,
           6.0961128838243894e-06,
           9.006644177134149e-06,
           1.3147538993507624e-05,
           1.895957757369615e-05,
           2.701863195397891e-05,
           3.808127439697273e-05,
           5.3138825023779646e-05,
           7.343276956817135e-05,
           0.00010029816621681675,
           0.00013460499758366495,
           0.00017563722212798893,
           0.00021977696451358497,
           0.0002601558808237314,
           0.0002884294372051954,
           0.0002981825964525342,
           0.00028771787765435874,
           0.000260351225733757,
           0.00022244101273827255,
           0.00018078600987792015,
           0.00014077775995247066,
           8.57414306665305e-06,
           1.2828153558075428e-05,
           1.895957757369615e-05,
           2.7675772798829712e-05,
           3.992523852502927e-05,
           5.701915142708458e-05,
           8.083916327450424e-05,
           0.00011409927537897602,
           0.00016039145702961832,
           0.00022327904298435897,
           0.0003034475666936487,
           0.00039427782758139074,
           0.0004796155553776771,
           0.000538539607077837,
           0.0005556991090998054,
           0.0005288884276524186,
           0.0004682417493313551,
           0.00038957863580435514,
           0.0003076840075664222,
           0.0002327536349184811,
           1.1901431207661517e-05,
           1.8045553588308394e-05,
           2.701863195397891e-05,
           3.992523852502927e-05,
           5.8257926866644993e-05,
           8.414292824454606e-05,
           0.00012088626681361347,
           0.0001739895815262571,
           0.00025236079818569124,
           0.0003678046923596412,
           0.0005283160135149956,
           0.00072294200072065,
           0.0009106943616643548,
           0.0010352027602493763,
           0.001059410860762,
           0.0009856560500338674,
           0.0008460290264338255,
           0.0006800362025387585,
           0.0005186244379729033,
           0.00037931380211375654,
           1.6294980014208704e-05,
           2.5072939024539664e-05,
           3.808127439697273e-05,
           5.701915142708458e-05,
           8.414292824454606e-05,
           0.0001226338354172185,
           0.00017768927500583231,
           0.00025933125289157033,
           0.00038789183599874377,
           0.0005991168436594307,
           0.0009318606462329626,
           0.0013742140727117658,
           0.0018092693062499166,
           0.0020710236858576536,
           0.0020748211536556482,
           0.0018600262701511383,
           0.0015286740381270647,
           0.001175789162516594,
           0.0008600066648796201,
           0.0006053508841432631,
           2.1986867068335414e-05,
           3.4402481105644256e-05,
           5.3138825023779646e-05,
           8.083916327450424e-05,
           0.00012088626681361347,
           0.00017768927500583231,
           0.00025814634864218533,
           0.0003774244396481663,
           0.000576401362195611,
           0.0009567425004206598,
           0.001684493152424693,
           0.002786331344395876,
           0.003859616117551923,
           0.004367530811578035,
           0.004177403170615435,
           0.00353156472556293,
           0.002736256457865238,
           0.0019934873562306166,
           0.0013896969612687826,
           0.0009380633709952235,
           2.9186760002630763e-05,
           4.656502278521657e-05,
           7.343276956817135e-05,
           0.00011409927537897602,
           0.0001739895815262571,
           0.00025933125289157033,
           0.0003774244396481663,
           0.0005434018094092607,
           0.0008194592664949596,
           0.0014682731125503778,
           0.0032173299696296453,
           0.0064165000803768635,
           0.009193723089993,
           0.009782048873603344,
           0.008558977395296097,
           0.00663730688393116,
           0.0047716679982841015,
           0.0032652884256094694,
           0.002160969190299511,
           0.0013969041174277663,
           3.800392369157635e-05,
           6.200010102475062e-05,
           0.00010029816621681675,
           0.00016039145702961832,
           0.00025236079818569124,
           0.00038789183599874377,
           0.000576401362195611,
           0.0008194592664949596,
           0.001143869711086154,
           0.0020489501766860485,
           0.007258978672325611,
           0.019352929666638374,
           0.02530144713819027,
           0.022774212062358856,
           0.017248140648007393,
           0.011967074126005173,
           0.007904458791017532,
           0.005066830199211836,
           0.003185200970619917,
           0.0019758245907723904,
           4.831829573959112e-05,
           8.077543316176161e-05,
           0.00013460499758366495,
           0.00022327904298435897,
           0.0003678046923596412,
           0.0005991168436594307,
           0.0009567425004206598,
           0.0014682731125503778,
           0.0020489501766860485,
           0.0024078632704913616,
           0.04073822498321533,
           0.09110940247774124,
           0.074173703789711,
           0.050178032368421555,
           0.031920116394758224,
           0.019754262641072273,
           0.01204783283174038,
           0.007284363731741905,
           0.004379851743578911,
           0.0026235426776111126,
           5.962326758890413e-05,
           0.00010216212103841826,
           0.00017563722212798893,
           0.0003034475666936487,
           0.0005283160135149956,
           0.0009318606462329626,
           0.001684493152424693,
           0.0032173299696296453,
           0.007258978672325611,
           0.04073822498321533,
           0.689242959022522,
           0.3227803111076355,
           0.16253192722797394,
           0.08834614604711533,
           0.0496482253074646,
           0.02837510220706463,
           0.016373610123991966,
           0.009504883550107479,
           0.005539493169635534,
           0.003237369703128934,
           7.091912993928418e-05,
           0.00012424778833519667,
           0.00021977696451358497,
           0.00039427782758139074,
           0.00072294200072065,
           0.0013742140727117658,
           0.002786331344395876,
           0.0064165000803768635,
           0.019352929666638374,
           0.09110940247774124,
           0.3227803111076355,
           0.3274288773536682,
           0.19811441004276276,
           0.11009085923433304,
           0.06110631674528122,
           0.03428228572010994,
           0.019430913031101227,
           0.011102610267698765,
           0.006383117754012346,
           0.003687086747959256,
           8.077667007455602e-05,
           0.0001439571351511404,
           0.0002601558808237314,
           0.0004796155553776771,
           0.0009106943616643548,
           0.0018092693062499166,
           0.003859616117551923,
           0.009193723089993,
           0.02530144713819027,
           0.074173703789711,
           0.16253192722797394,
           0.19811441004276276,
           0.15554700791835785,
           0.10003314167261124,
           0.059713151305913925,
           0.034740909934043884,
           0.02005767822265625,
           0.011568186804652214,
           0.006680693477392197,
           0.003866042708978057,
           8.764261292526498e-05,
           0.00015776829968672246,
           0.0002884294372051954,
           0.000538539607077837,
           0.0010352027602493763,
           0.0020710236858576536,
           0.004367530811578035,
           0.009782048873603344,
           0.022774212062358856,
           0.050178032368421555,
           0.08834614604711533,
           0.11009085923433304,
           0.10003314167261124,
           0.07389351725578308,
           0.048688940703868866,
           0.030242349952459335,
           0.0182285625487566,
           0.010820334777235985,
           0.006373096723109484,
           0.0037392452359199524,
           9.030585351865739e-05,
           0.0001629331090953201,
           0.0002981825964525342,
           0.0005556991090998054,
           0.001059410860762,
           0.0020748211536556482,
           0.004177403170615435,
           0.008558977395296097,
           0.017248140648007393,
           0.031920116394758224,
           0.0496482253074646,
           0.06110631674528122,
           0.059713151305913925,
           0.048688940703868866,
           0.03510354459285736,
           0.023418866097927094,
           0.014898194000124931,
           0.009206617251038551,
           0.005588639993220568,
           0.0033548215869814157,
           8.830557635519654e-05,
           0.0001585237478138879,
           0.00028771787765435874,
           0.0005288884276524186,
           0.0009856560500338674,
           0.0018600262701511383,
           0.00353156472556293,
           0.00663730688393116,
           0.011967074126005173,
           0.019754262641072273,
           0.02837510220706463,
           0.03428228572010994,
           0.034740909934043884,
           0.030242349952459335,
           0.023418866097927094,
           0.01667614094913006,
           0.011207320727407932,
           0.007241623476147652,
           0.004555930383503437,
           0.0028144116513431072,
           8.206295751733705e-05,
           0.000145684476592578,
           0.000260351225733757,
           0.0004682417493313551,
           0.0008460290264338255,
           0.0015286740381270647,
           0.002736256457865238,
           0.0047716679982841015,
           0.007904458791017532,
           0.01204783283174038,
           0.016373610123991966,
           0.019430913031101227,
           0.02005767822265625,
           0.0182285625487566,
           0.014898194000124931,
           0.011207320727407932,
           0.007922099903225899,
           0.005349656566977501,
           0.0034942510537803173,
           0.0022276805248111486,
           7.269182242453098e-05,
           0.00012703324318863451,
           0.00022244101273827255,
           0.00038957863580435514,
           0.0006800362025387585,
           0.001175789162516594,
           0.0019934873562306166,
           0.0032652884256094694,
           0.005066830199211836,
           0.007284363731741905,
           0.009504883550107479,
           0.011102610267698765,
           0.011568186804652214,
           0.010820334777235985,
           0.009206617251038551,
           0.007241623476147652,
           0.005349656566977501,
           0.0037634402979165316,
           0.0025498769246041775,
           0.0016786742489784956,
           6.1618018662557e-05,
           0.00010567181743681431,
           0.00018078600987792015,
           0.0003076840075664222,
           0.0005186244379729033,
           0.0008600066648796201,
           0.0013896969612687826,
           0.002160969190299511,
           0.003185200970619917,
           0.004379851743578911,
           0.005539493169635534,
           0.006383117754012346,
           0.006680693477392197,
           0.006373096723109484,
           0.005588639993220568,
           0.004555930383503437,
           0.0034942510537803173,
           0.0025498769246041775,
           0.0017878436483442783,
           0.0012142962077632546,
           5.0200022087665275e-05,
           8.433026960119605e-05,
           0.00014077775995247066,
           0.0002327536349184811,
           0.00037931380211375654,
           0.0006053508841432631,
           0.0009380633709952235,
           0.0013969041174277663,
           0.0019758245907723904,
           0.0026235426776111126,
           0.003237369703128934,
           0.003687086747959256,
           0.003866042708978057,
           0.0037392452359199524,
           0.0033548215869814157,
           0.0028144116513431072,
           0.0022276805248111486,
           0.0016786742489784956,
           0.0012142962077632546,
           0.0008493257337249815
          ],
          "coloraxis": "coloraxis",
          "symbol": "circle"
         },
         "mode": "markers",
         "name": "",
         "scene": "scene",
         "showlegend": false,
         "type": "scatter3d",
         "x": [
          -5,
          -4.473684210526316,
          -3.947368421052632,
          -3.4210526315789473,
          -2.8947368421052633,
          -2.368421052631579,
          -1.8421052631578947,
          -1.3157894736842106,
          -0.7894736842105265,
          -0.2631578947368425,
          0.2631578947368416,
          0.7894736842105257,
          1.3157894736842106,
          1.8421052631578947,
          2.3684210526315788,
          2.894736842105263,
          3.421052631578947,
          3.947368421052632,
          4.473684210526315,
          5,
          -5,
          -4.473684210526316,
          -3.947368421052632,
          -3.4210526315789473,
          -2.8947368421052633,
          -2.368421052631579,
          -1.8421052631578947,
          -1.3157894736842106,
          -0.7894736842105265,
          -0.2631578947368425,
          0.2631578947368416,
          0.7894736842105257,
          1.3157894736842106,
          1.8421052631578947,
          2.3684210526315788,
          2.894736842105263,
          3.421052631578947,
          3.947368421052632,
          4.473684210526315,
          5,
          -5,
          -4.473684210526316,
          -3.947368421052632,
          -3.4210526315789473,
          -2.8947368421052633,
          -2.368421052631579,
          -1.8421052631578947,
          -1.3157894736842106,
          -0.7894736842105265,
          -0.2631578947368425,
          0.2631578947368416,
          0.7894736842105257,
          1.3157894736842106,
          1.8421052631578947,
          2.3684210526315788,
          2.894736842105263,
          3.421052631578947,
          3.947368421052632,
          4.473684210526315,
          5,
          -5,
          -4.473684210526316,
          -3.947368421052632,
          -3.4210526315789473,
          -2.8947368421052633,
          -2.368421052631579,
          -1.8421052631578947,
          -1.3157894736842106,
          -0.7894736842105265,
          -0.2631578947368425,
          0.2631578947368416,
          0.7894736842105257,
          1.3157894736842106,
          1.8421052631578947,
          2.3684210526315788,
          2.894736842105263,
          3.421052631578947,
          3.947368421052632,
          4.473684210526315,
          5,
          -5,
          -4.473684210526316,
          -3.947368421052632,
          -3.4210526315789473,
          -2.8947368421052633,
          -2.368421052631579,
          -1.8421052631578947,
          -1.3157894736842106,
          -0.7894736842105265,
          -0.2631578947368425,
          0.2631578947368416,
          0.7894736842105257,
          1.3157894736842106,
          1.8421052631578947,
          2.3684210526315788,
          2.894736842105263,
          3.421052631578947,
          3.947368421052632,
          4.473684210526315,
          5,
          -5,
          -4.473684210526316,
          -3.947368421052632,
          -3.4210526315789473,
          -2.8947368421052633,
          -2.368421052631579,
          -1.8421052631578947,
          -1.3157894736842106,
          -0.7894736842105265,
          -0.2631578947368425,
          0.2631578947368416,
          0.7894736842105257,
          1.3157894736842106,
          1.8421052631578947,
          2.3684210526315788,
          2.894736842105263,
          3.421052631578947,
          3.947368421052632,
          4.473684210526315,
          5,
          -5,
          -4.473684210526316,
          -3.947368421052632,
          -3.4210526315789473,
          -2.8947368421052633,
          -2.368421052631579,
          -1.8421052631578947,
          -1.3157894736842106,
          -0.7894736842105265,
          -0.2631578947368425,
          0.2631578947368416,
          0.7894736842105257,
          1.3157894736842106,
          1.8421052631578947,
          2.3684210526315788,
          2.894736842105263,
          3.421052631578947,
          3.947368421052632,
          4.473684210526315,
          5,
          -5,
          -4.473684210526316,
          -3.947368421052632,
          -3.4210526315789473,
          -2.8947368421052633,
          -2.368421052631579,
          -1.8421052631578947,
          -1.3157894736842106,
          -0.7894736842105265,
          -0.2631578947368425,
          0.2631578947368416,
          0.7894736842105257,
          1.3157894736842106,
          1.8421052631578947,
          2.3684210526315788,
          2.894736842105263,
          3.421052631578947,
          3.947368421052632,
          4.473684210526315,
          5,
          -5,
          -4.473684210526316,
          -3.947368421052632,
          -3.4210526315789473,
          -2.8947368421052633,
          -2.368421052631579,
          -1.8421052631578947,
          -1.3157894736842106,
          -0.7894736842105265,
          -0.2631578947368425,
          0.2631578947368416,
          0.7894736842105257,
          1.3157894736842106,
          1.8421052631578947,
          2.3684210526315788,
          2.894736842105263,
          3.421052631578947,
          3.947368421052632,
          4.473684210526315,
          5,
          -5,
          -4.473684210526316,
          -3.947368421052632,
          -3.4210526315789473,
          -2.8947368421052633,
          -2.368421052631579,
          -1.8421052631578947,
          -1.3157894736842106,
          -0.7894736842105265,
          -0.2631578947368425,
          0.2631578947368416,
          0.7894736842105257,
          1.3157894736842106,
          1.8421052631578947,
          2.3684210526315788,
          2.894736842105263,
          3.421052631578947,
          3.947368421052632,
          4.473684210526315,
          5,
          -5,
          -4.473684210526316,
          -3.947368421052632,
          -3.4210526315789473,
          -2.8947368421052633,
          -2.368421052631579,
          -1.8421052631578947,
          -1.3157894736842106,
          -0.7894736842105265,
          -0.2631578947368425,
          0.2631578947368416,
          0.7894736842105257,
          1.3157894736842106,
          1.8421052631578947,
          2.3684210526315788,
          2.894736842105263,
          3.421052631578947,
          3.947368421052632,
          4.473684210526315,
          5,
          -5,
          -4.473684210526316,
          -3.947368421052632,
          -3.4210526315789473,
          -2.8947368421052633,
          -2.368421052631579,
          -1.8421052631578947,
          -1.3157894736842106,
          -0.7894736842105265,
          -0.2631578947368425,
          0.2631578947368416,
          0.7894736842105257,
          1.3157894736842106,
          1.8421052631578947,
          2.3684210526315788,
          2.894736842105263,
          3.421052631578947,
          3.947368421052632,
          4.473684210526315,
          5,
          -5,
          -4.473684210526316,
          -3.947368421052632,
          -3.4210526315789473,
          -2.8947368421052633,
          -2.368421052631579,
          -1.8421052631578947,
          -1.3157894736842106,
          -0.7894736842105265,
          -0.2631578947368425,
          0.2631578947368416,
          0.7894736842105257,
          1.3157894736842106,
          1.8421052631578947,
          2.3684210526315788,
          2.894736842105263,
          3.421052631578947,
          3.947368421052632,
          4.473684210526315,
          5,
          -5,
          -4.473684210526316,
          -3.947368421052632,
          -3.4210526315789473,
          -2.8947368421052633,
          -2.368421052631579,
          -1.8421052631578947,
          -1.3157894736842106,
          -0.7894736842105265,
          -0.2631578947368425,
          0.2631578947368416,
          0.7894736842105257,
          1.3157894736842106,
          1.8421052631578947,
          2.3684210526315788,
          2.894736842105263,
          3.421052631578947,
          3.947368421052632,
          4.473684210526315,
          5,
          -5,
          -4.473684210526316,
          -3.947368421052632,
          -3.4210526315789473,
          -2.8947368421052633,
          -2.368421052631579,
          -1.8421052631578947,
          -1.3157894736842106,
          -0.7894736842105265,
          -0.2631578947368425,
          0.2631578947368416,
          0.7894736842105257,
          1.3157894736842106,
          1.8421052631578947,
          2.3684210526315788,
          2.894736842105263,
          3.421052631578947,
          3.947368421052632,
          4.473684210526315,
          5,
          -5,
          -4.473684210526316,
          -3.947368421052632,
          -3.4210526315789473,
          -2.8947368421052633,
          -2.368421052631579,
          -1.8421052631578947,
          -1.3157894736842106,
          -0.7894736842105265,
          -0.2631578947368425,
          0.2631578947368416,
          0.7894736842105257,
          1.3157894736842106,
          1.8421052631578947,
          2.3684210526315788,
          2.894736842105263,
          3.421052631578947,
          3.947368421052632,
          4.473684210526315,
          5,
          -5,
          -4.473684210526316,
          -3.947368421052632,
          -3.4210526315789473,
          -2.8947368421052633,
          -2.368421052631579,
          -1.8421052631578947,
          -1.3157894736842106,
          -0.7894736842105265,
          -0.2631578947368425,
          0.2631578947368416,
          0.7894736842105257,
          1.3157894736842106,
          1.8421052631578947,
          2.3684210526315788,
          2.894736842105263,
          3.421052631578947,
          3.947368421052632,
          4.473684210526315,
          5,
          -5,
          -4.473684210526316,
          -3.947368421052632,
          -3.4210526315789473,
          -2.8947368421052633,
          -2.368421052631579,
          -1.8421052631578947,
          -1.3157894736842106,
          -0.7894736842105265,
          -0.2631578947368425,
          0.2631578947368416,
          0.7894736842105257,
          1.3157894736842106,
          1.8421052631578947,
          2.3684210526315788,
          2.894736842105263,
          3.421052631578947,
          3.947368421052632,
          4.473684210526315,
          5,
          -5,
          -4.473684210526316,
          -3.947368421052632,
          -3.4210526315789473,
          -2.8947368421052633,
          -2.368421052631579,
          -1.8421052631578947,
          -1.3157894736842106,
          -0.7894736842105265,
          -0.2631578947368425,
          0.2631578947368416,
          0.7894736842105257,
          1.3157894736842106,
          1.8421052631578947,
          2.3684210526315788,
          2.894736842105263,
          3.421052631578947,
          3.947368421052632,
          4.473684210526315,
          5,
          -5,
          -4.473684210526316,
          -3.947368421052632,
          -3.4210526315789473,
          -2.8947368421052633,
          -2.368421052631579,
          -1.8421052631578947,
          -1.3157894736842106,
          -0.7894736842105265,
          -0.2631578947368425,
          0.2631578947368416,
          0.7894736842105257,
          1.3157894736842106,
          1.8421052631578947,
          2.3684210526315788,
          2.894736842105263,
          3.421052631578947,
          3.947368421052632,
          4.473684210526315,
          5
         ],
         "y": [
          -5,
          -5,
          -5,
          -5,
          -5,
          -5,
          -5,
          -5,
          -5,
          -5,
          -5,
          -5,
          -5,
          -5,
          -5,
          -5,
          -5,
          -5,
          -5,
          -5,
          -4.473684210526316,
          -4.473684210526316,
          -4.473684210526316,
          -4.473684210526316,
          -4.473684210526316,
          -4.473684210526316,
          -4.473684210526316,
          -4.473684210526316,
          -4.473684210526316,
          -4.473684210526316,
          -4.473684210526316,
          -4.473684210526316,
          -4.473684210526316,
          -4.473684210526316,
          -4.473684210526316,
          -4.473684210526316,
          -4.473684210526316,
          -4.473684210526316,
          -4.473684210526316,
          -4.473684210526316,
          -3.947368421052632,
          -3.947368421052632,
          -3.947368421052632,
          -3.947368421052632,
          -3.947368421052632,
          -3.947368421052632,
          -3.947368421052632,
          -3.947368421052632,
          -3.947368421052632,
          -3.947368421052632,
          -3.947368421052632,
          -3.947368421052632,
          -3.947368421052632,
          -3.947368421052632,
          -3.947368421052632,
          -3.947368421052632,
          -3.947368421052632,
          -3.947368421052632,
          -3.947368421052632,
          -3.947368421052632,
          -3.4210526315789473,
          -3.4210526315789473,
          -3.4210526315789473,
          -3.4210526315789473,
          -3.4210526315789473,
          -3.4210526315789473,
          -3.4210526315789473,
          -3.4210526315789473,
          -3.4210526315789473,
          -3.4210526315789473,
          -3.4210526315789473,
          -3.4210526315789473,
          -3.4210526315789473,
          -3.4210526315789473,
          -3.4210526315789473,
          -3.4210526315789473,
          -3.4210526315789473,
          -3.4210526315789473,
          -3.4210526315789473,
          -3.4210526315789473,
          -2.8947368421052633,
          -2.8947368421052633,
          -2.8947368421052633,
          -2.8947368421052633,
          -2.8947368421052633,
          -2.8947368421052633,
          -2.8947368421052633,
          -2.8947368421052633,
          -2.8947368421052633,
          -2.8947368421052633,
          -2.8947368421052633,
          -2.8947368421052633,
          -2.8947368421052633,
          -2.8947368421052633,
          -2.8947368421052633,
          -2.8947368421052633,
          -2.8947368421052633,
          -2.8947368421052633,
          -2.8947368421052633,
          -2.8947368421052633,
          -2.368421052631579,
          -2.368421052631579,
          -2.368421052631579,
          -2.368421052631579,
          -2.368421052631579,
          -2.368421052631579,
          -2.368421052631579,
          -2.368421052631579,
          -2.368421052631579,
          -2.368421052631579,
          -2.368421052631579,
          -2.368421052631579,
          -2.368421052631579,
          -2.368421052631579,
          -2.368421052631579,
          -2.368421052631579,
          -2.368421052631579,
          -2.368421052631579,
          -2.368421052631579,
          -2.368421052631579,
          -1.8421052631578947,
          -1.8421052631578947,
          -1.8421052631578947,
          -1.8421052631578947,
          -1.8421052631578947,
          -1.8421052631578947,
          -1.8421052631578947,
          -1.8421052631578947,
          -1.8421052631578947,
          -1.8421052631578947,
          -1.8421052631578947,
          -1.8421052631578947,
          -1.8421052631578947,
          -1.8421052631578947,
          -1.8421052631578947,
          -1.8421052631578947,
          -1.8421052631578947,
          -1.8421052631578947,
          -1.8421052631578947,
          -1.8421052631578947,
          -1.3157894736842106,
          -1.3157894736842106,
          -1.3157894736842106,
          -1.3157894736842106,
          -1.3157894736842106,
          -1.3157894736842106,
          -1.3157894736842106,
          -1.3157894736842106,
          -1.3157894736842106,
          -1.3157894736842106,
          -1.3157894736842106,
          -1.3157894736842106,
          -1.3157894736842106,
          -1.3157894736842106,
          -1.3157894736842106,
          -1.3157894736842106,
          -1.3157894736842106,
          -1.3157894736842106,
          -1.3157894736842106,
          -1.3157894736842106,
          -0.7894736842105265,
          -0.7894736842105265,
          -0.7894736842105265,
          -0.7894736842105265,
          -0.7894736842105265,
          -0.7894736842105265,
          -0.7894736842105265,
          -0.7894736842105265,
          -0.7894736842105265,
          -0.7894736842105265,
          -0.7894736842105265,
          -0.7894736842105265,
          -0.7894736842105265,
          -0.7894736842105265,
          -0.7894736842105265,
          -0.7894736842105265,
          -0.7894736842105265,
          -0.7894736842105265,
          -0.7894736842105265,
          -0.7894736842105265,
          -0.2631578947368425,
          -0.2631578947368425,
          -0.2631578947368425,
          -0.2631578947368425,
          -0.2631578947368425,
          -0.2631578947368425,
          -0.2631578947368425,
          -0.2631578947368425,
          -0.2631578947368425,
          -0.2631578947368425,
          -0.2631578947368425,
          -0.2631578947368425,
          -0.2631578947368425,
          -0.2631578947368425,
          -0.2631578947368425,
          -0.2631578947368425,
          -0.2631578947368425,
          -0.2631578947368425,
          -0.2631578947368425,
          -0.2631578947368425,
          0.2631578947368416,
          0.2631578947368416,
          0.2631578947368416,
          0.2631578947368416,
          0.2631578947368416,
          0.2631578947368416,
          0.2631578947368416,
          0.2631578947368416,
          0.2631578947368416,
          0.2631578947368416,
          0.2631578947368416,
          0.2631578947368416,
          0.2631578947368416,
          0.2631578947368416,
          0.2631578947368416,
          0.2631578947368416,
          0.2631578947368416,
          0.2631578947368416,
          0.2631578947368416,
          0.2631578947368416,
          0.7894736842105257,
          0.7894736842105257,
          0.7894736842105257,
          0.7894736842105257,
          0.7894736842105257,
          0.7894736842105257,
          0.7894736842105257,
          0.7894736842105257,
          0.7894736842105257,
          0.7894736842105257,
          0.7894736842105257,
          0.7894736842105257,
          0.7894736842105257,
          0.7894736842105257,
          0.7894736842105257,
          0.7894736842105257,
          0.7894736842105257,
          0.7894736842105257,
          0.7894736842105257,
          0.7894736842105257,
          1.3157894736842106,
          1.3157894736842106,
          1.3157894736842106,
          1.3157894736842106,
          1.3157894736842106,
          1.3157894736842106,
          1.3157894736842106,
          1.3157894736842106,
          1.3157894736842106,
          1.3157894736842106,
          1.3157894736842106,
          1.3157894736842106,
          1.3157894736842106,
          1.3157894736842106,
          1.3157894736842106,
          1.3157894736842106,
          1.3157894736842106,
          1.3157894736842106,
          1.3157894736842106,
          1.3157894736842106,
          1.8421052631578947,
          1.8421052631578947,
          1.8421052631578947,
          1.8421052631578947,
          1.8421052631578947,
          1.8421052631578947,
          1.8421052631578947,
          1.8421052631578947,
          1.8421052631578947,
          1.8421052631578947,
          1.8421052631578947,
          1.8421052631578947,
          1.8421052631578947,
          1.8421052631578947,
          1.8421052631578947,
          1.8421052631578947,
          1.8421052631578947,
          1.8421052631578947,
          1.8421052631578947,
          1.8421052631578947,
          2.3684210526315788,
          2.3684210526315788,
          2.3684210526315788,
          2.3684210526315788,
          2.3684210526315788,
          2.3684210526315788,
          2.3684210526315788,
          2.3684210526315788,
          2.3684210526315788,
          2.3684210526315788,
          2.3684210526315788,
          2.3684210526315788,
          2.3684210526315788,
          2.3684210526315788,
          2.3684210526315788,
          2.3684210526315788,
          2.3684210526315788,
          2.3684210526315788,
          2.3684210526315788,
          2.3684210526315788,
          2.894736842105263,
          2.894736842105263,
          2.894736842105263,
          2.894736842105263,
          2.894736842105263,
          2.894736842105263,
          2.894736842105263,
          2.894736842105263,
          2.894736842105263,
          2.894736842105263,
          2.894736842105263,
          2.894736842105263,
          2.894736842105263,
          2.894736842105263,
          2.894736842105263,
          2.894736842105263,
          2.894736842105263,
          2.894736842105263,
          2.894736842105263,
          2.894736842105263,
          3.421052631578947,
          3.421052631578947,
          3.421052631578947,
          3.421052631578947,
          3.421052631578947,
          3.421052631578947,
          3.421052631578947,
          3.421052631578947,
          3.421052631578947,
          3.421052631578947,
          3.421052631578947,
          3.421052631578947,
          3.421052631578947,
          3.421052631578947,
          3.421052631578947,
          3.421052631578947,
          3.421052631578947,
          3.421052631578947,
          3.421052631578947,
          3.421052631578947,
          3.947368421052632,
          3.947368421052632,
          3.947368421052632,
          3.947368421052632,
          3.947368421052632,
          3.947368421052632,
          3.947368421052632,
          3.947368421052632,
          3.947368421052632,
          3.947368421052632,
          3.947368421052632,
          3.947368421052632,
          3.947368421052632,
          3.947368421052632,
          3.947368421052632,
          3.947368421052632,
          3.947368421052632,
          3.947368421052632,
          3.947368421052632,
          3.947368421052632,
          4.473684210526315,
          4.473684210526315,
          4.473684210526315,
          4.473684210526315,
          4.473684210526315,
          4.473684210526315,
          4.473684210526315,
          4.473684210526315,
          4.473684210526315,
          4.473684210526315,
          4.473684210526315,
          4.473684210526315,
          4.473684210526315,
          4.473684210526315,
          4.473684210526315,
          4.473684210526315,
          4.473684210526315,
          4.473684210526315,
          4.473684210526315,
          4.473684210526315,
          5,
          5,
          5,
          5,
          5,
          5,
          5,
          5,
          5,
          5,
          5,
          5,
          5,
          5,
          5,
          5,
          5,
          5,
          5,
          5
         ],
         "z": [
          1.1868436558870599e-05,
          1.7116955859819427e-05,
          2.4384451535297558e-05,
          3.42965722666122e-05,
          4.760572483064607e-05,
          6.517992005683482e-05,
          8.794746827334166e-05,
          0.00011674704001052305,
          0.0001520156947663054,
          0.0001932731829583645,
          0.0002384930703556165,
          0.0002836765197571367,
          0.0003231066802982241,
          0.00035057045170105994,
          0.00036122341407462955,
          0.00035322230542078614,
          0.0003282518300693482,
          0.00029076728969812393,
          0.000246472074650228,
          0.0002008000883506611,
          1.7116955859819427e-05,
          2.4983264665934257e-05,
          3.6026576708536595e-05,
          5.131261423230171e-05,
          7.218221435323358e-05,
          0.00010029175609815866,
          0.00013760992442257702,
          0.00018626009114086628,
          0.0002480004040990025,
          0.00032310173264704645,
          0.00040864848415367305,
          0.0004969911533407867,
          0.0005758285406045616,
          0.0006310731987468898,
          0.0006517324363812804,
          0.0006340949912555516,
          0.000582737906370312,
          0.0005081329727545381,
          0.00042268726974725723,
          0.0003373210784047842,
          2.4384451535297558e-05,
          3.6026576708536595e-05,
          5.2590155974030495e-05,
          7.58383102947846e-05,
          0.00010807452781591564,
          0.00015232509758789092,
          0.00021255530009511858,
          0.0002937310782726854,
          0.000401192664867267,
          0.0005384199903346598,
          0.0007025488885119557,
          0.0008791078580543399,
          0.0010406235232949257,
          0.0011537177488207817,
          0.0011927303858101368,
          0.001150871510617435,
          0.001041404902935028,
          0.0008897640509530902,
          0.0007231440395116806,
          0.0005631110398098826,
          3.42965722666122e-05,
          5.131261423230171e-05,
          7.58383102947846e-05,
          0.00011070309119531885,
          0.0001597009541001171,
          0.00022807660570833832,
          0.000323356653098017,
          0.00045639710151590407,
          0.0006415658281184733,
          0.0008931161719374359,
          0.0012137902667745948,
          0.001577111310325563,
          0.0019184622215107083,
          0.002154158428311348,
          0.0022227964363992214,
          0.0021155537106096745,
          0.0018729669973254204,
          0.0015583145432174206,
          0.001230736030265689,
          0.0009310145396739244,
          4.760572483064607e-05,
          7.218221435323358e-05,
          0.00010807452781591564,
          0.0001597009541001171,
          0.00023303170746657997,
          0.0003365717129781842,
          0.0004835450672544539,
          0.0006959583261050284,
          0.001009443192742765,
          0.0014712187694385648,
          0.0021132640540599823,
          0.0028917680028826,
          0.003642777446657419,
          0.004140811040997505,
          0.004237643443048,
          0.0039426242001354694,
          0.003384116105735302,
          0.002720144810155034,
          0.002074497751891613,
          0.0015172552084550261,
          6.517992005683482e-05,
          0.00010029175609815866,
          0.00015232509758789092,
          0.00022807660570833832,
          0.0003365717129781842,
          0.000490535341668874,
          0.0007107571000233293,
          0.0010373250115662813,
          0.001551567343994975,
          0.002396467374637723,
          0.0037274425849318504,
          0.005496856290847063,
          0.007237077224999666,
          0.008284094743430614,
          0.008299284614622593,
          0.007440105080604553,
          0.006114696152508259,
          0.004703156650066376,
          0.0034400266595184803,
          0.0024214035365730524,
          8.794746827334166e-05,
          0.00013760992442257702,
          0.00021255530009511858,
          0.000323356653098017,
          0.0004835450672544539,
          0.0007107571000233293,
          0.0010325853945687413,
          0.0015096977585926652,
          0.002305605448782444,
          0.003826970001682639,
          0.006737972609698772,
          0.011145325377583504,
          0.015438464470207691,
          0.01747012324631214,
          0.01670961268246174,
          0.01412625890225172,
          0.010945025831460953,
          0.007973949424922466,
          0.0055587878450751305,
          0.003752253483980894,
          0.00011674704001052305,
          0.00018626009114086628,
          0.0002937310782726854,
          0.00045639710151590407,
          0.0006959583261050284,
          0.0010373250115662813,
          0.0015096977585926652,
          0.002173607237637043,
          0.0032778370659798384,
          0.005873092450201511,
          0.012869319878518581,
          0.025666000321507454,
          0.036774892359972,
          0.039128195494413376,
          0.03423590958118439,
          0.02654922753572464,
          0.019086671993136406,
          0.013061153702437878,
          0.008643876761198044,
          0.005587616469711065,
          0.0001520156947663054,
          0.0002480004040990025,
          0.000401192664867267,
          0.0006415658281184733,
          0.001009443192742765,
          0.001551567343994975,
          0.002305605448782444,
          0.0032778370659798384,
          0.004575478844344616,
          0.008195800706744194,
          0.029035914689302444,
          0.0774117186665535,
          0.10120578855276108,
          0.09109684824943542,
          0.06899256259202957,
          0.04786829650402069,
          0.03161783516407013,
          0.020267320796847343,
          0.012740803882479668,
          0.007903298363089561,
          0.0001932731829583645,
          0.00032310173264704645,
          0.0005384199903346598,
          0.0008931161719374359,
          0.0014712187694385648,
          0.002396467374637723,
          0.003826970001682639,
          0.005873092450201511,
          0.008195800706744194,
          0.009631453081965446,
          0.16295289993286133,
          0.36443760991096497,
          0.296694815158844,
          0.20071212947368622,
          0.1276804655790329,
          0.07901705056428909,
          0.04819133132696152,
          0.02913745492696762,
          0.017519406974315643,
          0.01049417071044445,
          0.0002384930703556165,
          0.00040864848415367305,
          0.0007025488885119557,
          0.0012137902667745948,
          0.0021132640540599823,
          0.0037274425849318504,
          0.006737972609698772,
          0.012869319878518581,
          0.029035914689302444,
          0.16295289993286133,
          2.756971836090088,
          1.291121244430542,
          0.6501277089118958,
          0.3533845841884613,
          0.1985929012298584,
          0.11350040882825851,
          0.06549444049596786,
          0.038019534200429916,
          0.022157972678542137,
          0.012949478812515736,
          0.0002836765197571367,
          0.0004969911533407867,
          0.0008791078580543399,
          0.001577111310325563,
          0.0028917680028826,
          0.005496856290847063,
          0.011145325377583504,
          0.025666000321507454,
          0.0774117186665535,
          0.36443760991096497,
          1.291121244430542,
          1.3097155094146729,
          0.792457640171051,
          0.44036343693733215,
          0.24442526698112488,
          0.13712914288043976,
          0.07772365212440491,
          0.04441044107079506,
          0.025532471016049385,
          0.014748346991837025,
          0.0003231066802982241,
          0.0005758285406045616,
          0.0010406235232949257,
          0.0019184622215107083,
          0.003642777446657419,
          0.007237077224999666,
          0.015438464470207691,
          0.036774892359972,
          0.10120578855276108,
          0.296694815158844,
          0.6501277089118958,
          0.792457640171051,
          0.6221880316734314,
          0.40013256669044495,
          0.2388526052236557,
          0.13896363973617554,
          0.080230712890625,
          0.046272747218608856,
          0.026722773909568787,
          0.015464170835912228,
          0.00035057045170105994,
          0.0006310731987468898,
          0.0011537177488207817,
          0.002154158428311348,
          0.004140811040997505,
          0.008284094743430614,
          0.01747012324631214,
          0.039128195494413376,
          0.09109684824943542,
          0.20071212947368622,
          0.3533845841884613,
          0.44036343693733215,
          0.40013256669044495,
          0.2955740690231323,
          0.19475576281547546,
          0.12096939980983734,
          0.0729142501950264,
          0.04328133910894394,
          0.025492386892437935,
          0.01495698094367981,
          0.00036122341407462955,
          0.0006517324363812804,
          0.0011927303858101368,
          0.0022227964363992214,
          0.004237643443048,
          0.008299284614622593,
          0.01670961268246174,
          0.03423590958118439,
          0.06899256259202957,
          0.1276804655790329,
          0.1985929012298584,
          0.24442526698112488,
          0.2388526052236557,
          0.19475576281547546,
          0.14041417837142944,
          0.09367546439170837,
          0.059592776000499725,
          0.036826469004154205,
          0.02235455997288227,
          0.013419286347925663,
          0.00035322230542078614,
          0.0006340949912555516,
          0.001150871510617435,
          0.0021155537106096745,
          0.0039426242001354694,
          0.007440105080604553,
          0.01412625890225172,
          0.02654922753572464,
          0.04786829650402069,
          0.07901705056428909,
          0.11350040882825851,
          0.13712914288043976,
          0.13896363973617554,
          0.12096939980983734,
          0.09367546439170837,
          0.06670456379652023,
          0.04482928290963173,
          0.028966493904590607,
          0.018223721534013748,
          0.011257646605372429,
          0.0003282518300693482,
          0.000582737906370312,
          0.001041404902935028,
          0.0018729669973254204,
          0.003384116105735302,
          0.006114696152508259,
          0.010945025831460953,
          0.019086671993136406,
          0.03161783516407013,
          0.04819133132696152,
          0.06549444049596786,
          0.07772365212440491,
          0.080230712890625,
          0.0729142501950264,
          0.059592776000499725,
          0.04482928290963173,
          0.031688399612903595,
          0.021398626267910004,
          0.01397700421512127,
          0.008910722099244595,
          0.00029076728969812393,
          0.0005081329727545381,
          0.0008897640509530902,
          0.0015583145432174206,
          0.002720144810155034,
          0.004703156650066376,
          0.007973949424922466,
          0.013061153702437878,
          0.020267320796847343,
          0.02913745492696762,
          0.038019534200429916,
          0.04441044107079506,
          0.046272747218608856,
          0.04328133910894394,
          0.036826469004154205,
          0.028966493904590607,
          0.021398626267910004,
          0.015053761191666126,
          0.01019950769841671,
          0.006714696995913982,
          0.000246472074650228,
          0.00042268726974725723,
          0.0007231440395116806,
          0.001230736030265689,
          0.002074497751891613,
          0.0034400266595184803,
          0.0055587878450751305,
          0.008643876761198044,
          0.012740803882479668,
          0.017519406974315643,
          0.022157972678542137,
          0.025532471016049385,
          0.026722773909568787,
          0.025492386892437935,
          0.02235455997288227,
          0.018223721534013748,
          0.01397700421512127,
          0.01019950769841671,
          0.007151374593377113,
          0.004857184831053019,
          0.0002008000883506611,
          0.0003373210784047842,
          0.0005631110398098826,
          0.0009310145396739244,
          0.0015172552084550261,
          0.0024214035365730524,
          0.003752253483980894,
          0.005587616469711065,
          0.007903298363089561,
          0.01049417071044445,
          0.012949478812515736,
          0.014748346991837025,
          0.015464170835912228,
          0.01495698094367981,
          0.013419286347925663,
          0.011257646605372429,
          0.008910722099244595,
          0.006714696995913982,
          0.004857184831053019,
          0.003397302934899926
         ]
        }
       ],
       "layout": {
        "coloraxis": {
         "colorbar": {
          "title": {
           "text": "colors"
          }
         },
         "colorscale": [
          [
           0,
           "#0d0887"
          ],
          [
           0.1111111111111111,
           "#46039f"
          ],
          [
           0.2222222222222222,
           "#7201a8"
          ],
          [
           0.3333333333333333,
           "#9c179e"
          ],
          [
           0.4444444444444444,
           "#bd3786"
          ],
          [
           0.5555555555555556,
           "#d8576b"
          ],
          [
           0.6666666666666666,
           "#ed7953"
          ],
          [
           0.7777777777777778,
           "#fb9f3a"
          ],
          [
           0.8888888888888888,
           "#fdca26"
          ],
          [
           1,
           "#f0f921"
          ]
         ]
        },
        "legend": {
         "tracegroupgap": 0
        },
        "margin": {
         "t": 60
        },
        "scene": {
         "domain": {
          "x": [
           0,
           1
          ],
          "y": [
           0,
           1
          ]
         },
         "xaxis": {
          "range": [
           -7.071068627984545,
           7.071068627984545
          ],
          "title": {
           "text": "x"
          }
         },
         "yaxis": {
          "range": [
           -7.071068627984545,
           7.071068627984545
          ],
          "title": {
           "text": "y"
          }
         },
         "zaxis": {
          "range": [
           -7.071068627984545,
           7.071068627984545
          ],
          "title": {
           "text": "z"
          }
         }
        },
        "template": {
         "data": {
          "bar": [
           {
            "error_x": {
             "color": "#2a3f5f"
            },
            "error_y": {
             "color": "#2a3f5f"
            },
            "marker": {
             "line": {
              "color": "#E5ECF6",
              "width": 0.5
             },
             "pattern": {
              "fillmode": "overlay",
              "size": 10,
              "solidity": 0.2
             }
            },
            "type": "bar"
           }
          ],
          "barpolar": [
           {
            "marker": {
             "line": {
              "color": "#E5ECF6",
              "width": 0.5
             },
             "pattern": {
              "fillmode": "overlay",
              "size": 10,
              "solidity": 0.2
             }
            },
            "type": "barpolar"
           }
          ],
          "carpet": [
           {
            "aaxis": {
             "endlinecolor": "#2a3f5f",
             "gridcolor": "white",
             "linecolor": "white",
             "minorgridcolor": "white",
             "startlinecolor": "#2a3f5f"
            },
            "baxis": {
             "endlinecolor": "#2a3f5f",
             "gridcolor": "white",
             "linecolor": "white",
             "minorgridcolor": "white",
             "startlinecolor": "#2a3f5f"
            },
            "type": "carpet"
           }
          ],
          "choropleth": [
           {
            "colorbar": {
             "outlinewidth": 0,
             "ticks": ""
            },
            "type": "choropleth"
           }
          ],
          "contour": [
           {
            "colorbar": {
             "outlinewidth": 0,
             "ticks": ""
            },
            "colorscale": [
             [
              0,
              "#0d0887"
             ],
             [
              0.1111111111111111,
              "#46039f"
             ],
             [
              0.2222222222222222,
              "#7201a8"
             ],
             [
              0.3333333333333333,
              "#9c179e"
             ],
             [
              0.4444444444444444,
              "#bd3786"
             ],
             [
              0.5555555555555556,
              "#d8576b"
             ],
             [
              0.6666666666666666,
              "#ed7953"
             ],
             [
              0.7777777777777778,
              "#fb9f3a"
             ],
             [
              0.8888888888888888,
              "#fdca26"
             ],
             [
              1,
              "#f0f921"
             ]
            ],
            "type": "contour"
           }
          ],
          "contourcarpet": [
           {
            "colorbar": {
             "outlinewidth": 0,
             "ticks": ""
            },
            "type": "contourcarpet"
           }
          ],
          "heatmap": [
           {
            "colorbar": {
             "outlinewidth": 0,
             "ticks": ""
            },
            "colorscale": [
             [
              0,
              "#0d0887"
             ],
             [
              0.1111111111111111,
              "#46039f"
             ],
             [
              0.2222222222222222,
              "#7201a8"
             ],
             [
              0.3333333333333333,
              "#9c179e"
             ],
             [
              0.4444444444444444,
              "#bd3786"
             ],
             [
              0.5555555555555556,
              "#d8576b"
             ],
             [
              0.6666666666666666,
              "#ed7953"
             ],
             [
              0.7777777777777778,
              "#fb9f3a"
             ],
             [
              0.8888888888888888,
              "#fdca26"
             ],
             [
              1,
              "#f0f921"
             ]
            ],
            "type": "heatmap"
           }
          ],
          "heatmapgl": [
           {
            "colorbar": {
             "outlinewidth": 0,
             "ticks": ""
            },
            "colorscale": [
             [
              0,
              "#0d0887"
             ],
             [
              0.1111111111111111,
              "#46039f"
             ],
             [
              0.2222222222222222,
              "#7201a8"
             ],
             [
              0.3333333333333333,
              "#9c179e"
             ],
             [
              0.4444444444444444,
              "#bd3786"
             ],
             [
              0.5555555555555556,
              "#d8576b"
             ],
             [
              0.6666666666666666,
              "#ed7953"
             ],
             [
              0.7777777777777778,
              "#fb9f3a"
             ],
             [
              0.8888888888888888,
              "#fdca26"
             ],
             [
              1,
              "#f0f921"
             ]
            ],
            "type": "heatmapgl"
           }
          ],
          "histogram": [
           {
            "marker": {
             "pattern": {
              "fillmode": "overlay",
              "size": 10,
              "solidity": 0.2
             }
            },
            "type": "histogram"
           }
          ],
          "histogram2d": [
           {
            "colorbar": {
             "outlinewidth": 0,
             "ticks": ""
            },
            "colorscale": [
             [
              0,
              "#0d0887"
             ],
             [
              0.1111111111111111,
              "#46039f"
             ],
             [
              0.2222222222222222,
              "#7201a8"
             ],
             [
              0.3333333333333333,
              "#9c179e"
             ],
             [
              0.4444444444444444,
              "#bd3786"
             ],
             [
              0.5555555555555556,
              "#d8576b"
             ],
             [
              0.6666666666666666,
              "#ed7953"
             ],
             [
              0.7777777777777778,
              "#fb9f3a"
             ],
             [
              0.8888888888888888,
              "#fdca26"
             ],
             [
              1,
              "#f0f921"
             ]
            ],
            "type": "histogram2d"
           }
          ],
          "histogram2dcontour": [
           {
            "colorbar": {
             "outlinewidth": 0,
             "ticks": ""
            },
            "colorscale": [
             [
              0,
              "#0d0887"
             ],
             [
              0.1111111111111111,
              "#46039f"
             ],
             [
              0.2222222222222222,
              "#7201a8"
             ],
             [
              0.3333333333333333,
              "#9c179e"
             ],
             [
              0.4444444444444444,
              "#bd3786"
             ],
             [
              0.5555555555555556,
              "#d8576b"
             ],
             [
              0.6666666666666666,
              "#ed7953"
             ],
             [
              0.7777777777777778,
              "#fb9f3a"
             ],
             [
              0.8888888888888888,
              "#fdca26"
             ],
             [
              1,
              "#f0f921"
             ]
            ],
            "type": "histogram2dcontour"
           }
          ],
          "mesh3d": [
           {
            "colorbar": {
             "outlinewidth": 0,
             "ticks": ""
            },
            "type": "mesh3d"
           }
          ],
          "parcoords": [
           {
            "line": {
             "colorbar": {
              "outlinewidth": 0,
              "ticks": ""
             }
            },
            "type": "parcoords"
           }
          ],
          "pie": [
           {
            "automargin": true,
            "type": "pie"
           }
          ],
          "scatter": [
           {
            "fillpattern": {
             "fillmode": "overlay",
             "size": 10,
             "solidity": 0.2
            },
            "type": "scatter"
           }
          ],
          "scatter3d": [
           {
            "line": {
             "colorbar": {
              "outlinewidth": 0,
              "ticks": ""
             }
            },
            "marker": {
             "colorbar": {
              "outlinewidth": 0,
              "ticks": ""
             }
            },
            "type": "scatter3d"
           }
          ],
          "scattercarpet": [
           {
            "marker": {
             "colorbar": {
              "outlinewidth": 0,
              "ticks": ""
             }
            },
            "type": "scattercarpet"
           }
          ],
          "scattergeo": [
           {
            "marker": {
             "colorbar": {
              "outlinewidth": 0,
              "ticks": ""
             }
            },
            "type": "scattergeo"
           }
          ],
          "scattergl": [
           {
            "marker": {
             "colorbar": {
              "outlinewidth": 0,
              "ticks": ""
             }
            },
            "type": "scattergl"
           }
          ],
          "scattermapbox": [
           {
            "marker": {
             "colorbar": {
              "outlinewidth": 0,
              "ticks": ""
             }
            },
            "type": "scattermapbox"
           }
          ],
          "scatterpolar": [
           {
            "marker": {
             "colorbar": {
              "outlinewidth": 0,
              "ticks": ""
             }
            },
            "type": "scatterpolar"
           }
          ],
          "scatterpolargl": [
           {
            "marker": {
             "colorbar": {
              "outlinewidth": 0,
              "ticks": ""
             }
            },
            "type": "scatterpolargl"
           }
          ],
          "scatterternary": [
           {
            "marker": {
             "colorbar": {
              "outlinewidth": 0,
              "ticks": ""
             }
            },
            "type": "scatterternary"
           }
          ],
          "surface": [
           {
            "colorbar": {
             "outlinewidth": 0,
             "ticks": ""
            },
            "colorscale": [
             [
              0,
              "#0d0887"
             ],
             [
              0.1111111111111111,
              "#46039f"
             ],
             [
              0.2222222222222222,
              "#7201a8"
             ],
             [
              0.3333333333333333,
              "#9c179e"
             ],
             [
              0.4444444444444444,
              "#bd3786"
             ],
             [
              0.5555555555555556,
              "#d8576b"
             ],
             [
              0.6666666666666666,
              "#ed7953"
             ],
             [
              0.7777777777777778,
              "#fb9f3a"
             ],
             [
              0.8888888888888888,
              "#fdca26"
             ],
             [
              1,
              "#f0f921"
             ]
            ],
            "type": "surface"
           }
          ],
          "table": [
           {
            "cells": {
             "fill": {
              "color": "#EBF0F8"
             },
             "line": {
              "color": "white"
             }
            },
            "header": {
             "fill": {
              "color": "#C8D4E3"
             },
             "line": {
              "color": "white"
             }
            },
            "type": "table"
           }
          ]
         },
         "layout": {
          "annotationdefaults": {
           "arrowcolor": "#2a3f5f",
           "arrowhead": 0,
           "arrowwidth": 1
          },
          "autotypenumbers": "strict",
          "coloraxis": {
           "colorbar": {
            "outlinewidth": 0,
            "ticks": ""
           }
          },
          "colorscale": {
           "diverging": [
            [
             0,
             "#8e0152"
            ],
            [
             0.1,
             "#c51b7d"
            ],
            [
             0.2,
             "#de77ae"
            ],
            [
             0.3,
             "#f1b6da"
            ],
            [
             0.4,
             "#fde0ef"
            ],
            [
             0.5,
             "#f7f7f7"
            ],
            [
             0.6,
             "#e6f5d0"
            ],
            [
             0.7,
             "#b8e186"
            ],
            [
             0.8,
             "#7fbc41"
            ],
            [
             0.9,
             "#4d9221"
            ],
            [
             1,
             "#276419"
            ]
           ],
           "sequential": [
            [
             0,
             "#0d0887"
            ],
            [
             0.1111111111111111,
             "#46039f"
            ],
            [
             0.2222222222222222,
             "#7201a8"
            ],
            [
             0.3333333333333333,
             "#9c179e"
            ],
            [
             0.4444444444444444,
             "#bd3786"
            ],
            [
             0.5555555555555556,
             "#d8576b"
            ],
            [
             0.6666666666666666,
             "#ed7953"
            ],
            [
             0.7777777777777778,
             "#fb9f3a"
            ],
            [
             0.8888888888888888,
             "#fdca26"
            ],
            [
             1,
             "#f0f921"
            ]
           ],
           "sequentialminus": [
            [
             0,
             "#0d0887"
            ],
            [
             0.1111111111111111,
             "#46039f"
            ],
            [
             0.2222222222222222,
             "#7201a8"
            ],
            [
             0.3333333333333333,
             "#9c179e"
            ],
            [
             0.4444444444444444,
             "#bd3786"
            ],
            [
             0.5555555555555556,
             "#d8576b"
            ],
            [
             0.6666666666666666,
             "#ed7953"
            ],
            [
             0.7777777777777778,
             "#fb9f3a"
            ],
            [
             0.8888888888888888,
             "#fdca26"
            ],
            [
             1,
             "#f0f921"
            ]
           ]
          },
          "colorway": [
           "#636efa",
           "#EF553B",
           "#00cc96",
           "#ab63fa",
           "#FFA15A",
           "#19d3f3",
           "#FF6692",
           "#B6E880",
           "#FF97FF",
           "#FECB52"
          ],
          "font": {
           "color": "#2a3f5f"
          },
          "geo": {
           "bgcolor": "white",
           "lakecolor": "white",
           "landcolor": "#E5ECF6",
           "showlakes": true,
           "showland": true,
           "subunitcolor": "white"
          },
          "hoverlabel": {
           "align": "left"
          },
          "hovermode": "closest",
          "mapbox": {
           "style": "light"
          },
          "paper_bgcolor": "white",
          "plot_bgcolor": "#E5ECF6",
          "polar": {
           "angularaxis": {
            "gridcolor": "white",
            "linecolor": "white",
            "ticks": ""
           },
           "bgcolor": "#E5ECF6",
           "radialaxis": {
            "gridcolor": "white",
            "linecolor": "white",
            "ticks": ""
           }
          },
          "scene": {
           "xaxis": {
            "backgroundcolor": "#E5ECF6",
            "gridcolor": "white",
            "gridwidth": 2,
            "linecolor": "white",
            "showbackground": true,
            "ticks": "",
            "zerolinecolor": "white"
           },
           "yaxis": {
            "backgroundcolor": "#E5ECF6",
            "gridcolor": "white",
            "gridwidth": 2,
            "linecolor": "white",
            "showbackground": true,
            "ticks": "",
            "zerolinecolor": "white"
           },
           "zaxis": {
            "backgroundcolor": "#E5ECF6",
            "gridcolor": "white",
            "gridwidth": 2,
            "linecolor": "white",
            "showbackground": true,
            "ticks": "",
            "zerolinecolor": "white"
           }
          },
          "shapedefaults": {
           "line": {
            "color": "#2a3f5f"
           }
          },
          "ternary": {
           "aaxis": {
            "gridcolor": "white",
            "linecolor": "white",
            "ticks": ""
           },
           "baxis": {
            "gridcolor": "white",
            "linecolor": "white",
            "ticks": ""
           },
           "bgcolor": "#E5ECF6",
           "caxis": {
            "gridcolor": "white",
            "linecolor": "white",
            "ticks": ""
           }
          },
          "title": {
           "x": 0.05
          },
          "xaxis": {
           "automargin": true,
           "gridcolor": "white",
           "linecolor": "white",
           "ticks": "",
           "title": {
            "standoff": 15
           },
           "zerolinecolor": "white",
           "zerolinewidth": 2
          },
          "yaxis": {
           "automargin": true,
           "gridcolor": "white",
           "linecolor": "white",
           "ticks": "",
           "title": {
            "standoff": 15
           },
           "zerolinecolor": "white",
           "zerolinewidth": 2
          }
         }
        }
       }
      }
     },
     "metadata": {},
     "output_type": "display_data"
    }
   ],
   "source": [
    "from directed_graphs.utils import plot_3d\n",
    "plot_3d(X,distribution=flows.reshape(400),use_plotly=True)"
   ]
  },
  {
   "cell_type": "markdown",
   "metadata": {},
   "source": [
    "## Computing Transition Probabilities Between a Grid and Points, and Vice Versa"
   ]
  },
  {
   "cell_type": "markdown",
   "metadata": {},
   "source": [
    "The next functions will take three inputs: a set of points, a grid, and flows at each point and each point on the grid. It is tasked with returning three matrices: a transition matrix between the points and the grid, a transition matrix between the grid and the points, and the transition matrix from the grid to the grid.\n",
    "\n",
    "These tasks should be separated, as each is called in different circumstances.\n",
    "- The grid-to-point (and vv) function will be called each time the points are moved, or the grid is updated, or the flow is updated.\n",
    "- The grid-to-grid function will be called whenever the grid is updated, or the flow is updated.\n",
    "\n",
    "Both can be encapsulated in the same function, which computes an affinity matrix from pointset 1 to pointset 2."
   ]
  },
  {
   "cell_type": "markdown",
   "metadata": {},
   "source": [
    "The logic of the functions: \n",
    "1. For each point in set 1, sort the points in set 2 by distance.\n",
    "2. Choose the $n$ nearest neighbors (optional computational boost), and compute the transition probabilities to them, storing the results in the affinity matrix."
   ]
  },
  {
   "cell_type": "code",
   "execution_count": null,
   "metadata": {},
   "outputs": [],
   "source": [
    "#export\n",
    "def affinity_matrix_from_pointset_to_pointset(pointset1, pointset2, flows,n_neighbors=None,sigma=0.5, flow_strength=1):\n",
    "  \"\"\"Compute affinity matrix between the points of pointset1 and pointset2, using the provided flow.\n",
    "\n",
    "  Parameters\n",
    "  ----------\n",
    "  pointset1 : torch tensor, n1 x d\n",
    "      The first pointset, to calculate affinities *from*\n",
    "  pointset2 : torch tensor, n2 x d\n",
    "      The second pointset, to calculate affinities *to* (from pointset1)\n",
    "  flow : a function that, when called at a point, gives the flow at that point\n",
    "  n_neighbors : number of neighbors to include in affinity computations. All neighbors beyond it are given affinity zero\n",
    "  (currently not implemented)\n",
    "\n",
    "  Returns:\n",
    "  Affinity matrix: torch tensor of shape n1 x n2\n",
    "  \"\"\"\n",
    "  # Calculate the directions from point i in pointset 1 to point j in pointset 2\n",
    "  n1 = pointset1.shape[0]\n",
    "  n2 = pointset2.shape[0]\n",
    "  P2 = pointset2[:,:,None].repeat(1,1,n1)\n",
    "  P1 = pointset1.T.repeat(n2,1,1)\n",
    "  P3 = (P2 - P1)\n",
    "  P3 = P3.transpose(1,2)\n",
    "  # dimension 1 represents directions to point i\n",
    "  # dimension 2 represents direction from point j\n",
    "  # dimension 3 represents direction in each dimension (R^n)\n",
    "  # compute affinities from flows and directions\n",
    "  affinities = affinity_from_flow(flows,P3,sigma=sigma,flow_strength=flow_strength)\n",
    "  return affinities\n"
   ]
  },
  {
   "cell_type": "markdown",
   "metadata": {},
   "source": [
    "### Building the function"
   ]
  },
  {
   "cell_type": "markdown",
   "metadata": {},
   "source": [
    "This is an illustration of how the function should work."
   ]
  },
  {
   "cell_type": "code",
   "execution_count": null,
   "metadata": {},
   "outputs": [],
   "source": [
    "pointset1 = torch.rand(4,2)\n",
    "pointset2 = torch.rand(7,2)\n",
    "def flow(x):\n",
    "  return x**2/torch.linalg.norm(x**2)"
   ]
  },
  {
   "cell_type": "code",
   "execution_count": null,
   "metadata": {},
   "outputs": [
    {
     "data": {
      "text/plain": [
       "tensor([[0.8232, 0.7579],\n",
       "        [0.4798, 0.5634],\n",
       "        [0.7873, 0.1840],\n",
       "        [0.8736, 0.4784]])"
      ]
     },
     "execution_count": null,
     "metadata": {},
     "output_type": "execute_result"
    }
   ],
   "source": [
    "pointset1"
   ]
  },
  {
   "cell_type": "code",
   "execution_count": null,
   "metadata": {},
   "outputs": [
    {
     "data": {
      "text/plain": [
       "tensor([[0.8119, 0.9613],\n",
       "        [0.9562, 0.3700],\n",
       "        [0.9584, 0.7433],\n",
       "        [0.6947, 0.9516],\n",
       "        [0.3699, 0.4998],\n",
       "        [0.9198, 0.7321],\n",
       "        [0.9985, 0.3589]])"
      ]
     },
     "execution_count": null,
     "metadata": {},
     "output_type": "execute_result"
    }
   ],
   "source": [
    "pointset2"
   ]
  },
  {
   "cell_type": "code",
   "execution_count": null,
   "metadata": {},
   "outputs": [
    {
     "data": {
      "text/plain": [
       "tensor([[[0.8119],\n",
       "         [0.9613]],\n",
       "\n",
       "        [[0.9562],\n",
       "         [0.3700]],\n",
       "\n",
       "        [[0.9584],\n",
       "         [0.7433]],\n",
       "\n",
       "        [[0.6947],\n",
       "         [0.9516]],\n",
       "\n",
       "        [[0.3699],\n",
       "         [0.4998]],\n",
       "\n",
       "        [[0.9198],\n",
       "         [0.7321]],\n",
       "\n",
       "        [[0.9985],\n",
       "         [0.3589]]])"
      ]
     },
     "execution_count": null,
     "metadata": {},
     "output_type": "execute_result"
    }
   ],
   "source": [
    "pointset2[:,:,None]"
   ]
  },
  {
   "cell_type": "code",
   "execution_count": null,
   "metadata": {},
   "outputs": [
    {
     "data": {
      "text/plain": [
       "tensor([[[0.8119, 0.8119, 0.8119, 0.8119],\n",
       "         [0.9613, 0.9613, 0.9613, 0.9613]],\n",
       "\n",
       "        [[0.9562, 0.9562, 0.9562, 0.9562],\n",
       "         [0.3700, 0.3700, 0.3700, 0.3700]],\n",
       "\n",
       "        [[0.9584, 0.9584, 0.9584, 0.9584],\n",
       "         [0.7433, 0.7433, 0.7433, 0.7433]],\n",
       "\n",
       "        [[0.6947, 0.6947, 0.6947, 0.6947],\n",
       "         [0.9516, 0.9516, 0.9516, 0.9516]],\n",
       "\n",
       "        [[0.3699, 0.3699, 0.3699, 0.3699],\n",
       "         [0.4998, 0.4998, 0.4998, 0.4998]],\n",
       "\n",
       "        [[0.9198, 0.9198, 0.9198, 0.9198],\n",
       "         [0.7321, 0.7321, 0.7321, 0.7321]],\n",
       "\n",
       "        [[0.9985, 0.9985, 0.9985, 0.9985],\n",
       "         [0.3589, 0.3589, 0.3589, 0.3589]]])"
      ]
     },
     "execution_count": null,
     "metadata": {},
     "output_type": "execute_result"
    }
   ],
   "source": [
    "P2 = pointset2[:,:,None].repeat(1,1,4)\n",
    "P2"
   ]
  },
  {
   "cell_type": "code",
   "execution_count": null,
   "metadata": {},
   "outputs": [
    {
     "data": {
      "text/plain": [
       "tensor([[[0.8232, 0.4798, 0.7873, 0.8736],\n",
       "         [0.7579, 0.5634, 0.1840, 0.4784]],\n",
       "\n",
       "        [[0.8232, 0.4798, 0.7873, 0.8736],\n",
       "         [0.7579, 0.5634, 0.1840, 0.4784]],\n",
       "\n",
       "        [[0.8232, 0.4798, 0.7873, 0.8736],\n",
       "         [0.7579, 0.5634, 0.1840, 0.4784]],\n",
       "\n",
       "        [[0.8232, 0.4798, 0.7873, 0.8736],\n",
       "         [0.7579, 0.5634, 0.1840, 0.4784]],\n",
       "\n",
       "        [[0.8232, 0.4798, 0.7873, 0.8736],\n",
       "         [0.7579, 0.5634, 0.1840, 0.4784]],\n",
       "\n",
       "        [[0.8232, 0.4798, 0.7873, 0.8736],\n",
       "         [0.7579, 0.5634, 0.1840, 0.4784]],\n",
       "\n",
       "        [[0.8232, 0.4798, 0.7873, 0.8736],\n",
       "         [0.7579, 0.5634, 0.1840, 0.4784]]])"
      ]
     },
     "execution_count": null,
     "metadata": {},
     "output_type": "execute_result"
    }
   ],
   "source": [
    "P1 = pointset1.T.repeat(7,1,1)\n",
    "P1"
   ]
  },
  {
   "cell_type": "code",
   "execution_count": null,
   "metadata": {},
   "outputs": [
    {
     "data": {
      "text/plain": [
       "tensor([[[-0.0113,  0.3321,  0.0245, -0.0617],\n",
       "         [ 0.2033,  0.3979,  0.7773,  0.4828]],\n",
       "\n",
       "        [[ 0.1330,  0.4764,  0.1688,  0.0826],\n",
       "         [-0.3879, -0.1934,  0.1860, -0.1084]],\n",
       "\n",
       "        [[ 0.1351,  0.4785,  0.1710,  0.0848],\n",
       "         [-0.0147,  0.1799,  0.5593,  0.2648]],\n",
       "\n",
       "        [[-0.1285,  0.2149, -0.0926, -0.1789],\n",
       "         [ 0.1937,  0.3882,  0.7676,  0.4732]],\n",
       "\n",
       "        [[-0.4533, -0.1099, -0.4174, -0.5036],\n",
       "         [-0.2582, -0.0637,  0.3158,  0.0213]],\n",
       "\n",
       "        [[ 0.0966,  0.4400,  0.1325,  0.0463],\n",
       "         [-0.0259,  0.1687,  0.5481,  0.2537]],\n",
       "\n",
       "        [[ 0.1753,  0.5187,  0.2112,  0.1250],\n",
       "         [-0.3991, -0.2046,  0.1749, -0.1196]]])"
      ]
     },
     "execution_count": null,
     "metadata": {},
     "output_type": "execute_result"
    }
   ],
   "source": [
    "P3 = (P2-P1)\n",
    "P3"
   ]
  },
  {
   "cell_type": "code",
   "execution_count": null,
   "metadata": {},
   "outputs": [
    {
     "data": {
      "text/plain": [
       "tensor([[[-0.0113,  0.2033],\n",
       "         [ 0.3321,  0.3979],\n",
       "         [ 0.0245,  0.7773],\n",
       "         [-0.0617,  0.4828]],\n",
       "\n",
       "        [[ 0.1330, -0.3879],\n",
       "         [ 0.4764, -0.1934],\n",
       "         [ 0.1688,  0.1860],\n",
       "         [ 0.0826, -0.1084]],\n",
       "\n",
       "        [[ 0.1351, -0.0147],\n",
       "         [ 0.4785,  0.1799],\n",
       "         [ 0.1710,  0.5593],\n",
       "         [ 0.0848,  0.2648]],\n",
       "\n",
       "        [[-0.1285,  0.1937],\n",
       "         [ 0.2149,  0.3882],\n",
       "         [-0.0926,  0.7676],\n",
       "         [-0.1789,  0.4732]],\n",
       "\n",
       "        [[-0.4533, -0.2582],\n",
       "         [-0.1099, -0.0637],\n",
       "         [-0.4174,  0.3158],\n",
       "         [-0.5036,  0.0213]],\n",
       "\n",
       "        [[ 0.0966, -0.0259],\n",
       "         [ 0.4400,  0.1687],\n",
       "         [ 0.1325,  0.5481],\n",
       "         [ 0.0463,  0.2537]],\n",
       "\n",
       "        [[ 0.1753, -0.3991],\n",
       "         [ 0.5187, -0.2046],\n",
       "         [ 0.2112,  0.1749],\n",
       "         [ 0.1250, -0.1196]]])"
      ]
     },
     "execution_count": null,
     "metadata": {},
     "output_type": "execute_result"
    }
   ],
   "source": [
    "P3 = P3.transpose(1,2)\n",
    "P3"
   ]
  },
  {
   "cell_type": "code",
   "execution_count": null,
   "metadata": {},
   "outputs": [
    {
     "data": {
      "text/plain": [
       "torch.Size([7, 4, 2])"
      ]
     },
     "execution_count": null,
     "metadata": {},
     "output_type": "execute_result"
    }
   ],
   "source": [
    "P3.shape"
   ]
  },
  {
   "cell_type": "code",
   "execution_count": null,
   "metadata": {},
   "outputs": [
    {
     "data": {
      "text/plain": [
       "tensor([[0.4837, 0.4100],\n",
       "        [0.1643, 0.2266],\n",
       "        [0.4424, 0.0242],\n",
       "        [0.5446, 0.1634]])"
      ]
     },
     "execution_count": null,
     "metadata": {},
     "output_type": "execute_result"
    }
   ],
   "source": [
    "flows = flow(pointset1)\n",
    "flows"
   ]
  },
  {
   "cell_type": "code",
   "execution_count": null,
   "metadata": {},
   "outputs": [],
   "source": [
    "A = affinity_from_flow(flows,P3)"
   ]
  },
  {
   "cell_type": "code",
   "execution_count": null,
   "metadata": {},
   "outputs": [
    {
     "data": {
      "text/plain": [
       "tensor([[ 0.0779,  0.1447,  0.0296,  0.0453],\n",
       "        [-0.0947,  0.0345,  0.0792,  0.0273],\n",
       "        [ 0.0593,  0.1194,  0.0892,  0.0895],\n",
       "        [ 0.0173,  0.1233, -0.0224, -0.0201],\n",
       "        [-0.3251, -0.0325, -0.1771, -0.2708],\n",
       "        [ 0.0361,  0.1105,  0.0719,  0.0666],\n",
       "        [-0.0788,  0.0389,  0.0976,  0.0485]])"
      ]
     },
     "execution_count": null,
     "metadata": {},
     "output_type": "execute_result"
    }
   ],
   "source": [
    "(P3 * flows).sum(-1)"
   ]
  },
  {
   "cell_type": "code",
   "execution_count": null,
   "metadata": {},
   "outputs": [
    {
     "data": {
      "text/plain": [
       "tensor([[0.6341, 0.2799, 0.4431, 0.5686],\n",
       "        [0.6341, 0.2799, 0.4431, 0.5686],\n",
       "        [0.6341, 0.2799, 0.4431, 0.5686],\n",
       "        [0.6341, 0.2799, 0.4431, 0.5686]])"
      ]
     },
     "execution_count": null,
     "metadata": {},
     "output_type": "execute_result"
    }
   ],
   "source": [
    "torch.linalg.norm(flows,dim=1).repeat(4,1)"
   ]
  },
  {
   "cell_type": "markdown",
   "metadata": {},
   "source": [
    "### Testing the function"
   ]
  },
  {
   "cell_type": "code",
   "execution_count": null,
   "metadata": {},
   "outputs": [],
   "source": [
    "pointset1 = torch.rand(4,2)\n",
    "pointset2 = torch.rand(7,2)\n",
    "def flow(x):\n",
    "  return 5*x**2 - 3*x\n"
   ]
  },
  {
   "cell_type": "code",
   "execution_count": null,
   "metadata": {},
   "outputs": [],
   "source": [
    "P = affinity_matrix_from_pointset_to_pointset(pointset1,pointset2,flow(pointset1))"
   ]
  },
  {
   "cell_type": "code",
   "execution_count": null,
   "metadata": {},
   "outputs": [
    {
     "data": {
      "text/plain": [
       "tensor([[2.9359e-01, 2.9971e-01, 2.9305e-01, 2.9116e-01, 7.2561e-01, 3.6890e-01,\n",
       "         3.6749e-01],\n",
       "        [1.1764e-01, 1.3987e-01, 1.5075e-01, 9.6361e-02, 1.6802e-01, 1.0500e-01,\n",
       "         1.0536e-01],\n",
       "        [4.2554e-03, 2.6905e-03, 5.0466e-04, 7.5815e-03, 1.0698e-03, 1.4281e-03,\n",
       "         1.5151e-03],\n",
       "        [6.2051e-02, 8.0975e-02, 7.8449e-02, 4.4556e-02, 6.7392e-02, 4.0996e-02,\n",
       "         4.1763e-02]])"
      ]
     },
     "execution_count": null,
     "metadata": {},
     "output_type": "execute_result"
    }
   ],
   "source": [
    "P"
   ]
  },
  {
   "cell_type": "code",
   "execution_count": null,
   "metadata": {},
   "outputs": [
    {
     "data": {
      "text/plain": [
       "tensor([2.6395, 0.8830, 0.0190, 0.4162])"
      ]
     },
     "execution_count": null,
     "metadata": {},
     "output_type": "execute_result"
    }
   ],
   "source": [
    "P.sum(axis=1)"
   ]
  },
  {
   "cell_type": "code",
   "execution_count": null,
   "metadata": {},
   "outputs": [
    {
     "data": {
      "text/plain": [
       "tensor([[0.1112, 0.1135, 0.1110, 0.1103, 0.2749, 0.1398, 0.1392],\n",
       "        [0.1332, 0.1584, 0.1707, 0.1091, 0.1903, 0.1189, 0.1193],\n",
       "        [0.2234, 0.1413, 0.0265, 0.3981, 0.0562, 0.0750, 0.0796],\n",
       "        [0.1491, 0.1946, 0.1885, 0.1071, 0.1619, 0.0985, 0.1003]])"
      ]
     },
     "execution_count": null,
     "metadata": {},
     "output_type": "execute_result"
    }
   ],
   "source": [
    "torch.diag(1/P.sum(axis=1)) @ P"
   ]
  },
  {
   "cell_type": "markdown",
   "metadata": {},
   "source": [
    "# Putting the pieces together"
   ]
  },
  {
   "cell_type": "markdown",
   "metadata": {},
   "source": [
    "## The Loss Function: KL Divergence"
   ]
  },
  {
   "cell_type": "markdown",
   "metadata": {},
   "source": [
    "Previously, our network used a frobenius norm between matrices as the loss function. Now, it is comparing probability distributions, rather than distance matrices, and so we want something more robust. \n",
    "\n",
    "We'll start by using the simplest possible divergence: the KL Divergence"
   ]
  },
  {
   "cell_type": "code",
   "execution_count": null,
   "metadata": {},
   "outputs": [],
   "source": [
    "loss = nn.KLDivLoss(reduction = 'batchmean',log_target = False)"
   ]
  },
  {
   "cell_type": "code",
   "execution_count": null,
   "metadata": {},
   "outputs": [],
   "source": [
    "Pg = torch.rand(10,10)\n",
    "Pe = torch.rand(10,10)\n",
    "Pg_log = torch.log(Pg)"
   ]
  },
  {
   "cell_type": "code",
   "execution_count": null,
   "metadata": {},
   "outputs": [
    {
     "data": {
      "text/plain": [
       "tensor(3.1752)"
      ]
     },
     "execution_count": null,
     "metadata": {},
     "output_type": "execute_result"
    }
   ],
   "source": [
    "loss(Pg_log,Pe)"
   ]
  },
  {
   "cell_type": "markdown",
   "metadata": {},
   "source": [
    "### A Gaussian-based flow field\n",
    "\n",
    "As defined in [Vector Field Neural Networks](x-devonthink-item://67DF5481-E16A-4D6C-90D5-C03CAF439BC5)"
   ]
  },
  {
   "cell_type": "code",
   "execution_count": null,
   "metadata": {},
   "outputs": [],
   "source": [
    "#export\n",
    "class GaussianVectorField(nn.Module):\n",
    "  def __init__(self,n_dims, n_gaussians, device, random_initalization = True):\n",
    "    super(GaussianVectorField, self).__init__()\n",
    "    self.n_dims = n_dims\n",
    "    # each gaussian has a mean and a variance, which are initialized randomly, but\n",
    "    # are afterwards tuned by the network\n",
    "    self.means = torch.nn.Parameter(torch.rand(n_gaussians,n_dims)*8 - 4).to(device)\n",
    "    if random_initalization:\n",
    "      vecs = torch.randn(n_gaussians,n_dims)\n",
    "    else:\n",
    "      vecs = torch.ones(n_gaussians,n_dims)\n",
    "    vecs = vecs / torch.linalg.norm(vecs, dim=1)[:,None]\n",
    "    self.vectors = torch.nn.Parameter(vecs).to(device)\n",
    "  def forward(self,points):\n",
    "    # evaluates the vector field at each point\n",
    "    # First, take distances between the points and the means\n",
    "    dist_between_pts_and_means = torch.cdist(points,self.means)\n",
    "    # print(\"distances between points and means\",dist_between_pts_and_means)\n",
    "    # apply kernel to this\n",
    "    # creates n_points x n_means array\n",
    "    kernel_from_mean = torch.exp(-(dist_between_pts_and_means**2))\n",
    "    # print(\"kernalized\",kernel_from_mean)\n",
    "    # multiply kernel value by vectors associated with each Gaussian\n",
    "    kernel_repeated = kernel_from_mean[:,:,None].repeat(1,1,self.n_dims)\n",
    "    # print('kernel repeated has shape',kernel_repeated.shape, 'and vecs has shape', self.vectors.shape)\n",
    "    kernel_times_vectors = kernel_repeated * self.vectors\n",
    "    # creates tensor of shape\n",
    "    # n_points x n_means x n_dims\n",
    "    # collapse along dim 1 to sum vectors along dimension\n",
    "    vector_field = kernel_times_vectors.sum(dim=1)\n",
    "    return vector_field\n",
    "    \n",
    "\n",
    "  \n"
   ]
  },
  {
   "cell_type": "markdown",
   "metadata": {},
   "source": [
    "Testing this does as expected..."
   ]
  },
  {
   "cell_type": "code",
   "execution_count": null,
   "metadata": {},
   "outputs": [
    {
     "data": {
      "image/png": "[encoded data removed]",
      "text/plain": [
       "<Figure size 432x288 with 1 Axes>"
      ]
     },
     "metadata": {
      "needs_background": "light"
     },
     "output_type": "display_data"
    }
   ],
   "source": [
    "K = GaussianVectorField(n_dims = 2, n_gaussians = 70, device = torch.device('cpu'), random_initalization=True)\n",
    "x, y = np.meshgrid(np.linspace(-8,8,30),np.linspace(-8,8,30))\n",
    "x = torch.tensor(x,dtype=float).cpu()\n",
    "y = torch.tensor(y,dtype=float).cpu()\n",
    "xy_t = torch.concat([x[:,:,None],y[:,:,None]],dim=2).float().reshape(900,2)\n",
    "uv = K(xy_t)\n",
    "# uv[uv < 0.9] = 0\n",
    "u = uv[:,0].detach()\n",
    "v = uv[:,1].detach()\n",
    "plt.quiver(x,y,u,v)\n",
    "plt.show()\n",
    "\n"
   ]
  },
  {
   "cell_type": "markdown",
   "metadata": {},
   "source": [
    "## PyTorch Anisotropic Kernel"
   ]
  },
  {
   "cell_type": "code",
   "execution_count": null,
   "metadata": {},
   "outputs": [],
   "source": [
    "#export\n",
    "def anisotropic_kernel(D, sigma=0.7, alpha = 1):\n",
    "  \"\"\"Computes anisotropic kernel of given distances matrix.\n",
    "\n",
    "  Parameters\n",
    "  ----------\n",
    "  D : ndarray or sparse\n",
    "  sigma : float, optional\n",
    "      Kernel bandwidth, by default 0.7\n",
    "  alpha : int, optional\n",
    "      Degree of density normalization, from 0 to 1; by default 1\n",
    "  This is a good function.\n",
    "  \"\"\"\n",
    "  W = torch.exp(-D**2/(2*sigma**2))\n",
    "  # Additional normalization step for density\n",
    "  D = torch.diag(1/(torch.sum(W,axis=1)**alpha)) \n",
    "  W = D @ W @ D\n",
    "  return W"
   ]
  },
  {
   "cell_type": "markdown",
   "metadata": {},
   "source": [
    "## Flow Artist (Flexible Function)"
   ]
  },
  {
   "cell_type": "code",
   "execution_count": null,
   "metadata": {},
   "outputs": [],
   "source": [
    "# export\n",
    "from collections import OrderedDict\n",
    "import torch\n",
    "def FlowArtist(FA_type,dim = 2, num_gauss = 0, shape = [2,4,8,4,2], device = torch.device('cpu')):\n",
    "    # Function to create tailored flow artist\n",
    "    \n",
    "    FA = nn.Sequential()\n",
    "    \n",
    "    if FA_type == \"gaussian\": # default = Gaussian model\n",
    "        FA = GaussianVectorField(dim,num_gauss, device=device)\n",
    "    elif FA_type == \"ReLU\": # ReLu\n",
    "        d_len = len(shape)*2\n",
    "        d = OrderedDict()\n",
    "        d[str(0)] = nn.Linear(shape[0], shape[1])\n",
    "        for i in range(1,d_len-3):\n",
    "            if i%2 == 1:\n",
    "                d[str(i)] = nn.LeakyReLU()\n",
    "            else:\n",
    "                d[str(i)] = nn.Linear(shape[int(i/2)], shape[int(i/2)+1])\n",
    "        # create MLP\n",
    "        FA = nn.Sequential(d)\n",
    "        \n",
    "    elif FA_type == \"tanh\": # ReLu dim,2,4,8,4,2,dim\n",
    "        shape = [2,4,8,4,2]\n",
    "        FA = nn.Sequential(nn.Linear(dim, shape[0]),\n",
    "                           nn.tanh(),\n",
    "                           nn.Linear(shape[0], shape[1]),\n",
    "                           nn.tanh(),\n",
    "                           nn.Linear(shape[1], shape[2]),\n",
    "                           nn.tanh(),\n",
    "                           nn.Linear(shape[2], shape[3]),\n",
    "                           nn.tanh(),\n",
    "                           nn.Linear(shape[3], shape[4]),\n",
    "                           nn.tanh(),\n",
    "                           nn.Linear(shape[4], dim))\n",
    "        \n",
    "    return FA"
   ]
  },
  {
   "cell_type": "markdown",
   "metadata": {},
   "source": [
    "## Smoothness Regularization\n",
    "We want our vector field to be as simple as possible. One means of achieving this is to regularize it by smoothness, to penalize it for changing the direction of the vectors too suddenly. Here, I'll code up a grid-based laplacian normalizer. It will take samples from a grid graph in the support of the points and flow, calculate the  laplacian of the grid, and compute the smoothness via\n",
    "$$ \\frac{v^T L v}{v^T v} $$"
   ]
  },
  {
   "cell_type": "code",
   "execution_count": null,
   "metadata": {},
   "outputs": [],
   "source": [
    "# export\n",
    "def smoothness_of_vector_field(embedded_points, vector_field_function, device, use_grid = True, grid_width = 20):\n",
    "  if use_grid:\n",
    "    # find support of points\n",
    "    minx = (min(embedded_points[:,0])-1).detach()\n",
    "    maxx = (max(embedded_points[:,0])+1).detach()\n",
    "    miny = (min(embedded_points[:,1])-1).detach()\n",
    "    maxy = (max(embedded_points[:,1])+1).detach()\n",
    "    # form grid around points\n",
    "    x, y = torch.meshgrid(torch.linspace(minx,maxx,steps=grid_width),torch.linspace(miny,maxy,steps=grid_width))\n",
    "    xy_t = torch.concat([x[:,:,None],y[:,:,None]],dim=2).float()\n",
    "    xy_t = xy_t.reshape(grid_width**2,2).to(device)\n",
    "    points_to_test = xy_t\n",
    "  else:\n",
    "    points_to_test = embedded_points\n",
    "  # Compute distances between points\n",
    "  # TODO: Can compute A analytically for grid graph, don't need to run kernel\n",
    "  Dists = torch.cdist(points_to_test,points_to_test)\n",
    "  A = anisotropic_kernel(Dists)\n",
    "  # Get degree matrix and build graph laplacian\n",
    "  D = A.sum(axis=1)\n",
    "  L = torch.diag(D) - A\n",
    "  # comment this out in production\n",
    "  # plt.imshow(L)\n",
    "  # print(L)\n",
    "  # compute vector field at each grid point\n",
    "  vecs = vector_field_function(points_to_test)\n",
    "  x_vecs = vecs[:,0]\n",
    "  y_vecs = vecs[:,1]\n",
    "  # compute smoothness of each x and y and add them # TODO: There are other ways this could be done\n",
    "  x_smoothness = (x_vecs.T @ L @ x_vecs) / torch.max(torch.linalg.norm(x_vecs)**2, torch.tensor(1e-5))\n",
    "  y_smoothness = (y_vecs.T @ L @ y_vecs) / torch.max(torch.linalg.norm(y_vecs)**2, torch.tensor(1e-5))\n",
    "  total_smoothness = x_smoothness + y_smoothness\n",
    "  return total_smoothness"
   ]
  },
  {
   "cell_type": "markdown",
   "metadata": {},
   "source": [
    "Testing this on a grid with random data and flows, vs uniform grid and flows:"
   ]
  },
  {
   "cell_type": "code",
   "execution_count": null,
   "metadata": {},
   "outputs": [
    {
     "data": {
      "image/png": "[encoded data removed]",
      "text/plain": [
       "<Figure size 432x288 with 2 Axes>"
      ]
     },
     "metadata": {
      "needs_background": "light"
     },
     "output_type": "display_data"
    }
   ],
   "source": [
    "K = GaussianVectorField(n_dims = 2, n_gaussians = 70, device = torch.device('cpu'), random_initalization=True)\n",
    "x, y = np.meshgrid(np.linspace(-8,8,30),np.linspace(-8,8,30))\n",
    "x = torch.tensor(x,dtype=float).cpu()\n",
    "y = torch.tensor(y,dtype=float).cpu()\n",
    "random_data = torch.concat([x[:,:,None],y[:,:,None]],dim=2).float().reshape(900,2)\n",
    "\n",
    "Kuni = GaussianVectorField(n_dims = 2, n_gaussians = 70, device = torch.device('cpu'), random_initalization=False)\n",
    "\n",
    "random_smoothness = smoothness_of_vector_field(random_data,K, device = torch.device('cpu'), use_grid=True)\n",
    "uniform_smoothness = smoothness_of_vector_field(random_data,Kuni, device = torch.device('cpu'), use_grid=True)\n",
    "\n",
    "uv = K(random_data)\n",
    "# uv[uv < 0.9] = 0\n",
    "u = uv[:,0].detach()\n",
    "v = uv[:,1].detach()\n",
    "\n",
    "uv_uni = Kuni(random_data)\n",
    "# uv[uv < 0.9] = 0\n",
    "u_uni = uv_uni[:,0].detach()\n",
    "v_uni = uv_uni[:,1].detach()\n",
    "\n",
    "fig, axs = plt.subplots(1,2)\n",
    "axs[0].quiver(x,y,u,v)\n",
    "axs[0].set_title(f\"Smoothness: {torch.round(random_smoothness,decimals=1)}\")\n",
    "\n",
    "axs[1].quiver(x,y,u_uni,v_uni)\n",
    "axs[1].set_title(f\"Smoothness: {torch.round(uniform_smoothness,decimals=4)}\")\n",
    "assert uniform_smoothness < random_smoothness\n",
    "\n",
    "plt.show()"
   ]
  },
  {
   "cell_type": "markdown",
   "metadata": {},
   "source": [
    "Now to put the pieces together, into a `FlowEmbedder` Network!"
   ]
  },
  {
   "cell_type": "code",
   "execution_count": null,
   "metadata": {},
   "outputs": [],
   "source": [
    "# export\n",
    "import torch\n",
    "from torch import nn\n",
    "import torch.nn.functional as F\n",
    "from tqdm import trange\n",
    "import numpy as np\n",
    "import matplotlib.pyplot as plt\n",
    "\n",
    "\n",
    "class DiffusionFlowEmbedder(torch.nn.Module):\n",
    "    def __init__(\n",
    "        self,\n",
    "        X,\n",
    "        flows,\n",
    "        t=1,\n",
    "        sigma_graph=0.5,\n",
    "        sigma_embedding=0.5,\n",
    "        embedding_dimension=2,\n",
    "        device=torch.device(\"cpu\"),\n",
    "        autoencoder_shape=[10, 10],\n",
    "        flow_artist=\"gaussian\",\n",
    "        flow_artist_shape=[30, 20, 10],\n",
    "        flow_strength_graph=5,\n",
    "        flow_strength_embedding=5,\n",
    "        learnable_flow_strength=True,\n",
    "        multiscale_loss=True,\n",
    "        weight_of_flow=0.5,\n",
    "        learning_rate=1e-5,\n",
    "        smoothness=1,\n",
    "        embedding_bounds=4,\n",
    "        num_gaussians=25,\n",
    "        labels=None,\n",
    "    ):\n",
    "        \"\"\"Flow Embedding with diffusion\n",
    "\n",
    "        Parameters\n",
    "        ----------\n",
    "        X : torch tensor n_points x n_dim\n",
    "                data matrix\n",
    "        flows : torch tensor n_points x n_dim\n",
    "                The flow at each point\n",
    "        t : int\n",
    "                Loss is computed with the diffusion operator powered to this number\n",
    "        sigma in [0,1]\n",
    "                Kernel bandwidth in the embedding\n",
    "        \"\"\"\n",
    "        # initialize parameters\n",
    "        super(DiffusionFlowEmbedder, self).__init__()\n",
    "        self.X = X\n",
    "        self.ground_truth_flows = flows\n",
    "        self.t = t\n",
    "        self.sigma_embedding = sigma_embedding\n",
    "        self.sigma_graph = sigma_graph\n",
    "        self.nnodes = X.shape[0]\n",
    "        self.data_dimension = X.shape[1]\n",
    "        self.losses = []\n",
    "        self.eps = 0.001\n",
    "        self.weight_of_flow = weight_of_flow\n",
    "        self.smoothness = smoothness\n",
    "        self.embedding_bounds = embedding_bounds  # will constrain embedding to live in -n, n in each dimension\n",
    "        self.labels = labels\n",
    "\n",
    "        if learnable_flow_strength:\n",
    "            self.flow_strength = nn.Parameter(\n",
    "                torch.tensor(flow_strength_embedding).float()\n",
    "            )\n",
    "        else:\n",
    "            self.flow_strength = flow_strength_embedding\n",
    "\n",
    "        self.embedding_dimension = embedding_dimension\n",
    "        # set device (used for shuffling points around during visualization)\n",
    "        self.device = device\n",
    "        # Compute P^t of the graph, the powered diffusion matrix\n",
    "        # TODO: This can be optimized using landmarks, etc. For now it's straight sparse matrix multiplication\n",
    "        # TODO: Migrate to a specialized function for dataset affinity calculation, with automatic kernel bandwidth selection, and the like\n",
    "\n",
    "        self.P_graph = affinity_matrix_from_pointset_to_pointset(\n",
    "            X, X, flows, sigma=sigma_graph, flow_strength=flow_strength_graph\n",
    "        )\n",
    "        # self.P_graph = torch.diag(1/self.P_graph.sum(axis=1)) @ self.P_graph\n",
    "        self.P_graph = F.normalize(self.P_graph, p=1, dim=1)\n",
    "        self.P_graph_t = torch.matrix_power(self.P_graph, self.t)\n",
    "\n",
    "        if multiscale_loss:\n",
    "            self.P_embedding_multiscale = [0, 0, 0, 0]\n",
    "\n",
    "        # Flow field\n",
    "        # Gaussian model\n",
    "        self.FlowArtist = FlowArtist(\n",
    "            FA_type=flow_artist,\n",
    "            dim=self.embedding_dimension,\n",
    "            num_gauss=num_gaussians,\n",
    "            device=device,\n",
    "        )\n",
    "        # Autoencoder to embed the points into a low dimension\n",
    "        self.encoder = nn.Sequential(\n",
    "            nn.Linear(self.data_dimension, autoencoder_shape[0]),\n",
    "            nn.LeakyReLU(),\n",
    "            nn.Linear(autoencoder_shape[0], autoencoder_shape[1]),\n",
    "            nn.LeakyReLU(),\n",
    "            nn.Linear(autoencoder_shape[1], self.embedding_dimension),\n",
    "        )\n",
    "        self.decoder = nn.Sequential(\n",
    "            nn.Linear(self.embedding_dimension, autoencoder_shape[1]),\n",
    "            nn.LeakyReLU(),\n",
    "            nn.Linear(autoencoder_shape[1], autoencoder_shape[0]),\n",
    "            nn.LeakyReLU(),\n",
    "            nn.Linear(autoencoder_shape[0], self.data_dimension),\n",
    "        )\n",
    "        # training ops\n",
    "        self.KLD = nn.KLDivLoss(reduction=\"batchmean\", log_target=False)\n",
    "        self.MSE = nn.MSELoss()\n",
    "        # testing\n",
    "        # self.KLD = nn.NLLLoss()\n",
    "        self.optim = torch.optim.Adam(\n",
    "            self.parameters(),\n",
    "            lr=learning_rate,\n",
    "        )\n",
    "\n",
    "    def compute_embedding_P(self):\n",
    "        A = affinity_matrix_from_pointset_to_pointset(\n",
    "            self.embedded_points,\n",
    "            self.embedded_points,\n",
    "            flows=self.FlowArtist(self.embedded_points),\n",
    "            sigma=self.sigma_embedding,\n",
    "            flow_strength=self.flow_strength,\n",
    "        )\n",
    "        # print(\"affinities \",A)\n",
    "        # flow\n",
    "        self.P_embedding = F.normalize(A, p=1, dim=1)\n",
    "        # power it\n",
    "        self.P_embedding_t = torch.matrix_power(self.P_embedding, self.t)\n",
    "\n",
    "    def loss(self):\n",
    "        self.embedded_points = self.encoder(self.X)\n",
    "        # normalize embedded points to lie within -self.embedding_bounds, self.embedding_bounds\n",
    "        # if any are trying to escape, constrain them to lie on the edges\n",
    "        # self.embedded_points[:,0][torch.abs(self.embedded_points[:,0]) > self.embedding_bounds] = self.embedding_bounds * (self.embedded_points[:,0][torch.abs(self.embedded_points[:,0]) > self.embedding_bounds])/torch.abs(self.embedded_points[:,0][torch.abs(self.embedded_points[:,0]) > self.embedding_bounds])\n",
    "        # self.embedded_points[:,1][torch.abs(self.embedded_points[:,1]) > self.embedding_bounds] = self.embedding_bounds * (self.embedded_points[:,1][torch.abs(self.embedded_points[:,1]) > self.embedding_bounds])/torch.abs(self.embedded_points[:,0][torch.abs(self.embedded_points[:,1]) > self.embedding_bounds])\n",
    "        # print(self.embedded_points)\n",
    "        # compute embedding diffusion matrix\n",
    "        self.compute_embedding_P()\n",
    "        # compute autoencoder loss\n",
    "        X_reconstructed = self.decoder(self.embedded_points)\n",
    "        reconstruction_loss = self.MSE(X_reconstructed, self.X)\n",
    "        # print(\"recon loss\",reconstruction_loss)\n",
    "        # take KL divergence between it and actual P\n",
    "        # print(\"embedding p\",self.P_embedding_t)\n",
    "        log_P_embedding_t = torch.log(self.P_embedding_t)\n",
    "        # print(log_P_embedding_t)\n",
    "        if log_P_embedding_t.is_sparse:\n",
    "            diffusion_loss = self.KLD(\n",
    "                log_P_embedding_t.to_dense(), self.P_graph_t.to_dense()\n",
    "            )\n",
    "        else:\n",
    "            diffusion_loss = self.KLD(log_P_embedding_t, self.P_graph_t)\n",
    "        # print(\"diffusion loss is\",diffusion_loss)\n",
    "        smoothness_loss = self.smoothness * smoothness_of_vector_field(\n",
    "            self.embedded_points, self.FlowArtist, device=self.device, grid_width=20\n",
    "        )\n",
    "        cost = (\n",
    "            self.weight_of_flow * diffusion_loss\n",
    "            + (1 - self.weight_of_flow) * reconstruction_loss\n",
    "            + smoothness_loss\n",
    "        )\n",
    "        # print(f\"cost is KLD {diffusion_loss} with recon {reconstruction_loss}\")\n",
    "        self.losses.append([diffusion_loss, reconstruction_loss, smoothness_loss])\n",
    "        return cost\n",
    "\n",
    "    def visualize_points(self, labels=None):\n",
    "        # controls the x and y axes of the plot\n",
    "        # linspace(min on axis, max on axis, spacing on plot -- large number = more field arrows)\n",
    "        if labels is None:\n",
    "            labels = self.labels\n",
    "        minx = min(self.embedded_points[:, 0].detach().cpu().numpy()) - 1\n",
    "        maxx = max(self.embedded_points[:, 0].detach().cpu().numpy()) + 1\n",
    "        miny = min(self.embedded_points[:, 1].detach().cpu().numpy()) - 1\n",
    "        maxy = max(self.embedded_points[:, 1].detach().cpu().numpy()) + 1\n",
    "        num_grid = 20\n",
    "        x, y = np.meshgrid(\n",
    "            np.linspace(minx, maxx, num_grid), np.linspace(miny, maxy, num_grid)\n",
    "        )\n",
    "        x = torch.tensor(x, dtype=float).cpu()\n",
    "        y = torch.tensor(y, dtype=float).cpu()\n",
    "        xy_t = (\n",
    "            torch.concat([x[:, :, None], y[:, :, None]], dim=2).float().to(self.device)\n",
    "        )  # TODO: cuda/cpu issue\n",
    "        xy_t = xy_t.reshape(num_grid**2, 2)\n",
    "        uv = self.FlowArtist(xy_t).detach()\n",
    "        u = uv[:, 0].cpu()\n",
    "        v = uv[:, 1].cpu()\n",
    "\n",
    "        # quiver\n",
    "        # \tplots a 2D field of arrows\n",
    "        # \tquiver([X, Y], U, V, [C], **kw);\n",
    "        # \tX, Y define the arrow locations, U, V define the arrow directions, and C optionally sets the color.\n",
    "        if labels is not None:\n",
    "            sc = plt.scatter(\n",
    "                self.embedded_points[:, 0].detach().cpu(),\n",
    "                self.embedded_points[:, 1].detach().cpu(),\n",
    "                c=labels,\n",
    "            )\n",
    "            plt.legend()\n",
    "        else:\n",
    "            sc = plt.scatter(\n",
    "                self.embedded_points[:, 0].detach().cpu(),\n",
    "                self.embedded_points[:, 1].detach().cpu(),\n",
    "            )\n",
    "        plt.suptitle(\"Flow Embedding\")\n",
    "        plt.quiver(x, y, u, v)\n",
    "        # Display all open figures.\n",
    "        plt.show()\n",
    "\n",
    "    def visualize_diffusion_matrices(self):\n",
    "        fig, axs = plt.subplots(1, 2)\n",
    "        axs[0].set_title(f\"Ambient $P^{self.t}$\")\n",
    "        axs[0].imshow(self.P_graph_t.detach().cpu().numpy())\n",
    "        axs[1].set_title(f\"Embedding $P^{self.t}$\")\n",
    "        axs[1].imshow(self.P_embedding_t.detach().cpu().numpy())\n",
    "        plt.show()\n",
    "\n",
    "    def fit(self, n_steps=1000):\n",
    "        # train Flow Embedder on the provided graph\n",
    "        self.train()\n",
    "        # self.weight_of_flow = 0\n",
    "        for step in trange(n_steps):\n",
    "            # if step == 100:\n",
    "            # \tself.weight_of_flow = 1\n",
    "            # if step == 200:\n",
    "            # \tself.weight_of_flow = 0.5\n",
    "            self.optim.zero_grad()\n",
    "            # compute loss\n",
    "            loss = self.loss()\n",
    "            # print(\"loss is \",loss)\n",
    "            # compute gradient and step backwards\n",
    "            loss.backward()\n",
    "            self.optim.step()\n",
    "            if step % 100 == 0:\n",
    "                print(\n",
    "                    f\"EPOCH {step}. Loss {loss}. Flow strength {self.flow_strength}. Weight of flow {self.weight_of_flow} Heatmap of P embedding is \"\n",
    "                )\n",
    "                self.visualize_diffusion_matrices()\n",
    "                self.visualize_points()\n",
    "            # TODO: Criteria to automatically end training\n",
    "        print(\"Exiting training with loss \", loss)\n",
    "        return self.embedded_points"
   ]
  },
  {
   "cell_type": "code",
   "execution_count": null,
   "metadata": {},
   "outputs": [
    {
     "name": "stdout",
     "output_type": "stream",
     "text": [
      "Converted 00_core.ipynb.\n",
      "Converted 01d Batch Testing Scripts.ipynb.\n",
      "Converted 01e01 JSON Testing Script.ipynb.\n",
      "Converted 02c Trees.ipynb.\n",
      "Converted 02d01_Snake_TestCase.ipynb.\n",
      "Converted 02d01a_Snake_With5b.ipynb.\n",
      "Converted 02d02 Circles and Swiss roll Datasets.ipynb.\n",
      "Converted 02d02a Testing Diffusion Flow Embedder on Circle and Swiss Roll.ipynb.\n",
      "Converted 02d03 Spheres and Donuts with Flow (datasets).ipynb.\n",
      "Converted 02d04 Tree and Flow Artist Test.ipynb.\n",
      "Converted 02d05 Branch and Clusters.ipynb.\n",
      "Converted 02d05a Testing Branch Clusters Circle Swiss roll.ipynb.\n",
      "Converted 04a UW on RNA Data.ipynb.\n",
      "Converted 05a Testing Distance-based Flow Embedder.ipynb.\n",
      "Converted 05a01 Flow_Embedding_with_Implicit_Vectors.ipynb.\n",
      "Converted 05a02 Model Spaces for Flow Embeddings.ipynb.\n",
      "Converted 05b Flow Embedding with Diffusion.ipynb.\n",
      "Converted 05b01 Testing diffusion flow embedder.ipynb.\n",
      "Converted 05b01a Diffusion Flow Embedding on Pancreas_RNA_Velocity.ipynb.\n",
      "Converted 05b01a01 RNA Velocity Analysis.ipynb.\n",
      "Converted 05b01a02 rna-velo_viz_phate.ipynb.\n",
      "Converted 05b01a03 More_RNA_Velocity_Datasets.ipynb.\n",
      "Converted 05b02 Flow-Artist_Upgrade.ipynb.\n",
      "Converted 05b03 Flow-Artist-Scratch-Upgrade.ipynb.\n",
      "Converted 05b03 Testing the Flow-Affinity Matrix.ipynb.\n",
      "Converted 05b04 Diffusion Flow Embedder on Toy Data.ipynb.\n",
      "Converted 05b05 Test Swiss Roll with New Kernel (7-11).ipynb.\n",
      "Converted 05b05a DFE on the Swiss Roll with Smoothness.ipynb.\n",
      "Converted 05c Multiscale Diffusion Flow Embedding.ipynb.\n",
      "Converted 05c01 Loss functions.ipynb.\n",
      "Converted 05c01a Training Utils for Flow Embedding.ipynb.\n",
      "Converted 05c02 Testing MFE on Swiss Roll.ipynb.\n",
      "Converted 05c03 Testing MFE on RNA Velocity Dataset.ipynb.\n",
      "Converted 05c04 MFE with soft multiscale.ipynb.\n",
      "Converted 05d MFE All Pieces.ipynb.\n",
      "Converted 05d01 MFE All Pieces-2.ipynb.\n",
      "Converted Untitled.ipynb.\n",
      "Converted index.ipynb.\n"
     ]
    }
   ],
   "source": [
    "!nbdev_build_lib"
   ]
  },
  {
   "cell_type": "code",
   "execution_count": null,
   "metadata": {},
   "outputs": [],
   "source": []
  }
 ],
 "metadata": {
  "kernelspec": {
   "display_name": "Python 3 (ipykernel)",
   "language": "python",
   "name": "python3"
  },
  "language_info": {
   "codemirror_mode": {
    "name": "ipython",
    "version": 3
   },
   "file_extension": ".py",
   "mimetype": "text/x-python",
   "name": "python",
   "nbconvert_exporter": "python",
   "pygments_lexer": "ipython3",
   "version": "3.9.13"
  }
 },
 "nbformat": 4,
 "nbformat_minor": 2
}
