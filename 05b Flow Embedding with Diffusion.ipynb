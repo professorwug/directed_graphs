{
 "cells": [
  {
   "cell_type": "code",
   "execution_count": null,
   "metadata": {},
   "outputs": [
    {
     "name": "stdout",
     "output_type": "stream",
     "text": [
      "The autoreload extension is already loaded. To reload it, use:\n",
      "  %reload_ext autoreload\n"
     ]
    }
   ],
   "source": [
    "# default_exp diffusion_flow_embedding\n",
    "from nbdev.showdoc import *\n",
    "import numpy as np\n",
    "%load_ext autoreload\n",
    "%autoreload 2"
   ]
  },
  {
   "cell_type": "code",
   "execution_count": null,
   "metadata": {},
   "outputs": [],
   "source": [
    "# export\n",
    "# hide\n",
    "import torch\n",
    "import torch.nn as nn"
   ]
  },
  {
   "cell_type": "markdown",
   "metadata": {},
   "source": [
    "# Flow Embedding with Diffusion"
   ]
  },
  {
   "cell_type": "markdown",
   "metadata": {},
   "source": [
    "The first generation of the flow embedding network was based around the preservation of distances in the embedding space. It's now obvious that this was the wrong tact. Caring about distance preservation puts most emphasis on far away points (including pathological cases, when there's no connectivity and the distance is \"infinite\"). \n",
    "\n",
    "Affinities do the trick here much better. They naturally emphasize only local distances, and allow the network to heavily discount (if not outright ignore) long-range connectivity. \n",
    "\n",
    "This locality creates a new model of flow. Previously, our network used euclidean lines between points, and used the flow only to determine the length of each line. Going against (and especially, going perpendicular) to the flow was *possible*, just not easy.\n",
    "\n",
    "With the diffusion-based model, we think in terms of probabilities, rather than distances. \n",
    "This has a couple of downstream effects:\n",
    "- Going with the flow is *highly* encouraged. Going against or even perpendicular is given (depending on the kernel function used) a probability close to zero.\n",
    "- Points travel on *paths* dictated by the flow. The likelihood of reaching point $i$ from $j$ is governed not by the *shortest* path, but the aggregate of all paths, weighted by probability. This has the dual effects of diminishing the effect of outliers, and providing an intuitive model of motion. You don't have to reason about which path is \"lowest energy\", just which path is most likely based on the directions of flow."
   ]
  },
  {
   "cell_type": "markdown",
   "metadata": {},
   "source": [
    "## The Pieces of the Algorithm"
   ]
  },
  {
   "cell_type": "markdown",
   "metadata": {},
   "source": [
    "We compute the probabilities of transition between the points with three steps:\n",
    "1. Learn a \"Flow Artist\": a neural network to learn flow over the euclidean field.\n",
    "  - This is currently a function of two variables $F(x,y): \\mathbb{R}^2 \\to \\mathbb{R}$. The direction of flow is the negative gradient $-\\Delta F$.\n",
    "2. Compute the probabilities of transition between the grid points and the embeddings of points.\n",
    "3. Compute the probabilities of transition from grid points to grid points.\n",
    "\n",
    "The probability of transitioning from one point to another is then the amalgam of these steps: we transition to the grid, transition within the grid for $t$ steps, and then transition back to a point. Each probability gives a matrix."
   ]
  },
  {
   "cell_type": "markdown",
   "metadata": {},
   "source": [
    "## Probability Kernel from Flow"
   ]
  },
  {
   "cell_type": "markdown",
   "metadata": {},
   "source": [
    "The foundation of these is the conversion from *flow* (the vector field) to probabilities of transition. This is done using a kernel based on the degree of divergence between the direction specified and the flow, as below, where $r$ is the flow direction (a vector) and $v$ is the direction of the edge.\n",
    "$$ e^{-(\\|r\\|^2 - r \\cdot v)/\\sigma} $$\n",
    "When the flow is aligned with the direction, this returns 1. When it is perpendicular, $e^{-\\|r\\|^2/\\sigma}$, and when against the flow, $e^{-2\\|r\\|^2/\\sigma}$.\n",
    "\n",
    "We should tune $\\sigma$ to ensure that a 45 degree angle returns a quantity significantly above zero."
   ]
  },
  {
   "cell_type": "markdown",
   "metadata": {},
   "source": [
    "We'll create a function that performs this operation on batches of flows and directions. The input will be an array of flows (e.g. the flow per point), and a batch of directions (e.g. NESW for each point). It will, of course, use PyTorch for backpropogation capable operations"
   ]
  },
  {
   "cell_type": "code",
   "execution_count": null,
   "metadata": {},
   "outputs": [
    {
     "data": {
      "text/plain": [
       "tensor([[0.5668, 0.1031],\n",
       "        [0.5688, 0.2608],\n",
       "        [0.1505, 0.9658],\n",
       "        [0.0672, 0.1504],\n",
       "        [0.1563, 0.3747],\n",
       "        [0.1277, 0.6808],\n",
       "        [0.0522, 0.2013],\n",
       "        [0.5926, 0.6849],\n",
       "        [0.8419, 0.6703],\n",
       "        [0.6200, 0.7878]])"
      ]
     },
     "execution_count": null,
     "metadata": {},
     "output_type": "execute_result"
    }
   ],
   "source": [
    "a = torch.rand(10,2)\n",
    "b = torch.rand(4,10,2)\n",
    "a"
   ]
  },
  {
   "cell_type": "code",
   "execution_count": null,
   "metadata": {},
   "outputs": [
    {
     "data": {
      "text/plain": [
       "tensor([[[0.9530, 0.2937],\n",
       "         [0.7524, 0.0793],\n",
       "         [0.5386, 0.4397],\n",
       "         [0.4669, 0.2136],\n",
       "         [0.4663, 0.4151],\n",
       "         [0.6153, 0.6535],\n",
       "         [0.9270, 0.0882],\n",
       "         [0.5931, 0.6416],\n",
       "         [0.2998, 0.1334],\n",
       "         [0.4285, 0.7225]],\n",
       "\n",
       "        [[0.9488, 0.8036],\n",
       "         [0.4646, 0.1190],\n",
       "         [0.8788, 0.5260],\n",
       "         [0.5795, 0.2761],\n",
       "         [0.5914, 0.7297],\n",
       "         [0.6696, 0.6084],\n",
       "         [0.4785, 0.7566],\n",
       "         [0.6287, 0.6731],\n",
       "         [0.7537, 0.6729],\n",
       "         [0.3299, 0.3739]],\n",
       "\n",
       "        [[0.1409, 0.9097],\n",
       "         [0.5348, 0.2897],\n",
       "         [0.6877, 0.2997],\n",
       "         [0.1173, 0.8423],\n",
       "         [0.0262, 0.5296],\n",
       "         [0.2472, 0.7036],\n",
       "         [0.9961, 0.0923],\n",
       "         [0.1740, 0.5372],\n",
       "         [0.7028, 0.2669],\n",
       "         [0.5893, 0.0813]],\n",
       "\n",
       "        [[0.5278, 0.1070],\n",
       "         [0.0328, 0.7166],\n",
       "         [0.6607, 0.0398],\n",
       "         [0.5034, 0.0909],\n",
       "         [0.3156, 0.4437],\n",
       "         [0.3432, 0.0522],\n",
       "         [0.8143, 0.5270],\n",
       "         [0.3105, 0.2161],\n",
       "         [0.9201, 0.5878],\n",
       "         [0.5537, 0.1518]]])"
      ]
     },
     "execution_count": null,
     "metadata": {},
     "output_type": "execute_result"
    }
   ],
   "source": [
    "b"
   ]
  },
  {
   "cell_type": "code",
   "execution_count": null,
   "metadata": {},
   "outputs": [
    {
     "data": {
      "text/plain": [
       "tensor([[[0.5761, 0.5761],\n",
       "         [0.6258, 0.6258],\n",
       "         [0.9774, 0.9774],\n",
       "         [0.1647, 0.1647],\n",
       "         [0.4060, 0.4060],\n",
       "         [0.6927, 0.6927],\n",
       "         [0.2079, 0.2079],\n",
       "         [0.9057, 0.9057],\n",
       "         [1.0762, 1.0762],\n",
       "         [1.0025, 1.0025]],\n",
       "\n",
       "        [[0.5761, 0.5761],\n",
       "         [0.6258, 0.6258],\n",
       "         [0.9774, 0.9774],\n",
       "         [0.1647, 0.1647],\n",
       "         [0.4060, 0.4060],\n",
       "         [0.6927, 0.6927],\n",
       "         [0.2079, 0.2079],\n",
       "         [0.9057, 0.9057],\n",
       "         [1.0762, 1.0762],\n",
       "         [1.0025, 1.0025]],\n",
       "\n",
       "        [[0.5761, 0.5761],\n",
       "         [0.6258, 0.6258],\n",
       "         [0.9774, 0.9774],\n",
       "         [0.1647, 0.1647],\n",
       "         [0.4060, 0.4060],\n",
       "         [0.6927, 0.6927],\n",
       "         [0.2079, 0.2079],\n",
       "         [0.9057, 0.9057],\n",
       "         [1.0762, 1.0762],\n",
       "         [1.0025, 1.0025]],\n",
       "\n",
       "        [[0.5761, 0.5761],\n",
       "         [0.6258, 0.6258],\n",
       "         [0.9774, 0.9774],\n",
       "         [0.1647, 0.1647],\n",
       "         [0.4060, 0.4060],\n",
       "         [0.6927, 0.6927],\n",
       "         [0.2079, 0.2079],\n",
       "         [0.9057, 0.9057],\n",
       "         [1.0762, 1.0762],\n",
       "         [1.0025, 1.0025]]])"
      ]
     },
     "execution_count": null,
     "metadata": {},
     "output_type": "execute_result"
    }
   ],
   "source": [
    "anorm = torch.linalg.norm(a, dim=-1)[:,None].repeat(4,1,2)\n",
    "anorm"
   ]
  },
  {
   "cell_type": "code",
   "execution_count": null,
   "metadata": {},
   "outputs": [
    {
     "data": {
      "text/plain": [
       "tensor([[[0.5490, 0.1692],\n",
       "         [0.4708, 0.0496],\n",
       "         [0.5264, 0.4298],\n",
       "         [0.0769, 0.0352],\n",
       "         [0.1893, 0.1685],\n",
       "         [0.4262, 0.4527],\n",
       "         [0.1928, 0.0183],\n",
       "         [0.5372, 0.5811],\n",
       "         [0.3226, 0.1436],\n",
       "         [0.4296, 0.7243]],\n",
       "\n",
       "        [[0.5466, 0.4629],\n",
       "         [0.2908, 0.0745],\n",
       "         [0.8590, 0.5141],\n",
       "         [0.0954, 0.0455],\n",
       "         [0.2401, 0.2962],\n",
       "         [0.4639, 0.4214],\n",
       "         [0.0995, 0.1573],\n",
       "         [0.5694, 0.6097],\n",
       "         [0.8111, 0.7242],\n",
       "         [0.3307, 0.3748]],\n",
       "\n",
       "        [[0.0812, 0.5241],\n",
       "         [0.3346, 0.1813],\n",
       "         [0.6721, 0.2929],\n",
       "         [0.0193, 0.1387],\n",
       "         [0.0106, 0.2150],\n",
       "         [0.1712, 0.4874],\n",
       "         [0.2071, 0.0192],\n",
       "         [0.1576, 0.4866],\n",
       "         [0.7563, 0.2872],\n",
       "         [0.5908, 0.0815]],\n",
       "\n",
       "        [[0.3041, 0.0617],\n",
       "         [0.0205, 0.4485],\n",
       "         [0.6457, 0.0389],\n",
       "         [0.0829, 0.0150],\n",
       "         [0.1281, 0.1801],\n",
       "         [0.2378, 0.0361],\n",
       "         [0.1693, 0.1096],\n",
       "         [0.2812, 0.1957],\n",
       "         [0.9902, 0.6326],\n",
       "         [0.5551, 0.1521]]])"
      ]
     },
     "execution_count": null,
     "metadata": {},
     "output_type": "execute_result"
    }
   ],
   "source": [
    "b * anorm"
   ]
  },
  {
   "cell_type": "code",
   "execution_count": null,
   "metadata": {},
   "outputs": [],
   "source": []
  },
  {
   "cell_type": "code",
   "execution_count": null,
   "metadata": {},
   "outputs": [],
   "source": [
    "#export\n",
    "import torch.nn.functional as F\n",
    "def affinity_from_flow(flows, directions_array, flow_strength = 1, sigma=1):\n",
    "  \"\"\"Compute probabilities of transition in the given directions based on the flow. \n",
    "\n",
    "  Parameters\n",
    "  ----------\n",
    "  flows : torch tensor of shape n_points x n_dims\n",
    "      _description_\n",
    "  directions_array : torch tensor of shape n_directions x n_points x n_dims. Assumed to be normalized.\n",
    "      _description_\n",
    "  sigma : int, optional\n",
    "      kernel bandwidth, by default 1\n",
    "  returns (n_points)\n",
    "  \"\"\"\n",
    "  assert len(flows.shape) == 2 # flows should only have one dimension\n",
    "  assert len(directions_array.shape) > 1 and len(directions_array.shape) < 4\n",
    "  n_directions = directions_array.shape[0]\n",
    "  # Normalize directions\n",
    "  length_of_directions = torch.linalg.norm(directions_array,dim=-1)\n",
    "  normed_directions = F.normalize(directions_array,dim=-1)\n",
    "  # and normalize flows # TODO: Perhaps reconsider\n",
    "  # Calculate flow lengths, used to scale directions to flow\n",
    "  flow_lengths = torch.linalg.norm(flows,dim=-1)\n",
    "\n",
    "  if len(directions_array) == 1: # convert to 2d array if necessary\n",
    "    directions_array = directions_array[:,None] \n",
    "  # scale directions to have same norm as flow\n",
    "  scaled_directions = normed_directions * flow_lengths[:,None].repeat(directions_array.shape[0],1,directions_array.shape[2])\n",
    "  # compute dot products as matrix multiplication\n",
    "  dot_products = (normed_directions * flows).sum(-1)\n",
    "  # take distance between flow projected onto direction and the direction\n",
    "  distance_from_flow = (torch.linalg.norm(flows,dim=1)**2).repeat(n_directions,1) - dot_products\n",
    "  # take absolute value\n",
    "  distance_from_flow = torch.abs(distance_from_flow)\n",
    "  # print('shape of dff',distance_from_flow.shape)\n",
    "  # add to this the length of each direction\n",
    "  distance_from_flow = flow_strength*distance_from_flow + length_of_directions\n",
    "  # put the points on rows, directions in columns\n",
    "  distance_from_flow = distance_from_flow.T\n",
    "  # take kernel of distances\n",
    "  kernel =  torch.exp(-distance_from_flow/sigma)\n",
    "  # normalize kernel\n",
    "  # kernel /= torch.sum(kernel,axis=1)\n",
    "  return kernel\n",
    "  \n",
    "  "
   ]
  },
  {
   "cell_type": "markdown",
   "metadata": {},
   "source": [
    "### A Sample Computation"
   ]
  },
  {
   "cell_type": "code",
   "execution_count": null,
   "metadata": {},
   "outputs": [],
   "source": [
    "flows = torch.rand(4,2) # Flows for each of 4 points\n",
    "directions_array = torch.rand(7,4,2) # 7 directions, for each of the four points"
   ]
  },
  {
   "cell_type": "code",
   "execution_count": null,
   "metadata": {},
   "outputs": [],
   "source": [
    "normed_directions = directions_array / torch.linalg.norm(directions_array,dim=-1)[:,:,None]"
   ]
  },
  {
   "cell_type": "code",
   "execution_count": null,
   "metadata": {},
   "outputs": [
    {
     "data": {
      "text/plain": [
       "tensor([[[0.9980, 0.0626],\n",
       "         [0.7762, 0.6305],\n",
       "         [0.1708, 0.9853],\n",
       "         [0.9905, 0.1378]],\n",
       "\n",
       "        [[0.5274, 0.8496],\n",
       "         [0.5053, 0.8630],\n",
       "         [0.8528, 0.5222],\n",
       "         [0.5200, 0.8542]],\n",
       "\n",
       "        [[0.5692, 0.8222],\n",
       "         [0.9300, 0.3674],\n",
       "         [0.7630, 0.6464],\n",
       "         [0.4001, 0.9165]],\n",
       "\n",
       "        [[0.9890, 0.1478],\n",
       "         [0.1190, 0.9929],\n",
       "         [0.1989, 0.9800],\n",
       "         [0.9526, 0.3042]],\n",
       "\n",
       "        [[0.7475, 0.6642],\n",
       "         [0.8298, 0.5580],\n",
       "         [0.0988, 0.9951],\n",
       "         [0.9544, 0.2984]],\n",
       "\n",
       "        [[0.6544, 0.7562],\n",
       "         [0.4590, 0.8884],\n",
       "         [0.7186, 0.6955],\n",
       "         [0.9781, 0.2080]],\n",
       "\n",
       "        [[0.5365, 0.8439],\n",
       "         [0.6988, 0.7153],\n",
       "         [0.4870, 0.8734],\n",
       "         [0.7343, 0.6788]]])"
      ]
     },
     "execution_count": null,
     "metadata": {},
     "output_type": "execute_result"
    }
   ],
   "source": [
    "import torch.nn.functional as F\n",
    "F.normalize(directions_array,dim=-1)"
   ]
  },
  {
   "cell_type": "code",
   "execution_count": null,
   "metadata": {},
   "outputs": [
    {
     "data": {
      "text/plain": [
       "tensor([[[0.4421, 0.0277],\n",
       "         [0.6008, 0.4879],\n",
       "         [0.0498, 0.2873],\n",
       "         [0.6282, 0.0874]],\n",
       "\n",
       "        [[0.6058, 0.9760],\n",
       "         [0.1854, 0.3167],\n",
       "         [0.8326, 0.5097],\n",
       "         [0.5126, 0.8421]],\n",
       "\n",
       "        [[0.1633, 0.2358],\n",
       "         [0.8610, 0.3401],\n",
       "         [0.9691, 0.8209],\n",
       "         [0.3555, 0.8143]],\n",
       "\n",
       "        [[0.5779, 0.0864],\n",
       "         [0.0899, 0.7499],\n",
       "         [0.2011, 0.9909],\n",
       "         [0.4637, 0.1481]],\n",
       "\n",
       "        [[0.2360, 0.2097],\n",
       "         [0.8874, 0.5967],\n",
       "         [0.0393, 0.3954],\n",
       "         [0.9884, 0.3090]],\n",
       "\n",
       "        [[0.7247, 0.8374],\n",
       "         [0.4183, 0.8096],\n",
       "         [0.6184, 0.5985],\n",
       "         [0.5155, 0.1096]],\n",
       "\n",
       "        [[0.6166, 0.9700],\n",
       "         [0.5961, 0.6102],\n",
       "         [0.4685, 0.8403],\n",
       "         [0.2911, 0.2690]]])"
      ]
     },
     "execution_count": null,
     "metadata": {},
     "output_type": "execute_result"
    }
   ],
   "source": [
    "directions_array"
   ]
  },
  {
   "cell_type": "code",
   "execution_count": null,
   "metadata": {},
   "outputs": [
    {
     "data": {
      "text/plain": [
       "torch.Size([7, 4, 2])"
      ]
     },
     "execution_count": null,
     "metadata": {},
     "output_type": "execute_result"
    }
   ],
   "source": [
    "normed_directions.shape"
   ]
  },
  {
   "cell_type": "code",
   "execution_count": null,
   "metadata": {},
   "outputs": [
    {
     "data": {
      "text/plain": [
       "array([[1.        , 0.99999994, 1.        , 0.99999994],\n",
       "       [1.        , 1.        , 1.        , 1.        ],\n",
       "       [1.        , 0.99999994, 1.        , 0.99999994],\n",
       "       [1.        , 0.99999994, 0.99999994, 1.        ],\n",
       "       [1.        , 1.        , 0.99999994, 0.99999994],\n",
       "       [0.99999994, 0.99999994, 1.        , 1.        ],\n",
       "       [1.        , 1.        , 1.        , 1.        ]], dtype=float32)"
      ]
     },
     "execution_count": null,
     "metadata": {},
     "output_type": "execute_result"
    }
   ],
   "source": [
    "np.linalg.norm(normed_directions,axis=-1)"
   ]
  },
  {
   "cell_type": "markdown",
   "metadata": {},
   "source": [
    "Next, take a dot product between the directions and the flow, to get a strength of flow at each point in each direction"
   ]
  },
  {
   "cell_type": "code",
   "execution_count": null,
   "metadata": {},
   "outputs": [
    {
     "data": {
      "text/plain": [
       "torch.Size([7, 4])"
      ]
     },
     "execution_count": null,
     "metadata": {},
     "output_type": "execute_result"
    }
   ],
   "source": [
    "dot_products = (directions_array * flows).sum(-1)\n",
    "dot_products.shape"
   ]
  },
  {
   "cell_type": "markdown",
   "metadata": {},
   "source": [
    "Convert these dot products into distances by subtracting the norm squared of the flows from the dot product with the flow. If exactly with the flow, we get zero."
   ]
  },
  {
   "cell_type": "code",
   "execution_count": null,
   "metadata": {},
   "outputs": [
    {
     "data": {
      "text/plain": [
       "tensor([[ 2.4433e-02, -1.4061e-01,  9.6673e-01,  1.5066e-01],\n",
       "        [-2.4675e-01,  6.8784e-02,  1.4797e-01, -1.7392e-01],\n",
       "        [ 2.6034e-03, -2.0166e-01, -1.8653e-01, -8.0555e-02],\n",
       "        [-7.3938e-03, -1.2968e-02,  3.4349e-01,  2.0287e-01],\n",
       "        [ 8.0901e-04, -2.8254e-01,  8.9955e-01, -1.4349e-01],\n",
       "        [-2.2420e-01, -1.5773e-01,  2.6667e-01,  1.9627e-01],\n",
       "        [-2.4645e-01, -1.7239e-01,  2.2329e-01,  2.2862e-01]])"
      ]
     },
     "execution_count": null,
     "metadata": {},
     "output_type": "execute_result"
    }
   ],
   "source": [
    "distance_from_flow = (torch.linalg.norm(flows,dim=1)**2).repeat(7,1) - dot_products\n",
    "distance_from_flow"
   ]
  },
  {
   "cell_type": "markdown",
   "metadata": {},
   "source": [
    "### Testing"
   ]
  },
  {
   "cell_type": "markdown",
   "metadata": {},
   "source": [
    "To ensure this is working as expected, we'll try computations on a single sample point, with flow going in direction (1,1). We'll compare this with six directions: one with, one against, and the rest in the shape of a grid."
   ]
  },
  {
   "cell_type": "code",
   "execution_count": null,
   "metadata": {},
   "outputs": [],
   "source": [
    "flow = torch.tensor([[1,1]]).float()\n",
    "directions = torch.tensor([\n",
    "  [[0.7,0.7]],\n",
    "  [[0,1]],\n",
    "  [[1,0]],\n",
    "  [[0,-1]],\n",
    "  [[-1,0]],\n",
    "  [[-0.7,-0.7]]\n",
    "]).float()\n",
    "probs = affinity_from_flow(flow,directions,sigma=0.5)"
   ]
  },
  {
   "cell_type": "code",
   "execution_count": null,
   "metadata": {},
   "outputs": [
    {
     "data": {
      "text/plain": [
       "tensor([[0.0428, 0.0183, 0.0183, 0.0003, 0.0003, 0.0001]])"
      ]
     },
     "execution_count": null,
     "metadata": {},
     "output_type": "execute_result"
    }
   ],
   "source": [
    "probs"
   ]
  },
  {
   "cell_type": "markdown",
   "metadata": {},
   "source": [
    "If this went according to plan, the direction with the flow should have probability 1, and the one against should have probability near zero."
   ]
  },
  {
   "cell_type": "code",
   "execution_count": null,
   "metadata": {},
   "outputs": [
    {
     "data": {
      "text/plain": [
       "[<matplotlib.lines.Line2D at 0x16d528c70>]"
      ]
     },
     "execution_count": null,
     "metadata": {},
     "output_type": "execute_result"
    },
    {
     "data": {
      "image/png": "[encoded data removed]",
      "text/plain": [
       "<Figure size 432x288 with 1 Axes>"
      ]
     },
     "metadata": {
      "needs_background": "light"
     },
     "output_type": "display_data"
    }
   ],
   "source": [
    "import matplotlib.pyplot as plt\n",
    "plt.plot(probs[0])"
   ]
  },
  {
   "cell_type": "markdown",
   "metadata": {},
   "source": [
    "$\\sigma=0.5$ works well here. In particular, the 45 degree angles have fairly high probability, while still being less than the probability of going straight."
   ]
  },
  {
   "cell_type": "markdown",
   "metadata": {},
   "source": [
    "This should look like a 3-dimensional pacman"
   ]
  },
  {
   "cell_type": "code",
   "execution_count": null,
   "metadata": {},
   "outputs": [],
   "source": [
    "flow = torch.tensor([[1,1]]).float()\n",
    "x, y = np.meshgrid(np.linspace(-5,5,20),np.linspace(-5,5,20))\n",
    "x = torch.tensor(x,dtype=float).cpu()\n",
    "y = torch.tensor(y,dtype=float).cpu()\n",
    "xy_t = torch.concat([x[:,:,None],y[:,:,None]],dim=2).float()"
   ]
  },
  {
   "cell_type": "code",
   "execution_count": null,
   "metadata": {},
   "outputs": [],
   "source": [
    "directions_array = xy_t.reshape(400,1,2)\n",
    "flows = affinity_from_flow(flow, directions_array,flow_strength=2)"
   ]
  },
  {
   "cell_type": "code",
   "execution_count": null,
   "metadata": {},
   "outputs": [],
   "source": [
    "length_of_directions = torch.linalg.norm(directions_array,dim=-1)\n",
    "normed_directions = directions_array / length_of_directions[:,:,None]"
   ]
  },
  {
   "cell_type": "code",
   "execution_count": null,
   "metadata": {},
   "outputs": [
    {
     "data": {
      "text/plain": [
       "torch.Size([400, 1, 2])"
      ]
     },
     "execution_count": null,
     "metadata": {},
     "output_type": "execute_result"
    }
   ],
   "source": [
    "normed_directions.shape"
   ]
  },
  {
   "cell_type": "code",
   "execution_count": null,
   "metadata": {},
   "outputs": [],
   "source": [
    "flows = flows.reshape(20,20)"
   ]
  },
  {
   "cell_type": "code",
   "execution_count": null,
   "metadata": {},
   "outputs": [
    {
     "data": {
      "text/plain": [
       "<matplotlib.image.AxesImage at 0x16d554a00>"
      ]
     },
     "execution_count": null,
     "metadata": {},
     "output_type": "execute_result"
    },
    {
     "data": {
      "image/png": "[encoded data removed]",
      "text/plain": [
       "<Figure size 432x288 with 1 Axes>"
      ]
     },
     "metadata": {
      "needs_background": "light"
     },
     "output_type": "display_data"
    }
   ],
   "source": [
    "plt.imshow(flows)"
   ]
  },
  {
   "cell_type": "code",
   "execution_count": null,
   "metadata": {},
   "outputs": [
    {
     "data": {
      "image/png": "[encoded data removed]",
      "text/plain": [
       "<Figure size 432x288 with 1 Axes>"
      ]
     },
     "metadata": {
      "needs_background": "light"
     },
     "output_type": "display_data"
    }
   ],
   "source": [
    "fig = plt.figure()\n",
    "ax = fig.add_subplot(111, projection='3d')\n",
    "\n",
    "ax.plot_surface(x,y,flows)\n",
    "\n",
    "ax.set_xlabel('X Label')\n",
    "ax.set_ylabel('Y Label')\n",
    "ax.set_zlabel('Z Label')\n",
    "\n",
    "plt.show()"
   ]
  },
  {
   "cell_type": "code",
   "execution_count": null,
   "metadata": {},
   "outputs": [
    {
     "data": {
      "text/plain": [
       "tensor(0.2136)"
      ]
     },
     "execution_count": null,
     "metadata": {},
     "output_type": "execute_result"
    }
   ],
   "source": [
    "torch.max(flows)"
   ]
  },
  {
   "cell_type": "code",
   "execution_count": null,
   "metadata": {},
   "outputs": [],
   "source": [
    "X = np.column_stack([x.reshape(400),y.reshape(400),flows.reshape(400)*4])"
   ]
  },
  {
   "cell_type": "code",
   "execution_count": null,
   "metadata": {},
   "outputs": [
    {
     "data": {
      "application/vnd.plotly.v1+json": {
       "config": {
        "plotlyServerURL": "https://plot.ly"
       },
       "data": [
        {
         "hovertemplate": "x=%{x}<br>y=%{y}<br>z=%{z}<br>colors=%{marker.color}<extra></extra>",
         "legendgroup": "",
         "marker": {
          "color": [
           9.194463359563088e-07,
           1.3260472542242496e-06,
           1.8890586943598464e-06,
           2.6569512101559667e-06,
           3.688009655888891e-06,
           5.049475930718472e-06,
           6.8132731030345894e-06,
           9.044379112310708e-06,
           1.1776625797210727e-05,
           1.4972821190895047e-05,
           1.8475993783795275e-05,
           2.19763442146359e-05,
           2.503103496565018e-05,
           2.7158599550602958e-05,
           2.7983905965811573e-05,
           2.7364090783521533e-05,
           2.542962829465978e-05,
           2.252566446259152e-05,
           1.9094142771791667e-05,
           1.5555942809442058e-05,
           1.3260472542242496e-06,
           1.9354467895027483e-06,
           2.79096911981469e-06,
           3.975181698478991e-06,
           5.591942226601532e-06,
           7.769575859128963e-06,
           1.0660603038559202e-05,
           1.4429532711801585e-05,
           1.921254261105787e-05,
           2.5030627512023784e-05,
           3.1657917133998126e-05,
           3.8501770177390426e-05,
           4.4609281758312136e-05,
           4.8889163736021146e-05,
           5.048958337283693e-05,
           4.91232167405542e-05,
           4.5144592149881646e-05,
           3.93649643228855e-05,
           3.274549817433581e-05,
           2.6132171115023084e-05,
           1.8890586943598464e-06,
           2.79096911981469e-06,
           4.074149273947114e-06,
           5.875178885617061e-06,
           8.372504453291185e-06,
           1.180059462058125e-05,
           1.6466618035337888e-05,
           2.27552682190435e-05,
           3.108034798060544e-05,
           4.17113296862226e-05,
           5.442632391350344e-05,
           6.810424383729696e-05,
           8.061690459726378e-05,
           8.937819802667946e-05,
           9.240058716386557e-05,
           8.915787475416437e-05,
           8.067735325312242e-05,
           6.892984674777836e-05,
           5.602177407126874e-05,
           4.362410254543647e-05,
           2.6569512101559667e-06,
           3.975181698478991e-06,
           5.875178885617061e-06,
           8.576146683481056e-06,
           1.2372001947369426e-05,
           1.7669066437520087e-05,
           2.5050378098967485e-05,
           3.5356995795154944e-05,
           4.970197915099561e-05,
           6.918953295098618e-05,
           9.403208969160914e-05,
           0.00012217856419738382,
           0.00014862290117889643,
           0.00016688223695382476,
           0.00017219952133018523,
           0.0001638915273360908,
           0.0001450983836548403,
           0.0001207223249366507,
           9.534497075947002e-05,
           7.212551281554624e-05,
           3.688009655888891e-06,
           5.591942226601532e-06,
           8.372504453291185e-06,
           1.2372001947369426e-05,
           1.8052920495392755e-05,
           2.6074143534060568e-05,
           3.746014044736512e-05,
           5.391580634750426e-05,
           7.820135942893103e-05,
           0.00011397508205845952,
           0.00016371422680094838,
           0.0002240246976725757,
           0.0002822051174007356,
           0.0003207876579836011,
           0.00032828940311446786,
           0.0003054343396797776,
           0.00026216680998913944,
           0.00021072907838970423,
           0.00016071100253611803,
           0.00011754146544262767,
           5.049475930718472e-06,
           7.769575859128963e-06,
           1.180059462058125e-05,
           1.7669066437520087e-05,
           2.6074143534060568e-05,
           3.8001675420673564e-05,
           5.5062209867173806e-05,
           8.03614457254298e-05,
           0.00012019962014164776,
           0.00018565375648904592,
           0.0002887641021516174,
           0.00042584037873893976,
           0.0005606549675576389,
           0.000641767168417573,
           0.0006429439526982605,
           0.0005763834924437106,
           0.00047370430547744036,
           0.0003643526288215071,
           0.0002664983330760151,
           0.00018758565420284867,
           6.8132731030345894e-06,
           1.0660603038559202e-05,
           1.6466618035337888e-05,
           2.5050378098967485e-05,
           3.746014044736512e-05,
           5.5062209867173806e-05,
           7.999411172932014e-05,
           0.00011695599096128717,
           0.0001786147040547803,
           0.0002964747545775026,
           0.0005219894228503108,
           0.0008634261903353035,
           0.001196014229208231,
           0.001353406929410994,
           0.0012944904156029224,
           0.0010943585075438023,
           0.0008479090174660087,
           0.0006177402683533728,
           0.0004306382033973932,
           0.00029068635194562376,
           9.044379112310708e-06,
           1.4429532711801585e-05,
           2.27552682190435e-05,
           3.5356995795154944e-05,
           5.391580634750426e-05,
           8.03614457254298e-05,
           0.00011695599096128717,
           0.00016838900046423078,
           0.0002539333945605904,
           0.00045498734107241035,
           0.0009969837265089154,
           0.001988339936360717,
           0.002848943928256631,
           0.003031253581866622,
           0.002652249066159129,
           0.002056763507425785,
           0.0014786407118663192,
           0.0010118449572473764,
           0.0006696394411846995,
           0.00043287157313898206,
           1.1776625797210727e-05,
           1.921254261105787e-05,
           3.108034798060544e-05,
           4.970197915099561e-05,
           7.820135942893103e-05,
           0.00012019962014164776,
           0.0001786147040547803,
           0.0002539333945605904,
           0.00035446143010631204,
           0.0006349270115606487,
           0.002249406650662422,
           0.005997070576995611,
           0.007840392179787159,
           0.007057255133986473,
           0.005344840232282877,
           0.0037083474453538656,
           0.002449427731335163,
           0.0015701053198426962,
           0.0009870275389403105,
           0.0006122670019976795,
           1.4972821190895047e-05,
           2.5030627512023784e-05,
           4.17113296862226e-05,
           6.918953295098618e-05,
           0.00011397508205845952,
           0.00018565375648904592,
           0.0002964747545775026,
           0.00045498734107241035,
           0.0006349270115606487,
           0.0007461467757821083,
           0.012623925693333149,
           0.028232909739017487,
           0.022984890267252922,
           0.015549128875136375,
           0.009891378693282604,
           0.006121435202658176,
           0.003733373014256358,
           0.002257272833958268,
           0.0013572251191362739,
           0.0008129813941195607,
           1.8475993783795275e-05,
           3.1657917133998126e-05,
           5.442632391350344e-05,
           9.403208969160914e-05,
           0.00016371422680094838,
           0.0002887641021516174,
           0.0005219894228503108,
           0.0009969837265089154,
           0.002249406650662422,
           0.012623925693333149,
           0.21358205378055573,
           0.10002291202545166,
           0.05036527290940285,
           0.027376635000109673,
           0.015384957194328308,
           0.00879285205155611,
           0.005073841195553541,
           0.0029453658498823643,
           0.0017165737226605415,
           0.0010031935526058078,
           2.19763442146359e-05,
           3.8501770177390426e-05,
           6.810424383729696e-05,
           0.00012217856419738382,
           0.0002240246976725757,
           0.00042584037873893976,
           0.0008634261903353035,
           0.001988339936360717,
           0.005997070576995611,
           0.028232909739017487,
           0.10002291202545166,
           0.10146340727806091,
           0.06139153987169266,
           0.03411486744880676,
           0.01893557794392109,
           0.010623367503285408,
           0.006021234206855297,
           0.003440468106418848,
           0.001977995503693819,
           0.0011425515403971076,
           2.503103496565018e-05,
           4.4609281758312136e-05,
           8.061690459726378e-05,
           0.00014862290117889643,
           0.0002822051174007356,
           0.0005606549675576389,
           0.001196014229208231,
           0.002848943928256631,
           0.007840392179787159,
           0.022984890267252922,
           0.05036527290940285,
           0.06139153987169266,
           0.04820077866315842,
           0.030998190864920616,
           0.018503865227103233,
           0.010765483602881432,
           0.006215456407517195,
           0.00358474045060575,
           0.002070208080112934,
           0.0011980062117800117,
           2.7158599550602958e-05,
           4.8889163736021146e-05,
           8.937819802667946e-05,
           0.00016688223695382476,
           0.0003207876579836011,
           0.000641767168417573,
           0.001353406929410994,
           0.003031253581866622,
           0.007057255133986473,
           0.015549128875136375,
           0.027376635000109673,
           0.03411486744880676,
           0.030998190864920616,
           0.02289806492626667,
           0.015087687410414219,
           0.009371473453938961,
           0.005648653022944927,
           0.0033529968932271004,
           0.0019748902413994074,
           0.0011587144108489156,
           2.7983905965811573e-05,
           5.048958337283693e-05,
           9.240058716386557e-05,
           0.00017219952133018523,
           0.00032828940311446786,
           0.0006429439526982605,
           0.0012944904156029224,
           0.002652249066159129,
           0.005344840232282877,
           0.009891378693282604,
           0.015384957194328308,
           0.01893557794392109,
           0.018503865227103233,
           0.015087687410414219,
           0.010877860710024834,
           0.007257020100951195,
           0.004616640508174896,
           0.0028529393021017313,
           0.001731803291477263,
           0.0010395895224064589,
           2.7364090783521533e-05,
           4.91232167405542e-05,
           8.915787475416437e-05,
           0.0001638915273360908,
           0.0003054343396797776,
           0.0005763834924437106,
           0.0010943585075438023,
           0.002056763507425785,
           0.0037083474453538656,
           0.006121435202658176,
           0.00879285205155611,
           0.010623367503285408,
           0.010765483602881432,
           0.009371473453938961,
           0.007257020100951195,
           0.005167589522898197,
           0.0034729158505797386,
           0.002244028728455305,
           0.0014117881655693054,
           0.0008721276535652578,
           2.542962829465978e-05,
           4.5144592149881646e-05,
           8.067735325312242e-05,
           0.0001450983836548403,
           0.00026216680998913944,
           0.00047370430547744036,
           0.0008479090174660087,
           0.0014786407118663192,
           0.002449427731335163,
           0.003733373014256358,
           0.005073841195553541,
           0.006021234206855297,
           0.006215456407517195,
           0.005648653022944927,
           0.004616640508174896,
           0.0034729158505797386,
           0.0024548941291868687,
           0.0016577474307268858,
           0.0010827957885339856,
           0.0006903118919581175,
           2.252566446259152e-05,
           3.93649643228855e-05,
           6.892984674777836e-05,
           0.0001207223249366507,
           0.00021072907838970423,
           0.0003643526288215071,
           0.0006177402683533728,
           0.0010118449572473764,
           0.0015701053198426962,
           0.002257272833958268,
           0.0029453658498823643,
           0.003440468106418848,
           0.00358474045060575,
           0.0033529968932271004,
           0.0028529393021017313,
           0.002244028728455305,
           0.0016577474307268858,
           0.0011662119068205357,
           0.0007901538629084826,
           0.0005201862659305334,
           1.9094142771791667e-05,
           3.274549817433581e-05,
           5.602177407126874e-05,
           9.534497075947002e-05,
           0.00016071100253611803,
           0.0002664983330760151,
           0.0004306382033973932,
           0.0006696394411846995,
           0.0009870275389403105,
           0.0013572251191362739,
           0.0017165737226605415,
           0.001977995503693819,
           0.002070208080112934,
           0.0019748902413994074,
           0.001731803291477263,
           0.0014117881655693054,
           0.0010827957885339856,
           0.0007901538629084826,
           0.0005540155689232051,
           0.00037628517020493746,
           1.5555942809442058e-05,
           2.6132171115023084e-05,
           4.362410254543647e-05,
           7.212551281554624e-05,
           0.00011754146544262767,
           0.00018758565420284867,
           0.00029068635194562376,
           0.00043287157313898206,
           0.0006122670019976795,
           0.0008129813941195607,
           0.0010031935526058078,
           0.0011425515403971076,
           0.0011980062117800117,
           0.0011587144108489156,
           0.0010395895224064589,
           0.0008721276535652578,
           0.0006903118919581175,
           0.0005201862659305334,
           0.00037628517020493746,
           0.00026318838354200125
          ],
          "coloraxis": "coloraxis",
          "symbol": "circle"
         },
         "mode": "markers",
         "name": "",
         "scene": "scene",
         "showlegend": false,
         "type": "scatter3d",
         "x": [
          -5,
          -4.473684210526316,
          -3.947368421052632,
          -3.4210526315789473,
          -2.8947368421052633,
          -2.368421052631579,
          -1.8421052631578947,
          -1.3157894736842106,
          -0.7894736842105265,
          -0.2631578947368425,
          0.2631578947368416,
          0.7894736842105257,
          1.3157894736842106,
          1.8421052631578947,
          2.3684210526315788,
          2.894736842105263,
          3.421052631578947,
          3.947368421052632,
          4.473684210526315,
          5,
          -5,
          -4.473684210526316,
          -3.947368421052632,
          -3.4210526315789473,
          -2.8947368421052633,
          -2.368421052631579,
          -1.8421052631578947,
          -1.3157894736842106,
          -0.7894736842105265,
          -0.2631578947368425,
          0.2631578947368416,
          0.7894736842105257,
          1.3157894736842106,
          1.8421052631578947,
          2.3684210526315788,
          2.894736842105263,
          3.421052631578947,
          3.947368421052632,
          4.473684210526315,
          5,
          -5,
          -4.473684210526316,
          -3.947368421052632,
          -3.4210526315789473,
          -2.8947368421052633,
          -2.368421052631579,
          -1.8421052631578947,
          -1.3157894736842106,
          -0.7894736842105265,
          -0.2631578947368425,
          0.2631578947368416,
          0.7894736842105257,
          1.3157894736842106,
          1.8421052631578947,
          2.3684210526315788,
          2.894736842105263,
          3.421052631578947,
          3.947368421052632,
          4.473684210526315,
          5,
          -5,
          -4.473684210526316,
          -3.947368421052632,
          -3.4210526315789473,
          -2.8947368421052633,
          -2.368421052631579,
          -1.8421052631578947,
          -1.3157894736842106,
          -0.7894736842105265,
          -0.2631578947368425,
          0.2631578947368416,
          0.7894736842105257,
          1.3157894736842106,
          1.8421052631578947,
          2.3684210526315788,
          2.894736842105263,
          3.421052631578947,
          3.947368421052632,
          4.473684210526315,
          5,
          -5,
          -4.473684210526316,
          -3.947368421052632,
          -3.4210526315789473,
          -2.8947368421052633,
          -2.368421052631579,
          -1.8421052631578947,
          -1.3157894736842106,
          -0.7894736842105265,
          -0.2631578947368425,
          0.2631578947368416,
          0.7894736842105257,
          1.3157894736842106,
          1.8421052631578947,
          2.3684210526315788,
          2.894736842105263,
          3.421052631578947,
          3.947368421052632,
          4.473684210526315,
          5,
          -5,
          -4.473684210526316,
          -3.947368421052632,
          -3.4210526315789473,
          -2.8947368421052633,
          -2.368421052631579,
          -1.8421052631578947,
          -1.3157894736842106,
          -0.7894736842105265,
          -0.2631578947368425,
          0.2631578947368416,
          0.7894736842105257,
          1.3157894736842106,
          1.8421052631578947,
          2.3684210526315788,
          2.894736842105263,
          3.421052631578947,
          3.947368421052632,
          4.473684210526315,
          5,
          -5,
          -4.473684210526316,
          -3.947368421052632,
          -3.4210526315789473,
          -2.8947368421052633,
          -2.368421052631579,
          -1.8421052631578947,
          -1.3157894736842106,
          -0.7894736842105265,
          -0.2631578947368425,
          0.2631578947368416,
          0.7894736842105257,
          1.3157894736842106,
          1.8421052631578947,
          2.3684210526315788,
          2.894736842105263,
          3.421052631578947,
          3.947368421052632,
          4.473684210526315,
          5,
          -5,
          -4.473684210526316,
          -3.947368421052632,
          -3.4210526315789473,
          -2.8947368421052633,
          -2.368421052631579,
          -1.8421052631578947,
          -1.3157894736842106,
          -0.7894736842105265,
          -0.2631578947368425,
          0.2631578947368416,
          0.7894736842105257,
          1.3157894736842106,
          1.8421052631578947,
          2.3684210526315788,
          2.894736842105263,
          3.421052631578947,
          3.947368421052632,
          4.473684210526315,
          5,
          -5,
          -4.473684210526316,
          -3.947368421052632,
          -3.4210526315789473,
          -2.8947368421052633,
          -2.368421052631579,
          -1.8421052631578947,
          -1.3157894736842106,
          -0.7894736842105265,
          -0.2631578947368425,
          0.2631578947368416,
          0.7894736842105257,
          1.3157894736842106,
          1.8421052631578947,
          2.3684210526315788,
          2.894736842105263,
          3.421052631578947,
          3.947368421052632,
          4.473684210526315,
          5,
          -5,
          -4.473684210526316,
          -3.947368421052632,
          -3.4210526315789473,
          -2.8947368421052633,
          -2.368421052631579,
          -1.8421052631578947,
          -1.3157894736842106,
          -0.7894736842105265,
          -0.2631578947368425,
          0.2631578947368416,
          0.7894736842105257,
          1.3157894736842106,
          1.8421052631578947,
          2.3684210526315788,
          2.894736842105263,
          3.421052631578947,
          3.947368421052632,
          4.473684210526315,
          5,
          -5,
          -4.473684210526316,
          -3.947368421052632,
          -3.4210526315789473,
          -2.8947368421052633,
          -2.368421052631579,
          -1.8421052631578947,
          -1.3157894736842106,
          -0.7894736842105265,
          -0.2631578947368425,
          0.2631578947368416,
          0.7894736842105257,
          1.3157894736842106,
          1.8421052631578947,
          2.3684210526315788,
          2.894736842105263,
          3.421052631578947,
          3.947368421052632,
          4.473684210526315,
          5,
          -5,
          -4.473684210526316,
          -3.947368421052632,
          -3.4210526315789473,
          -2.8947368421052633,
          -2.368421052631579,
          -1.8421052631578947,
          -1.3157894736842106,
          -0.7894736842105265,
          -0.2631578947368425,
          0.2631578947368416,
          0.7894736842105257,
          1.3157894736842106,
          1.8421052631578947,
          2.3684210526315788,
          2.894736842105263,
          3.421052631578947,
          3.947368421052632,
          4.473684210526315,
          5,
          -5,
          -4.473684210526316,
          -3.947368421052632,
          -3.4210526315789473,
          -2.8947368421052633,
          -2.368421052631579,
          -1.8421052631578947,
          -1.3157894736842106,
          -0.7894736842105265,
          -0.2631578947368425,
          0.2631578947368416,
          0.7894736842105257,
          1.3157894736842106,
          1.8421052631578947,
          2.3684210526315788,
          2.894736842105263,
          3.421052631578947,
          3.947368421052632,
          4.473684210526315,
          5,
          -5,
          -4.473684210526316,
          -3.947368421052632,
          -3.4210526315789473,
          -2.8947368421052633,
          -2.368421052631579,
          -1.8421052631578947,
          -1.3157894736842106,
          -0.7894736842105265,
          -0.2631578947368425,
          0.2631578947368416,
          0.7894736842105257,
          1.3157894736842106,
          1.8421052631578947,
          2.3684210526315788,
          2.894736842105263,
          3.421052631578947,
          3.947368421052632,
          4.473684210526315,
          5,
          -5,
          -4.473684210526316,
          -3.947368421052632,
          -3.4210526315789473,
          -2.8947368421052633,
          -2.368421052631579,
          -1.8421052631578947,
          -1.3157894736842106,
          -0.7894736842105265,
          -0.2631578947368425,
          0.2631578947368416,
          0.7894736842105257,
          1.3157894736842106,
          1.8421052631578947,
          2.3684210526315788,
          2.894736842105263,
          3.421052631578947,
          3.947368421052632,
          4.473684210526315,
          5,
          -5,
          -4.473684210526316,
          -3.947368421052632,
          -3.4210526315789473,
          -2.8947368421052633,
          -2.368421052631579,
          -1.8421052631578947,
          -1.3157894736842106,
          -0.7894736842105265,
          -0.2631578947368425,
          0.2631578947368416,
          0.7894736842105257,
          1.3157894736842106,
          1.8421052631578947,
          2.3684210526315788,
          2.894736842105263,
          3.421052631578947,
          3.947368421052632,
          4.473684210526315,
          5,
          -5,
          -4.473684210526316,
          -3.947368421052632,
          -3.4210526315789473,
          -2.8947368421052633,
          -2.368421052631579,
          -1.8421052631578947,
          -1.3157894736842106,
          -0.7894736842105265,
          -0.2631578947368425,
          0.2631578947368416,
          0.7894736842105257,
          1.3157894736842106,
          1.8421052631578947,
          2.3684210526315788,
          2.894736842105263,
          3.421052631578947,
          3.947368421052632,
          4.473684210526315,
          5,
          -5,
          -4.473684210526316,
          -3.947368421052632,
          -3.4210526315789473,
          -2.8947368421052633,
          -2.368421052631579,
          -1.8421052631578947,
          -1.3157894736842106,
          -0.7894736842105265,
          -0.2631578947368425,
          0.2631578947368416,
          0.7894736842105257,
          1.3157894736842106,
          1.8421052631578947,
          2.3684210526315788,
          2.894736842105263,
          3.421052631578947,
          3.947368421052632,
          4.473684210526315,
          5,
          -5,
          -4.473684210526316,
          -3.947368421052632,
          -3.4210526315789473,
          -2.8947368421052633,
          -2.368421052631579,
          -1.8421052631578947,
          -1.3157894736842106,
          -0.7894736842105265,
          -0.2631578947368425,
          0.2631578947368416,
          0.7894736842105257,
          1.3157894736842106,
          1.8421052631578947,
          2.3684210526315788,
          2.894736842105263,
          3.421052631578947,
          3.947368421052632,
          4.473684210526315,
          5,
          -5,
          -4.473684210526316,
          -3.947368421052632,
          -3.4210526315789473,
          -2.8947368421052633,
          -2.368421052631579,
          -1.8421052631578947,
          -1.3157894736842106,
          -0.7894736842105265,
          -0.2631578947368425,
          0.2631578947368416,
          0.7894736842105257,
          1.3157894736842106,
          1.8421052631578947,
          2.3684210526315788,
          2.894736842105263,
          3.421052631578947,
          3.947368421052632,
          4.473684210526315,
          5
         ],
         "y": [
          -5,
          -5,
          -5,
          -5,
          -5,
          -5,
          -5,
          -5,
          -5,
          -5,
          -5,
          -5,
          -5,
          -5,
          -5,
          -5,
          -5,
          -5,
          -5,
          -5,
          -4.473684210526316,
          -4.473684210526316,
          -4.473684210526316,
          -4.473684210526316,
          -4.473684210526316,
          -4.473684210526316,
          -4.473684210526316,
          -4.473684210526316,
          -4.473684210526316,
          -4.473684210526316,
          -4.473684210526316,
          -4.473684210526316,
          -4.473684210526316,
          -4.473684210526316,
          -4.473684210526316,
          -4.473684210526316,
          -4.473684210526316,
          -4.473684210526316,
          -4.473684210526316,
          -4.473684210526316,
          -3.947368421052632,
          -3.947368421052632,
          -3.947368421052632,
          -3.947368421052632,
          -3.947368421052632,
          -3.947368421052632,
          -3.947368421052632,
          -3.947368421052632,
          -3.947368421052632,
          -3.947368421052632,
          -3.947368421052632,
          -3.947368421052632,
          -3.947368421052632,
          -3.947368421052632,
          -3.947368421052632,
          -3.947368421052632,
          -3.947368421052632,
          -3.947368421052632,
          -3.947368421052632,
          -3.947368421052632,
          -3.4210526315789473,
          -3.4210526315789473,
          -3.4210526315789473,
          -3.4210526315789473,
          -3.4210526315789473,
          -3.4210526315789473,
          -3.4210526315789473,
          -3.4210526315789473,
          -3.4210526315789473,
          -3.4210526315789473,
          -3.4210526315789473,
          -3.4210526315789473,
          -3.4210526315789473,
          -3.4210526315789473,
          -3.4210526315789473,
          -3.4210526315789473,
          -3.4210526315789473,
          -3.4210526315789473,
          -3.4210526315789473,
          -3.4210526315789473,
          -2.8947368421052633,
          -2.8947368421052633,
          -2.8947368421052633,
          -2.8947368421052633,
          -2.8947368421052633,
          -2.8947368421052633,
          -2.8947368421052633,
          -2.8947368421052633,
          -2.8947368421052633,
          -2.8947368421052633,
          -2.8947368421052633,
          -2.8947368421052633,
          -2.8947368421052633,
          -2.8947368421052633,
          -2.8947368421052633,
          -2.8947368421052633,
          -2.8947368421052633,
          -2.8947368421052633,
          -2.8947368421052633,
          -2.8947368421052633,
          -2.368421052631579,
          -2.368421052631579,
          -2.368421052631579,
          -2.368421052631579,
          -2.368421052631579,
          -2.368421052631579,
          -2.368421052631579,
          -2.368421052631579,
          -2.368421052631579,
          -2.368421052631579,
          -2.368421052631579,
          -2.368421052631579,
          -2.368421052631579,
          -2.368421052631579,
          -2.368421052631579,
          -2.368421052631579,
          -2.368421052631579,
          -2.368421052631579,
          -2.368421052631579,
          -2.368421052631579,
          -1.8421052631578947,
          -1.8421052631578947,
          -1.8421052631578947,
          -1.8421052631578947,
          -1.8421052631578947,
          -1.8421052631578947,
          -1.8421052631578947,
          -1.8421052631578947,
          -1.8421052631578947,
          -1.8421052631578947,
          -1.8421052631578947,
          -1.8421052631578947,
          -1.8421052631578947,
          -1.8421052631578947,
          -1.8421052631578947,
          -1.8421052631578947,
          -1.8421052631578947,
          -1.8421052631578947,
          -1.8421052631578947,
          -1.8421052631578947,
          -1.3157894736842106,
          -1.3157894736842106,
          -1.3157894736842106,
          -1.3157894736842106,
          -1.3157894736842106,
          -1.3157894736842106,
          -1.3157894736842106,
          -1.3157894736842106,
          -1.3157894736842106,
          -1.3157894736842106,
          -1.3157894736842106,
          -1.3157894736842106,
          -1.3157894736842106,
          -1.3157894736842106,
          -1.3157894736842106,
          -1.3157894736842106,
          -1.3157894736842106,
          -1.3157894736842106,
          -1.3157894736842106,
          -1.3157894736842106,
          -0.7894736842105265,
          -0.7894736842105265,
          -0.7894736842105265,
          -0.7894736842105265,
          -0.7894736842105265,
          -0.7894736842105265,
          -0.7894736842105265,
          -0.7894736842105265,
          -0.7894736842105265,
          -0.7894736842105265,
          -0.7894736842105265,
          -0.7894736842105265,
          -0.7894736842105265,
          -0.7894736842105265,
          -0.7894736842105265,
          -0.7894736842105265,
          -0.7894736842105265,
          -0.7894736842105265,
          -0.7894736842105265,
          -0.7894736842105265,
          -0.2631578947368425,
          -0.2631578947368425,
          -0.2631578947368425,
          -0.2631578947368425,
          -0.2631578947368425,
          -0.2631578947368425,
          -0.2631578947368425,
          -0.2631578947368425,
          -0.2631578947368425,
          -0.2631578947368425,
          -0.2631578947368425,
          -0.2631578947368425,
          -0.2631578947368425,
          -0.2631578947368425,
          -0.2631578947368425,
          -0.2631578947368425,
          -0.2631578947368425,
          -0.2631578947368425,
          -0.2631578947368425,
          -0.2631578947368425,
          0.2631578947368416,
          0.2631578947368416,
          0.2631578947368416,
          0.2631578947368416,
          0.2631578947368416,
          0.2631578947368416,
          0.2631578947368416,
          0.2631578947368416,
          0.2631578947368416,
          0.2631578947368416,
          0.2631578947368416,
          0.2631578947368416,
          0.2631578947368416,
          0.2631578947368416,
          0.2631578947368416,
          0.2631578947368416,
          0.2631578947368416,
          0.2631578947368416,
          0.2631578947368416,
          0.2631578947368416,
          0.7894736842105257,
          0.7894736842105257,
          0.7894736842105257,
          0.7894736842105257,
          0.7894736842105257,
          0.7894736842105257,
          0.7894736842105257,
          0.7894736842105257,
          0.7894736842105257,
          0.7894736842105257,
          0.7894736842105257,
          0.7894736842105257,
          0.7894736842105257,
          0.7894736842105257,
          0.7894736842105257,
          0.7894736842105257,
          0.7894736842105257,
          0.7894736842105257,
          0.7894736842105257,
          0.7894736842105257,
          1.3157894736842106,
          1.3157894736842106,
          1.3157894736842106,
          1.3157894736842106,
          1.3157894736842106,
          1.3157894736842106,
          1.3157894736842106,
          1.3157894736842106,
          1.3157894736842106,
          1.3157894736842106,
          1.3157894736842106,
          1.3157894736842106,
          1.3157894736842106,
          1.3157894736842106,
          1.3157894736842106,
          1.3157894736842106,
          1.3157894736842106,
          1.3157894736842106,
          1.3157894736842106,
          1.3157894736842106,
          1.8421052631578947,
          1.8421052631578947,
          1.8421052631578947,
          1.8421052631578947,
          1.8421052631578947,
          1.8421052631578947,
          1.8421052631578947,
          1.8421052631578947,
          1.8421052631578947,
          1.8421052631578947,
          1.8421052631578947,
          1.8421052631578947,
          1.8421052631578947,
          1.8421052631578947,
          1.8421052631578947,
          1.8421052631578947,
          1.8421052631578947,
          1.8421052631578947,
          1.8421052631578947,
          1.8421052631578947,
          2.3684210526315788,
          2.3684210526315788,
          2.3684210526315788,
          2.3684210526315788,
          2.3684210526315788,
          2.3684210526315788,
          2.3684210526315788,
          2.3684210526315788,
          2.3684210526315788,
          2.3684210526315788,
          2.3684210526315788,
          2.3684210526315788,
          2.3684210526315788,
          2.3684210526315788,
          2.3684210526315788,
          2.3684210526315788,
          2.3684210526315788,
          2.3684210526315788,
          2.3684210526315788,
          2.3684210526315788,
          2.894736842105263,
          2.894736842105263,
          2.894736842105263,
          2.894736842105263,
          2.894736842105263,
          2.894736842105263,
          2.894736842105263,
          2.894736842105263,
          2.894736842105263,
          2.894736842105263,
          2.894736842105263,
          2.894736842105263,
          2.894736842105263,
          2.894736842105263,
          2.894736842105263,
          2.894736842105263,
          2.894736842105263,
          2.894736842105263,
          2.894736842105263,
          2.894736842105263,
          3.421052631578947,
          3.421052631578947,
          3.421052631578947,
          3.421052631578947,
          3.421052631578947,
          3.421052631578947,
          3.421052631578947,
          3.421052631578947,
          3.421052631578947,
          3.421052631578947,
          3.421052631578947,
          3.421052631578947,
          3.421052631578947,
          3.421052631578947,
          3.421052631578947,
          3.421052631578947,
          3.421052631578947,
          3.421052631578947,
          3.421052631578947,
          3.421052631578947,
          3.947368421052632,
          3.947368421052632,
          3.947368421052632,
          3.947368421052632,
          3.947368421052632,
          3.947368421052632,
          3.947368421052632,
          3.947368421052632,
          3.947368421052632,
          3.947368421052632,
          3.947368421052632,
          3.947368421052632,
          3.947368421052632,
          3.947368421052632,
          3.947368421052632,
          3.947368421052632,
          3.947368421052632,
          3.947368421052632,
          3.947368421052632,
          3.947368421052632,
          4.473684210526315,
          4.473684210526315,
          4.473684210526315,
          4.473684210526315,
          4.473684210526315,
          4.473684210526315,
          4.473684210526315,
          4.473684210526315,
          4.473684210526315,
          4.473684210526315,
          4.473684210526315,
          4.473684210526315,
          4.473684210526315,
          4.473684210526315,
          4.473684210526315,
          4.473684210526315,
          4.473684210526315,
          4.473684210526315,
          4.473684210526315,
          4.473684210526315,
          5,
          5,
          5,
          5,
          5,
          5,
          5,
          5,
          5,
          5,
          5,
          5,
          5,
          5,
          5,
          5,
          5,
          5,
          5,
          5
         ],
         "z": [
          3.677785343825235e-06,
          5.3041890168969985e-06,
          7.556234777439386e-06,
          1.0627804840623867e-05,
          1.4752038623555563e-05,
          2.019790372287389e-05,
          2.7253092412138358e-05,
          3.617751644924283e-05,
          4.710650318884291e-05,
          5.989128476358019e-05,
          7.39039751351811e-05,
          8.79053768585436e-05,
          0.00010012413986260071,
          0.00010863439820241183,
          0.00011193562386324629,
          0.00010945636313408613,
          0.00010171851317863911,
          9.010265785036609e-05,
          7.637657108716667e-05,
          6.222377123776823e-05,
          5.3041890168969985e-06,
          7.741787158010993e-06,
          1.116387647925876e-05,
          1.5900726793915965e-05,
          2.2367768906406127e-05,
          3.107830343651585e-05,
          4.264241215423681e-05,
          5.771813084720634e-05,
          7.685017044423148e-05,
          0.00010012251004809514,
          0.0001266316685359925,
          0.0001540070807095617,
          0.00017843712703324854,
          0.00019555665494408458,
          0.00020195833349134773,
          0.0001964928669622168,
          0.00018057836859952658,
          0.000157459857291542,
          0.00013098199269734323,
          0.00010452868446009234,
          7.556234777439386e-06,
          1.116387647925876e-05,
          1.6296597095788456e-05,
          2.3500715542468242e-05,
          3.349001781316474e-05,
          4.7202378482325e-05,
          6.586647214135155e-05,
          9.1021072876174e-05,
          0.00012432139192242175,
          0.0001668453187448904,
          0.00021770529565401375,
          0.00027241697534918785,
          0.00032246761838905513,
          0.0003575127921067178,
          0.00036960234865546227,
          0.00035663149901665747,
          0.0003227094130124897,
          0.0002757193869911134,
          0.00022408709628507495,
          0.0001744964101817459,
          1.0627804840623867e-05,
          1.5900726793915965e-05,
          2.3500715542468242e-05,
          3.4304586733924225e-05,
          4.9488007789477706e-05,
          7.067626575008035e-05,
          0.00010020151239586994,
          0.00014142798318061978,
          0.00019880791660398245,
          0.0002767581318039447,
          0.0003761283587664366,
          0.0004887142567895353,
          0.0005944916047155857,
          0.000667528947815299,
          0.0006887980853207409,
          0.0006555661093443632,
          0.0005803935346193612,
          0.0004828892997466028,
          0.00038137988303788006,
          0.000288502051262185,
          1.4752038623555563e-05,
          2.2367768906406127e-05,
          3.349001781316474e-05,
          4.9488007789477706e-05,
          7.221168198157102e-05,
          0.00010429657413624227,
          0.00014984056178946048,
          0.00021566322539001703,
          0.0003128054377157241,
          0.0004559003282338381,
          0.0006548569072037935,
          0.0008960987906903028,
          0.0011288204696029425,
          0.0012831506319344044,
          0.0013131576124578714,
          0.0012217373587191105,
          0.0010486672399565578,
          0.0008429163135588169,
          0.0006428440101444721,
          0.0004701658617705107,
          2.019790372287389e-05,
          3.107830343651585e-05,
          4.7202378482325e-05,
          7.067626575008035e-05,
          0.00010429657413624227,
          0.00015200670168269426,
          0.00022024883946869522,
          0.0003214457829017192,
          0.000480798480566591,
          0.0007426150259561837,
          0.0011550564086064696,
          0.001703361514955759,
          0.0022426198702305555,
          0.002567068673670292,
          0.002571775810793042,
          0.0023055339697748423,
          0.0018948172219097614,
          0.0014574105152860284,
          0.0010659933323040605,
          0.0007503426168113947,
          2.7253092412138358e-05,
          4.264241215423681e-05,
          6.586647214135155e-05,
          0.00010020151239586994,
          0.00014984056178946048,
          0.00022024883946869522,
          0.00031997644691728055,
          0.0004678239638451487,
          0.0007144588162191212,
          0.0011858990183100104,
          0.002087957691401243,
          0.003453704761341214,
          0.004784056916832924,
          0.005413627717643976,
          0.00517796166241169,
          0.004377434030175209,
          0.0033916360698640347,
          0.0024709610734134912,
          0.001722552813589573,
          0.001162745407782495,
          3.617751644924283e-05,
          5.771813084720634e-05,
          9.1021072876174e-05,
          0.00014142798318061978,
          0.00021566322539001703,
          0.0003214457829017192,
          0.0004678239638451487,
          0.0006735560018569231,
          0.0010157335782423615,
          0.0018199493642896414,
          0.003987934906035662,
          0.007953359745442867,
          0.011395775713026524,
          0.012125014327466488,
          0.010608996264636517,
          0.00822705402970314,
          0.005914562847465277,
          0.004047379828989506,
          0.002678557764738798,
          0.0017314862925559282,
          4.710650318884291e-05,
          7.685017044423148e-05,
          0.00012432139192242175,
          0.00019880791660398245,
          0.0003128054377157241,
          0.000480798480566591,
          0.0007144588162191212,
          0.0010157335782423615,
          0.0014178457204252481,
          0.0025397080462425947,
          0.008997626602649689,
          0.023988282307982445,
          0.031361568719148636,
          0.028229020535945892,
          0.021379360929131508,
          0.014833389781415462,
          0.009797710925340652,
          0.006280421279370785,
          0.003948110155761242,
          0.002449068007990718,
          5.989128476358019e-05,
          0.00010012251004809514,
          0.0001668453187448904,
          0.0002767581318039447,
          0.0004559003282338381,
          0.0007426150259561837,
          0.0011858990183100104,
          0.0018199493642896414,
          0.0025397080462425947,
          0.0029845871031284332,
          0.050495702773332596,
          0.11293163895606995,
          0.09193956106901169,
          0.0621965155005455,
          0.03956551477313042,
          0.024485740810632706,
          0.014933492057025433,
          0.009029091335833073,
          0.0054289004765450954,
          0.003251925576478243,
          7.39039751351811e-05,
          0.0001266316685359925,
          0.00021770529565401375,
          0.0003761283587664366,
          0.0006548569072037935,
          0.0011550564086064696,
          0.002087957691401243,
          0.003987934906035662,
          0.008997626602649689,
          0.050495702773332596,
          0.8543282151222229,
          0.40009164810180664,
          0.2014610916376114,
          0.10950654000043869,
          0.06153982877731323,
          0.03517140820622444,
          0.020295364782214165,
          0.011781463399529457,
          0.006866294890642166,
          0.004012774210423231,
          8.79053768585436e-05,
          0.0001540070807095617,
          0.00027241697534918785,
          0.0004887142567895353,
          0.0008960987906903028,
          0.001703361514955759,
          0.003453704761341214,
          0.007953359745442867,
          0.023988282307982445,
          0.11293163895606995,
          0.40009164810180664,
          0.40585362911224365,
          0.24556615948677063,
          0.13645946979522705,
          0.07574231177568436,
          0.04249347001314163,
          0.02408493682742119,
          0.013761872425675392,
          0.007911982014775276,
          0.00457020616158843,
          0.00010012413986260071,
          0.00017843712703324854,
          0.00032246761838905513,
          0.0005944916047155857,
          0.0011288204696029425,
          0.0022426198702305555,
          0.004784056916832924,
          0.011395775713026524,
          0.031361568719148636,
          0.09193956106901169,
          0.2014610916376114,
          0.24556615948677063,
          0.19280311465263367,
          0.12399276345968246,
          0.07401546090841293,
          0.043061934411525726,
          0.02486182563006878,
          0.014338961802423,
          0.008280832320451736,
          0.004792024847120047,
          0.00010863439820241183,
          0.00019555665494408458,
          0.0003575127921067178,
          0.000667528947815299,
          0.0012831506319344044,
          0.002567068673670292,
          0.005413627717643976,
          0.012125014327466488,
          0.028229020535945892,
          0.0621965155005455,
          0.10950654000043869,
          0.13645946979522705,
          0.12399276345968246,
          0.09159225970506668,
          0.060350749641656876,
          0.037485893815755844,
          0.02259461209177971,
          0.013411987572908401,
          0.00789956096559763,
          0.004634857643395662,
          0.00011193562386324629,
          0.00020195833349134773,
          0.00036960234865546227,
          0.0006887980853207409,
          0.0013131576124578714,
          0.002571775810793042,
          0.00517796166241169,
          0.010608996264636517,
          0.021379360929131508,
          0.03956551477313042,
          0.06153982877731323,
          0.07574231177568436,
          0.07401546090841293,
          0.060350749641656876,
          0.043511442840099335,
          0.02902808040380478,
          0.018466562032699585,
          0.011411757208406925,
          0.006927213165909052,
          0.004158358089625835,
          0.00010945636313408613,
          0.0001964928669622168,
          0.00035663149901665747,
          0.0006555661093443632,
          0.0012217373587191105,
          0.0023055339697748423,
          0.004377434030175209,
          0.00822705402970314,
          0.014833389781415462,
          0.024485740810632706,
          0.03517140820622444,
          0.04249347001314163,
          0.043061934411525726,
          0.037485893815755844,
          0.02902808040380478,
          0.02067035809159279,
          0.013891663402318954,
          0.00897611491382122,
          0.005647152662277222,
          0.003488510614261031,
          0.00010171851317863911,
          0.00018057836859952658,
          0.0003227094130124897,
          0.0005803935346193612,
          0.0010486672399565578,
          0.0018948172219097614,
          0.0033916360698640347,
          0.005914562847465277,
          0.009797710925340652,
          0.014933492057025433,
          0.020295364782214165,
          0.02408493682742119,
          0.02486182563006878,
          0.02259461209177971,
          0.018466562032699585,
          0.013891663402318954,
          0.009819576516747475,
          0.006630989722907543,
          0.0043311831541359425,
          0.00276124756783247,
          9.010265785036609e-05,
          0.000157459857291542,
          0.0002757193869911134,
          0.0004828892997466028,
          0.0008429163135588169,
          0.0014574105152860284,
          0.0024709610734134912,
          0.004047379828989506,
          0.006280421279370785,
          0.009029091335833073,
          0.011781463399529457,
          0.013761872425675392,
          0.014338961802423,
          0.013411987572908401,
          0.011411757208406925,
          0.00897611491382122,
          0.006630989722907543,
          0.004664847627282143,
          0.00316061545163393,
          0.0020807450637221336,
          7.637657108716667e-05,
          0.00013098199269734323,
          0.00022408709628507495,
          0.00038137988303788006,
          0.0006428440101444721,
          0.0010659933323040605,
          0.001722552813589573,
          0.002678557764738798,
          0.003948110155761242,
          0.0054289004765450954,
          0.006866294890642166,
          0.007911982014775276,
          0.008280832320451736,
          0.00789956096559763,
          0.006927213165909052,
          0.005647152662277222,
          0.0043311831541359425,
          0.00316061545163393,
          0.0022160622756928205,
          0.0015051406808197498,
          6.222377123776823e-05,
          0.00010452868446009234,
          0.0001744964101817459,
          0.000288502051262185,
          0.0004701658617705107,
          0.0007503426168113947,
          0.001162745407782495,
          0.0017314862925559282,
          0.002449068007990718,
          0.003251925576478243,
          0.004012774210423231,
          0.00457020616158843,
          0.004792024847120047,
          0.004634857643395662,
          0.004158358089625835,
          0.003488510614261031,
          0.00276124756783247,
          0.0020807450637221336,
          0.0015051406808197498,
          0.001052753534168005
         ]
        }
       ],
       "layout": {
        "coloraxis": {
         "colorbar": {
          "title": {
           "text": "colors"
          }
         },
         "colorscale": [
          [
           0,
           "#0d0887"
          ],
          [
           0.1111111111111111,
           "#46039f"
          ],
          [
           0.2222222222222222,
           "#7201a8"
          ],
          [
           0.3333333333333333,
           "#9c179e"
          ],
          [
           0.4444444444444444,
           "#bd3786"
          ],
          [
           0.5555555555555556,
           "#d8576b"
          ],
          [
           0.6666666666666666,
           "#ed7953"
          ],
          [
           0.7777777777777778,
           "#fb9f3a"
          ],
          [
           0.8888888888888888,
           "#fdca26"
          ],
          [
           1,
           "#f0f921"
          ]
         ]
        },
        "legend": {
         "tracegroupgap": 0
        },
        "margin": {
         "t": 60
        },
        "scene": {
         "domain": {
          "x": [
           0,
           1
          ],
          "y": [
           0,
           1
          ]
         },
         "xaxis": {
          "range": [
           -7.0710678902334125,
           7.0710678902334125
          ],
          "title": {
           "text": "x"
          }
         },
         "yaxis": {
          "range": [
           -7.0710678902334125,
           7.0710678902334125
          ],
          "title": {
           "text": "y"
          }
         },
         "zaxis": {
          "range": [
           -7.0710678902334125,
           7.0710678902334125
          ],
          "title": {
           "text": "z"
          }
         }
        },
        "template": {
         "data": {
          "bar": [
           {
            "error_x": {
             "color": "#2a3f5f"
            },
            "error_y": {
             "color": "#2a3f5f"
            },
            "marker": {
             "line": {
              "color": "#E5ECF6",
              "width": 0.5
             },
             "pattern": {
              "fillmode": "overlay",
              "size": 10,
              "solidity": 0.2
             }
            },
            "type": "bar"
           }
          ],
          "barpolar": [
           {
            "marker": {
             "line": {
              "color": "#E5ECF6",
              "width": 0.5
             },
             "pattern": {
              "fillmode": "overlay",
              "size": 10,
              "solidity": 0.2
             }
            },
            "type": "barpolar"
           }
          ],
          "carpet": [
           {
            "aaxis": {
             "endlinecolor": "#2a3f5f",
             "gridcolor": "white",
             "linecolor": "white",
             "minorgridcolor": "white",
             "startlinecolor": "#2a3f5f"
            },
            "baxis": {
             "endlinecolor": "#2a3f5f",
             "gridcolor": "white",
             "linecolor": "white",
             "minorgridcolor": "white",
             "startlinecolor": "#2a3f5f"
            },
            "type": "carpet"
           }
          ],
          "choropleth": [
           {
            "colorbar": {
             "outlinewidth": 0,
             "ticks": ""
            },
            "type": "choropleth"
           }
          ],
          "contour": [
           {
            "colorbar": {
             "outlinewidth": 0,
             "ticks": ""
            },
            "colorscale": [
             [
              0,
              "#0d0887"
             ],
             [
              0.1111111111111111,
              "#46039f"
             ],
             [
              0.2222222222222222,
              "#7201a8"
             ],
             [
              0.3333333333333333,
              "#9c179e"
             ],
             [
              0.4444444444444444,
              "#bd3786"
             ],
             [
              0.5555555555555556,
              "#d8576b"
             ],
             [
              0.6666666666666666,
              "#ed7953"
             ],
             [
              0.7777777777777778,
              "#fb9f3a"
             ],
             [
              0.8888888888888888,
              "#fdca26"
             ],
             [
              1,
              "#f0f921"
             ]
            ],
            "type": "contour"
           }
          ],
          "contourcarpet": [
           {
            "colorbar": {
             "outlinewidth": 0,
             "ticks": ""
            },
            "type": "contourcarpet"
           }
          ],
          "heatmap": [
           {
            "colorbar": {
             "outlinewidth": 0,
             "ticks": ""
            },
            "colorscale": [
             [
              0,
              "#0d0887"
             ],
             [
              0.1111111111111111,
              "#46039f"
             ],
             [
              0.2222222222222222,
              "#7201a8"
             ],
             [
              0.3333333333333333,
              "#9c179e"
             ],
             [
              0.4444444444444444,
              "#bd3786"
             ],
             [
              0.5555555555555556,
              "#d8576b"
             ],
             [
              0.6666666666666666,
              "#ed7953"
             ],
             [
              0.7777777777777778,
              "#fb9f3a"
             ],
             [
              0.8888888888888888,
              "#fdca26"
             ],
             [
              1,
              "#f0f921"
             ]
            ],
            "type": "heatmap"
           }
          ],
          "heatmapgl": [
           {
            "colorbar": {
             "outlinewidth": 0,
             "ticks": ""
            },
            "colorscale": [
             [
              0,
              "#0d0887"
             ],
             [
              0.1111111111111111,
              "#46039f"
             ],
             [
              0.2222222222222222,
              "#7201a8"
             ],
             [
              0.3333333333333333,
              "#9c179e"
             ],
             [
              0.4444444444444444,
              "#bd3786"
             ],
             [
              0.5555555555555556,
              "#d8576b"
             ],
             [
              0.6666666666666666,
              "#ed7953"
             ],
             [
              0.7777777777777778,
              "#fb9f3a"
             ],
             [
              0.8888888888888888,
              "#fdca26"
             ],
             [
              1,
              "#f0f921"
             ]
            ],
            "type": "heatmapgl"
           }
          ],
          "histogram": [
           {
            "marker": {
             "pattern": {
              "fillmode": "overlay",
              "size": 10,
              "solidity": 0.2
             }
            },
            "type": "histogram"
           }
          ],
          "histogram2d": [
           {
            "colorbar": {
             "outlinewidth": 0,
             "ticks": ""
            },
            "colorscale": [
             [
              0,
              "#0d0887"
             ],
             [
              0.1111111111111111,
              "#46039f"
             ],
             [
              0.2222222222222222,
              "#7201a8"
             ],
             [
              0.3333333333333333,
              "#9c179e"
             ],
             [
              0.4444444444444444,
              "#bd3786"
             ],
             [
              0.5555555555555556,
              "#d8576b"
             ],
             [
              0.6666666666666666,
              "#ed7953"
             ],
             [
              0.7777777777777778,
              "#fb9f3a"
             ],
             [
              0.8888888888888888,
              "#fdca26"
             ],
             [
              1,
              "#f0f921"
             ]
            ],
            "type": "histogram2d"
           }
          ],
          "histogram2dcontour": [
           {
            "colorbar": {
             "outlinewidth": 0,
             "ticks": ""
            },
            "colorscale": [
             [
              0,
              "#0d0887"
             ],
             [
              0.1111111111111111,
              "#46039f"
             ],
             [
              0.2222222222222222,
              "#7201a8"
             ],
             [
              0.3333333333333333,
              "#9c179e"
             ],
             [
              0.4444444444444444,
              "#bd3786"
             ],
             [
              0.5555555555555556,
              "#d8576b"
             ],
             [
              0.6666666666666666,
              "#ed7953"
             ],
             [
              0.7777777777777778,
              "#fb9f3a"
             ],
             [
              0.8888888888888888,
              "#fdca26"
             ],
             [
              1,
              "#f0f921"
             ]
            ],
            "type": "histogram2dcontour"
           }
          ],
          "mesh3d": [
           {
            "colorbar": {
             "outlinewidth": 0,
             "ticks": ""
            },
            "type": "mesh3d"
           }
          ],
          "parcoords": [
           {
            "line": {
             "colorbar": {
              "outlinewidth": 0,
              "ticks": ""
             }
            },
            "type": "parcoords"
           }
          ],
          "pie": [
           {
            "automargin": true,
            "type": "pie"
           }
          ],
          "scatter": [
           {
            "fillpattern": {
             "fillmode": "overlay",
             "size": 10,
             "solidity": 0.2
            },
            "type": "scatter"
           }
          ],
          "scatter3d": [
           {
            "line": {
             "colorbar": {
              "outlinewidth": 0,
              "ticks": ""
             }
            },
            "marker": {
             "colorbar": {
              "outlinewidth": 0,
              "ticks": ""
             }
            },
            "type": "scatter3d"
           }
          ],
          "scattercarpet": [
           {
            "marker": {
             "colorbar": {
              "outlinewidth": 0,
              "ticks": ""
             }
            },
            "type": "scattercarpet"
           }
          ],
          "scattergeo": [
           {
            "marker": {
             "colorbar": {
              "outlinewidth": 0,
              "ticks": ""
             }
            },
            "type": "scattergeo"
           }
          ],
          "scattergl": [
           {
            "marker": {
             "colorbar": {
              "outlinewidth": 0,
              "ticks": ""
             }
            },
            "type": "scattergl"
           }
          ],
          "scattermapbox": [
           {
            "marker": {
             "colorbar": {
              "outlinewidth": 0,
              "ticks": ""
             }
            },
            "type": "scattermapbox"
           }
          ],
          "scatterpolar": [
           {
            "marker": {
             "colorbar": {
              "outlinewidth": 0,
              "ticks": ""
             }
            },
            "type": "scatterpolar"
           }
          ],
          "scatterpolargl": [
           {
            "marker": {
             "colorbar": {
              "outlinewidth": 0,
              "ticks": ""
             }
            },
            "type": "scatterpolargl"
           }
          ],
          "scatterternary": [
           {
            "marker": {
             "colorbar": {
              "outlinewidth": 0,
              "ticks": ""
             }
            },
            "type": "scatterternary"
           }
          ],
          "surface": [
           {
            "colorbar": {
             "outlinewidth": 0,
             "ticks": ""
            },
            "colorscale": [
             [
              0,
              "#0d0887"
             ],
             [
              0.1111111111111111,
              "#46039f"
             ],
             [
              0.2222222222222222,
              "#7201a8"
             ],
             [
              0.3333333333333333,
              "#9c179e"
             ],
             [
              0.4444444444444444,
              "#bd3786"
             ],
             [
              0.5555555555555556,
              "#d8576b"
             ],
             [
              0.6666666666666666,
              "#ed7953"
             ],
             [
              0.7777777777777778,
              "#fb9f3a"
             ],
             [
              0.8888888888888888,
              "#fdca26"
             ],
             [
              1,
              "#f0f921"
             ]
            ],
            "type": "surface"
           }
          ],
          "table": [
           {
            "cells": {
             "fill": {
              "color": "#EBF0F8"
             },
             "line": {
              "color": "white"
             }
            },
            "header": {
             "fill": {
              "color": "#C8D4E3"
             },
             "line": {
              "color": "white"
             }
            },
            "type": "table"
           }
          ]
         },
         "layout": {
          "annotationdefaults": {
           "arrowcolor": "#2a3f5f",
           "arrowhead": 0,
           "arrowwidth": 1
          },
          "autotypenumbers": "strict",
          "coloraxis": {
           "colorbar": {
            "outlinewidth": 0,
            "ticks": ""
           }
          },
          "colorscale": {
           "diverging": [
            [
             0,
             "#8e0152"
            ],
            [
             0.1,
             "#c51b7d"
            ],
            [
             0.2,
             "#de77ae"
            ],
            [
             0.3,
             "#f1b6da"
            ],
            [
             0.4,
             "#fde0ef"
            ],
            [
             0.5,
             "#f7f7f7"
            ],
            [
             0.6,
             "#e6f5d0"
            ],
            [
             0.7,
             "#b8e186"
            ],
            [
             0.8,
             "#7fbc41"
            ],
            [
             0.9,
             "#4d9221"
            ],
            [
             1,
             "#276419"
            ]
           ],
           "sequential": [
            [
             0,
             "#0d0887"
            ],
            [
             0.1111111111111111,
             "#46039f"
            ],
            [
             0.2222222222222222,
             "#7201a8"
            ],
            [
             0.3333333333333333,
             "#9c179e"
            ],
            [
             0.4444444444444444,
             "#bd3786"
            ],
            [
             0.5555555555555556,
             "#d8576b"
            ],
            [
             0.6666666666666666,
             "#ed7953"
            ],
            [
             0.7777777777777778,
             "#fb9f3a"
            ],
            [
             0.8888888888888888,
             "#fdca26"
            ],
            [
             1,
             "#f0f921"
            ]
           ],
           "sequentialminus": [
            [
             0,
             "#0d0887"
            ],
            [
             0.1111111111111111,
             "#46039f"
            ],
            [
             0.2222222222222222,
             "#7201a8"
            ],
            [
             0.3333333333333333,
             "#9c179e"
            ],
            [
             0.4444444444444444,
             "#bd3786"
            ],
            [
             0.5555555555555556,
             "#d8576b"
            ],
            [
             0.6666666666666666,
             "#ed7953"
            ],
            [
             0.7777777777777778,
             "#fb9f3a"
            ],
            [
             0.8888888888888888,
             "#fdca26"
            ],
            [
             1,
             "#f0f921"
            ]
           ]
          },
          "colorway": [
           "#636efa",
           "#EF553B",
           "#00cc96",
           "#ab63fa",
           "#FFA15A",
           "#19d3f3",
           "#FF6692",
           "#B6E880",
           "#FF97FF",
           "#FECB52"
          ],
          "font": {
           "color": "#2a3f5f"
          },
          "geo": {
           "bgcolor": "white",
           "lakecolor": "white",
           "landcolor": "#E5ECF6",
           "showlakes": true,
           "showland": true,
           "subunitcolor": "white"
          },
          "hoverlabel": {
           "align": "left"
          },
          "hovermode": "closest",
          "mapbox": {
           "style": "light"
          },
          "paper_bgcolor": "white",
          "plot_bgcolor": "#E5ECF6",
          "polar": {
           "angularaxis": {
            "gridcolor": "white",
            "linecolor": "white",
            "ticks": ""
           },
           "bgcolor": "#E5ECF6",
           "radialaxis": {
            "gridcolor": "white",
            "linecolor": "white",
            "ticks": ""
           }
          },
          "scene": {
           "xaxis": {
            "backgroundcolor": "#E5ECF6",
            "gridcolor": "white",
            "gridwidth": 2,
            "linecolor": "white",
            "showbackground": true,
            "ticks": "",
            "zerolinecolor": "white"
           },
           "yaxis": {
            "backgroundcolor": "#E5ECF6",
            "gridcolor": "white",
            "gridwidth": 2,
            "linecolor": "white",
            "showbackground": true,
            "ticks": "",
            "zerolinecolor": "white"
           },
           "zaxis": {
            "backgroundcolor": "#E5ECF6",
            "gridcolor": "white",
            "gridwidth": 2,
            "linecolor": "white",
            "showbackground": true,
            "ticks": "",
            "zerolinecolor": "white"
           }
          },
          "shapedefaults": {
           "line": {
            "color": "#2a3f5f"
           }
          },
          "ternary": {
           "aaxis": {
            "gridcolor": "white",
            "linecolor": "white",
            "ticks": ""
           },
           "baxis": {
            "gridcolor": "white",
            "linecolor": "white",
            "ticks": ""
           },
           "bgcolor": "#E5ECF6",
           "caxis": {
            "gridcolor": "white",
            "linecolor": "white",
            "ticks": ""
           }
          },
          "title": {
           "x": 0.05
          },
          "xaxis": {
           "automargin": true,
           "gridcolor": "white",
           "linecolor": "white",
           "ticks": "",
           "title": {
            "standoff": 15
           },
           "zerolinecolor": "white",
           "zerolinewidth": 2
          },
          "yaxis": {
           "automargin": true,
           "gridcolor": "white",
           "linecolor": "white",
           "ticks": "",
           "title": {
            "standoff": 15
           },
           "zerolinecolor": "white",
           "zerolinewidth": 2
          }
         }
        }
       }
      }
     },
     "metadata": {},
     "output_type": "display_data"
    }
   ],
   "source": [
    "from directed_graphs.utils import plot_3d\n",
    "plot_3d(X,distribution=flows.reshape(400),use_plotly=True)"
   ]
  },
  {
   "cell_type": "markdown",
   "metadata": {},
   "source": [
    "## Computing Transition Probabilities Between a Grid and Points, and Vice Versa"
   ]
  },
  {
   "cell_type": "markdown",
   "metadata": {},
   "source": [
    "The next functions will take three inputs: a set of points, a grid, and flows at each point and each point on the grid. It is tasked with returning three matrices: a transition matrix between the points and the grid, a transition matrix between the grid and the points, and the transition matrix from the grid to the grid.\n",
    "\n",
    "These tasks should be separated, as each is called in different circumstances.\n",
    "- The grid-to-point (and vv) function will be called each time the points are moved, or the grid is updated, or the flow is updated.\n",
    "- The grid-to-grid function will be called whenever the grid is updated, or the flow is updated.\n",
    "\n",
    "Both can be encapsulated in the same function, which computes an affinity matrix from pointset 1 to pointset 2."
   ]
  },
  {
   "cell_type": "markdown",
   "metadata": {},
   "source": [
    "The logic of the functions: \n",
    "1. For each point in set 1, sort the points in set 2 by distance.\n",
    "2. Choose the $n$ nearest neighbors (optional computational boost), and compute the transition probabilities to them, storing the results in the affinity matrix."
   ]
  },
  {
   "cell_type": "code",
   "execution_count": null,
   "metadata": {},
   "outputs": [],
   "source": [
    "#export\n",
    "def affinity_matrix_from_pointset_to_pointset(pointset1, pointset2, flows,n_neighbors=None,sigma=0.5, flow_strength=1):\n",
    "  \"\"\"Compute affinity matrix between the points of pointset1 and pointset2, using the provided flow.\n",
    "\n",
    "  Parameters\n",
    "  ----------\n",
    "  pointset1 : torch tensor, n1 x d\n",
    "      The first pointset, to calculate affinities *from*\n",
    "  pointset2 : torch tensor, n2 x d\n",
    "      The second pointset, to calculate affinities *to* (from pointset1)\n",
    "  flow : a function that, when called at a point, gives the flow at that point\n",
    "  n_neighbors : number of neighbors to include in affinity computations. All neighbors beyond it are given affinity zero\n",
    "  (currently not implemented)\n",
    "\n",
    "  Returns:\n",
    "  Affinity matrix: torch tensor of shape n1 x n2\n",
    "  \"\"\"\n",
    "  # Calculate the directions from point i in pointset 1 to point j in pointset 2\n",
    "  n1 = pointset1.shape[0]\n",
    "  n2 = pointset2.shape[0]\n",
    "  P2 = pointset2[:,:,None].repeat(1,1,n1)\n",
    "  P1 = pointset1.T.repeat(n2,1,1)\n",
    "  P3 = (P2 - P1)\n",
    "  P3 = P3.transpose(1,2)\n",
    "  # compute affinities from flows and directions\n",
    "  affinities = affinity_from_flow(flows,P3,sigma=sigma,flow_strength=flow_strength)\n",
    "  return affinities\n"
   ]
  },
  {
   "cell_type": "markdown",
   "metadata": {},
   "source": [
    "### Building the function"
   ]
  },
  {
   "cell_type": "markdown",
   "metadata": {},
   "source": [
    "This is an illustration of how the function should work."
   ]
  },
  {
   "cell_type": "code",
   "execution_count": null,
   "metadata": {},
   "outputs": [],
   "source": [
    "pointset1 = torch.rand(4,2)\n",
    "pointset2 = torch.rand(7,2)\n",
    "def flow(x):\n",
    "  return x**2/torch.linalg.norm(x**2)"
   ]
  },
  {
   "cell_type": "code",
   "execution_count": null,
   "metadata": {},
   "outputs": [
    {
     "data": {
      "text/plain": [
       "tensor([[0.9213, 0.2611],\n",
       "        [0.0456, 0.2331],\n",
       "        [0.8538, 0.0670],\n",
       "        [0.6454, 0.2256]])"
      ]
     },
     "execution_count": null,
     "metadata": {},
     "output_type": "execute_result"
    }
   ],
   "source": [
    "pointset1"
   ]
  },
  {
   "cell_type": "code",
   "execution_count": null,
   "metadata": {},
   "outputs": [
    {
     "data": {
      "text/plain": [
       "tensor([[0.6428, 0.2158],\n",
       "        [0.0556, 0.7227],\n",
       "        [0.1852, 0.6680],\n",
       "        [0.6851, 0.0449],\n",
       "        [0.3894, 0.5524],\n",
       "        [0.3253, 0.3538],\n",
       "        [0.5572, 0.4863]])"
      ]
     },
     "execution_count": null,
     "metadata": {},
     "output_type": "execute_result"
    }
   ],
   "source": [
    "pointset2"
   ]
  },
  {
   "cell_type": "code",
   "execution_count": null,
   "metadata": {},
   "outputs": [
    {
     "data": {
      "text/plain": [
       "tensor([[[0.6428],\n",
       "         [0.2158]],\n",
       "\n",
       "        [[0.0556],\n",
       "         [0.7227]],\n",
       "\n",
       "        [[0.1852],\n",
       "         [0.6680]],\n",
       "\n",
       "        [[0.6851],\n",
       "         [0.0449]],\n",
       "\n",
       "        [[0.3894],\n",
       "         [0.5524]],\n",
       "\n",
       "        [[0.3253],\n",
       "         [0.3538]],\n",
       "\n",
       "        [[0.5572],\n",
       "         [0.4863]]])"
      ]
     },
     "execution_count": null,
     "metadata": {},
     "output_type": "execute_result"
    }
   ],
   "source": [
    "pointset2[:,:,None]"
   ]
  },
  {
   "cell_type": "code",
   "execution_count": null,
   "metadata": {},
   "outputs": [
    {
     "data": {
      "text/plain": [
       "tensor([[[0.6428, 0.6428, 0.6428, 0.6428],\n",
       "         [0.2158, 0.2158, 0.2158, 0.2158]],\n",
       "\n",
       "        [[0.0556, 0.0556, 0.0556, 0.0556],\n",
       "         [0.7227, 0.7227, 0.7227, 0.7227]],\n",
       "\n",
       "        [[0.1852, 0.1852, 0.1852, 0.1852],\n",
       "         [0.6680, 0.6680, 0.6680, 0.6680]],\n",
       "\n",
       "        [[0.6851, 0.6851, 0.6851, 0.6851],\n",
       "         [0.0449, 0.0449, 0.0449, 0.0449]],\n",
       "\n",
       "        [[0.3894, 0.3894, 0.3894, 0.3894],\n",
       "         [0.5524, 0.5524, 0.5524, 0.5524]],\n",
       "\n",
       "        [[0.3253, 0.3253, 0.3253, 0.3253],\n",
       "         [0.3538, 0.3538, 0.3538, 0.3538]],\n",
       "\n",
       "        [[0.5572, 0.5572, 0.5572, 0.5572],\n",
       "         [0.4863, 0.4863, 0.4863, 0.4863]]])"
      ]
     },
     "execution_count": null,
     "metadata": {},
     "output_type": "execute_result"
    }
   ],
   "source": [
    "P2 = pointset2[:,:,None].repeat(1,1,4)\n",
    "P2"
   ]
  },
  {
   "cell_type": "code",
   "execution_count": null,
   "metadata": {},
   "outputs": [
    {
     "data": {
      "text/plain": [
       "tensor([[[0.9213, 0.0456, 0.8538, 0.6454],\n",
       "         [0.2611, 0.2331, 0.0670, 0.2256]],\n",
       "\n",
       "        [[0.9213, 0.0456, 0.8538, 0.6454],\n",
       "         [0.2611, 0.2331, 0.0670, 0.2256]],\n",
       "\n",
       "        [[0.9213, 0.0456, 0.8538, 0.6454],\n",
       "         [0.2611, 0.2331, 0.0670, 0.2256]],\n",
       "\n",
       "        [[0.9213, 0.0456, 0.8538, 0.6454],\n",
       "         [0.2611, 0.2331, 0.0670, 0.2256]],\n",
       "\n",
       "        [[0.9213, 0.0456, 0.8538, 0.6454],\n",
       "         [0.2611, 0.2331, 0.0670, 0.2256]],\n",
       "\n",
       "        [[0.9213, 0.0456, 0.8538, 0.6454],\n",
       "         [0.2611, 0.2331, 0.0670, 0.2256]],\n",
       "\n",
       "        [[0.9213, 0.0456, 0.8538, 0.6454],\n",
       "         [0.2611, 0.2331, 0.0670, 0.2256]]])"
      ]
     },
     "execution_count": null,
     "metadata": {},
     "output_type": "execute_result"
    }
   ],
   "source": [
    "P1 = pointset1.T.repeat(7,1,1)\n",
    "P1"
   ]
  },
  {
   "cell_type": "code",
   "execution_count": null,
   "metadata": {},
   "outputs": [
    {
     "data": {
      "text/plain": [
       "tensor([[[-0.2785,  0.5972, -0.2110, -0.0026],\n",
       "         [-0.0453, -0.0173,  0.1488, -0.0098]],\n",
       "\n",
       "        [[-0.8657,  0.0100, -0.7983, -0.5898],\n",
       "         [ 0.4616,  0.4896,  0.6557,  0.4971]],\n",
       "\n",
       "        [[-0.7361,  0.1395, -0.6687, -0.4603],\n",
       "         [ 0.4069,  0.4349,  0.6011,  0.4425]],\n",
       "\n",
       "        [[-0.2362,  0.6395, -0.1687,  0.0397],\n",
       "         [-0.2162, -0.1882, -0.0221, -0.1807]],\n",
       "\n",
       "        [[-0.5319,  0.3437, -0.4645, -0.2561],\n",
       "         [ 0.2913,  0.3193,  0.4855,  0.3269]],\n",
       "\n",
       "        [[-0.5960,  0.2796, -0.5286, -0.3202],\n",
       "         [ 0.0927,  0.1207,  0.2869,  0.1283]],\n",
       "\n",
       "        [[-0.3641,  0.5116, -0.2966, -0.0882],\n",
       "         [ 0.2252,  0.2532,  0.4194,  0.2608]]])"
      ]
     },
     "execution_count": null,
     "metadata": {},
     "output_type": "execute_result"
    }
   ],
   "source": [
    "P3 = (P2-P1)\n",
    "P3"
   ]
  },
  {
   "cell_type": "code",
   "execution_count": null,
   "metadata": {},
   "outputs": [
    {
     "data": {
      "text/plain": [
       "tensor([[[-0.2785, -0.0453],\n",
       "         [ 0.5972, -0.0173],\n",
       "         [-0.2110,  0.1488],\n",
       "         [-0.0026, -0.0098]],\n",
       "\n",
       "        [[-0.8657,  0.4616],\n",
       "         [ 0.0100,  0.4896],\n",
       "         [-0.7983,  0.6557],\n",
       "         [-0.5898,  0.4971]],\n",
       "\n",
       "        [[-0.7361,  0.4069],\n",
       "         [ 0.1395,  0.4349],\n",
       "         [-0.6687,  0.6011],\n",
       "         [-0.4603,  0.4425]],\n",
       "\n",
       "        [[-0.2362, -0.2162],\n",
       "         [ 0.6395, -0.1882],\n",
       "         [-0.1687, -0.0221],\n",
       "         [ 0.0397, -0.1807]],\n",
       "\n",
       "        [[-0.5319,  0.2913],\n",
       "         [ 0.3437,  0.3193],\n",
       "         [-0.4645,  0.4855],\n",
       "         [-0.2561,  0.3269]],\n",
       "\n",
       "        [[-0.5960,  0.0927],\n",
       "         [ 0.2796,  0.1207],\n",
       "         [-0.5286,  0.2869],\n",
       "         [-0.3202,  0.1283]],\n",
       "\n",
       "        [[-0.3641,  0.2252],\n",
       "         [ 0.5116,  0.2532],\n",
       "         [-0.2966,  0.4194],\n",
       "         [-0.0882,  0.2608]]])"
      ]
     },
     "execution_count": null,
     "metadata": {},
     "output_type": "execute_result"
    }
   ],
   "source": [
    "P3 = P3.transpose(1,2)\n",
    "P3"
   ]
  },
  {
   "cell_type": "code",
   "execution_count": null,
   "metadata": {},
   "outputs": [
    {
     "data": {
      "text/plain": [
       "torch.Size([7, 4, 2])"
      ]
     },
     "execution_count": null,
     "metadata": {},
     "output_type": "execute_result"
    }
   ],
   "source": [
    "P3.shape"
   ]
  },
  {
   "cell_type": "code",
   "execution_count": null,
   "metadata": {},
   "outputs": [
    {
     "data": {
      "text/plain": [
       "tensor([[0.7084, 0.0569],\n",
       "        [0.0017, 0.0453],\n",
       "        [0.6084, 0.0037],\n",
       "        [0.3477, 0.0425]])"
      ]
     },
     "execution_count": null,
     "metadata": {},
     "output_type": "execute_result"
    }
   ],
   "source": [
    "flows = flow(pointset1)\n",
    "flows"
   ]
  },
  {
   "cell_type": "code",
   "execution_count": null,
   "metadata": {},
   "outputs": [],
   "source": [
    "A = affinity_from_flow(flows,P3)"
   ]
  },
  {
   "cell_type": "code",
   "execution_count": null,
   "metadata": {},
   "outputs": [
    {
     "data": {
      "text/plain": [
       "tensor([[-1.9987e-01,  2.5318e-04, -1.2785e-01, -1.3325e-03],\n",
       "        [-5.8700e-01,  2.2219e-02, -4.8324e-01, -1.8396e-01],\n",
       "        [-4.9832e-01,  1.9965e-02, -4.0460e-01, -1.4123e-01],\n",
       "        [-1.7962e-01, -7.4249e-03, -1.0275e-01,  6.1202e-03],\n",
       "        [-3.6023e-01,  1.5078e-02, -2.8078e-01, -7.5144e-02],\n",
       "        [-4.1693e-01,  5.9607e-03, -3.2052e-01, -1.0586e-01],\n",
       "        [-2.4510e-01,  1.2372e-02, -1.7891e-01, -1.9600e-02]])"
      ]
     },
     "execution_count": null,
     "metadata": {},
     "output_type": "execute_result"
    }
   ],
   "source": [
    "(P3 * flows).sum(-1)"
   ]
  },
  {
   "cell_type": "code",
   "execution_count": null,
   "metadata": {},
   "outputs": [
    {
     "data": {
      "text/plain": [
       "tensor([[0.7107, 0.0454, 0.6085, 0.3503],\n",
       "        [0.7107, 0.0454, 0.6085, 0.3503],\n",
       "        [0.7107, 0.0454, 0.6085, 0.3503],\n",
       "        [0.7107, 0.0454, 0.6085, 0.3503]])"
      ]
     },
     "execution_count": null,
     "metadata": {},
     "output_type": "execute_result"
    }
   ],
   "source": [
    "torch.linalg.norm(flows,dim=1).repeat(4,1)"
   ]
  },
  {
   "cell_type": "markdown",
   "metadata": {},
   "source": [
    "### Testing the function"
   ]
  },
  {
   "cell_type": "code",
   "execution_count": null,
   "metadata": {},
   "outputs": [],
   "source": [
    "pointset1 = torch.rand(4,2)\n",
    "pointset2 = torch.rand(7,2)\n",
    "def flow(x):\n",
    "  return 5*x**2 - 3*x\n"
   ]
  },
  {
   "cell_type": "code",
   "execution_count": null,
   "metadata": {},
   "outputs": [],
   "source": [
    "P = affinity_matrix_from_pointset_to_pointset(pointset1,pointset2,flow(pointset1))"
   ]
  },
  {
   "cell_type": "code",
   "execution_count": null,
   "metadata": {},
   "outputs": [
    {
     "data": {
      "text/plain": [
       "tensor([[0.0773, 0.0481, 0.1598, 0.4980, 0.0478, 0.2150, 0.0702],\n",
       "        [0.0256, 0.0276, 0.0489, 0.4878, 0.0229, 0.0564, 0.0280],\n",
       "        [0.0214, 0.1237, 0.0143, 0.0101, 0.0447, 0.0147, 0.0343],\n",
       "        [0.1573, 0.2573, 0.1202, 0.0838, 0.3888, 0.1266, 0.2552]])"
      ]
     },
     "execution_count": null,
     "metadata": {},
     "output_type": "execute_result"
    }
   ],
   "source": [
    "P"
   ]
  },
  {
   "cell_type": "code",
   "execution_count": null,
   "metadata": {},
   "outputs": [
    {
     "data": {
      "text/plain": [
       "tensor([1.1161, 0.6973, 0.2633, 1.3892])"
      ]
     },
     "execution_count": null,
     "metadata": {},
     "output_type": "execute_result"
    }
   ],
   "source": [
    "P.sum(axis=1)"
   ]
  },
  {
   "cell_type": "code",
   "execution_count": null,
   "metadata": {},
   "outputs": [
    {
     "data": {
      "text/plain": [
       "tensor([[0.0693, 0.0431, 0.1431, 0.4462, 0.0428, 0.1926, 0.0629],\n",
       "        [0.0368, 0.0396, 0.0702, 0.6996, 0.0328, 0.0809, 0.0402],\n",
       "        [0.0814, 0.4700, 0.0544, 0.0382, 0.1697, 0.0559, 0.1304],\n",
       "        [0.1132, 0.1852, 0.0865, 0.0603, 0.2799, 0.0912, 0.1837]])"
      ]
     },
     "execution_count": null,
     "metadata": {},
     "output_type": "execute_result"
    }
   ],
   "source": [
    "torch.diag(1/P.sum(axis=1)) @ P"
   ]
  },
  {
   "cell_type": "markdown",
   "metadata": {},
   "source": [
    "# Putting the pieces together"
   ]
  },
  {
   "cell_type": "markdown",
   "metadata": {},
   "source": [
    "## The Loss Function: KL Divergence"
   ]
  },
  {
   "cell_type": "markdown",
   "metadata": {},
   "source": [
    "Previously, our network used a frobenius norm between matrices as the loss function. Now, it is comparing probability distributions, rather than distance matrices, and so we want something more robust. \n",
    "\n",
    "We'll start by using the simplest possible divergence: the KL Divergence"
   ]
  },
  {
   "cell_type": "code",
   "execution_count": null,
   "metadata": {},
   "outputs": [],
   "source": [
    "loss = nn.KLDivLoss(reduction = 'batchmean',log_target = False)"
   ]
  },
  {
   "cell_type": "code",
   "execution_count": null,
   "metadata": {},
   "outputs": [],
   "source": [
    "Pg = torch.rand(10,10)\n",
    "Pe = torch.rand(10,10)\n",
    "Pg_log = torch.log(Pg)"
   ]
  },
  {
   "cell_type": "code",
   "execution_count": null,
   "metadata": {},
   "outputs": [
    {
     "data": {
      "text/plain": [
       "tensor(2.9019)"
      ]
     },
     "execution_count": null,
     "metadata": {},
     "output_type": "execute_result"
    }
   ],
   "source": [
    "loss(Pg_log,Pe)"
   ]
  },
  {
   "cell_type": "markdown",
   "metadata": {},
   "source": [
    "### A Gaussian-based flow field\n",
    "\n",
    "As defined in [Vector Field Neural Networks](x-devonthink-item://67DF5481-E16A-4D6C-90D5-C03CAF439BC5)"
   ]
  },
  {
   "cell_type": "code",
   "execution_count": null,
   "metadata": {},
   "outputs": [],
   "source": [
    "#export\n",
    "class GaussianVectorField(nn.Module):\n",
    "  def __init__(self,n_dims, n_gaussians):\n",
    "    super(GaussianVectorField, self).__init__()\n",
    "    self.n_dims = n_dims\n",
    "    # each gaussian has a mean and a variance, which are initialized randomly, but\n",
    "    # are afterwards tuned by the network\n",
    "    self.means = torch.nn.Parameter(torch.rand(n_gaussians,n_dims)*8 - 4)\n",
    "    vecs = torch.randn(n_gaussians,n_dims)\n",
    "    \n",
    "    vecs = vecs / torch.linalg.norm(vecs, dim=1)[:,None]\n",
    "    self.vectors = torch.nn.Parameter(vecs)\n",
    "  def forward(self,points):\n",
    "    # evaluates the vector field at each point\n",
    "    # First, take distances between the points and the means\n",
    "    dist_between_pts_and_means = torch.cdist(points,self.means)\n",
    "    # print(\"distances between points and means\",dist_between_pts_and_means)\n",
    "    # apply kernel to this\n",
    "    # creates n_points x n_means array\n",
    "    kernel_from_mean = torch.exp(-(dist_between_pts_and_means**2))\n",
    "    # print(\"kernalized\",kernel_from_mean)\n",
    "    # multiply kernel value by vectors associated with each Gaussian\n",
    "    kernel_repeated = kernel_from_mean[:,:,None].repeat(1,1,self.n_dims)\n",
    "    # print('kernel repeated has shape',kernel_repeated.shape, 'and vecs has shape', self.vectors.shape)\n",
    "    kernel_times_vectors = kernel_repeated * self.vectors\n",
    "    # creates tensor of shape\n",
    "    # n_points x n_means x n_dims\n",
    "    # collapse along dim 1 to sum vectors along dimension\n",
    "    vector_field = kernel_times_vectors.sum(dim=1)\n",
    "    return vector_field\n",
    "    \n",
    "\n",
    "  \n"
   ]
  },
  {
   "cell_type": "code",
   "execution_count": null,
   "metadata": {},
   "outputs": [
    {
     "data": {
      "text/plain": [
       "torch.Size([3, 2])"
      ]
     },
     "execution_count": null,
     "metadata": {},
     "output_type": "execute_result"
    }
   ],
   "source": [
    "vecs = torch.randn(3,2)\n",
    "vecs = vecs / torch.linalg.norm(vecs, dim=1)[:,None]\n",
    "vecs.shape"
   ]
  },
  {
   "cell_type": "code",
   "execution_count": null,
   "metadata": {},
   "outputs": [
    {
     "data": {
      "text/plain": [
       "tensor(0.9900)"
      ]
     },
     "execution_count": null,
     "metadata": {},
     "output_type": "execute_result"
    }
   ],
   "source": [
    "torch.exp(-torch.tensor(0.01))"
   ]
  },
  {
   "cell_type": "code",
   "execution_count": null,
   "metadata": {},
   "outputs": [
    {
     "data": {
      "text/plain": [
       "tensor([[[1, 1],\n",
       "         [2, 2],\n",
       "         [3, 3]],\n",
       "\n",
       "        [[4, 4],\n",
       "         [5, 5],\n",
       "         [6, 6]]])"
      ]
     },
     "execution_count": null,
     "metadata": {},
     "output_type": "execute_result"
    }
   ],
   "source": [
    "y = torch.tensor([[1,2,3],[4,5,6]])\n",
    "yr = y[:,:,None].repeat(1,1,2)\n",
    "yr"
   ]
  },
  {
   "cell_type": "code",
   "execution_count": null,
   "metadata": {},
   "outputs": [
    {
     "data": {
      "text/plain": [
       "tensor([[[ 6,  7],\n",
       "         [10, 16],\n",
       "         [12, 27]],\n",
       "\n",
       "        [[24, 28],\n",
       "         [25, 40],\n",
       "         [24, 54]]])"
      ]
     },
     "execution_count": null,
     "metadata": {},
     "output_type": "execute_result"
    }
   ],
   "source": [
    "vecs = torch.tensor([[6,7],[5,8],[4,9]])\n",
    "vv = vecs * y[:,:,None].repeat(1,1,2)\n",
    "vv"
   ]
  },
  {
   "cell_type": "code",
   "execution_count": null,
   "metadata": {},
   "outputs": [
    {
     "data": {
      "text/plain": [
       "tensor([[ 28,  50],\n",
       "        [ 73, 122]])"
      ]
     },
     "execution_count": null,
     "metadata": {},
     "output_type": "execute_result"
    }
   ],
   "source": [
    "vvsummed = vv.sum(dim=1)\n",
    "vvsummed"
   ]
  },
  {
   "cell_type": "code",
   "execution_count": null,
   "metadata": {},
   "outputs": [
    {
     "data": {
      "text/plain": [
       "tensor([28, 50])"
      ]
     },
     "execution_count": null,
     "metadata": {},
     "output_type": "execute_result"
    }
   ],
   "source": [
    "vvsummed[0]"
   ]
  },
  {
   "cell_type": "markdown",
   "metadata": {},
   "source": [
    "Testing this does as expected..."
   ]
  },
  {
   "cell_type": "code",
   "execution_count": null,
   "metadata": {},
   "outputs": [
    {
     "name": "stdout",
     "output_type": "stream",
     "text": [
      "distances between points and means tensor([[13.7957, 10.6210, 10.1609,  ..., 12.7426,  9.7251, 15.1834],\n",
      "        [13.4424, 10.1599,  9.8037,  ..., 12.5250,  9.2393, 14.7699],\n",
      "        [13.1027,  9.7083,  9.4652,  ..., 12.3281,  8.7613, 14.3656],\n",
      "        ...,\n",
      "        [ 8.0940, 11.8845, 11.7060,  ..., 10.5907, 13.1050,  6.9707],\n",
      "        [ 8.5045, 12.1695, 12.0970,  ..., 11.0950, 13.3778,  7.2554],\n",
      "        [ 8.9302, 12.4725, 12.5001,  ..., 11.6037, 13.6675,  7.5697]],\n",
      "       grad_fn=<ViewBackward0>)\n",
      "kernalized tensor([[0.0000e+00, 0.0000e+00, 1.4013e-45,  ..., 0.0000e+00, 8.4232e-42,\n",
      "         0.0000e+00],\n",
      "        [0.0000e+00, 1.4013e-45, 1.8147e-42,  ..., 0.0000e+00, 8.4441e-38,\n",
      "         0.0000e+00],\n",
      "        [0.0000e+00, 1.1664e-41, 1.2336e-39,  ..., 0.0000e+00, 4.6048e-34,\n",
      "         0.0000e+00],\n",
      "        ...,\n",
      "        [3.5313e-29, 0.0000e+00, 0.0000e+00,  ..., 0.0000e+00, 0.0000e+00,\n",
      "         7.8958e-22],\n",
      "        [3.8815e-32, 0.0000e+00, 0.0000e+00,  ..., 0.0000e+00, 0.0000e+00,\n",
      "         1.3754e-23],\n",
      "        [2.3210e-35, 0.0000e+00, 0.0000e+00,  ..., 0.0000e+00, 0.0000e+00,\n",
      "         1.3034e-25]], grad_fn=<ExpBackward0>)\n",
      "kernel repeated has shape torch.Size([900, 70, 2]) and vecs has shape torch.Size([70, 2])\n"
     ]
    },
    {
     "data": {
      "image/png": "[encoded data removed]",
      "text/plain": [
       "<Figure size 432x288 with 1 Axes>"
      ]
     },
     "metadata": {
      "needs_background": "light"
     },
     "output_type": "display_data"
    }
   ],
   "source": [
    "K = GaussianVectorField(n_dims = 2, n_gaussians = 70)\n",
    "x, y = np.meshgrid(np.linspace(-8,8,30),np.linspace(-8,8,30))\n",
    "x = torch.tensor(x,dtype=float).cpu()\n",
    "y = torch.tensor(y,dtype=float).cpu()\n",
    "xy_t = torch.concat([x[:,:,None],y[:,:,None]],dim=2).float().reshape(900,2)\n",
    "uv, ktv = K(xy_t)\n",
    "# uv[uv < 0.9] = 0\n",
    "u = uv[:,0].detach()\n",
    "v = uv[:,1].detach()\n",
    "plt.quiver(x,y,u,v)\n",
    "plt.show()\n",
    "\n"
   ]
  },
  {
   "cell_type": "code",
   "execution_count": null,
   "metadata": {},
   "outputs": [
    {
     "data": {
      "text/plain": [
       "Parameter containing:\n",
       "tensor([[-3.6923, -2.6942],\n",
       "        [-2.1251,  0.9382],\n",
       "        [ 1.8359, -3.1572],\n",
       "        [-0.0825, -2.4193],\n",
       "        [-0.4869, -1.5826],\n",
       "        [-0.9066, -3.9234],\n",
       "        [-0.6824, -1.4043]], requires_grad=True)"
      ]
     },
     "execution_count": null,
     "metadata": {},
     "output_type": "execute_result"
    }
   ],
   "source": [
    "K.means"
   ]
  },
  {
   "cell_type": "code",
   "execution_count": null,
   "metadata": {},
   "outputs": [
    {
     "data": {
      "text/plain": [
       "tensor(1.5207, grad_fn=<MaxBackward1>)"
      ]
     },
     "execution_count": null,
     "metadata": {},
     "output_type": "execute_result"
    }
   ],
   "source": [
    "torch.max(uv)"
   ]
  },
  {
   "cell_type": "code",
   "execution_count": null,
   "metadata": {},
   "outputs": [
    {
     "data": {
      "text/plain": [
       "torch.Size([2, 2])"
      ]
     },
     "execution_count": null,
     "metadata": {},
     "output_type": "execute_result"
    }
   ],
   "source": [
    "K.means.shape"
   ]
  },
  {
   "cell_type": "markdown",
   "metadata": {},
   "source": [
    "Now to put the pieces together, into a `FlowEmbedder` Network!"
   ]
  },
  {
   "cell_type": "code",
   "execution_count": null,
   "metadata": {},
   "outputs": [],
   "source": [
    "# export\n",
    "import torch\n",
    "from torch import nn\n",
    "import torch.nn.functional as F\n",
    "import torch_geometric\n",
    "from tqdm import trange\n",
    "from directed_graphs.utils import diffusion_matrix_from_graph\n",
    "import numpy as np\n",
    "import matplotlib.pyplot as plt\n",
    "\n",
    "class DiffusionFlowEmbedder(torch.nn.Module):\n",
    "\tdef __init__(self, \n",
    "\t\t\t\t\t\t\tX, \n",
    "\t\t\t\t\t\t\tflows, \n",
    "\t\t\t\t\t\t\tt = 1, \n",
    "\t\t\t\t\t\t\tsigma_graph = 0.5, \n",
    "\t\t\t\t\t\t\tsigma_embedding=0.5, \n",
    "\t\t\t\t\t\t\tembedding_dimension=2, \n",
    "\t\t\t\t\t\t\tdevice=torch.device('cpu'), \n",
    "\t\t\t\t\t\t\tautoencoder_shape = [10,10], \n",
    "\t\t\t\t\t\t\tflow_artist_shape = [30,20,10], \n",
    "\t\t\t\t\t\t\tflow_strength_graph=5, \n",
    "\t\t\t\t\t\t\tflow_strength_embedding=5, \n",
    "\t\t\t\t\t\t\tlearnable_flow_strength=True,\n",
    "\t\t\t\t\t\t\tmultiscale_loss=True,\n",
    "\t\t\t\t\t\t\tweight_of_flow = 0.5,\n",
    "\t\t\t\t\t\t\tlearning_rate = 1e-5\n",
    "\t\t\t\t\t\t\t):\n",
    "\t\t\"\"\"Flow Embedding with diffusion\n",
    "\n",
    "\t\tParameters\n",
    "\t\t----------\n",
    "\t\tX : torch tensor n_points x n_dim\n",
    "\t\t\tdata matrix\n",
    "\t\tflows : torch tensor n_points x n_dim\n",
    "\t\t\tThe flow at each point\n",
    "\t\tt : int\n",
    "\t\t\tLoss is computed with the diffusion operator powered to this number\n",
    "\t\tsigma in [0,1]\n",
    "\t\t\tKernel bandwidth in the embedding\n",
    "\t\t\"\"\"\n",
    "\t\t# initialize parameters\n",
    "\t\tsuper(DiffusionFlowEmbedder, self).__init__()\n",
    "\t\tself.X = X\n",
    "\t\tself.ground_truth_flows = flows\n",
    "\t\tself.t = t\n",
    "\t\tself.sigma_embedding = sigma_embedding\n",
    "\t\tself.sigma_graph = sigma_graph\n",
    "\t\tself.nnodes = X.shape[0]\n",
    "\t\tself.data_dimension = X.shape[1]\n",
    "\t\tself.losses = []\n",
    "\t\tself.eps = 0.001\n",
    "\t\tself.weight_of_flow = weight_of_flow\n",
    "\n",
    "\t\tif learnable_flow_strength:\n",
    "\t\t\tself.flow_strength = nn.Parameter(torch.tensor(flow_strength_embedding).float())\n",
    "\t\telse:\n",
    "\t\t\tself.flow_strength = flow_strength_embedding\n",
    "\n",
    "\t\tself.embedding_dimension = embedding_dimension\n",
    "\t\t# set device (used for shuffling points around during visualization)\n",
    "\t\tself.device = device\n",
    "\t\t# Compute P^t of the graph, the powered diffusion matrix\n",
    "\t\t# TODO: This can be optimized using landmarks, etc. For now it's straight sparse matrix multiplication\n",
    "\t\t# TODO: Migrate to a specialized function for dataset affinity calculation, with automatic kernel bandwidth selection, and the like\n",
    "\t\t\n",
    "\t\tself.P_graph = affinity_matrix_from_pointset_to_pointset(X,X,flows,sigma=sigma_graph,flow_strength=flow_strength_graph)\n",
    "\t\tself.P_graph_t = torch.matrix_power(self.P_graph,self.t)\n",
    "\t\t# if not multiscale_loss:\n",
    "\t\t# \tself.P_graph_t = torch.matrix_power(self.P_graph,self.t)\n",
    "\t\t# else:\n",
    "\t\t# \tfor power in self.t:\n",
    "\t\t\t\n",
    "\t\t# Flow field\n",
    "\t\t# Gaussian model\n",
    "\t\tself.FlowArtist = GaussianVectorField(embedding_dimension,25)\n",
    "\t\t\n",
    "\n",
    "\t\t# self.FlowArtist = nn.Sequential(nn.Linear(self.embedding_dimension, flow_artist_shape[0]),\n",
    "\t\t#                        nn.LeakyReLU(),\n",
    "\t\t#                        nn.Linear(flow_artist_shape[0], flow_artist_shape[1]),\n",
    "\t\t#                        nn.LeakyReLU(),\n",
    "\t\t# \t\t\t\t\t\t\t\t\t\t\t nn.Linear(flow_artist_shape[1], flow_artist_shape[2]),\n",
    "\t\t#                        nn.LeakyReLU(),\n",
    "\t\t#                        nn.Linear(flow_artist_shape[2], self.embedding_dimension)\n",
    "\t\t# \t\t\t\t\t\t\t\t\t\t\t )\n",
    "\t\t# Autoencoder to embed the points into a low dimension\n",
    "\t\tself.encoder = nn.Sequential(nn.Linear(self.data_dimension, autoencoder_shape[0]),\n",
    "\t\t\t\t\t\t\t\t\t\t\t\t\t\t\tnn.LeakyReLU(),\n",
    "\t\t\t\t\t\t\t\t\t\t\t\t\t\t\tnn.Linear(autoencoder_shape[0], autoencoder_shape[1]),\n",
    "\t\t\t\t\t\t\t\t\t\t\t\t\t\t\tnn.LeakyReLU(),\n",
    "\t\t\t\t\t\t\t\t\t\t\t\t\t\t\tnn.Linear(autoencoder_shape[1], self.embedding_dimension))\n",
    "\t\tself.decoder = nn.Sequential(nn.Linear(self.embedding_dimension, autoencoder_shape[1]),\n",
    "\t\t\t\t\t\t\t\t\t\t\t\t\t\t\tnn.LeakyReLU(),\n",
    "\t\t\t\t\t\t\t\t\t\t\t\t\t\t\tnn.Linear(autoencoder_shape[1], autoencoder_shape[0]),\n",
    "\t\t\t\t\t\t\t\t\t\t\t\t\t\t\tnn.LeakyReLU(),\n",
    "\t\t\t\t\t\t\t\t\t\t\t\t\t\t\tnn.Linear(autoencoder_shape[0], self.data_dimension))\n",
    "\t\t# training ops\n",
    "\t\tself.KLD = nn.KLDivLoss(reduction='batchmean',log_target=False)\n",
    "\t\tself.MSE = nn.MSELoss()\n",
    "\t\t# testing\n",
    "\t\t# self.KLD = nn.NLLLoss()\n",
    "\t\tself.optim = torch.optim.Adam(self.parameters(), lr = learning_rate, )\n",
    "\t\t\t\t\t\t\t\t\t\n",
    "\n",
    "\tdef compute_embedding_P(self):\n",
    "\t\tA = affinity_matrix_from_pointset_to_pointset(self.embedded_points,self.embedded_points,flows = self.FlowArtist(self.embedded_points), sigma = self.sigma_embedding, flow_strength=self.flow_strength)\n",
    "\t\t# print(\"affinities \",A)\n",
    "\t\t# flow\n",
    "\t\tself.P_embedding = torch.diag(1/A.sum(axis=1)) @ A\n",
    "\t\t# power it\n",
    "\t\tself.P_embedding_t = torch.matrix_power(self.P_embedding,self.t)\n",
    "\n",
    "\tdef loss(self):\n",
    "\t\tself.embedded_points = self.encoder(self.X)\n",
    "\t\t# print(self.embedded_points)\n",
    "\t\t# compute embedding diffusion matrix\n",
    "\t\tself.compute_embedding_P()\n",
    "\t\t# compute autoencoder loss\n",
    "\t\tX_reconstructed = self.decoder(self.embedded_points)\n",
    "\t\treconstruction_loss = self.MSE(X_reconstructed, self.X)\n",
    "\t\t# print(\"recon loss\",reconstruction_loss)\n",
    "\t\t# take KL divergence between it and actual P\n",
    "\t\t# print(\"embedding p\",self.P_embedding_t)\n",
    "\t\tlog_P_embedding_t = torch.log(self.P_embedding_t)\n",
    "\t\t# print(log_P_embedding_t)\n",
    "\t\tif log_P_embedding_t.is_sparse:\n",
    "\t\t\tdiffusion_loss = self.KLD(log_P_embedding_t.to_dense(),self.P_graph_t.to_dense())\n",
    "\t\telse:\n",
    "\t\t\tdiffusion_loss = self.KLD(log_P_embedding_t,self.P_graph_t)\n",
    "\t\t# print(\"diffusion loss is\",diffusion_loss)\n",
    "\t\tcost = self.weight_of_flow*diffusion_loss + (1 - self.weight_of_flow)*reconstruction_loss\n",
    "\t\t# print(f\"cost is KLD {diffusion_loss} with recon {reconstruction_loss}\")\n",
    "\t\tself.losses.append([diffusion_loss,reconstruction_loss])\n",
    "\t\treturn cost\n",
    "\n",
    "\tdef multiscale_loss(self):\n",
    "\t\tself.embedded_points = self.encoder(self.X)\n",
    "\t\t# print(self.embedded_points)\n",
    "\t\t# compute embedding diffusion matrix\n",
    "\t\tself.compute_embedding_P()\n",
    "\t\t# compute autoencoder loss\n",
    "\t\tX_reconstructed = self.decoder(self.embedded_points)\n",
    "\t\treconstruction_loss = self.MSE(X_reconstructed, self.X)\n",
    "\t\t# print(\"recon loss\",reconstruction_loss)\n",
    "\t\t# take KL divergence between it and actual P\n",
    "\t\t# print(\"embedding p\",self.P_embedding_t)\n",
    "\t\tlog_P_embedding_t = torch.log(self.P_embedding_t)\n",
    "\t\t# print(log_P_embedding_t)\n",
    "\t\tif log_P_embedding_t.is_sparse:\n",
    "\t\t\tdiffusion_loss = self.KLD(log_P_embedding_t.to_dense(),self.P_graph_t.to_dense())\n",
    "\t\telse:\n",
    "\t\t\tdiffusion_loss = self.KLD(log_P_embedding_t,self.P_graph_t)\n",
    "\t\t# print(\"diffusion loss is\",diffusion_loss)\n",
    "\t\tcost = self.weight_of_flow*diffusion_loss + (1 - self.weight_of_flow)*reconstruction_loss\n",
    "\t\t# print(f\"cost is KLD {diffusion_loss} with recon {reconstruction_loss}\")\n",
    "\t\tself.losses.append([diffusion_loss,reconstruction_loss])\n",
    "\t\treturn cost\n",
    "\n",
    "\tdef visualize_points(self, labels=None):\n",
    "\t\t# controls the x and y axes of the plot\n",
    "\t\t# linspace(min on axis, max on axis, spacing on plot -- large number = more field arrows)\n",
    "\t\tminx = min(self.embedded_points[:,0].detach().cpu().numpy())-1\n",
    "\t\tmaxx = max(self.embedded_points[:,0].detach().cpu().numpy())+1\n",
    "\t\tminy = min(self.embedded_points[:,1].detach().cpu().numpy())-1\n",
    "\t\tmaxy = max(self.embedded_points[:,1].detach().cpu().numpy())+1\n",
    "\t\tnum_grid = 20\n",
    "\t\tx, y = np.meshgrid(np.linspace(minx,maxx,num_grid),np.linspace(miny,maxy,num_grid))\n",
    "\t\tx = torch.tensor(x,dtype=float).cpu()\n",
    "\t\ty = torch.tensor(y,dtype=float).cpu()\n",
    "\t\txy_t = torch.concat([x[:,:,None],y[:,:,None]],dim=2).float().to(self.device) # TODO: cuda/cpu issue\n",
    "\t\txy_t = xy_t.reshape(num_grid**2,2)\n",
    "\t\tuv = self.FlowArtist(xy_t).detach()\n",
    "\t\tu = uv[:,0].cpu()\n",
    "\t\tv = uv[:,1].cpu()\n",
    "\t\t\n",
    "\t\t# quiver \n",
    "\t\t# \tplots a 2D field of arrows\n",
    "\t\t# \tquiver([X, Y], U, V, [C], **kw); \n",
    "\t\t# \tX, Y define the arrow locations, U, V define the arrow directions, and C optionally sets the color.\n",
    "\t\tif labels is not None:\n",
    "\t\t\tsc = plt.scatter(self.embedded_points[:,0].detach().cpu(),self.embedded_points[:,1].detach().cpu(), c=labels)\n",
    "\t\t\tplt.legend()\n",
    "\t\telse:\n",
    "\t\t\tsc = plt.scatter(self.embedded_points[:,0].detach().cpu(),self.embedded_points[:,1].detach().cpu())\n",
    "\t\tplt.quiver(x,y,u,v)\n",
    "\t\t# Display all open figures.\n",
    "\t\tplt.show()\n",
    "\tdef visualize_diffusion_matrices(self):\n",
    "\t\tfig, axs = plt.subplots(1,2)\n",
    "\t\taxs[0].set_title(f\"Ambient $P^{self.t}$\")\n",
    "\t\taxs[0].imshow(self.P_graph_t.detach().cpu().numpy())\n",
    "\t\taxs[1].set_title(f\"Embedding $P^{self.t}$\")\n",
    "\t\taxs[1].imshow(self.P_embedding_t.detach().cpu().numpy())\n",
    "\t\tplt.show()\n",
    "\n",
    "\tdef fit(self,n_steps = 1000):\n",
    "\t\t# train Flow Embedder on the provided graph\n",
    "\t\tself.train()\n",
    "\t\t# self.weight_of_flow = 0\n",
    "\t\tfor step in trange(n_steps):\n",
    "\t\t\t# if step == 100:\n",
    "\t\t\t# \tself.weight_of_flow = 1\n",
    "\t\t\t# if step == 200:\n",
    "\t\t\t# \tself.weight_of_flow = 0.5\n",
    "\t\t\tself.optim.zero_grad()\n",
    "\t\t\t# compute loss\n",
    "\t\t\tloss = self.loss()\n",
    "\t\t\t# print(\"loss is \",loss)\n",
    "\t\t\t# compute gradient and step backwards\n",
    "\t\t\tloss.backward()\n",
    "\t\t\tself.optim.step()\n",
    "\t\t\tif step % 100 == 0:\n",
    "\t\t\t\tprint(f\"EPOCH {step}. Loss {loss}. Flow strength {self.flow_strength}. Weight of flow {self.weight_of_flow} Heatmap of P embedding is \")\n",
    "\t\t\t\tself.visualize_diffusion_matrices()\n",
    "\t\t\t\tself.visualize_points()\n",
    "\t\t\t# TODO: Criteria to automatically end training\n",
    "\t\tprint(\"Exiting training with loss \",loss)\n",
    "\t\treturn self.embedded_points"
   ]
  }
 ],
 "metadata": {
  "kernelspec": {
   "display_name": "Python 3.9.13 ('pyg_from_source')",
   "language": "python",
   "name": "python3"
  }
 },
 "nbformat": 4,
 "nbformat_minor": 2
}
