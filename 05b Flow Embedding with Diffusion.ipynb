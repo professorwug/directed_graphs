{
 "cells": [
  {
   "cell_type": "code",
   "execution_count": null,
   "metadata": {},
   "outputs": [],
   "source": [
    "# default_exp diffusion_flow_embedding\n",
    "from nbdev.showdoc import *\n",
    "import numpy as np\n",
    "%load_ext autoreload\n",
    "%autoreload 2"
   ]
  },
  {
   "cell_type": "code",
   "execution_count": null,
   "metadata": {},
   "outputs": [],
   "source": [
    "# export\n",
    "# hide\n",
    "import torch\n",
    "import torch.nn as nn"
   ]
  },
  {
   "cell_type": "markdown",
   "metadata": {},
   "source": [
    "# Flow Embedding with Diffusion"
   ]
  },
  {
   "cell_type": "markdown",
   "metadata": {},
   "source": [
    "The first generation of the flow embedding network was based around the preservation of distances in the embedding space. It's now obvious that this was the wrong tact. Caring about distance preservation puts most emphasis on far away points (including pathological cases, when there's no connectivity and the distance is \"infinite\"). \n",
    "\n",
    "Affinities do the trick here much better. They naturally emphasize only local distances, and allow the network to heavily discount (if not outright ignore) long-range connectivity. \n",
    "\n",
    "This locality creates a new model of flow. Previously, our network used euclidean lines between points, and used the flow only to determine the length of each line. Going against (and especially, going perpendicular) to the flow was *possible*, just not easy.\n",
    "\n",
    "With the diffusion-based model, we think in terms of probabilities, rather than distances. \n",
    "This has a couple of downstream effects:\n",
    "- Going with the flow is *highly* encouraged. Going against or even perpendicular is given (depending on the kernel function used) a probability close to zero.\n",
    "- Points travel on *paths* dictated by the flow. The likelihood of reaching point $i$ from $j$ is governed not by the *shortest* path, but the aggregate of all paths, weighted by probability. This has the dual effects of diminishing the effect of outliers, and providing an intuitive model of motion. You don't have to reason about which path is \"lowest energy\", just which path is most likely based on the directions of flow."
   ]
  },
  {
   "cell_type": "markdown",
   "metadata": {},
   "source": [
    "## The Pieces of the Algorithm"
   ]
  },
  {
   "cell_type": "markdown",
   "metadata": {},
   "source": [
    "We compute the probabilities of transition between the points with three steps:\n",
    "1. Learn a \"Flow Artist\": a neural network to learn flow over the euclidean field.\n",
    "  - This is currently a function of two variables $F(x,y): \\mathbb{R}^2 \\to \\mathbb{R}$. The direction of flow is the negative gradient $-\\Delta F$.\n",
    "2. Compute the probabilities of transition between the grid points and the embeddings of points.\n",
    "3. Compute the probabilities of transition from grid points to grid points.\n",
    "\n",
    "The probability of transitioning from one point to another is then the amalgam of these steps: we transition to the grid, transition within the grid for $t$ steps, and then transition back to a point. Each probability gives a matrix."
   ]
  },
  {
   "cell_type": "markdown",
   "metadata": {},
   "source": [
    "## Probability Kernel from Flow"
   ]
  },
  {
   "cell_type": "markdown",
   "metadata": {},
   "source": [
    "The foundation of these is the conversion from *flow* (the vector field) to probabilities of transition. This is done using a kernel based on the degree of divergence between the direction specified and the flow, as below, where $r$ is the flow direction (a vector) and $v$ is the direction of the edge.\n",
    "$$ e^{-(\\|r\\|^2 - r \\cdot v)/\\sigma} $$\n",
    "When the flow is aligned with the direction, this returns 1. When it is perpendicular, $e^{-\\|r\\|^2/\\sigma}$, and when against the flow, $e^{-2\\|r\\|^2/\\sigma}$.\n",
    "\n",
    "We should tune $\\sigma$ to ensure that a 45 degree angle returns a quantity significantly above zero."
   ]
  },
  {
   "cell_type": "markdown",
   "metadata": {},
   "source": [
    "We'll create a function that performs this operation on batches of flows and directions. The input will be an array of flows (e.g. the flow per point), and a batch of directions (e.g. NESW for each point). It will, of course, use PyTorch for backpropogation capable operations"
   ]
  },
  {
   "cell_type": "code",
   "execution_count": null,
   "metadata": {},
   "outputs": [],
   "source": [
    "#export\n",
    "def affinity_from_flow(flows, directions_array, flow_strength = 1, sigma=1):\n",
    "  \"\"\"Compute probabilities of transition in the given directions based on the flow. \n",
    "\n",
    "  Parameters\n",
    "  ----------\n",
    "  flows : torch tensor of shape n_points x n_dims\n",
    "      _description_\n",
    "  directions_array : torch tensor of shape n_directions x n_points x n_dims. Assumed to be normalized.\n",
    "      _description_\n",
    "  sigma : int, optional\n",
    "      kernel bandwidth, by default 1\n",
    "  returns (n_points)\n",
    "  \"\"\"\n",
    "  assert len(flows.shape) == 2 # flows should only have one dimension\n",
    "  assert len(directions_array.shape) > 1 and len(directions_array.shape) < 4\n",
    "  n_directions = directions_array.shape[0]\n",
    "  # Normalize directions\n",
    "  length_of_directions = torch.linalg.norm(directions_array,dim=-1)\n",
    "  normed_directions = directions_array / length_of_directions[:,:,None]\n",
    "  # and normalize flows # TODO: Perhaps reconsider\n",
    "  flows = flows / torch.linalg.norm(flows,dim=1)[:,None]\n",
    "  \n",
    "  if len(directions_array) == 1: # convert to 2d array if necessary\n",
    "    directions_array = directions_array[:,None] \n",
    "  # compute dot products as matrix multiplication\n",
    "  dot_products = (normed_directions * flows).sum(-1)\n",
    "  # take distance between flow projected onto direction and the direction\n",
    "  distance_from_flow = (torch.linalg.norm(flows,dim=1)**2).repeat(n_directions,1) - dot_products\n",
    "  # take absolute value\n",
    "  distance_from_flow = torch.abs(distance_from_flow)\n",
    "  print('shape of dff',distance_from_flow.shape)\n",
    "  # add to this the length of each direction\n",
    "  distance_from_flow = flow_strength*distance_from_flow + length_of_directions\n",
    "  # put the points on rows, directions in columns\n",
    "  distance_from_flow = distance_from_flow.T\n",
    "  # take kernel of distances\n",
    "  kernel =  torch.exp(-distance_from_flow/sigma)\n",
    "  # normalize kernel\n",
    "  # kernel /= torch.sum(kernel,axis=1)\n",
    "  return kernel\n",
    "  \n",
    "  "
   ]
  },
  {
   "cell_type": "markdown",
   "metadata": {},
   "source": [
    "### A Sample Computation"
   ]
  },
  {
   "cell_type": "code",
   "execution_count": null,
   "metadata": {},
   "outputs": [],
   "source": [
    "flows = torch.rand(4,2) # Flows for each of 4 points\n",
    "directions_array = torch.rand(7,4,2) # 7 directions, for each of the four points"
   ]
  },
  {
   "cell_type": "code",
   "execution_count": null,
   "metadata": {},
   "outputs": [],
   "source": [
    "normed_directions = directions_array / torch.linalg.norm(directions_array,dim=-1)[:,:,None]"
   ]
  },
  {
   "cell_type": "code",
   "execution_count": null,
   "metadata": {},
   "outputs": [
    {
     "data": {
      "text/plain": [
       "torch.Size([7, 4, 2])"
      ]
     },
     "execution_count": null,
     "metadata": {},
     "output_type": "execute_result"
    }
   ],
   "source": [
    "normed_directions.shape"
   ]
  },
  {
   "cell_type": "code",
   "execution_count": null,
   "metadata": {},
   "outputs": [
    {
     "data": {
      "text/plain": [
       "array([[1.        , 1.        , 1.        , 1.        ],\n",
       "       [1.        , 0.99999994, 1.        , 1.        ],\n",
       "       [1.        , 1.        , 1.        , 1.        ],\n",
       "       [1.        , 1.        , 1.        , 1.        ],\n",
       "       [0.99999994, 1.        , 0.99999994, 0.99999994],\n",
       "       [1.        , 1.        , 0.99999994, 0.99999994],\n",
       "       [1.        , 1.        , 1.        , 0.99999994]], dtype=float32)"
      ]
     },
     "execution_count": null,
     "metadata": {},
     "output_type": "execute_result"
    }
   ],
   "source": [
    "np.linalg.norm(normed_directions,axis=-1)"
   ]
  },
  {
   "cell_type": "markdown",
   "metadata": {},
   "source": [
    "Next, take a dot product between the directions and the flow, to get a strength of flow at each point in each direction"
   ]
  },
  {
   "cell_type": "code",
   "execution_count": null,
   "metadata": {},
   "outputs": [
    {
     "data": {
      "text/plain": [
       "torch.Size([7, 4])"
      ]
     },
     "execution_count": null,
     "metadata": {},
     "output_type": "execute_result"
    }
   ],
   "source": [
    "dot_products = (directions_array * flows).sum(-1)\n",
    "dot_products.shape"
   ]
  },
  {
   "cell_type": "markdown",
   "metadata": {},
   "source": [
    "Convert these dot products into distances by subtracting the norm squared of the flows from the dot product with the flow. If exactly with the flow, we get zero."
   ]
  },
  {
   "cell_type": "code",
   "execution_count": null,
   "metadata": {},
   "outputs": [
    {
     "data": {
      "text/plain": [
       "tensor([[ 0.5265,  0.0957,  0.4081, -0.0905],\n",
       "        [ 0.5300,  0.1747,  0.4461,  0.1284],\n",
       "        [-0.1705,  0.4998,  0.1708,  0.1747],\n",
       "        [ 0.0868,  0.2713,  0.0390,  0.0741],\n",
       "        [ 0.4554,  0.3263,  0.5404, -0.1924],\n",
       "        [ 0.4561,  0.0290,  0.1058, -0.1047],\n",
       "        [ 0.4764,  0.0025,  0.7617, -0.0967]])"
      ]
     },
     "execution_count": null,
     "metadata": {},
     "output_type": "execute_result"
    }
   ],
   "source": [
    "distance_from_flow = (torch.linalg.norm(flows,dim=1)**2).repeat(7,1) - dot_products\n",
    "distance_from_flow"
   ]
  },
  {
   "cell_type": "markdown",
   "metadata": {},
   "source": [
    "### Testing"
   ]
  },
  {
   "cell_type": "markdown",
   "metadata": {},
   "source": [
    "To ensure this is working as expected, we'll try computations on a single sample point, with flow going in direction (1,1). We'll compare this with six directions: one with, one against, and the rest in the shape of a grid."
   ]
  },
  {
   "cell_type": "code",
   "execution_count": null,
   "metadata": {},
   "outputs": [
    {
     "name": "stdout",
     "output_type": "stream",
     "text": [
      "shape of dff torch.Size([6, 1])\n"
     ]
    }
   ],
   "source": [
    "flow = torch.tensor([[1,1]]).float()\n",
    "directions = torch.tensor([\n",
    "  [[0.7,0.7]],\n",
    "  [[0,1]],\n",
    "  [[1,0]],\n",
    "  [[0,-1]],\n",
    "  [[-1,0]],\n",
    "  [[-0.7,-0.7]]\n",
    "]).float()\n",
    "probs = affinity_from_flow(flow,directions,sigma=0.5)"
   ]
  },
  {
   "cell_type": "code",
   "execution_count": null,
   "metadata": {},
   "outputs": [
    {
     "data": {
      "text/plain": [
       "tensor([[0.1381, 0.0753, 0.0753, 0.0045, 0.0045, 0.0025]])"
      ]
     },
     "execution_count": null,
     "metadata": {},
     "output_type": "execute_result"
    }
   ],
   "source": [
    "probs"
   ]
  },
  {
   "cell_type": "markdown",
   "metadata": {},
   "source": [
    "If this went according to plan, the direction with the flow should have probability 1, and the one against should have probability near zero."
   ]
  },
  {
   "cell_type": "code",
   "execution_count": null,
   "metadata": {},
   "outputs": [
    {
     "data": {
      "text/plain": [
       "[<matplotlib.lines.Line2D at 0x16a61b040>]"
      ]
     },
     "execution_count": null,
     "metadata": {},
     "output_type": "execute_result"
    },
    {
     "data": {
      "image/png": "[encoded data removed]",
      "text/plain": [
       "<Figure size 432x288 with 1 Axes>"
      ]
     },
     "metadata": {
      "needs_background": "light"
     },
     "output_type": "display_data"
    }
   ],
   "source": [
    "import matplotlib.pyplot as plt\n",
    "plt.plot(probs[0])"
   ]
  },
  {
   "cell_type": "markdown",
   "metadata": {},
   "source": [
    "$\\sigma=0.5$ works well here. In particular, the 45 degree angles have fairly high probability, while still being less than the probability of going straight."
   ]
  },
  {
   "cell_type": "markdown",
   "metadata": {},
   "source": [
    "This should look like a 3-dimensional pacman"
   ]
  },
  {
   "cell_type": "code",
   "execution_count": null,
   "metadata": {},
   "outputs": [],
   "source": [
    "flow = torch.tensor([[1,1]]).float()\n",
    "x, y = np.meshgrid(np.linspace(-5,5,20),np.linspace(-5,5,20))\n",
    "x = torch.tensor(x,dtype=float).cpu()\n",
    "y = torch.tensor(y,dtype=float).cpu()\n",
    "xy_t = torch.concat([x[:,:,None],y[:,:,None]],dim=2).float()"
   ]
  },
  {
   "cell_type": "code",
   "execution_count": null,
   "metadata": {},
   "outputs": [
    {
     "name": "stdout",
     "output_type": "stream",
     "text": [
      "shape of dff torch.Size([400, 1])\n"
     ]
    }
   ],
   "source": [
    "directions_array = xy_t.reshape(400,1,2)\n",
    "flows = affinity_from_flow(flow, directions_array,flow_strength=2)"
   ]
  },
  {
   "cell_type": "code",
   "execution_count": null,
   "metadata": {},
   "outputs": [],
   "source": [
    "length_of_directions = torch.linalg.norm(directions_array,dim=-1)\n",
    "normed_directions = directions_array / length_of_directions[:,:,None]"
   ]
  },
  {
   "cell_type": "code",
   "execution_count": null,
   "metadata": {},
   "outputs": [
    {
     "data": {
      "text/plain": [
       "torch.Size([400, 1, 2])"
      ]
     },
     "execution_count": null,
     "metadata": {},
     "output_type": "execute_result"
    }
   ],
   "source": [
    "normed_directions.shape"
   ]
  },
  {
   "cell_type": "code",
   "execution_count": null,
   "metadata": {},
   "outputs": [],
   "source": [
    "flows = flows.reshape(20,20)"
   ]
  },
  {
   "cell_type": "code",
   "execution_count": null,
   "metadata": {},
   "outputs": [
    {
     "data": {
      "text/plain": [
       "<matplotlib.image.AxesImage at 0x16b5ffa00>"
      ]
     },
     "execution_count": null,
     "metadata": {},
     "output_type": "execute_result"
    },
    {
     "data": {
      "image/png": "[encoded data removed]",
      "text/plain": [
       "<Figure size 432x288 with 1 Axes>"
      ]
     },
     "metadata": {
      "needs_background": "light"
     },
     "output_type": "display_data"
    }
   ],
   "source": [
    "plt.imshow(flows)"
   ]
  },
  {
   "cell_type": "code",
   "execution_count": null,
   "metadata": {},
   "outputs": [
    {
     "data": {
      "image/png": "[encoded data removed]",
      "text/plain": [
       "<Figure size 432x288 with 1 Axes>"
      ]
     },
     "metadata": {
      "needs_background": "light"
     },
     "output_type": "display_data"
    }
   ],
   "source": [
    "fig = plt.figure()\n",
    "ax = fig.add_subplot(111, projection='3d')\n",
    "\n",
    "ax.plot_surface(x,y,flows)\n",
    "\n",
    "ax.set_xlabel('X Label')\n",
    "ax.set_ylabel('Y Label')\n",
    "ax.set_zlabel('Z Label')\n",
    "\n",
    "plt.show()"
   ]
  },
  {
   "cell_type": "code",
   "execution_count": null,
   "metadata": {},
   "outputs": [
    {
     "data": {
      "text/plain": [
       "tensor(0.6892)"
      ]
     },
     "execution_count": null,
     "metadata": {},
     "output_type": "execute_result"
    }
   ],
   "source": [
    "torch.max(flows)"
   ]
  },
  {
   "cell_type": "code",
   "execution_count": null,
   "metadata": {},
   "outputs": [],
   "source": [
    "X = np.column_stack([x.reshape(400),y.reshape(400),flows.reshape(400)*4])"
   ]
  },
  {
   "cell_type": "code",
   "execution_count": null,
   "metadata": {},
   "outputs": [
    {
     "data": {
      "application/vnd.plotly.v1+json": {
       "config": {
        "plotlyServerURL": "https://plot.ly"
       },
       "data": [
        {
         "hovertemplate": "x=%{x}<br>y=%{y}<br>z=%{z}<br>colors=%{marker.color}<extra></extra>",
         "legendgroup": "",
         "marker": {
          "color": [
           3.8559328174869734e-08,
           5.579742534678189e-08,
           8.040976950951517e-08,
           1.156485893716308e-07,
           1.66432982950937e-07,
           2.403217251867318e-07,
           3.4894983969024906e-07,
           5.098617634757829e-07,
           7.481792749786109e-07,
           1.096496362151811e-06,
           1.590052193023439e-06,
           2.254007313240436e-06,
           3.083064029851812e-06,
           4.021595032099867e-06,
           4.95923450216651e-06,
           5.752862307417672e-06,
           6.269639925449155e-06,
           6.429690529330401e-06,
           6.227188350749202e-06,
           5.722711648559198e-06,
           5.579742534678189e-08,
           8.1168053611691e-08,
           1.1754262629892764e-07,
           1.6991542395317083e-07,
           2.460940322634997e-07,
           3.586791876841744e-07,
           5.283623067953158e-07,
           7.888839377301338e-07,
           1.1930846994800959e-06,
           1.816747158045473e-06,
           2.7518531169334892e-06,
           4.077114681422245e-06,
           5.801289717055624e-06,
           7.801651008776389e-06,
           9.807417882257141e-06,
           1.1465289389889222e-05,
           1.2464292922231834e-05,
           1.2646964023588225e-05,
           1.2046407391608227e-05,
           1.084413997887168e-05,
           8.040976950951517e-08,
           1.1754262629892764e-07,
           1.7086016157463746e-07,
           2.4775465590209933e-07,
           3.601022342536453e-07,
           5.280394361761864e-07,
           7.870256126807362e-07,
           1.2001943332506926e-06,
           1.8770805354506592e-06,
           2.9936618375359103e-06,
           4.791565515915863e-06,
           7.511752755817724e-06,
           1.1229578376514837e-05,
           1.565449383633677e-05,
           2.00744834728539e-05,
           2.357542143727187e-05,
           2.5425215426366776e-05,
           2.53578728006687e-05,
           2.3598904590471648e-05,
           2.0683568436652422e-05,
           1.156485893716308e-07,
           1.6991542395317083e-07,
           2.4775465590209933e-07,
           3.5966294831268897e-07,
           5.227587962508551e-07,
           7.674133826185425e-07,
           1.15130887934356e-06,
           1.787982455425663e-06,
           2.8995511911489302e-06,
           4.8942924877337646e-06,
           8.418197467108257e-06,
           1.4218618161976337e-05,
           2.263400165247731e-05,
           3.289407686679624e-05,
           4.295666076359339e-05,
           5.034332207287662e-05,
           5.337871334631927e-05,
           5.184256224310957e-05,
           4.67355057480745e-05,
           3.9591082895640284e-05,
           1.66432982950937e-07,
           2.460940322634997e-07,
           3.601022342536453e-07,
           5.227587962508551e-07,
           7.570967568426568e-07,
           1.1053355137846665e-06,
           1.6543642686883686e-06,
           2.5963784082705388e-06,
           4.365941549622221e-06,
           7.906859536888078e-06,
           1.4997974176367279e-05,
           2.806028351187706e-05,
           4.843123315367848e-05,
           7.367765647359192e-05,
           9.730173042044044e-05,
           0.00011236301361350343,
           0.00011550580529728904,
           0.00010785388440126553,
           9.318766387877986e-05,
           7.566571730421856e-05,
           2.403217251867318e-07,
           3.586791876841744e-07,
           5.280394361761864e-07,
           7.674133826185425e-07,
           1.1053355137846665e-06,
           1.593700289959088e-06,
           2.3482289179810323e-06,
           3.6638523397414247e-06,
           6.339752417261479e-06,
           1.253055870620301e-05,
           2.7358819352230057e-05,
           5.931774285272695e-05,
           0.00011358250048942864,
           0.00018034569802694023,
           0.00023652586969546974,
           0.00026318387244828045,
           0.0002569923526607454,
           0.00022696718224324286,
           0.0001856748276622966,
           0.0001432534772902727,
           3.4894983969024906e-07,
           5.283623067953158e-07,
           7.870256126807362e-07,
           1.15130887934356e-06,
           1.6543642686883686e-06,
           2.3482289179810323e-06,
           3.354763748575351e-06,
           5.05193702338147e-06,
           8.749325388635043e-06,
           1.9196022549294867e-05,
           5.218025034992024e-05,
           0.00014179856225382537,
           0.00030789096490480006,
           0.0004978908109478652,
           0.0006234212196432054,
           0.0006448414060287178,
           0.0005821743980050087,
           0.00047732083476148546,
           0.000365216052159667,
           0.0002656715805642307,
           5.098617634757829e-07,
           7.888839377301338e-07,
           1.2001943332506926e-06,
           1.787982455425663e-06,
           2.5963784082705388e-06,
           3.6638523397414247e-06,
           5.05193702338147e-06,
           7.061828910082113e-06,
           1.1362718396412674e-05,
           2.7478736228658818e-05,
           0.00010996516357408836,
           0.00043197686318308115,
           0.0010480678174644709,
           0.0015935766277834773,
           0.0017717807786539197,
           0.0016219414537772536,
           0.001314008142799139,
           0.000983077334240079,
           0.0006968721863813698,
           0.00047562705003656447,
           7.481792749786109e-07,
           1.1930846994800959e-06,
           1.8770805354506592e-06,
           2.8995511911489302e-06,
           4.365941549622221e-06,
           6.339752417261479e-06,
           8.749325388635043e-06,
           1.1362718396412674e-05,
           1.486525889049517e-05,
           3.348832615301944e-05,
           0.0003133324207738042,
           0.00220620003528893,
           0.004884039517492056,
           0.005815684795379639,
           0.00519288145005703,
           0.004006782080978155,
           0.0028484805952757597,
           0.0019265193259343505,
           0.0012614454608410597,
           0.0008078907267190516,
           1.096496362151811e-06,
           1.816747158045473e-06,
           2.9936618375359103e-06,
           4.8942924877337646e-06,
           7.906859536888078e-06,
           1.253055870620301e-05,
           1.9196022549294867e-05,
           2.7478736228658818e-05,
           3.348832615301944e-05,
           3.129159813397564e-05,
           0.0046440851874649525,
           0.027430228888988495,
           0.028202461078763008,
           0.021051006391644478,
           0.01412908174097538,
           0.009043116122484207,
           0.005643774289637804,
           0.003469979390501976,
           0.0021131017711013556,
           0.0012784638674929738,
           1.590052193023439e-06,
           2.7518531169334892e-06,
           4.791565515915863e-06,
           8.418197467108257e-06,
           1.4997974176367279e-05,
           2.7358819352230057e-05,
           5.218025034992024e-05,
           0.00010996516357408836,
           0.0003133324207738042,
           0.0046440851874649525,
           0.6892427206039429,
           0.25665003061294556,
           0.1128612831234932,
           0.057222578674554825,
           0.03084898181259632,
           0.017153261229395866,
           0.009707308374345303,
           0.0055539472959935665,
           0.003200748935341835,
           0.0018539270386099815,
           2.254007313240436e-06,
           4.077114681422245e-06,
           7.511752755817724e-06,
           1.4218618161976337e-05,
           2.806028351187706e-05,
           5.931774285272695e-05,
           0.00014179856225382537,
           0.00043197686318308115,
           0.00220620003528893,
           0.027430228888988495,
           0.25665003061294556,
           0.32742881774902344,
           0.18567675352096558,
           0.0942535251379013,
           0.04858703538775444,
           0.025751929730176926,
           0.013968195766210556,
           0.007709590718150139,
           0.0043107252568006516,
           0.0024338962975889444,
           3.083064029851812e-06,
           5.801289717055624e-06,
           1.1229578376514837e-05,
           2.263400165247731e-05,
           4.843123315367848e-05,
           0.00011358250048942864,
           0.00030789096490480006,
           0.0010480678174644709,
           0.004884039517492056,
           0.028202461078763008,
           0.1128612831234932,
           0.18567675352096558,
           0.15554694831371307,
           0.0971207469701767,
           0.05492669343948364,
           0.03025471791625023,
           0.01663399487733841,
           0.00919813010841608,
           0.0051246569491922855,
           0.0028760500717908144,
           4.021595032099867e-06,
           7.801651008776389e-06,
           1.565449383633677e-05,
           3.289407686679624e-05,
           7.367765647359192e-05,
           0.00018034569802694023,
           0.0004978908109478652,
           0.0015935766277834773,
           0.005815684795379639,
           0.021051006391644478,
           0.057222578674554825,
           0.0942535251379013,
           0.0971207469701767,
           0.07389349490404129,
           0.047879286110401154,
           0.02871823124587536,
           0.01663331314921379,
           0.009494238533079624,
           0.005392676219344139,
           0.0030618254095315933,
           4.95923450216651e-06,
           9.807417882257141e-06,
           2.00744834728539e-05,
           4.295666076359339e-05,
           9.730173042044044e-05,
           0.00023652586969546974,
           0.0006234212196432054,
           0.0017717807786539197,
           0.00519288145005703,
           0.01412908174097538,
           0.03084898181259632,
           0.04858703538775444,
           0.05492669343948364,
           0.047879286110401154,
           0.035103533416986465,
           0.023167841136455536,
           0.014385387301445007,
           0.008628623560070992,
           0.005076931789517403,
           0.0029561491683125496,
           5.752862307417672e-06,
           1.1465289389889222e-05,
           2.357542143727187e-05,
           5.034332207287662e-05,
           0.00011236301361350343,
           0.00026318387244828045,
           0.0006448414060287178,
           0.0016219414537772536,
           0.004006782080978155,
           0.009043116122484207,
           0.017153261229395866,
           0.025751929730176926,
           0.03025471791625023,
           0.02871823124587536,
           0.023167841136455536,
           0.01667613349854946,
           0.011123573407530785,
           0.00706105213612318,
           0.00434153014793992,
           0.0026154338847845793,
           6.269639925449155e-06,
           1.2464292922231834e-05,
           2.5425215426366776e-05,
           5.337871334631927e-05,
           0.00011550580529728904,
           0.0002569923526607454,
           0.0005821743980050087,
           0.001314008142799139,
           0.0028484805952757597,
           0.005643774289637804,
           0.009707308374345303,
           0.013968195766210556,
           0.01663399487733841,
           0.01663331314921379,
           0.014385387301445007,
           0.011123573407530785,
           0.0079220961779356,
           0.005320216063410044,
           0.0034283199347555637,
           0.0021463455632328987,
           6.429690529330401e-06,
           1.2646964023588225e-05,
           2.53578728006687e-05,
           5.184256224310957e-05,
           0.00010785388440126553,
           0.00022696718224324286,
           0.00047732083476148546,
           0.000983077334240079,
           0.0019265193259343505,
           0.003469979390501976,
           0.0055539472959935665,
           0.007709590718150139,
           0.00919813010841608,
           0.009494238533079624,
           0.008628623560070992,
           0.00706105213612318,
           0.005320216063410044,
           0.0037634384352713823,
           0.002539117354899645,
           0.0016538911731913686,
           6.227188350749202e-06,
           1.2046407391608227e-05,
           2.3598904590471648e-05,
           4.67355057480745e-05,
           9.318766387877986e-05,
           0.0001856748276622966,
           0.000365216052159667,
           0.0006968721863813698,
           0.0012614454608410597,
           0.0021131017711013556,
           0.003200748935341835,
           0.0043107252568006516,
           0.0051246569491922855,
           0.005392676219344139,
           0.005076931789517403,
           0.00434153014793992,
           0.0034283199347555637,
           0.002539117354899645,
           0.0017878428334370255,
           0.0012102440232411027,
           5.722711648559198e-06,
           1.084413997887168e-05,
           2.0683568436652422e-05,
           3.9591082895640284e-05,
           7.566571730421856e-05,
           0.0001432534772902727,
           0.0002656715805642307,
           0.00047562705003656447,
           0.0008078907267190516,
           0.0012784638674929738,
           0.0018539270386099815,
           0.0024338962975889444,
           0.0028760500717908144,
           0.0030618254095315933,
           0.0029561491683125496,
           0.0026154338847845793,
           0.0021463455632328987,
           0.0016538911731913686,
           0.0012102440232411027,
           0.0008493253262713552
          ],
          "coloraxis": "coloraxis",
          "symbol": "circle"
         },
         "mode": "markers",
         "name": "",
         "scene": "scene",
         "showlegend": false,
         "type": "scatter3d",
         "x": [
          -5,
          -4.473684210526316,
          -3.947368421052632,
          -3.4210526315789473,
          -2.8947368421052633,
          -2.368421052631579,
          -1.8421052631578947,
          -1.3157894736842106,
          -0.7894736842105265,
          -0.2631578947368425,
          0.2631578947368416,
          0.7894736842105257,
          1.3157894736842106,
          1.8421052631578947,
          2.3684210526315788,
          2.894736842105263,
          3.421052631578947,
          3.947368421052632,
          4.473684210526315,
          5,
          -5,
          -4.473684210526316,
          -3.947368421052632,
          -3.4210526315789473,
          -2.8947368421052633,
          -2.368421052631579,
          -1.8421052631578947,
          -1.3157894736842106,
          -0.7894736842105265,
          -0.2631578947368425,
          0.2631578947368416,
          0.7894736842105257,
          1.3157894736842106,
          1.8421052631578947,
          2.3684210526315788,
          2.894736842105263,
          3.421052631578947,
          3.947368421052632,
          4.473684210526315,
          5,
          -5,
          -4.473684210526316,
          -3.947368421052632,
          -3.4210526315789473,
          -2.8947368421052633,
          -2.368421052631579,
          -1.8421052631578947,
          -1.3157894736842106,
          -0.7894736842105265,
          -0.2631578947368425,
          0.2631578947368416,
          0.7894736842105257,
          1.3157894736842106,
          1.8421052631578947,
          2.3684210526315788,
          2.894736842105263,
          3.421052631578947,
          3.947368421052632,
          4.473684210526315,
          5,
          -5,
          -4.473684210526316,
          -3.947368421052632,
          -3.4210526315789473,
          -2.8947368421052633,
          -2.368421052631579,
          -1.8421052631578947,
          -1.3157894736842106,
          -0.7894736842105265,
          -0.2631578947368425,
          0.2631578947368416,
          0.7894736842105257,
          1.3157894736842106,
          1.8421052631578947,
          2.3684210526315788,
          2.894736842105263,
          3.421052631578947,
          3.947368421052632,
          4.473684210526315,
          5,
          -5,
          -4.473684210526316,
          -3.947368421052632,
          -3.4210526315789473,
          -2.8947368421052633,
          -2.368421052631579,
          -1.8421052631578947,
          -1.3157894736842106,
          -0.7894736842105265,
          -0.2631578947368425,
          0.2631578947368416,
          0.7894736842105257,
          1.3157894736842106,
          1.8421052631578947,
          2.3684210526315788,
          2.894736842105263,
          3.421052631578947,
          3.947368421052632,
          4.473684210526315,
          5,
          -5,
          -4.473684210526316,
          -3.947368421052632,
          -3.4210526315789473,
          -2.8947368421052633,
          -2.368421052631579,
          -1.8421052631578947,
          -1.3157894736842106,
          -0.7894736842105265,
          -0.2631578947368425,
          0.2631578947368416,
          0.7894736842105257,
          1.3157894736842106,
          1.8421052631578947,
          2.3684210526315788,
          2.894736842105263,
          3.421052631578947,
          3.947368421052632,
          4.473684210526315,
          5,
          -5,
          -4.473684210526316,
          -3.947368421052632,
          -3.4210526315789473,
          -2.8947368421052633,
          -2.368421052631579,
          -1.8421052631578947,
          -1.3157894736842106,
          -0.7894736842105265,
          -0.2631578947368425,
          0.2631578947368416,
          0.7894736842105257,
          1.3157894736842106,
          1.8421052631578947,
          2.3684210526315788,
          2.894736842105263,
          3.421052631578947,
          3.947368421052632,
          4.473684210526315,
          5,
          -5,
          -4.473684210526316,
          -3.947368421052632,
          -3.4210526315789473,
          -2.8947368421052633,
          -2.368421052631579,
          -1.8421052631578947,
          -1.3157894736842106,
          -0.7894736842105265,
          -0.2631578947368425,
          0.2631578947368416,
          0.7894736842105257,
          1.3157894736842106,
          1.8421052631578947,
          2.3684210526315788,
          2.894736842105263,
          3.421052631578947,
          3.947368421052632,
          4.473684210526315,
          5,
          -5,
          -4.473684210526316,
          -3.947368421052632,
          -3.4210526315789473,
          -2.8947368421052633,
          -2.368421052631579,
          -1.8421052631578947,
          -1.3157894736842106,
          -0.7894736842105265,
          -0.2631578947368425,
          0.2631578947368416,
          0.7894736842105257,
          1.3157894736842106,
          1.8421052631578947,
          2.3684210526315788,
          2.894736842105263,
          3.421052631578947,
          3.947368421052632,
          4.473684210526315,
          5,
          -5,
          -4.473684210526316,
          -3.947368421052632,
          -3.4210526315789473,
          -2.8947368421052633,
          -2.368421052631579,
          -1.8421052631578947,
          -1.3157894736842106,
          -0.7894736842105265,
          -0.2631578947368425,
          0.2631578947368416,
          0.7894736842105257,
          1.3157894736842106,
          1.8421052631578947,
          2.3684210526315788,
          2.894736842105263,
          3.421052631578947,
          3.947368421052632,
          4.473684210526315,
          5,
          -5,
          -4.473684210526316,
          -3.947368421052632,
          -3.4210526315789473,
          -2.8947368421052633,
          -2.368421052631579,
          -1.8421052631578947,
          -1.3157894736842106,
          -0.7894736842105265,
          -0.2631578947368425,
          0.2631578947368416,
          0.7894736842105257,
          1.3157894736842106,
          1.8421052631578947,
          2.3684210526315788,
          2.894736842105263,
          3.421052631578947,
          3.947368421052632,
          4.473684210526315,
          5,
          -5,
          -4.473684210526316,
          -3.947368421052632,
          -3.4210526315789473,
          -2.8947368421052633,
          -2.368421052631579,
          -1.8421052631578947,
          -1.3157894736842106,
          -0.7894736842105265,
          -0.2631578947368425,
          0.2631578947368416,
          0.7894736842105257,
          1.3157894736842106,
          1.8421052631578947,
          2.3684210526315788,
          2.894736842105263,
          3.421052631578947,
          3.947368421052632,
          4.473684210526315,
          5,
          -5,
          -4.473684210526316,
          -3.947368421052632,
          -3.4210526315789473,
          -2.8947368421052633,
          -2.368421052631579,
          -1.8421052631578947,
          -1.3157894736842106,
          -0.7894736842105265,
          -0.2631578947368425,
          0.2631578947368416,
          0.7894736842105257,
          1.3157894736842106,
          1.8421052631578947,
          2.3684210526315788,
          2.894736842105263,
          3.421052631578947,
          3.947368421052632,
          4.473684210526315,
          5,
          -5,
          -4.473684210526316,
          -3.947368421052632,
          -3.4210526315789473,
          -2.8947368421052633,
          -2.368421052631579,
          -1.8421052631578947,
          -1.3157894736842106,
          -0.7894736842105265,
          -0.2631578947368425,
          0.2631578947368416,
          0.7894736842105257,
          1.3157894736842106,
          1.8421052631578947,
          2.3684210526315788,
          2.894736842105263,
          3.421052631578947,
          3.947368421052632,
          4.473684210526315,
          5,
          -5,
          -4.473684210526316,
          -3.947368421052632,
          -3.4210526315789473,
          -2.8947368421052633,
          -2.368421052631579,
          -1.8421052631578947,
          -1.3157894736842106,
          -0.7894736842105265,
          -0.2631578947368425,
          0.2631578947368416,
          0.7894736842105257,
          1.3157894736842106,
          1.8421052631578947,
          2.3684210526315788,
          2.894736842105263,
          3.421052631578947,
          3.947368421052632,
          4.473684210526315,
          5,
          -5,
          -4.473684210526316,
          -3.947368421052632,
          -3.4210526315789473,
          -2.8947368421052633,
          -2.368421052631579,
          -1.8421052631578947,
          -1.3157894736842106,
          -0.7894736842105265,
          -0.2631578947368425,
          0.2631578947368416,
          0.7894736842105257,
          1.3157894736842106,
          1.8421052631578947,
          2.3684210526315788,
          2.894736842105263,
          3.421052631578947,
          3.947368421052632,
          4.473684210526315,
          5,
          -5,
          -4.473684210526316,
          -3.947368421052632,
          -3.4210526315789473,
          -2.8947368421052633,
          -2.368421052631579,
          -1.8421052631578947,
          -1.3157894736842106,
          -0.7894736842105265,
          -0.2631578947368425,
          0.2631578947368416,
          0.7894736842105257,
          1.3157894736842106,
          1.8421052631578947,
          2.3684210526315788,
          2.894736842105263,
          3.421052631578947,
          3.947368421052632,
          4.473684210526315,
          5,
          -5,
          -4.473684210526316,
          -3.947368421052632,
          -3.4210526315789473,
          -2.8947368421052633,
          -2.368421052631579,
          -1.8421052631578947,
          -1.3157894736842106,
          -0.7894736842105265,
          -0.2631578947368425,
          0.2631578947368416,
          0.7894736842105257,
          1.3157894736842106,
          1.8421052631578947,
          2.3684210526315788,
          2.894736842105263,
          3.421052631578947,
          3.947368421052632,
          4.473684210526315,
          5,
          -5,
          -4.473684210526316,
          -3.947368421052632,
          -3.4210526315789473,
          -2.8947368421052633,
          -2.368421052631579,
          -1.8421052631578947,
          -1.3157894736842106,
          -0.7894736842105265,
          -0.2631578947368425,
          0.2631578947368416,
          0.7894736842105257,
          1.3157894736842106,
          1.8421052631578947,
          2.3684210526315788,
          2.894736842105263,
          3.421052631578947,
          3.947368421052632,
          4.473684210526315,
          5,
          -5,
          -4.473684210526316,
          -3.947368421052632,
          -3.4210526315789473,
          -2.8947368421052633,
          -2.368421052631579,
          -1.8421052631578947,
          -1.3157894736842106,
          -0.7894736842105265,
          -0.2631578947368425,
          0.2631578947368416,
          0.7894736842105257,
          1.3157894736842106,
          1.8421052631578947,
          2.3684210526315788,
          2.894736842105263,
          3.421052631578947,
          3.947368421052632,
          4.473684210526315,
          5
         ],
         "y": [
          -5,
          -5,
          -5,
          -5,
          -5,
          -5,
          -5,
          -5,
          -5,
          -5,
          -5,
          -5,
          -5,
          -5,
          -5,
          -5,
          -5,
          -5,
          -5,
          -5,
          -4.473684210526316,
          -4.473684210526316,
          -4.473684210526316,
          -4.473684210526316,
          -4.473684210526316,
          -4.473684210526316,
          -4.473684210526316,
          -4.473684210526316,
          -4.473684210526316,
          -4.473684210526316,
          -4.473684210526316,
          -4.473684210526316,
          -4.473684210526316,
          -4.473684210526316,
          -4.473684210526316,
          -4.473684210526316,
          -4.473684210526316,
          -4.473684210526316,
          -4.473684210526316,
          -4.473684210526316,
          -3.947368421052632,
          -3.947368421052632,
          -3.947368421052632,
          -3.947368421052632,
          -3.947368421052632,
          -3.947368421052632,
          -3.947368421052632,
          -3.947368421052632,
          -3.947368421052632,
          -3.947368421052632,
          -3.947368421052632,
          -3.947368421052632,
          -3.947368421052632,
          -3.947368421052632,
          -3.947368421052632,
          -3.947368421052632,
          -3.947368421052632,
          -3.947368421052632,
          -3.947368421052632,
          -3.947368421052632,
          -3.4210526315789473,
          -3.4210526315789473,
          -3.4210526315789473,
          -3.4210526315789473,
          -3.4210526315789473,
          -3.4210526315789473,
          -3.4210526315789473,
          -3.4210526315789473,
          -3.4210526315789473,
          -3.4210526315789473,
          -3.4210526315789473,
          -3.4210526315789473,
          -3.4210526315789473,
          -3.4210526315789473,
          -3.4210526315789473,
          -3.4210526315789473,
          -3.4210526315789473,
          -3.4210526315789473,
          -3.4210526315789473,
          -3.4210526315789473,
          -2.8947368421052633,
          -2.8947368421052633,
          -2.8947368421052633,
          -2.8947368421052633,
          -2.8947368421052633,
          -2.8947368421052633,
          -2.8947368421052633,
          -2.8947368421052633,
          -2.8947368421052633,
          -2.8947368421052633,
          -2.8947368421052633,
          -2.8947368421052633,
          -2.8947368421052633,
          -2.8947368421052633,
          -2.8947368421052633,
          -2.8947368421052633,
          -2.8947368421052633,
          -2.8947368421052633,
          -2.8947368421052633,
          -2.8947368421052633,
          -2.368421052631579,
          -2.368421052631579,
          -2.368421052631579,
          -2.368421052631579,
          -2.368421052631579,
          -2.368421052631579,
          -2.368421052631579,
          -2.368421052631579,
          -2.368421052631579,
          -2.368421052631579,
          -2.368421052631579,
          -2.368421052631579,
          -2.368421052631579,
          -2.368421052631579,
          -2.368421052631579,
          -2.368421052631579,
          -2.368421052631579,
          -2.368421052631579,
          -2.368421052631579,
          -2.368421052631579,
          -1.8421052631578947,
          -1.8421052631578947,
          -1.8421052631578947,
          -1.8421052631578947,
          -1.8421052631578947,
          -1.8421052631578947,
          -1.8421052631578947,
          -1.8421052631578947,
          -1.8421052631578947,
          -1.8421052631578947,
          -1.8421052631578947,
          -1.8421052631578947,
          -1.8421052631578947,
          -1.8421052631578947,
          -1.8421052631578947,
          -1.8421052631578947,
          -1.8421052631578947,
          -1.8421052631578947,
          -1.8421052631578947,
          -1.8421052631578947,
          -1.3157894736842106,
          -1.3157894736842106,
          -1.3157894736842106,
          -1.3157894736842106,
          -1.3157894736842106,
          -1.3157894736842106,
          -1.3157894736842106,
          -1.3157894736842106,
          -1.3157894736842106,
          -1.3157894736842106,
          -1.3157894736842106,
          -1.3157894736842106,
          -1.3157894736842106,
          -1.3157894736842106,
          -1.3157894736842106,
          -1.3157894736842106,
          -1.3157894736842106,
          -1.3157894736842106,
          -1.3157894736842106,
          -1.3157894736842106,
          -0.7894736842105265,
          -0.7894736842105265,
          -0.7894736842105265,
          -0.7894736842105265,
          -0.7894736842105265,
          -0.7894736842105265,
          -0.7894736842105265,
          -0.7894736842105265,
          -0.7894736842105265,
          -0.7894736842105265,
          -0.7894736842105265,
          -0.7894736842105265,
          -0.7894736842105265,
          -0.7894736842105265,
          -0.7894736842105265,
          -0.7894736842105265,
          -0.7894736842105265,
          -0.7894736842105265,
          -0.7894736842105265,
          -0.7894736842105265,
          -0.2631578947368425,
          -0.2631578947368425,
          -0.2631578947368425,
          -0.2631578947368425,
          -0.2631578947368425,
          -0.2631578947368425,
          -0.2631578947368425,
          -0.2631578947368425,
          -0.2631578947368425,
          -0.2631578947368425,
          -0.2631578947368425,
          -0.2631578947368425,
          -0.2631578947368425,
          -0.2631578947368425,
          -0.2631578947368425,
          -0.2631578947368425,
          -0.2631578947368425,
          -0.2631578947368425,
          -0.2631578947368425,
          -0.2631578947368425,
          0.2631578947368416,
          0.2631578947368416,
          0.2631578947368416,
          0.2631578947368416,
          0.2631578947368416,
          0.2631578947368416,
          0.2631578947368416,
          0.2631578947368416,
          0.2631578947368416,
          0.2631578947368416,
          0.2631578947368416,
          0.2631578947368416,
          0.2631578947368416,
          0.2631578947368416,
          0.2631578947368416,
          0.2631578947368416,
          0.2631578947368416,
          0.2631578947368416,
          0.2631578947368416,
          0.2631578947368416,
          0.7894736842105257,
          0.7894736842105257,
          0.7894736842105257,
          0.7894736842105257,
          0.7894736842105257,
          0.7894736842105257,
          0.7894736842105257,
          0.7894736842105257,
          0.7894736842105257,
          0.7894736842105257,
          0.7894736842105257,
          0.7894736842105257,
          0.7894736842105257,
          0.7894736842105257,
          0.7894736842105257,
          0.7894736842105257,
          0.7894736842105257,
          0.7894736842105257,
          0.7894736842105257,
          0.7894736842105257,
          1.3157894736842106,
          1.3157894736842106,
          1.3157894736842106,
          1.3157894736842106,
          1.3157894736842106,
          1.3157894736842106,
          1.3157894736842106,
          1.3157894736842106,
          1.3157894736842106,
          1.3157894736842106,
          1.3157894736842106,
          1.3157894736842106,
          1.3157894736842106,
          1.3157894736842106,
          1.3157894736842106,
          1.3157894736842106,
          1.3157894736842106,
          1.3157894736842106,
          1.3157894736842106,
          1.3157894736842106,
          1.8421052631578947,
          1.8421052631578947,
          1.8421052631578947,
          1.8421052631578947,
          1.8421052631578947,
          1.8421052631578947,
          1.8421052631578947,
          1.8421052631578947,
          1.8421052631578947,
          1.8421052631578947,
          1.8421052631578947,
          1.8421052631578947,
          1.8421052631578947,
          1.8421052631578947,
          1.8421052631578947,
          1.8421052631578947,
          1.8421052631578947,
          1.8421052631578947,
          1.8421052631578947,
          1.8421052631578947,
          2.3684210526315788,
          2.3684210526315788,
          2.3684210526315788,
          2.3684210526315788,
          2.3684210526315788,
          2.3684210526315788,
          2.3684210526315788,
          2.3684210526315788,
          2.3684210526315788,
          2.3684210526315788,
          2.3684210526315788,
          2.3684210526315788,
          2.3684210526315788,
          2.3684210526315788,
          2.3684210526315788,
          2.3684210526315788,
          2.3684210526315788,
          2.3684210526315788,
          2.3684210526315788,
          2.3684210526315788,
          2.894736842105263,
          2.894736842105263,
          2.894736842105263,
          2.894736842105263,
          2.894736842105263,
          2.894736842105263,
          2.894736842105263,
          2.894736842105263,
          2.894736842105263,
          2.894736842105263,
          2.894736842105263,
          2.894736842105263,
          2.894736842105263,
          2.894736842105263,
          2.894736842105263,
          2.894736842105263,
          2.894736842105263,
          2.894736842105263,
          2.894736842105263,
          2.894736842105263,
          3.421052631578947,
          3.421052631578947,
          3.421052631578947,
          3.421052631578947,
          3.421052631578947,
          3.421052631578947,
          3.421052631578947,
          3.421052631578947,
          3.421052631578947,
          3.421052631578947,
          3.421052631578947,
          3.421052631578947,
          3.421052631578947,
          3.421052631578947,
          3.421052631578947,
          3.421052631578947,
          3.421052631578947,
          3.421052631578947,
          3.421052631578947,
          3.421052631578947,
          3.947368421052632,
          3.947368421052632,
          3.947368421052632,
          3.947368421052632,
          3.947368421052632,
          3.947368421052632,
          3.947368421052632,
          3.947368421052632,
          3.947368421052632,
          3.947368421052632,
          3.947368421052632,
          3.947368421052632,
          3.947368421052632,
          3.947368421052632,
          3.947368421052632,
          3.947368421052632,
          3.947368421052632,
          3.947368421052632,
          3.947368421052632,
          3.947368421052632,
          4.473684210526315,
          4.473684210526315,
          4.473684210526315,
          4.473684210526315,
          4.473684210526315,
          4.473684210526315,
          4.473684210526315,
          4.473684210526315,
          4.473684210526315,
          4.473684210526315,
          4.473684210526315,
          4.473684210526315,
          4.473684210526315,
          4.473684210526315,
          4.473684210526315,
          4.473684210526315,
          4.473684210526315,
          4.473684210526315,
          4.473684210526315,
          4.473684210526315,
          5,
          5,
          5,
          5,
          5,
          5,
          5,
          5,
          5,
          5,
          5,
          5,
          5,
          5,
          5,
          5,
          5,
          5,
          5,
          5
         ],
         "z": [
          1.5423731269947893e-07,
          2.2318970138712757e-07,
          3.216390780380607e-07,
          4.625943574865232e-07,
          6.65731931803748e-07,
          9.612869007469271e-07,
          1.3957993587609963e-06,
          2.0394470539031317e-06,
          2.9927170999144437e-06,
          4.385985448607244e-06,
          6.360208772093756e-06,
          9.016029252961744e-06,
          1.2332256119407248e-05,
          1.608638012839947e-05,
          1.983693800866604e-05,
          2.301144922967069e-05,
          2.507855970179662e-05,
          2.5718762117321603e-05,
          2.4908753402996808e-05,
          2.289084659423679e-05,
          2.2318970138712757e-07,
          3.24672214446764e-07,
          4.701705051957106e-07,
          6.796616958126833e-07,
          9.843761290539987e-07,
          1.4347167507366976e-06,
          2.1134492271812633e-06,
          3.155535750920535e-06,
          4.7723387979203835e-06,
          7.266988632181892e-06,
          1.1007412467733957e-05,
          1.630845872568898e-05,
          2.3205158868222497e-05,
          3.1206604035105556e-05,
          3.9229671529028565e-05,
          4.5861157559556887e-05,
          4.985717168892734e-05,
          5.05878560943529e-05,
          4.818562956643291e-05,
          4.337655991548672e-05,
          3.216390780380607e-07,
          4.701705051957106e-07,
          6.834406462985498e-07,
          9.910186236083973e-07,
          1.4404089370145812e-06,
          2.1121577447047457e-06,
          3.148102450722945e-06,
          4.80077733300277e-06,
          7.508322141802637e-06,
          1.1974647350143641e-05,
          1.9166262063663453e-05,
          3.0047011023270898e-05,
          4.491831350605935e-05,
          6.261797534534708e-05,
          8.02979338914156e-05,
          9.430168574908748e-05,
          0.0001017008617054671,
          0.0001014314912026748,
          9.439561836188659e-05,
          8.273427374660969e-05,
          4.625943574865232e-07,
          6.796616958126833e-07,
          9.910186236083973e-07,
          1.4386517932507559e-06,
          2.0910351850034203e-06,
          3.06965353047417e-06,
          4.60523551737424e-06,
          7.151929821702652e-06,
          1.1598204764595721e-05,
          1.9577169950935058e-05,
          3.367278986843303e-05,
          5.687447264790535e-05,
          9.053600660990924e-05,
          0.00013157630746718496,
          0.00017182664305437356,
          0.00020137328829150647,
          0.0002135148533852771,
          0.00020737024897243828,
          0.000186942022992298,
          0.00015836433158256114,
          6.65731931803748e-07,
          9.843761290539987e-07,
          1.4404089370145812e-06,
          2.0910351850034203e-06,
          3.028387027370627e-06,
          4.421342055138666e-06,
          6.6174570747534744e-06,
          1.0385513633082155e-05,
          1.7463766198488884e-05,
          3.162743814755231e-05,
          5.9991896705469117e-05,
          0.00011224113404750824,
          0.0001937249326147139,
          0.0002947106258943677,
          0.00038920692168176174,
          0.0004494520544540137,
          0.0004620232211891562,
          0.00043141553760506213,
          0.00037275065551511943,
          0.00030266286921687424,
          9.612869007469271e-07,
          1.4347167507366976e-06,
          2.1121577447047457e-06,
          3.06965353047417e-06,
          4.421342055138666e-06,
          6.374801159836352e-06,
          9.392915671924129e-06,
          1.4655409358965699e-05,
          2.5359009669045918e-05,
          5.012223482481204e-05,
          0.00010943527740892023,
          0.0002372709714109078,
          0.00045433000195771456,
          0.0007213827921077609,
          0.000946103478781879,
          0.0010527354897931218,
          0.0010279694106429815,
          0.0009078687289729714,
          0.0007426993106491864,
          0.0005730139091610909,
          1.3957993587609963e-06,
          2.1134492271812633e-06,
          3.148102450722945e-06,
          4.60523551737424e-06,
          6.6174570747534744e-06,
          9.392915671924129e-06,
          1.3419054994301405e-05,
          2.020774809352588e-05,
          3.499730155454017e-05,
          7.678409019717947e-05,
          0.00020872100139968097,
          0.0005671942490153015,
          0.0012315638596192002,
          0.001991563243791461,
          0.0024936848785728216,
          0.002579365624114871,
          0.002328697592020035,
          0.0019092833390459418,
          0.001460864208638668,
          0.0010626863222569227,
          2.0394470539031317e-06,
          3.155535750920535e-06,
          4.80077733300277e-06,
          7.151929821702652e-06,
          1.0385513633082155e-05,
          1.4655409358965699e-05,
          2.020774809352588e-05,
          2.8247315640328452e-05,
          4.54508735856507e-05,
          0.00010991494491463527,
          0.00043986065429635346,
          0.0017279074527323246,
          0.0041922712698578835,
          0.006374306511133909,
          0.007087123114615679,
          0.0064877658151090145,
          0.005256032571196556,
          0.003932309336960316,
          0.0027874887455254793,
          0.0019025082001462579,
          2.9927170999144437e-06,
          4.7723387979203835e-06,
          7.508322141802637e-06,
          1.1598204764595721e-05,
          1.7463766198488884e-05,
          2.5359009669045918e-05,
          3.499730155454017e-05,
          4.54508735856507e-05,
          5.946103556198068e-05,
          0.00013395330461207777,
          0.0012533296830952168,
          0.00882480014115572,
          0.019536158069968224,
          0.023262739181518555,
          0.02077152580022812,
          0.01602712832391262,
          0.011393922381103039,
          0.007706077303737402,
          0.005045781843364239,
          0.0032315629068762064,
          4.385985448607244e-06,
          7.266988632181892e-06,
          1.1974647350143641e-05,
          1.9577169950935058e-05,
          3.162743814755231e-05,
          5.012223482481204e-05,
          7.678409019717947e-05,
          0.00010991494491463527,
          0.00013395330461207777,
          0.00012516639253590256,
          0.01857634074985981,
          0.10972091555595398,
          0.11280984431505203,
          0.08420402556657791,
          0.05651632696390152,
          0.03617246448993683,
          0.022575097158551216,
          0.013879917562007904,
          0.008452407084405422,
          0.005113855469971895,
          6.360208772093756e-06,
          1.1007412467733957e-05,
          1.9166262063663453e-05,
          3.367278986843303e-05,
          5.9991896705469117e-05,
          0.00010943527740892023,
          0.00020872100139968097,
          0.00043986065429635346,
          0.0012533296830952168,
          0.01857634074985981,
          2.7569708824157715,
          1.0266001224517822,
          0.4514451324939728,
          0.2288903146982193,
          0.12339592725038528,
          0.06861304491758347,
          0.03882923349738121,
          0.022215789183974266,
          0.01280299574136734,
          0.007415708154439926,
          9.016029252961744e-06,
          1.630845872568898e-05,
          3.0047011023270898e-05,
          5.687447264790535e-05,
          0.00011224113404750824,
          0.0002372709714109078,
          0.0005671942490153015,
          0.0017279074527323246,
          0.00882480014115572,
          0.10972091555595398,
          1.0266001224517822,
          1.3097152709960938,
          0.7427070140838623,
          0.3770141005516052,
          0.19434814155101776,
          0.1030077189207077,
          0.055872783064842224,
          0.030838362872600555,
          0.017242901027202606,
          0.009735585190355778,
          1.2332256119407248e-05,
          2.3205158868222497e-05,
          4.491831350605935e-05,
          9.053600660990924e-05,
          0.0001937249326147139,
          0.00045433000195771456,
          0.0012315638596192002,
          0.0041922712698578835,
          0.019536158069968224,
          0.11280984431505203,
          0.4514451324939728,
          0.7427070140838623,
          0.6221877932548523,
          0.3884829878807068,
          0.21970677375793457,
          0.12101887166500092,
          0.06653597950935364,
          0.03679252043366432,
          0.020498627796769142,
          0.011504200287163258,
          1.608638012839947e-05,
          3.1206604035105556e-05,
          6.261797534534708e-05,
          0.00013157630746718496,
          0.0002947106258943677,
          0.0007213827921077609,
          0.001991563243791461,
          0.006374306511133909,
          0.023262739181518555,
          0.08420402556657791,
          0.2288903146982193,
          0.3770141005516052,
          0.3884829878807068,
          0.29557397961616516,
          0.19151714444160461,
          0.11487292498350143,
          0.06653325259685516,
          0.0379769541323185,
          0.021570704877376556,
          0.012247301638126373,
          1.983693800866604e-05,
          3.9229671529028565e-05,
          8.02979338914156e-05,
          0.00017182664305437356,
          0.00038920692168176174,
          0.000946103478781879,
          0.0024936848785728216,
          0.007087123114615679,
          0.02077152580022812,
          0.05651632696390152,
          0.12339592725038528,
          0.19434814155101776,
          0.21970677375793457,
          0.19151714444160461,
          0.14041413366794586,
          0.09267136454582214,
          0.05754154920578003,
          0.034514494240283966,
          0.02030772715806961,
          0.011824596673250198,
          2.301144922967069e-05,
          4.5861157559556887e-05,
          9.430168574908748e-05,
          0.00020137328829150647,
          0.0004494520544540137,
          0.0010527354897931218,
          0.002579365624114871,
          0.0064877658151090145,
          0.01602712832391262,
          0.03617246448993683,
          0.06861304491758347,
          0.1030077189207077,
          0.12101887166500092,
          0.11487292498350143,
          0.09267136454582214,
          0.06670453399419785,
          0.04449429363012314,
          0.02824420854449272,
          0.01736612059175968,
          0.010461735539138317,
          2.507855970179662e-05,
          4.985717168892734e-05,
          0.0001017008617054671,
          0.0002135148533852771,
          0.0004620232211891562,
          0.0010279694106429815,
          0.002328697592020035,
          0.005256032571196556,
          0.011393922381103039,
          0.022575097158551216,
          0.03882923349738121,
          0.055872783064842224,
          0.06653597950935364,
          0.06653325259685516,
          0.05754154920578003,
          0.04449429363012314,
          0.0316883847117424,
          0.021280864253640175,
          0.013713279739022255,
          0.008585382252931595,
          2.5718762117321603e-05,
          5.05878560943529e-05,
          0.0001014314912026748,
          0.00020737024897243828,
          0.00043141553760506213,
          0.0009078687289729714,
          0.0019092833390459418,
          0.003932309336960316,
          0.007706077303737402,
          0.013879917562007904,
          0.022215789183974266,
          0.030838362872600555,
          0.03679252043366432,
          0.0379769541323185,
          0.034514494240283966,
          0.02824420854449272,
          0.021280864253640175,
          0.01505375374108553,
          0.01015646941959858,
          0.006615564692765474,
          2.4908753402996808e-05,
          4.818562956643291e-05,
          9.439561836188659e-05,
          0.000186942022992298,
          0.00037275065551511943,
          0.0007426993106491864,
          0.001460864208638668,
          0.0027874887455254793,
          0.005045781843364239,
          0.008452407084405422,
          0.01280299574136734,
          0.017242901027202606,
          0.020498627796769142,
          0.021570704877376556,
          0.02030772715806961,
          0.01736612059175968,
          0.013713279739022255,
          0.01015646941959858,
          0.007151371333748102,
          0.004840976092964411,
          2.289084659423679e-05,
          4.337655991548672e-05,
          8.273427374660969e-05,
          0.00015836433158256114,
          0.00030266286921687424,
          0.0005730139091610909,
          0.0010626863222569227,
          0.0019025082001462579,
          0.0032315629068762064,
          0.005113855469971895,
          0.007415708154439926,
          0.009735585190355778,
          0.011504200287163258,
          0.012247301638126373,
          0.011824596673250198,
          0.010461735539138317,
          0.008585382252931595,
          0.006615564692765474,
          0.004840976092964411,
          0.0033973013050854206
         ]
        }
       ],
       "layout": {
        "coloraxis": {
         "colorbar": {
          "title": {
           "text": "colors"
          }
         },
         "colorscale": [
          [
           0,
           "#0d0887"
          ],
          [
           0.1111111111111111,
           "#46039f"
          ],
          [
           0.2222222222222222,
           "#7201a8"
          ],
          [
           0.3333333333333333,
           "#9c179e"
          ],
          [
           0.4444444444444444,
           "#bd3786"
          ],
          [
           0.5555555555555556,
           "#d8576b"
          ],
          [
           0.6666666666666666,
           "#ed7953"
          ],
          [
           0.7777777777777778,
           "#fb9f3a"
          ],
          [
           0.8888888888888888,
           "#fdca26"
          ],
          [
           1,
           "#f0f921"
          ]
         ]
        },
        "legend": {
         "tracegroupgap": 0
        },
        "margin": {
         "t": 60
        },
        "scene": {
         "domain": {
          "x": [
           0,
           1
          ],
          "y": [
           0,
           1
          ]
         },
         "xaxis": {
          "range": [
           -7.071068627983761,
           7.071068627983761
          ],
          "title": {
           "text": "x"
          }
         },
         "yaxis": {
          "range": [
           -7.071068627983761,
           7.071068627983761
          ],
          "title": {
           "text": "y"
          }
         },
         "zaxis": {
          "range": [
           -7.071068627983761,
           7.071068627983761
          ],
          "title": {
           "text": "z"
          }
         }
        },
        "template": {
         "data": {
          "bar": [
           {
            "error_x": {
             "color": "#2a3f5f"
            },
            "error_y": {
             "color": "#2a3f5f"
            },
            "marker": {
             "line": {
              "color": "#E5ECF6",
              "width": 0.5
             },
             "pattern": {
              "fillmode": "overlay",
              "size": 10,
              "solidity": 0.2
             }
            },
            "type": "bar"
           }
          ],
          "barpolar": [
           {
            "marker": {
             "line": {
              "color": "#E5ECF6",
              "width": 0.5
             },
             "pattern": {
              "fillmode": "overlay",
              "size": 10,
              "solidity": 0.2
             }
            },
            "type": "barpolar"
           }
          ],
          "carpet": [
           {
            "aaxis": {
             "endlinecolor": "#2a3f5f",
             "gridcolor": "white",
             "linecolor": "white",
             "minorgridcolor": "white",
             "startlinecolor": "#2a3f5f"
            },
            "baxis": {
             "endlinecolor": "#2a3f5f",
             "gridcolor": "white",
             "linecolor": "white",
             "minorgridcolor": "white",
             "startlinecolor": "#2a3f5f"
            },
            "type": "carpet"
           }
          ],
          "choropleth": [
           {
            "colorbar": {
             "outlinewidth": 0,
             "ticks": ""
            },
            "type": "choropleth"
           }
          ],
          "contour": [
           {
            "colorbar": {
             "outlinewidth": 0,
             "ticks": ""
            },
            "colorscale": [
             [
              0,
              "#0d0887"
             ],
             [
              0.1111111111111111,
              "#46039f"
             ],
             [
              0.2222222222222222,
              "#7201a8"
             ],
             [
              0.3333333333333333,
              "#9c179e"
             ],
             [
              0.4444444444444444,
              "#bd3786"
             ],
             [
              0.5555555555555556,
              "#d8576b"
             ],
             [
              0.6666666666666666,
              "#ed7953"
             ],
             [
              0.7777777777777778,
              "#fb9f3a"
             ],
             [
              0.8888888888888888,
              "#fdca26"
             ],
             [
              1,
              "#f0f921"
             ]
            ],
            "type": "contour"
           }
          ],
          "contourcarpet": [
           {
            "colorbar": {
             "outlinewidth": 0,
             "ticks": ""
            },
            "type": "contourcarpet"
           }
          ],
          "heatmap": [
           {
            "colorbar": {
             "outlinewidth": 0,
             "ticks": ""
            },
            "colorscale": [
             [
              0,
              "#0d0887"
             ],
             [
              0.1111111111111111,
              "#46039f"
             ],
             [
              0.2222222222222222,
              "#7201a8"
             ],
             [
              0.3333333333333333,
              "#9c179e"
             ],
             [
              0.4444444444444444,
              "#bd3786"
             ],
             [
              0.5555555555555556,
              "#d8576b"
             ],
             [
              0.6666666666666666,
              "#ed7953"
             ],
             [
              0.7777777777777778,
              "#fb9f3a"
             ],
             [
              0.8888888888888888,
              "#fdca26"
             ],
             [
              1,
              "#f0f921"
             ]
            ],
            "type": "heatmap"
           }
          ],
          "heatmapgl": [
           {
            "colorbar": {
             "outlinewidth": 0,
             "ticks": ""
            },
            "colorscale": [
             [
              0,
              "#0d0887"
             ],
             [
              0.1111111111111111,
              "#46039f"
             ],
             [
              0.2222222222222222,
              "#7201a8"
             ],
             [
              0.3333333333333333,
              "#9c179e"
             ],
             [
              0.4444444444444444,
              "#bd3786"
             ],
             [
              0.5555555555555556,
              "#d8576b"
             ],
             [
              0.6666666666666666,
              "#ed7953"
             ],
             [
              0.7777777777777778,
              "#fb9f3a"
             ],
             [
              0.8888888888888888,
              "#fdca26"
             ],
             [
              1,
              "#f0f921"
             ]
            ],
            "type": "heatmapgl"
           }
          ],
          "histogram": [
           {
            "marker": {
             "pattern": {
              "fillmode": "overlay",
              "size": 10,
              "solidity": 0.2
             }
            },
            "type": "histogram"
           }
          ],
          "histogram2d": [
           {
            "colorbar": {
             "outlinewidth": 0,
             "ticks": ""
            },
            "colorscale": [
             [
              0,
              "#0d0887"
             ],
             [
              0.1111111111111111,
              "#46039f"
             ],
             [
              0.2222222222222222,
              "#7201a8"
             ],
             [
              0.3333333333333333,
              "#9c179e"
             ],
             [
              0.4444444444444444,
              "#bd3786"
             ],
             [
              0.5555555555555556,
              "#d8576b"
             ],
             [
              0.6666666666666666,
              "#ed7953"
             ],
             [
              0.7777777777777778,
              "#fb9f3a"
             ],
             [
              0.8888888888888888,
              "#fdca26"
             ],
             [
              1,
              "#f0f921"
             ]
            ],
            "type": "histogram2d"
           }
          ],
          "histogram2dcontour": [
           {
            "colorbar": {
             "outlinewidth": 0,
             "ticks": ""
            },
            "colorscale": [
             [
              0,
              "#0d0887"
             ],
             [
              0.1111111111111111,
              "#46039f"
             ],
             [
              0.2222222222222222,
              "#7201a8"
             ],
             [
              0.3333333333333333,
              "#9c179e"
             ],
             [
              0.4444444444444444,
              "#bd3786"
             ],
             [
              0.5555555555555556,
              "#d8576b"
             ],
             [
              0.6666666666666666,
              "#ed7953"
             ],
             [
              0.7777777777777778,
              "#fb9f3a"
             ],
             [
              0.8888888888888888,
              "#fdca26"
             ],
             [
              1,
              "#f0f921"
             ]
            ],
            "type": "histogram2dcontour"
           }
          ],
          "mesh3d": [
           {
            "colorbar": {
             "outlinewidth": 0,
             "ticks": ""
            },
            "type": "mesh3d"
           }
          ],
          "parcoords": [
           {
            "line": {
             "colorbar": {
              "outlinewidth": 0,
              "ticks": ""
             }
            },
            "type": "parcoords"
           }
          ],
          "pie": [
           {
            "automargin": true,
            "type": "pie"
           }
          ],
          "scatter": [
           {
            "fillpattern": {
             "fillmode": "overlay",
             "size": 10,
             "solidity": 0.2
            },
            "type": "scatter"
           }
          ],
          "scatter3d": [
           {
            "line": {
             "colorbar": {
              "outlinewidth": 0,
              "ticks": ""
             }
            },
            "marker": {
             "colorbar": {
              "outlinewidth": 0,
              "ticks": ""
             }
            },
            "type": "scatter3d"
           }
          ],
          "scattercarpet": [
           {
            "marker": {
             "colorbar": {
              "outlinewidth": 0,
              "ticks": ""
             }
            },
            "type": "scattercarpet"
           }
          ],
          "scattergeo": [
           {
            "marker": {
             "colorbar": {
              "outlinewidth": 0,
              "ticks": ""
             }
            },
            "type": "scattergeo"
           }
          ],
          "scattergl": [
           {
            "marker": {
             "colorbar": {
              "outlinewidth": 0,
              "ticks": ""
             }
            },
            "type": "scattergl"
           }
          ],
          "scattermapbox": [
           {
            "marker": {
             "colorbar": {
              "outlinewidth": 0,
              "ticks": ""
             }
            },
            "type": "scattermapbox"
           }
          ],
          "scatterpolar": [
           {
            "marker": {
             "colorbar": {
              "outlinewidth": 0,
              "ticks": ""
             }
            },
            "type": "scatterpolar"
           }
          ],
          "scatterpolargl": [
           {
            "marker": {
             "colorbar": {
              "outlinewidth": 0,
              "ticks": ""
             }
            },
            "type": "scatterpolargl"
           }
          ],
          "scatterternary": [
           {
            "marker": {
             "colorbar": {
              "outlinewidth": 0,
              "ticks": ""
             }
            },
            "type": "scatterternary"
           }
          ],
          "surface": [
           {
            "colorbar": {
             "outlinewidth": 0,
             "ticks": ""
            },
            "colorscale": [
             [
              0,
              "#0d0887"
             ],
             [
              0.1111111111111111,
              "#46039f"
             ],
             [
              0.2222222222222222,
              "#7201a8"
             ],
             [
              0.3333333333333333,
              "#9c179e"
             ],
             [
              0.4444444444444444,
              "#bd3786"
             ],
             [
              0.5555555555555556,
              "#d8576b"
             ],
             [
              0.6666666666666666,
              "#ed7953"
             ],
             [
              0.7777777777777778,
              "#fb9f3a"
             ],
             [
              0.8888888888888888,
              "#fdca26"
             ],
             [
              1,
              "#f0f921"
             ]
            ],
            "type": "surface"
           }
          ],
          "table": [
           {
            "cells": {
             "fill": {
              "color": "#EBF0F8"
             },
             "line": {
              "color": "white"
             }
            },
            "header": {
             "fill": {
              "color": "#C8D4E3"
             },
             "line": {
              "color": "white"
             }
            },
            "type": "table"
           }
          ]
         },
         "layout": {
          "annotationdefaults": {
           "arrowcolor": "#2a3f5f",
           "arrowhead": 0,
           "arrowwidth": 1
          },
          "autotypenumbers": "strict",
          "coloraxis": {
           "colorbar": {
            "outlinewidth": 0,
            "ticks": ""
           }
          },
          "colorscale": {
           "diverging": [
            [
             0,
             "#8e0152"
            ],
            [
             0.1,
             "#c51b7d"
            ],
            [
             0.2,
             "#de77ae"
            ],
            [
             0.3,
             "#f1b6da"
            ],
            [
             0.4,
             "#fde0ef"
            ],
            [
             0.5,
             "#f7f7f7"
            ],
            [
             0.6,
             "#e6f5d0"
            ],
            [
             0.7,
             "#b8e186"
            ],
            [
             0.8,
             "#7fbc41"
            ],
            [
             0.9,
             "#4d9221"
            ],
            [
             1,
             "#276419"
            ]
           ],
           "sequential": [
            [
             0,
             "#0d0887"
            ],
            [
             0.1111111111111111,
             "#46039f"
            ],
            [
             0.2222222222222222,
             "#7201a8"
            ],
            [
             0.3333333333333333,
             "#9c179e"
            ],
            [
             0.4444444444444444,
             "#bd3786"
            ],
            [
             0.5555555555555556,
             "#d8576b"
            ],
            [
             0.6666666666666666,
             "#ed7953"
            ],
            [
             0.7777777777777778,
             "#fb9f3a"
            ],
            [
             0.8888888888888888,
             "#fdca26"
            ],
            [
             1,
             "#f0f921"
            ]
           ],
           "sequentialminus": [
            [
             0,
             "#0d0887"
            ],
            [
             0.1111111111111111,
             "#46039f"
            ],
            [
             0.2222222222222222,
             "#7201a8"
            ],
            [
             0.3333333333333333,
             "#9c179e"
            ],
            [
             0.4444444444444444,
             "#bd3786"
            ],
            [
             0.5555555555555556,
             "#d8576b"
            ],
            [
             0.6666666666666666,
             "#ed7953"
            ],
            [
             0.7777777777777778,
             "#fb9f3a"
            ],
            [
             0.8888888888888888,
             "#fdca26"
            ],
            [
             1,
             "#f0f921"
            ]
           ]
          },
          "colorway": [
           "#636efa",
           "#EF553B",
           "#00cc96",
           "#ab63fa",
           "#FFA15A",
           "#19d3f3",
           "#FF6692",
           "#B6E880",
           "#FF97FF",
           "#FECB52"
          ],
          "font": {
           "color": "#2a3f5f"
          },
          "geo": {
           "bgcolor": "white",
           "lakecolor": "white",
           "landcolor": "#E5ECF6",
           "showlakes": true,
           "showland": true,
           "subunitcolor": "white"
          },
          "hoverlabel": {
           "align": "left"
          },
          "hovermode": "closest",
          "mapbox": {
           "style": "light"
          },
          "paper_bgcolor": "white",
          "plot_bgcolor": "#E5ECF6",
          "polar": {
           "angularaxis": {
            "gridcolor": "white",
            "linecolor": "white",
            "ticks": ""
           },
           "bgcolor": "#E5ECF6",
           "radialaxis": {
            "gridcolor": "white",
            "linecolor": "white",
            "ticks": ""
           }
          },
          "scene": {
           "xaxis": {
            "backgroundcolor": "#E5ECF6",
            "gridcolor": "white",
            "gridwidth": 2,
            "linecolor": "white",
            "showbackground": true,
            "ticks": "",
            "zerolinecolor": "white"
           },
           "yaxis": {
            "backgroundcolor": "#E5ECF6",
            "gridcolor": "white",
            "gridwidth": 2,
            "linecolor": "white",
            "showbackground": true,
            "ticks": "",
            "zerolinecolor": "white"
           },
           "zaxis": {
            "backgroundcolor": "#E5ECF6",
            "gridcolor": "white",
            "gridwidth": 2,
            "linecolor": "white",
            "showbackground": true,
            "ticks": "",
            "zerolinecolor": "white"
           }
          },
          "shapedefaults": {
           "line": {
            "color": "#2a3f5f"
           }
          },
          "ternary": {
           "aaxis": {
            "gridcolor": "white",
            "linecolor": "white",
            "ticks": ""
           },
           "baxis": {
            "gridcolor": "white",
            "linecolor": "white",
            "ticks": ""
           },
           "bgcolor": "#E5ECF6",
           "caxis": {
            "gridcolor": "white",
            "linecolor": "white",
            "ticks": ""
           }
          },
          "title": {
           "x": 0.05
          },
          "xaxis": {
           "automargin": true,
           "gridcolor": "white",
           "linecolor": "white",
           "ticks": "",
           "title": {
            "standoff": 15
           },
           "zerolinecolor": "white",
           "zerolinewidth": 2
          },
          "yaxis": {
           "automargin": true,
           "gridcolor": "white",
           "linecolor": "white",
           "ticks": "",
           "title": {
            "standoff": 15
           },
           "zerolinecolor": "white",
           "zerolinewidth": 2
          }
         }
        }
       }
      }
     },
     "metadata": {},
     "output_type": "display_data"
    }
   ],
   "source": [
    "from directed_graphs.utils import plot_3d\n",
    "plot_3d(X,distribution=flows.reshape(400),use_plotly=True)"
   ]
  },
  {
   "cell_type": "markdown",
   "metadata": {},
   "source": [
    "## Computing Transition Probabilities Between a Grid and Points, and Vice Versa"
   ]
  },
  {
   "cell_type": "markdown",
   "metadata": {},
   "source": [
    "The next functions will take three inputs: a set of points, a grid, and flows at each point and each point on the grid. It is tasked with returning three matrices: a transition matrix between the points and the grid, a transition matrix between the grid and the points, and the transition matrix from the grid to the grid.\n",
    "\n",
    "These tasks should be separated, as each is called in different circumstances.\n",
    "- The grid-to-point (and vv) function will be called each time the points are moved, or the grid is updated, or the flow is updated.\n",
    "- The grid-to-grid function will be called whenever the grid is updated, or the flow is updated.\n",
    "\n",
    "Both can be encapsulated in the same function, which computes an affinity matrix from pointset 1 to pointset 2."
   ]
  },
  {
   "cell_type": "markdown",
   "metadata": {},
   "source": [
    "The logic of the functions: \n",
    "1. For each point in set 1, sort the points in set 2 by distance.\n",
    "2. Choose the $n$ nearest neighbors (optional computational boost), and compute the transition probabilities to them, storing the results in the affinity matrix."
   ]
  },
  {
   "cell_type": "code",
   "execution_count": null,
   "metadata": {},
   "outputs": [],
   "source": [
    "#export\n",
    "def affinity_matrix_from_pointset_to_pointset(pointset1, pointset2, flows,n_neighbors=None,sigma=0.5):\n",
    "  \"\"\"Compute affinity matrix between the points of pointset1 and pointset2, using the provided flow.\n",
    "\n",
    "  Parameters\n",
    "  ----------\n",
    "  pointset1 : torch tensor, n1 x d\n",
    "      The first pointset, to calculate affinities *from*\n",
    "  pointset2 : torch tensor, n2 x d\n",
    "      The second pointset, to calculate affinities *to* (from pointset1)\n",
    "  flow : a function that, when called at a point, gives the flow at that point\n",
    "  n_neighbors : number of neighbors to include in affinity computations. All neighbors beyond it are given affinity zero\n",
    "  (currently not implemented)\n",
    "\n",
    "  Returns:\n",
    "  Affinity matrix: torch tensor of shape n1 x n2\n",
    "  \"\"\"\n",
    "  # Calculate the directions from point i in pointset 1 to point j in pointset 2\n",
    "  n1 = pointset1.shape[0]\n",
    "  n2 = pointset2.shape[0]\n",
    "  P2 = pointset2[:,:,None].repeat(1,1,n1)\n",
    "  P1 = pointset1.T.repeat(n2,1,1)\n",
    "  P3 = (P2 - P1)\n",
    "  P3 = P3.transpose(1,2)\n",
    "  # compute affinities from flows and directions\n",
    "  affinities = affinity_from_flow(flows,P3,sigma=sigma)\n",
    "  return affinities\n"
   ]
  },
  {
   "cell_type": "markdown",
   "metadata": {},
   "source": [
    "### Building the function"
   ]
  },
  {
   "cell_type": "markdown",
   "metadata": {},
   "source": [
    "This is an illustration of how the function should work."
   ]
  },
  {
   "cell_type": "code",
   "execution_count": null,
   "metadata": {},
   "outputs": [],
   "source": [
    "pointset1 = torch.rand(4,2)\n",
    "pointset2 = torch.rand(7,2)\n",
    "def flow(x):\n",
    "  return x**2/torch.linalg.norm(x**2)"
   ]
  },
  {
   "cell_type": "code",
   "execution_count": null,
   "metadata": {},
   "outputs": [
    {
     "data": {
      "text/plain": [
       "tensor([[0.4085, 0.5223],\n",
       "        [0.4046, 0.2863],\n",
       "        [0.5993, 0.2879],\n",
       "        [0.4726, 0.7379]])"
      ]
     },
     "execution_count": null,
     "metadata": {},
     "output_type": "execute_result"
    }
   ],
   "source": [
    "pointset1"
   ]
  },
  {
   "cell_type": "code",
   "execution_count": null,
   "metadata": {},
   "outputs": [
    {
     "data": {
      "text/plain": [
       "tensor([[0.2435, 0.1213],\n",
       "        [0.7581, 0.8408],\n",
       "        [0.6380, 0.9607],\n",
       "        [0.4217, 0.5043],\n",
       "        [0.4438, 0.2772],\n",
       "        [0.1088, 0.3275],\n",
       "        [0.3015, 0.4619]])"
      ]
     },
     "execution_count": null,
     "metadata": {},
     "output_type": "execute_result"
    }
   ],
   "source": [
    "pointset2"
   ]
  },
  {
   "cell_type": "code",
   "execution_count": null,
   "metadata": {},
   "outputs": [
    {
     "data": {
      "text/plain": [
       "tensor([[[0.2435],\n",
       "         [0.1213]],\n",
       "\n",
       "        [[0.7581],\n",
       "         [0.8408]],\n",
       "\n",
       "        [[0.6380],\n",
       "         [0.9607]],\n",
       "\n",
       "        [[0.4217],\n",
       "         [0.5043]],\n",
       "\n",
       "        [[0.4438],\n",
       "         [0.2772]],\n",
       "\n",
       "        [[0.1088],\n",
       "         [0.3275]],\n",
       "\n",
       "        [[0.3015],\n",
       "         [0.4619]]])"
      ]
     },
     "execution_count": null,
     "metadata": {},
     "output_type": "execute_result"
    }
   ],
   "source": [
    "pointset2[:,:,None]"
   ]
  },
  {
   "cell_type": "code",
   "execution_count": null,
   "metadata": {},
   "outputs": [
    {
     "data": {
      "text/plain": [
       "tensor([[[0.2435, 0.2435, 0.2435, 0.2435],\n",
       "         [0.1213, 0.1213, 0.1213, 0.1213]],\n",
       "\n",
       "        [[0.7581, 0.7581, 0.7581, 0.7581],\n",
       "         [0.8408, 0.8408, 0.8408, 0.8408]],\n",
       "\n",
       "        [[0.6380, 0.6380, 0.6380, 0.6380],\n",
       "         [0.9607, 0.9607, 0.9607, 0.9607]],\n",
       "\n",
       "        [[0.4217, 0.4217, 0.4217, 0.4217],\n",
       "         [0.5043, 0.5043, 0.5043, 0.5043]],\n",
       "\n",
       "        [[0.4438, 0.4438, 0.4438, 0.4438],\n",
       "         [0.2772, 0.2772, 0.2772, 0.2772]],\n",
       "\n",
       "        [[0.1088, 0.1088, 0.1088, 0.1088],\n",
       "         [0.3275, 0.3275, 0.3275, 0.3275]],\n",
       "\n",
       "        [[0.3015, 0.3015, 0.3015, 0.3015],\n",
       "         [0.4619, 0.4619, 0.4619, 0.4619]]])"
      ]
     },
     "execution_count": null,
     "metadata": {},
     "output_type": "execute_result"
    }
   ],
   "source": [
    "P2 = pointset2[:,:,None].repeat(1,1,4)\n",
    "P2"
   ]
  },
  {
   "cell_type": "code",
   "execution_count": null,
   "metadata": {},
   "outputs": [
    {
     "data": {
      "text/plain": [
       "tensor([[[0.4085, 0.4046, 0.5993, 0.4726],\n",
       "         [0.5223, 0.2863, 0.2879, 0.7379]],\n",
       "\n",
       "        [[0.4085, 0.4046, 0.5993, 0.4726],\n",
       "         [0.5223, 0.2863, 0.2879, 0.7379]],\n",
       "\n",
       "        [[0.4085, 0.4046, 0.5993, 0.4726],\n",
       "         [0.5223, 0.2863, 0.2879, 0.7379]],\n",
       "\n",
       "        [[0.4085, 0.4046, 0.5993, 0.4726],\n",
       "         [0.5223, 0.2863, 0.2879, 0.7379]],\n",
       "\n",
       "        [[0.4085, 0.4046, 0.5993, 0.4726],\n",
       "         [0.5223, 0.2863, 0.2879, 0.7379]],\n",
       "\n",
       "        [[0.4085, 0.4046, 0.5993, 0.4726],\n",
       "         [0.5223, 0.2863, 0.2879, 0.7379]],\n",
       "\n",
       "        [[0.4085, 0.4046, 0.5993, 0.4726],\n",
       "         [0.5223, 0.2863, 0.2879, 0.7379]]])"
      ]
     },
     "execution_count": null,
     "metadata": {},
     "output_type": "execute_result"
    }
   ],
   "source": [
    "P1 = pointset1.T.repeat(7,1,1)\n",
    "P1"
   ]
  },
  {
   "cell_type": "code",
   "execution_count": null,
   "metadata": {},
   "outputs": [
    {
     "data": {
      "text/plain": [
       "tensor([[[-0.1650, -0.1611, -0.3558, -0.2291],\n",
       "         [-0.4010, -0.1650, -0.1666, -0.6166]],\n",
       "\n",
       "        [[ 0.3497,  0.3535,  0.1588,  0.2856],\n",
       "         [ 0.3185,  0.5545,  0.5528,  0.1029]],\n",
       "\n",
       "        [[ 0.2296,  0.2334,  0.0387,  0.1655],\n",
       "         [ 0.4384,  0.6744,  0.6727,  0.2228]],\n",
       "\n",
       "        [[ 0.0132,  0.0171, -0.1776, -0.0509],\n",
       "         [-0.0179,  0.2180,  0.2164, -0.2336]],\n",
       "\n",
       "        [[ 0.0353,  0.0392, -0.1555, -0.0288],\n",
       "         [-0.2450, -0.0090, -0.0107, -0.4607]],\n",
       "\n",
       "        [[-0.2997, -0.2958, -0.4905, -0.3638],\n",
       "         [-0.1947,  0.0413,  0.0396, -0.4104]],\n",
       "\n",
       "        [[-0.1069, -0.1030, -0.2977, -0.1710],\n",
       "         [-0.0604,  0.1756,  0.1739, -0.2760]]])"
      ]
     },
     "execution_count": null,
     "metadata": {},
     "output_type": "execute_result"
    }
   ],
   "source": [
    "P3 = (P2-P1)\n",
    "P3"
   ]
  },
  {
   "cell_type": "code",
   "execution_count": null,
   "metadata": {},
   "outputs": [
    {
     "data": {
      "text/plain": [
       "tensor([[[-0.1650, -0.4010],\n",
       "         [-0.1611, -0.1650],\n",
       "         [-0.3558, -0.1666],\n",
       "         [-0.2291, -0.6166]],\n",
       "\n",
       "        [[ 0.3497,  0.3185],\n",
       "         [ 0.3535,  0.5545],\n",
       "         [ 0.1588,  0.5528],\n",
       "         [ 0.2856,  0.1029]],\n",
       "\n",
       "        [[ 0.2296,  0.4384],\n",
       "         [ 0.2334,  0.6744],\n",
       "         [ 0.0387,  0.6727],\n",
       "         [ 0.1655,  0.2228]],\n",
       "\n",
       "        [[ 0.0132, -0.0179],\n",
       "         [ 0.0171,  0.2180],\n",
       "         [-0.1776,  0.2164],\n",
       "         [-0.0509, -0.2336]],\n",
       "\n",
       "        [[ 0.0353, -0.2450],\n",
       "         [ 0.0392, -0.0090],\n",
       "         [-0.1555, -0.0107],\n",
       "         [-0.0288, -0.4607]],\n",
       "\n",
       "        [[-0.2997, -0.1947],\n",
       "         [-0.2958,  0.0413],\n",
       "         [-0.4905,  0.0396],\n",
       "         [-0.3638, -0.4104]],\n",
       "\n",
       "        [[-0.1069, -0.0604],\n",
       "         [-0.1030,  0.1756],\n",
       "         [-0.2977,  0.1739],\n",
       "         [-0.1710, -0.2760]]])"
      ]
     },
     "execution_count": null,
     "metadata": {},
     "output_type": "execute_result"
    }
   ],
   "source": [
    "P3 = P3.transpose(1,2)\n",
    "P3"
   ]
  },
  {
   "cell_type": "code",
   "execution_count": null,
   "metadata": {},
   "outputs": [
    {
     "data": {
      "text/plain": [
       "torch.Size([7, 4, 2])"
      ]
     },
     "execution_count": null,
     "metadata": {},
     "output_type": "execute_result"
    }
   ],
   "source": [
    "P3.shape"
   ]
  },
  {
   "cell_type": "code",
   "execution_count": null,
   "metadata": {},
   "outputs": [
    {
     "data": {
      "text/plain": [
       "tensor([[0.2122, 0.3470],\n",
       "        [0.2082, 0.1043],\n",
       "        [0.4569, 0.1055],\n",
       "        [0.2841, 0.6927]])"
      ]
     },
     "execution_count": null,
     "metadata": {},
     "output_type": "execute_result"
    }
   ],
   "source": [
    "flows = flow(pointset1)\n",
    "flows"
   ]
  },
  {
   "cell_type": "code",
   "execution_count": null,
   "metadata": {},
   "outputs": [],
   "source": [
    "A = affinity_from_flow(flows,P3)"
   ]
  },
  {
   "cell_type": "code",
   "execution_count": null,
   "metadata": {},
   "outputs": [
    {
     "data": {
      "text/plain": [
       "tensor([[-0.1741, -0.0507, -0.1801, -0.4922],\n",
       "        [ 0.1847,  0.1314,  0.1309,  0.1524],\n",
       "        [ 0.2008,  0.1189,  0.0887,  0.2013],\n",
       "        [-0.0034,  0.0263, -0.0583, -0.1763],\n",
       "        [-0.0775,  0.0072, -0.0722, -0.3273],\n",
       "        [-0.1312, -0.0573, -0.2199, -0.3876],\n",
       "        [-0.0436, -0.0031, -0.1177, -0.2398]])"
      ]
     },
     "execution_count": null,
     "metadata": {},
     "output_type": "execute_result"
    }
   ],
   "source": [
    "(P3 * flows).sum(-1)"
   ]
  },
  {
   "cell_type": "code",
   "execution_count": null,
   "metadata": {},
   "outputs": [
    {
     "data": {
      "text/plain": [
       "tensor([[0.4067, 0.2329, 0.4689, 0.7487],\n",
       "        [0.4067, 0.2329, 0.4689, 0.7487],\n",
       "        [0.4067, 0.2329, 0.4689, 0.7487],\n",
       "        [0.4067, 0.2329, 0.4689, 0.7487]])"
      ]
     },
     "execution_count": null,
     "metadata": {},
     "output_type": "execute_result"
    }
   ],
   "source": [
    "torch.linalg.norm(flows,dim=1).repeat(4,1)"
   ]
  },
  {
   "cell_type": "markdown",
   "metadata": {},
   "source": [
    "### Testing the function"
   ]
  },
  {
   "cell_type": "code",
   "execution_count": null,
   "metadata": {},
   "outputs": [],
   "source": [
    "pointset1 = torch.rand(4,2)\n",
    "pointset2 = torch.rand(7,2)\n",
    "def flow(x):\n",
    "  return 5*x**2 - 3*x\n"
   ]
  },
  {
   "cell_type": "code",
   "execution_count": null,
   "metadata": {},
   "outputs": [],
   "source": [
    "P = affinity_matrix_from_pointset_to_pointset(pointset1,pointset2,flow(pointset1))"
   ]
  },
  {
   "cell_type": "code",
   "execution_count": null,
   "metadata": {},
   "outputs": [
    {
     "data": {
      "text/plain": [
       "tensor([[0.3737, 0.3304, 0.3672, 0.3083, 0.6199, 0.4186, 0.5384],\n",
       "        [0.9048, 0.9899, 0.9298, 1.1175, 0.8538, 0.9476, 1.0344],\n",
       "        [0.0093, 0.0092, 0.0087, 0.0064, 0.0021, 0.0050, 0.0013],\n",
       "        [0.0418, 0.0235, 0.0357, 0.0117, 0.0879, 0.0362, 0.0285]])"
      ]
     },
     "execution_count": null,
     "metadata": {},
     "output_type": "execute_result"
    }
   ],
   "source": [
    "P"
   ]
  },
  {
   "cell_type": "code",
   "execution_count": null,
   "metadata": {},
   "outputs": [
    {
     "data": {
      "text/plain": [
       "tensor([2.9564, 6.7778, 0.0421, 0.2653])"
      ]
     },
     "execution_count": null,
     "metadata": {},
     "output_type": "execute_result"
    }
   ],
   "source": [
    "P.sum(axis=1)"
   ]
  },
  {
   "cell_type": "code",
   "execution_count": null,
   "metadata": {},
   "outputs": [
    {
     "data": {
      "text/plain": [
       "tensor([[0.1264, 0.1118, 0.1242, 0.1043, 0.2097, 0.1416, 0.1821],\n",
       "        [0.1335, 0.1460, 0.1372, 0.1649, 0.1260, 0.1398, 0.1526],\n",
       "        [0.2215, 0.2183, 0.2059, 0.1527, 0.0507, 0.1188, 0.0321],\n",
       "        [0.1575, 0.0885, 0.1345, 0.0442, 0.3312, 0.1366, 0.1075]])"
      ]
     },
     "execution_count": null,
     "metadata": {},
     "output_type": "execute_result"
    }
   ],
   "source": [
    "torch.diag(1/P.sum(axis=1)) @ P"
   ]
  },
  {
   "cell_type": "markdown",
   "metadata": {},
   "source": [
    "# Putting the pieces together"
   ]
  },
  {
   "cell_type": "markdown",
   "metadata": {},
   "source": [
    "## The Loss Function: KL Divergence"
   ]
  },
  {
   "cell_type": "markdown",
   "metadata": {},
   "source": [
    "Previously, our network used a frobenius norm between matrices as the loss function. Now, it is comparing probability distributions, rather than distance matrices, and so we want something more robust. \n",
    "\n",
    "We'll start by using the simplest possible divergence: the KL Divergence"
   ]
  },
  {
   "cell_type": "code",
   "execution_count": null,
   "metadata": {},
   "outputs": [],
   "source": [
    "loss = nn.KLDivLoss(reduction = 'batchmean',log_target = False)"
   ]
  },
  {
   "cell_type": "code",
   "execution_count": null,
   "metadata": {},
   "outputs": [],
   "source": [
    "Pg = torch.rand(10,10)\n",
    "Pe = torch.rand(10,10)\n",
    "Pg_log = torch.log(Pg)"
   ]
  },
  {
   "cell_type": "code",
   "execution_count": null,
   "metadata": {},
   "outputs": [
    {
     "data": {
      "text/plain": [
       "tensor(2.9520)"
      ]
     },
     "execution_count": null,
     "metadata": {},
     "output_type": "execute_result"
    }
   ],
   "source": [
    "loss(Pg_log,Pe)"
   ]
  },
  {
   "cell_type": "markdown",
   "metadata": {},
   "source": [
    "Now to put the pieces together, into a `FlowEmbedder` Network!"
   ]
  },
  {
   "cell_type": "code",
   "execution_count": null,
   "metadata": {},
   "outputs": [],
   "source": [
    "# export\n",
    "import torch\n",
    "from torch import nn\n",
    "import torch.nn.functional as F\n",
    "import torch_geometric\n",
    "from tqdm import trange\n",
    "from directed_graphs.utils import diffusion_matrix_from_graph\n",
    "import numpy as np\n",
    "import matplotlib.pyplot as plt\n",
    "\n",
    "class DiffusionFlowEmbedder(torch.nn.Module):\n",
    "\tdef __init__(self, X, flows, t = 4, sigma_graph = 0.5, sigma_embedding=0.5, embedding_dimension=2, device=torch.device('cpu')):\n",
    "\t\t\"\"\"Flow Embedding with diffusion\n",
    "\n",
    "\t\tParameters\n",
    "\t\t----------\n",
    "\t\tX : torch tensor n_points x n_dim\n",
    "\t\t\tdata matrix\n",
    "\t\tflows : torch tensor n_points x n_dim\n",
    "\t\t\tThe flow at each point\n",
    "\t\tt : int\n",
    "\t\t\tLoss is computed with the diffusion operator powered to this number\n",
    "\t\tsigma in [0,1]\n",
    "\t\t\tKernel bandwidth in the embedding\n",
    "\t\t\"\"\"\n",
    "\t\t# initialize parameters\n",
    "\t\tsuper(DiffusionFlowEmbedder, self).__init__()\n",
    "\t\tself.X = X\n",
    "\t\tself.ground_truth_flows = flows\n",
    "\t\tself.t = t\n",
    "\t\tself.sigma_embedding = sigma_embedding\n",
    "\t\tself.sigma_graph = sigma_graph\n",
    "\t\tself.nnodes = X.shape[0]\n",
    "\t\tself.data_dimension = X.shape[1]\n",
    "\t\tself.losses = []\n",
    "\t\tself.embedding_dimension = embedding_dimension\n",
    "\t\t# set device (used for shuffling points around during visualization)\n",
    "\t\tself.device = device\n",
    "\t\t# Compute P^t of the graph, the powered diffusion matrix\n",
    "\t\t# TODO: This can be optimized using landmarks, etc. For now it's straight sparse matrix multiplication\n",
    "\t\t# TODO: Migrate to a specialized function for dataset affinity calculation, with automatic kernel bandwidth selection, and the like\n",
    "\t\tself.P_graph = affinity_matrix_from_pointset_to_pointset(X,X,flows,sigma=sigma_graph)\n",
    "\t\tself.P_graph_t = torch.matrix_power(self.P_graph,self.t)\n",
    "\t\t# Flow field\n",
    "\t\tself.FlowArtist = nn.Sequential(nn.Linear(self.embedding_dimension, 10),\n",
    "\t\t                       nn.Tanh(),\n",
    "\t\t                       nn.Linear(10, 20),\n",
    "\t\t                       nn.Tanh(),\n",
    "\t\t\t\t\t\t\t\t\t\t\t\t\t nn.Linear(20, 10),\n",
    "\t\t\t\t\t\t\t\t\t\t\t\t\t nn.Tanh(),\n",
    "\t\t                       nn.Linear(10, self.embedding_dimension))\n",
    "\t\t# Autoencoder to embed the points into a low dimension\n",
    "\t\tself.encoder = nn.Sequential(nn.Linear(self.data_dimension, 100),\n",
    "\t\t\t\t\t\t\t\t\t\t\t\t\t\t\tnn.ReLU(),\n",
    "\t\t\t\t\t\t\t\t\t\t\t\t\t\t\tnn.Linear(100, 10),\n",
    "\t\t\t\t\t\t\t\t\t\t\t\t\t\t\tnn.ReLU(),\n",
    "\t\t\t\t\t\t\t\t\t\t\t\t\t\t\tnn.Linear(10, self.embedding_dimension))\n",
    "\t\tself.decoder = nn.Sequential(nn.Linear(self.embedding_dimension, 10),\n",
    "\t\t\t\t\t\t\t\t\t\t\t\t\t\t\tnn.ReLU(),\n",
    "\t\t\t\t\t\t\t\t\t\t\t\t\t\t\tnn.Linear(10, 100),\n",
    "\t\t\t\t\t\t\t\t\t\t\t\t\t\t\tnn.ReLU(),\n",
    "\t\t\t\t\t\t\t\t\t\t\t\t\t\t\tnn.Linear(100, self.data_dimension))\n",
    "\t\t# training ops\n",
    "\t\tself.KLD = nn.KLDivLoss(reduction='batchmean',log_target=False)\n",
    "\t\tself.MSE = nn.MSELoss()\n",
    "\t\tself.optim = torch.optim.Adam(self.parameters())\n",
    "\t\t\t\t\t\t\t\t\t\n",
    "\n",
    "\tdef compute_embedding_P(self):\n",
    "\t\tA = affinity_matrix_from_pointset_to_pointset(self.embedded_points,self.embedded_points,flows = self.FlowArtist(self.embedded_points), sigma = self.sigma_embedding)\n",
    "\t\t# flow\n",
    "\t\tself.P_embedding = torch.diag(1/A.sum(axis=1)) @ A\n",
    "\t\t# power it\n",
    "\t\tself.P_embedding_t = torch.matrix_power(self.P_embedding,self.t)\n",
    "\n",
    "\tdef loss(self):\n",
    "\t\tself.embedded_points = self.encoder(self.X)\n",
    "\t\t# compute embedding diffusion matrix\n",
    "\t\tself.compute_embedding_P()\n",
    "\t\t# compute autoencoder loss\n",
    "\t\tX_reconstructed = self.decoder(self.embedded_points)\n",
    "\t\treconstruction_loss = self.MSE(X_reconstructed, self.X)\n",
    "\t\t# take KL divergence between it and actual P\n",
    "\t\tlog_P_embedding_t = torch.log(self.P_embedding_t)\n",
    "\t\tif log_P_embedding_t.is_sparse:\n",
    "\t\t\tdiffusion_loss = self.KLD(log_P_embedding_t.to_dense(),self.P_graph_t.to_dense())\n",
    "\t\telse:\n",
    "\t\t\tdiffusion_loss = self.KLD(log_P_embedding_t,self.P_graph_t)\n",
    "\t\tcost = diffusion_loss + reconstruction_loss\n",
    "\t\t# print(f\"cost is KLD {diffusion_loss} with recon {reconstruction_loss}\")\n",
    "\t\tself.losses.append([diffusion_loss,reconstruction_loss])\n",
    "\t\treturn cost\n",
    "\n",
    "\tdef visualize_points(self, labels):\n",
    "\t\t# controls the x and y axes of the plot\n",
    "\t\t# linspace(min on axis, max on axis, spacing on plot -- large number = more field arrows)\n",
    "\t\tminx = min(self.embedded_points[:,0].detach().cpu().numpy())-1\n",
    "\t\tmaxx = max(self.embedded_points[:,0].detach().cpu().numpy())+1\n",
    "\t\tminy = min(self.embedded_points[:,1].detach().cpu().numpy())-1\n",
    "\t\tmaxy = max(self.embedded_points[:,1].detach().cpu().numpy())+1\n",
    "\t\tx, y = np.meshgrid(np.linspace(minx,maxx,20),np.linspace(miny,maxy,20))\n",
    "\t\tx = torch.tensor(x,dtype=float).cpu()\n",
    "\t\ty = torch.tensor(y,dtype=float).cpu()\n",
    "\t\txy_t = torch.concat([x[:,:,None],y[:,:,None]],dim=2).float().to('cuda') # TODO: cuda/cpu issue\n",
    "\t\tuv = self.FlowArtist(xy_t).detach()\n",
    "\t\tu = uv[:,:,0].cpu()\n",
    "\t\tv = uv[:,:,1].cpu()\n",
    "\t\t\n",
    "\t\t# quiver \n",
    "\t\t# \tplots a 2D field of arrows\n",
    "\t\t# \tquiver([X, Y], U, V, [C], **kw); \n",
    "\t\t# \tX, Y define the arrow locations, U, V define the arrow directions, and C optionally sets the color.\n",
    "\t\t\n",
    "\t\tplt.quiver(x,y,u,v)\n",
    "\t\tsc = plt.scatter(self.embedded_points[:,0].detach().cpu(),self.embedded_points[:,1].detach().cpu(), c=labels)\n",
    "\t\tplt.legend()\n",
    "\t\t# Display all open figures.\n",
    "\t\tplt.show()\n",
    "\n",
    "\n",
    "\tdef fit(self,n_steps = 1000):\n",
    "\t\t# train Flow Embedder on the provided graph\n",
    "\t\tself.train()\n",
    "\t\tfor step in trange(n_steps):\n",
    "\t\t\tself.optim.zero_grad()\n",
    "\t\t\t# compute loss\n",
    "\t\t\tloss = self.loss()\n",
    "\t\t\t# print(\"loss is \",loss)\n",
    "\t\t\t# compute gradient and step backwards\n",
    "\t\t\tloss.backward()\n",
    "\t\t\tself.optim.step()\n",
    "\t\t\t# TODO: Criteria to automatically end training\n",
    "\t\tprint(\"Exiting training with loss \",loss)\n",
    "\t\treturn self.embedded_points"
   ]
  }
 ],
 "metadata": {
  "kernelspec": {
   "display_name": "Python 3.9.13 ('pyg_from_source')",
   "language": "python",
   "name": "python3"
  }
 },
 "nbformat": 4,
 "nbformat_minor": 2
}
