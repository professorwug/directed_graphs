{
 "cells": [
  {
   "cell_type": "markdown",
   "metadata": {},
   "source": [
    "![graph](./images/Tesfa-ShadyAl-Obama.jpg)"
   ]
  },
  {
   "cell_type": "code",
   "execution_count": null,
   "metadata": {},
   "outputs": [],
   "source": [
    "def brute_tesfa_shadyal_obama():\n",
    "    num_nodes = 14\n",
    "    adj_mat = [[0 for y in range(num_nodes)] for x in range(num_nodes)]\n",
    "\n",
    "    # 0: Obama\n",
    "    # 1-6: Tesfa\n",
    "    # 7: shady-al\n",
    "    # 8-13: bots\n",
    "    \n",
    "    # everyone (except bots) in graph is connected to Obama\n",
    "    for i in range(1, 8):\n",
    "        adj_mat[i][0] = 1\n",
    "\n",
    "\n",
    "    # everyone in Tesfa's circle is connected\n",
    "    for i in range(1,6):\n",
    "        for j in range(1,7):\n",
    "            if i != j:\n",
    "                adj_mat[i][j] = 1\n",
    "    \n",
    "    # shady-al's bots are connected to shady-al\n",
    "    for i in range(8,14):\n",
    "        adj_mat[i][7] = 1\n",
    "\n",
    "    return adj_mat"
   ]
  },
  {
   "cell_type": "code",
   "execution_count": null,
   "metadata": {},
   "outputs": [
    {
     "data": {
      "text/plain": [
       "[[0, 0, 0, 0, 0, 0, 0, 0, 0, 0, 0, 0, 0, 0],\n",
       " [1, 0, 1, 1, 1, 1, 1, 0, 0, 0, 0, 0, 0, 0],\n",
       " [1, 1, 0, 1, 1, 1, 1, 0, 0, 0, 0, 0, 0, 0],\n",
       " [1, 1, 1, 0, 1, 1, 1, 0, 0, 0, 0, 0, 0, 0],\n",
       " [1, 1, 1, 1, 0, 1, 1, 0, 0, 0, 0, 0, 0, 0],\n",
       " [1, 1, 1, 1, 1, 0, 1, 0, 0, 0, 0, 0, 0, 0],\n",
       " [1, 0, 0, 0, 0, 0, 0, 0, 0, 0, 0, 0, 0, 0],\n",
       " [1, 0, 0, 0, 0, 0, 0, 0, 0, 0, 0, 0, 0, 0],\n",
       " [0, 0, 0, 0, 0, 0, 0, 1, 0, 0, 0, 0, 0, 0],\n",
       " [0, 0, 0, 0, 0, 0, 0, 1, 0, 0, 0, 0, 0, 0],\n",
       " [0, 0, 0, 0, 0, 0, 0, 1, 0, 0, 0, 0, 0, 0],\n",
       " [0, 0, 0, 0, 0, 0, 0, 1, 0, 0, 0, 0, 0, 0],\n",
       " [0, 0, 0, 0, 0, 0, 0, 1, 0, 0, 0, 0, 0, 0],\n",
       " [0, 0, 0, 0, 0, 0, 0, 1, 0, 0, 0, 0, 0, 0]]"
      ]
     },
     "execution_count": null,
     "metadata": {},
     "output_type": "execute_result"
    }
   ],
   "source": [
    "brute_tesfa_shadyal_obama()"
   ]
  }
 ],
 "metadata": {
  "kernelspec": {
   "display_name": "Python 3.9.12 ('base')",
   "language": "python",
   "name": "python3"
  }
 },
 "nbformat": 4,
 "nbformat_minor": 2
}
