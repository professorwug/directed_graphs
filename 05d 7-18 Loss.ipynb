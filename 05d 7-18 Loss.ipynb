{
 "cells": [
  {
   "cell_type": "code",
   "execution_count": 1,
   "id": "9a4f8d90",
   "metadata": {},
   "outputs": [],
   "source": [
    "# imports\n",
    "import torch\n",
    "import torch.nn as nn\n",
    "import torch.nn.functional as F\n",
    "import torch\n",
    "from torch import nn\n",
    "import torch.nn.functional as F\n",
    "from tqdm import trange\n",
    "import numpy as np\n",
    "import matplotlib.pyplot as plt\n",
    "import directed_graphs\n",
    "device = torch.device(\"cuda\" if torch.cuda.is_available() else \"cpu\")"
   ]
  },
  {
   "cell_type": "markdown",
   "id": "5faef6a1",
   "metadata": {},
   "source": [
    "# New Loss"
   ]
  },
  {
   "cell_type": "markdown",
   "id": "d6b5b575",
   "metadata": {},
   "source": [
    "In this notebook, I will code up a DFE with new loss function discussed on July 18th, 2022.\n",
    "\n",
    "The loss function is as follows:\n",
    "\n",
    "$$\\sum\\limits_{i,j \\in V}|d_{diff}(x_i,x_j)-||\\phi(x_i)-\\phi(x_j)||_2|$$ $$+ \\beta \\sum\\limits_{i \\in V} \\sum\\limits_{k \\in N_f(i)} ||(\\phi(x_k)-\\phi(x_i))-f(\\phi(x_i))||_2$$ $$+ \\gamma \\cdot smoothness$$ $$+ \\delta \\cdot CLL (contrastive learning loss)$$"
   ]
  },
  {
   "cell_type": "markdown",
   "id": "e4b4eb9a",
   "metadata": {},
   "source": [
    "# Affinity Functions"
   ]
  },
  {
   "cell_type": "code",
   "execution_count": 2,
   "id": "1a0543a6",
   "metadata": {},
   "outputs": [],
   "source": [
    "def affinity_from_flow(flows, directions_array, flow_strength = 1, sigma=1):\n",
    "  \"\"\"Compute probabilities of transition in the given directions based on the flow. \n",
    "\n",
    "  Parameters\n",
    "  ----------\n",
    "  flows : torch tensor of shape n_points x n_dims\n",
    "      _description_\n",
    "  directions_array : torch tensor of shape n_directions x n_points x n_dims. Assumed to be normalized.\n",
    "      _description_\n",
    "  sigma : int, optional\n",
    "      kernel bandwidth, by default 1\n",
    "  returns (n_points)\n",
    "  \"\"\"\n",
    "  assert len(flows.shape) == 2 # flows should only have one dimension\n",
    "  assert len(directions_array.shape) > 1 and len(directions_array.shape) < 4\n",
    "  n_directions = directions_array.shape[0]\n",
    "  # Normalize directions\n",
    "  length_of_directions = torch.linalg.norm(directions_array,dim=-1)\n",
    "  normed_directions = F.normalize(directions_array,dim=-1)\n",
    "  # and normalize flows # TODO: Perhaps reconsider\n",
    "  # Calculate flow lengths, used to scale directions to flow\n",
    "  # flow_lengths = torch.linalg.norm(flows,dim=-1)\n",
    "  if len(directions_array) == 1: # convert to 2d array if necessary\n",
    "    directions_array = directions_array[:,None] \n",
    "  # scale directions to have same norm as flow\n",
    "  # scaled_directions = normed_directions * flow_lengths[:,None].repeat(directions_array.shape[0],1,directions_array.shape[2])\n",
    "  # compute dot products as matrix multiplication\n",
    "  dot_products = (normed_directions * flows).sum(-1)\n",
    "  # take distance between flow projected onto direction and the direction\n",
    "  distance_from_flow = (torch.linalg.norm(flows,dim=1)).repeat(n_directions,1) - dot_products\n",
    "  # take absolute value\n",
    "  distance_from_flow = torch.abs(distance_from_flow)\n",
    "  # print('shape of dff',distance_from_flow.shape)\n",
    "  # add to this the length of each direction\n",
    "  distance_from_flow = flow_strength*distance_from_flow + length_of_directions\n",
    "  # put the points on rows, directions in columns\n",
    "  distance_from_flow = distance_from_flow.T\n",
    "  # take kernel of distances\n",
    "  kernel =  torch.exp(-distance_from_flow/sigma)\n",
    "  return kernel"
   ]
  },
  {
   "cell_type": "code",
   "execution_count": 3,
   "id": "01da3429",
   "metadata": {},
   "outputs": [],
   "source": [
    "def affinity_matrix_from_pointset_to_pointset(pointset1, pointset2, flows,n_neighbors=None,sigma=0.5, flow_strength=1):\n",
    "  \"\"\"Compute affinity matrix between the points of pointset1 and pointset2, using the provided flow.\n",
    "\n",
    "  Parameters\n",
    "  ----------\n",
    "  pointset1 : torch tensor, n1 x d\n",
    "      The first pointset, to calculate affinities *from*\n",
    "  pointset2 : torch tensor, n2 x d\n",
    "      The second pointset, to calculate affinities *to* (from pointset1)\n",
    "  flow : a function that, when called at a point, gives the flow at that point\n",
    "  n_neighbors : number of neighbors to include in affinity computations. All neighbors beyond it are given affinity zero\n",
    "  (currently not implemented)\n",
    "\n",
    "  Returns:\n",
    "  Affinity matrix: torch tensor of shape n1 x n2\n",
    "  \"\"\"\n",
    "  # Calculate the directions from point i in pointset 1 to point j in pointset 2\n",
    "  n1 = pointset1.shape[0]\n",
    "  n2 = pointset2.shape[0]\n",
    "  P2 = pointset2[:,:,None].repeat(1,1,n1)\n",
    "  P1 = pointset1.T.repeat(n2,1,1)\n",
    "  P3 = (P2 - P1)\n",
    "  P3 = P3.transpose(1,2)\n",
    "  # dimension 1 represents directions to point i\n",
    "  # dimension 2 represents direction from point j\n",
    "  # dimension 3 represents direction in each dimension (R^n)\n",
    "  # compute affinities from flows and directions\n",
    "  affinities = affinity_from_flow(flows,P3,sigma=sigma,flow_strength=flow_strength)\n",
    "  return affinities"
   ]
  },
  {
   "cell_type": "markdown",
   "id": "e9ef639c",
   "metadata": {},
   "source": [
    "# Flexible FlowArtist and Encoder (ReLU MLPs) Object Creator Function"
   ]
  },
  {
   "cell_type": "code",
   "execution_count": 4,
   "id": "88733e53",
   "metadata": {},
   "outputs": [],
   "source": [
    "from collections import OrderedDict\n",
    "\n",
    "def FlowArtist(dim = 2, shape = [2,4,8,4,2], device = torch.device('cpu')):\n",
    "    # Function to create tailored flow artist\n",
    "    \n",
    "    FA = nn.Sequential()\n",
    "    \n",
    "    d_len = len(shape)*2\n",
    "    d = OrderedDict()\n",
    "    d[str(0)] = nn.Linear(shape[0], shape[1])\n",
    "    for i in range(1,d_len-3):\n",
    "        if i%2 == 1:\n",
    "            d[str(i)] = nn.LeakyReLU()\n",
    "        else:\n",
    "            d[str(i)] = nn.Linear(shape[int(i/2)], shape[int(i/2)+1])\n",
    "    \n",
    "    # create MLP\n",
    "    FA = nn.Sequential(d) # d is an OrderedDictionary\n",
    "        \n",
    "    return FA"
   ]
  },
  {
   "cell_type": "code",
   "execution_count": 5,
   "id": "5e29cb6e",
   "metadata": {},
   "outputs": [],
   "source": [
    "class FeedForwardReLU(nn.Module):\n",
    "    def __init__(self, shape):\n",
    "        super(FeedForwardReLU, self).__init__()\n",
    "        d_len = len(shape) * 2\n",
    "        d = OrderedDict()\n",
    "        d[str(0)] = nn.Linear(shape[0], shape[1])\n",
    "        for i in range(1, d_len - 3):\n",
    "            if i % 2 == 1:\n",
    "                d[str(i)] = nn.LeakyReLU()\n",
    "            else:\n",
    "                d[str(i)] = nn.Linear(shape[int(i / 2)], shape[int(i / 2) + 1])\n",
    "        # create MLP\n",
    "        self.FA = nn.Sequential(d)\n",
    "\n",
    "    def forward(self, X):\n",
    "        return self.FA(X)"
   ]
  },
  {
   "cell_type": "markdown",
   "id": "fee48d7a",
   "metadata": {},
   "source": [
    "# Loss Functions"
   ]
  },
  {
   "cell_type": "code",
   "execution_count": 6,
   "id": "0e06a8e1",
   "metadata": {},
   "outputs": [],
   "source": [
    "def diffusion_map_loss(P_graph, embedded_points):\n",
    "  num_nodes = P_graph.shape[0]\n",
    "  D_graph = torch.cdist(P_graph, P_graph)\n",
    "  D_embedding = torch.cdist(embedded_points, embedded_points)\n",
    "  loss = torch.norm(D_graph - D_embedding)**2 / (num_nodes**2)\n",
    "  return loss\n",
    "\n",
    "def near_neighbors_tensor(points, affinity_matrix, k):\n",
    "    # returns n x k (neighbors) x dimensions Tensor\n",
    "    A = affinity_matrix\n",
    "    n = A.shape[0]\n",
    "    d = points.size()[1]\n",
    "    _, indices = torch.topk(A, k)\n",
    "    \n",
    "    ret = np.empty(shape=(n,k,d))\n",
    "    \n",
    "    for i in range(indices.size()[0]):\n",
    "        for j in range(indices.size()[1]):\n",
    "            index = indices[i][j]\n",
    "            ret[i][j] = points[index]\n",
    "    \n",
    "    return torch.tensor(ret).float()\n",
    "\n",
    "def flow_neighbor_loss(points, near_neighbors, flows, encoder, flow_artist):\n",
    "    k = near_neighbors.shape()[2]\n",
    "    points = points.repeat(1,k,1)\n",
    "    flows = flows.repeat(1,k,1)\n",
    "    \n",
    "    big_mat = encoder(near_neighbors) - encoder(points) - flow_artist(points)\n",
    "    norms = torch.linalg.norm(big_mat, dim = 2)\n",
    "    \n",
    "    return torch.sum(norms)"
   ]
  },
  {
   "cell_type": "markdown",
   "id": "31a8acd0",
   "metadata": {},
   "source": [
    "### Test Functions"
   ]
  },
  {
   "cell_type": "code",
   "execution_count": 7,
   "id": "fab0d2ee",
   "metadata": {},
   "outputs": [],
   "source": [
    "points = [[0,0],\n",
    "         [1,0],\n",
    "         [0,1],\n",
    "         [-1,0],\n",
    "         [0,-1]]\n",
    "\n",
    "flows = [[1,0],\n",
    "         [1,0],\n",
    "         [1,0],\n",
    "         [1,0],\n",
    "         [1,0]]\n",
    "\n",
    "points = torch.tensor(points).float()\n",
    "flows = torch.tensor(flows).float()\n",
    "\n",
    "#plt.scatter(points[:,0], points[:,1])\n",
    "#plt.quiver(points[:,0], points[:,1], flows[:,0], flows[:,1])"
   ]
  },
  {
   "cell_type": "code",
   "execution_count": 8,
   "id": "dd0f7184",
   "metadata": {},
   "outputs": [
    {
     "data": {
      "text/plain": [
       "tensor([[0.1353, 0.1353, 0.0183, 0.0025, 0.0183],\n",
       "        [0.0025, 0.1353, 0.0019, 0.0003, 0.0019],\n",
       "        [0.0183, 0.0329, 0.1353, 0.0019, 0.0025],\n",
       "        [0.1353, 0.0183, 0.0329, 0.1353, 0.0329],\n",
       "        [0.0183, 0.0329, 0.0025, 0.0019, 0.1353]])"
      ]
     },
     "execution_count": 8,
     "metadata": {},
     "output_type": "execute_result"
    }
   ],
   "source": [
    "A = affinity_matrix_from_pointset_to_pointset(points, points, flows)\n",
    "A\n",
    "#plt.imshow(A)"
   ]
  },
  {
   "cell_type": "code",
   "execution_count": 9,
   "id": "ec8145fe",
   "metadata": {},
   "outputs": [
    {
     "data": {
      "text/plain": [
       "2"
      ]
     },
     "execution_count": 9,
     "metadata": {},
     "output_type": "execute_result"
    }
   ],
   "source": [
    "near_neighbors_tensor(points, A, 2).size()[2]"
   ]
  },
  {
   "cell_type": "markdown",
   "id": "264561e8",
   "metadata": {},
   "source": [
    "# Embedder Class"
   ]
  },
  {
   "cell_type": "code",
   "execution_count": 19,
   "id": "403f146a",
   "metadata": {},
   "outputs": [],
   "source": [
    "class FlowEmbedder(torch.nn.Module):\n",
    "    def __init__(\n",
    "        self,\n",
    "        X,\n",
    "        flows,\n",
    "        sigma_graph=0.5,\n",
    "        flow_strength_graph=5,\n",
    "        embedding_dimension=2,\n",
    "        learning_rate=1e-3,\n",
    "        FAShape=(2, 4, 8, 4, 2),\n",
    "        EncShape=(3, 4, 8, 4, 2),\n",
    "        decoder=None,\n",
    "        labels=None,\n",
    "        loss_weights=None,\n",
    "        knn = 10,\n",
    "        device=torch.device(\"cpu\"),\n",
    "    ):\n",
    "        # initialize parameters\n",
    "        super(FlowEmbedder, self).__init__()\n",
    "\n",
    "        # generate default parameters\n",
    "        embedder = (\n",
    "            FeedForwardReLU(shape=EncShape)\n",
    "        )\n",
    "        loss_weights = (\n",
    "            {\n",
    "                \"points\": 1,\n",
    "                \"flows\": 1,\n",
    "                \"smoothness\": 0,\n",
    "                \"CLL\": 0,\n",
    "            }\n",
    "            if loss_weights is None\n",
    "            else loss_weights\n",
    "        )\n",
    "        self.X = X\n",
    "        self.ground_truth_flows = flows\n",
    "        self.sigma_graph = sigma_graph\n",
    "        self.nnodes = X.shape[0]\n",
    "        self.data_dimension = X.shape[1]\n",
    "\n",
    "        self.loss_weights = loss_weights\n",
    "        self.labels = labels\n",
    "        self.embedding_dimension = embedding_dimension\n",
    "        # set device (used for shuffling points around during visualization)\n",
    "        self.device = device\n",
    "\n",
    "        # Affinity Matrix in Ambient Space\n",
    "        self.P_graph = affinity_matrix_from_pointset_to_pointset(\n",
    "            X, X, flows, sigma=sigma_graph, flow_strength=flow_strength_graph\n",
    "        )\n",
    "        self.P_graph = F.normalize(self.P_graph, p=1, dim=1)\n",
    "        \n",
    "        # Ambient space points neighbors\n",
    "        self.knn = knn\n",
    "        self.near_neighbors = near_neighbors_tensor(self.X, self.P_graph, self.knn)\n",
    "        \n",
    "        # Flow field\n",
    "        self.FlowArtist = FlowArtist(dim = 2, \n",
    "                                     shape = FAShape, \n",
    "                                     device = torch.device('cpu')\n",
    "        ).to(self.device)\n",
    "\n",
    "        # Autoencoder to embed the points into a low dimension\n",
    "        self.embedder = embedder.to(self.device)\n",
    "        if decoder is not None:\n",
    "            self.decoder = decoder.to(self.device)\n",
    "        else:\n",
    "            self.decoder = None\n",
    "\n",
    "        # training ops\n",
    "        self.optim = torch.optim.Adam(self.parameters(), lr=learning_rate)\n",
    "\n",
    "        # split input data into batches\n",
    "\n",
    "    def loss(self):\n",
    "        # embed points\n",
    "        self.embedded_points = self.embedder(self.X)\n",
    "        # compute diffusion loss on embedded points\n",
    "        \n",
    "        # compute point embedding loss according to diffusion maps\n",
    "        diffmap_loss = diffusion_map_loss(self.P_graph, self.embedded_points)\n",
    "        self.losses[\"points\"] = diffmap_loss\n",
    "        \n",
    "        # compute flow field loss\n",
    "        flow_loss = flow_neighbor_loss(self.X, self.near_neighbors, self.flows, self.embedder, self.FlowArtist)\n",
    "        self.losses[\"flows\"] = flow_loss\n",
    "        \n",
    "        return loss\n",
    "\n",
    "    def visualize_points(self, labels=None):\n",
    "        embedded_points = self.embedder(X)\n",
    "        xmin = torch.min(embedded_points[:,0])\n",
    "        xmax = torch.max(embedded_points[:,0])\n",
    "        ymin = torch.min(embedded_points[:,1])\n",
    "        ymax = torch.max(embedded_points[:,1])\n",
    "        \n",
    "        x_grid = torch.arange(xmin, xmax, (xmax-xmin)/20)\n",
    "        y_grid = torch.arange(ymin, ymax, (ymaxymin)/20)\n",
    "        \n",
    "        grid = []\n",
    "        \n",
    "        for i in range(20):\n",
    "            for j in range(20):\n",
    "                grid.append([x_grid[i], y_grid[j]])\n",
    "        \n",
    "        grid = torch.tensor(grid).float()\n",
    "        flows = FlowArtist(grid)\n",
    "        \n",
    "        plt.scatter(embedded_points[:,0], embedded_points[:,1])\n",
    "        plt.quiver(grid[:,0],grid[:,1],flows[:,0],flows[:,1])\n",
    "\n",
    "    def fit(self, n_steps=1000):\n",
    "        # train Flow Embedder on the provided graph\n",
    "        self.train()\n",
    "        # reset losses\n",
    "        self.losses = {}\n",
    "        for k in self.loss_weights.keys():\n",
    "            self.losses[k] = []\n",
    "        # self.weight_of_flow = 0\n",
    "        for step in range(n_steps):\n",
    "            # vary weight of each part of loss function\n",
    "            \"\"\" \n",
    "            if step == 100:\n",
    "                self.weight_of_flow = 1\n",
    "            if step == 200:\n",
    "                self.weight_of_flow = 0.5\n",
    "            \"\"\"\n",
    "            self.optim.zero_grad()\n",
    "            # compute loss\n",
    "            loss = self.loss()\n",
    "            if loss.isnan():\n",
    "                print(\"Final loss was nan\")\n",
    "                raise NotImplementedError\n",
    "            # compute gradient and step backwards\n",
    "            loss.backward()\n",
    "            self.optim.step()\n",
    "            # print progress report after every 500 epochs\n",
    "            \"\"\"\n",
    "            if step % 500 == 0:\n",
    "                print(f\"EPOCH {step}. Loss {loss}. Flow strength {self.flow_strength}. Heatmap of P embedding is \")\n",
    "                self.visualize_diffusion_matrices()\n",
    "                self.visualize_points()\n",
    "            \"\"\"\n",
    "            # TODO: Criteria to automatically end training\n",
    "        # print(\"Exiting training with loss \",loss)\n",
    "        return self.embedded_points, self.FlowArtist, self.losses"
   ]
  },
  {
   "cell_type": "markdown",
   "id": "ae683f12",
   "metadata": {},
   "source": [
    "# Testing library functions"
   ]
  },
  {
   "cell_type": "code",
   "execution_count": 11,
   "id": "4ee4d612",
   "metadata": {},
   "outputs": [
    {
     "data": {
      "text/plain": [
       "tensor([[3., 2., 1.],\n",
       "        [5., 4., 6.],\n",
       "        [9., 7., 8.]])"
      ]
     },
     "execution_count": 11,
     "metadata": {},
     "output_type": "execute_result"
    }
   ],
   "source": [
    "A = [[3,2,1],[5,4,6],[9,7,8]]\n",
    "A = torch.tensor(A).float()\n",
    "\n",
    "A"
   ]
  },
  {
   "cell_type": "code",
   "execution_count": 12,
   "id": "d82069b8",
   "metadata": {},
   "outputs": [
    {
     "data": {
      "text/plain": [
       "tensor([[0, 1],\n",
       "        [2, 0],\n",
       "        [0, 2]])"
      ]
     },
     "execution_count": 12,
     "metadata": {},
     "output_type": "execute_result"
    }
   ],
   "source": [
    "_, indices = torch.topk(A, 2)\n",
    "indices"
   ]
  },
  {
   "cell_type": "code",
   "execution_count": 13,
   "id": "a9b4ab50",
   "metadata": {},
   "outputs": [],
   "source": [
    "ret = np.empty(shape=(10,4))"
   ]
  },
  {
   "cell_type": "code",
   "execution_count": 14,
   "id": "a290614d",
   "metadata": {},
   "outputs": [
    {
     "ename": "SyntaxError",
     "evalue": "invalid syntax (3934047445.py, line 1)",
     "output_type": "error",
     "traceback": [
      "\u001b[0;36m  Input \u001b[0;32mIn [14]\u001b[0;36m\u001b[0m\n\u001b[0;31m    ret[0][0] =\u001b[0m\n\u001b[0m               ^\u001b[0m\n\u001b[0;31mSyntaxError\u001b[0m\u001b[0;31m:\u001b[0m invalid syntax\n"
     ]
    }
   ],
   "source": []
  },
  {
   "cell_type": "code",
   "execution_count": 15,
   "id": "4bed4996",
   "metadata": {},
   "outputs": [
    {
     "data": {
      "text/plain": [
       "tensor([[[1., 0.],\n",
       "         [0., 1.]],\n",
       "\n",
       "        [[1., 0.],\n",
       "         [0., 1.]]])"
      ]
     },
     "execution_count": 15,
     "metadata": {},
     "output_type": "execute_result"
    }
   ],
   "source": [
    "p = [[1,0], [0,1]]\n",
    "p = torch.tensor(p).float()\n",
    "\n",
    "p.repeat(2,1,1)"
   ]
  },
  {
   "cell_type": "code",
   "execution_count": 16,
   "id": "0d050ac2",
   "metadata": {},
   "outputs": [
    {
     "data": {
      "text/plain": [
       "<matplotlib.collections.PathCollection at 0x2af944feec70>"
      ]
     },
     "execution_count": 16,
     "metadata": {},
     "output_type": "execute_result"
    },
    {
     "data": {
      "image/png": "[encoded data removed]",
      "text/plain": [
       "<Figure size 432x288 with 1 Axes>"
      ]
     },
     "metadata": {
      "needs_background": "light"
     },
     "output_type": "display_data"
    }
   ],
   "source": [
    "xmin = 0\n",
    "xmax = 20\n",
    "ymin = 0\n",
    "ymax = 20\n",
    "\n",
    "x_grid = torch.arange(xmin, xmax, (xmax-xmin)/20)\n",
    "y_grid = torch.arange(ymin, ymax, (ymax-ymin)/20)\n",
    "        \n",
    "grid = []\n",
    "        \n",
    "for i in range(20):\n",
    "    for j in range(20):\n",
    "        grid.append([x_grid[i], y_grid[j]])\n",
    "    \n",
    "grid = np.asarray(grid)\n",
    "    \n",
    "plt.scatter(grid[:,0], grid[:,1])"
   ]
  },
  {
   "cell_type": "markdown",
   "id": "a625a749",
   "metadata": {},
   "source": [
    "# Testing the Embedder"
   ]
  },
  {
   "cell_type": "code",
   "execution_count": 17,
   "id": "610a539f",
   "metadata": {},
   "outputs": [
    {
     "data": {
      "image/png": "[encoded data removed]",
      "text/plain": [
       "<Figure size 432x288 with 1 Axes>"
      ]
     },
     "metadata": {
      "needs_background": "light"
     },
     "output_type": "display_data"
    }
   ],
   "source": [
    "from directed_graphs.datasets import directed_circle\n",
    "from directed_graphs.datasets import plot_directed_2d, plot_directed_3d\n",
    "\n",
    "X, flow, labels = directed_circle(num_nodes=300, radius=1)\n",
    "plot_directed_2d(X, flow, labels)\n",
    "X = torch.tensor(X).float().to(device)\n",
    "flow = torch.tensor(flow).float().to(device)"
   ]
  },
  {
   "cell_type": "code",
   "execution_count": 21,
   "id": "76e05c73",
   "metadata": {},
   "outputs": [
    {
     "ename": "RuntimeError",
     "evalue": "The size of tensor a (3) must match the size of tensor b (2) at non-singleton dimension 2",
     "output_type": "error",
     "traceback": [
      "\u001b[0;31m---------------------------------------------------------------------------\u001b[0m",
      "\u001b[0;31mRuntimeError\u001b[0m                              Traceback (most recent call last)",
      "Input \u001b[0;32mIn [21]\u001b[0m, in \u001b[0;36m<cell line: 1>\u001b[0;34m()\u001b[0m\n\u001b[0;32m----> 1\u001b[0m FE \u001b[38;5;241m=\u001b[39m \u001b[43mFlowEmbedder\u001b[49m\u001b[43m(\u001b[49m\u001b[43mX\u001b[49m\u001b[43m,\u001b[49m\n\u001b[1;32m      2\u001b[0m \u001b[43m                  \u001b[49m\u001b[43mflows\u001b[49m\u001b[43m,\u001b[49m\n\u001b[1;32m      3\u001b[0m \u001b[43m                  \u001b[49m\u001b[43mFAShape\u001b[49m\u001b[38;5;241;43m=\u001b[39;49m\u001b[43m(\u001b[49m\u001b[38;5;241;43m2\u001b[39;49m\u001b[43m,\u001b[49m\u001b[43m \u001b[49m\u001b[38;5;241;43m4\u001b[39;49m\u001b[43m,\u001b[49m\u001b[43m \u001b[49m\u001b[38;5;241;43m8\u001b[39;49m\u001b[43m,\u001b[49m\u001b[43m \u001b[49m\u001b[38;5;241;43m4\u001b[39;49m\u001b[43m,\u001b[49m\u001b[43m \u001b[49m\u001b[38;5;241;43m2\u001b[39;49m\u001b[43m)\u001b[49m\u001b[43m,\u001b[49m\n\u001b[1;32m      4\u001b[0m \u001b[43m                  \u001b[49m\u001b[43mEncShape\u001b[49m\u001b[38;5;241;43m=\u001b[39;49m\u001b[43m(\u001b[49m\u001b[38;5;241;43m3\u001b[39;49m\u001b[43m,\u001b[49m\u001b[43m \u001b[49m\u001b[38;5;241;43m4\u001b[39;49m\u001b[43m,\u001b[49m\u001b[43m \u001b[49m\u001b[38;5;241;43m8\u001b[39;49m\u001b[43m,\u001b[49m\u001b[43m \u001b[49m\u001b[38;5;241;43m4\u001b[39;49m\u001b[43m,\u001b[49m\u001b[43m \u001b[49m\u001b[38;5;241;43m2\u001b[39;49m\u001b[43m)\u001b[49m\u001b[43m,\u001b[49m\n\u001b[1;32m      5\u001b[0m \u001b[43m                  \u001b[49m\u001b[43mknn\u001b[49m\u001b[43m \u001b[49m\u001b[38;5;241;43m=\u001b[39;49m\u001b[43m \u001b[49m\u001b[38;5;241;43m10\u001b[39;49m\u001b[43m,\u001b[49m\n\u001b[1;32m      6\u001b[0m \u001b[43m                  \u001b[49m\u001b[43mdevice\u001b[49m\u001b[43m \u001b[49m\u001b[38;5;241;43m=\u001b[39;49m\u001b[43m \u001b[49m\u001b[43mdevice\u001b[49m\u001b[43m)\u001b[49m\u001b[38;5;241m.\u001b[39mto(device)\n",
      "Input \u001b[0;32mIn [19]\u001b[0m, in \u001b[0;36mFlowEmbedder.__init__\u001b[0;34m(self, X, flows, sigma_graph, flow_strength_graph, embedding_dimension, learning_rate, FAShape, EncShape, decoder, labels, loss_weights, knn, device)\u001b[0m\n\u001b[1;32m     45\u001b[0m \u001b[38;5;28mself\u001b[39m\u001b[38;5;241m.\u001b[39mdevice \u001b[38;5;241m=\u001b[39m device\n\u001b[1;32m     47\u001b[0m \u001b[38;5;66;03m# Affinity Matrix in Ambient Space\u001b[39;00m\n\u001b[0;32m---> 48\u001b[0m \u001b[38;5;28mself\u001b[39m\u001b[38;5;241m.\u001b[39mP_graph \u001b[38;5;241m=\u001b[39m \u001b[43maffinity_matrix_from_pointset_to_pointset\u001b[49m\u001b[43m(\u001b[49m\n\u001b[1;32m     49\u001b[0m \u001b[43m    \u001b[49m\u001b[43mX\u001b[49m\u001b[43m,\u001b[49m\u001b[43m \u001b[49m\u001b[43mX\u001b[49m\u001b[43m,\u001b[49m\u001b[43m \u001b[49m\u001b[43mflows\u001b[49m\u001b[43m,\u001b[49m\u001b[43m \u001b[49m\u001b[43msigma\u001b[49m\u001b[38;5;241;43m=\u001b[39;49m\u001b[43msigma_graph\u001b[49m\u001b[43m,\u001b[49m\u001b[43m \u001b[49m\u001b[43mflow_strength\u001b[49m\u001b[38;5;241;43m=\u001b[39;49m\u001b[43mflow_strength_graph\u001b[49m\n\u001b[1;32m     50\u001b[0m \u001b[43m\u001b[49m\u001b[43m)\u001b[49m\n\u001b[1;32m     51\u001b[0m \u001b[38;5;28mself\u001b[39m\u001b[38;5;241m.\u001b[39mP_graph \u001b[38;5;241m=\u001b[39m F\u001b[38;5;241m.\u001b[39mnormalize(\u001b[38;5;28mself\u001b[39m\u001b[38;5;241m.\u001b[39mP_graph, p\u001b[38;5;241m=\u001b[39m\u001b[38;5;241m1\u001b[39m, dim\u001b[38;5;241m=\u001b[39m\u001b[38;5;241m1\u001b[39m)\n\u001b[1;32m     53\u001b[0m \u001b[38;5;66;03m# Ambient space points neighbors\u001b[39;00m\n",
      "Input \u001b[0;32mIn [3]\u001b[0m, in \u001b[0;36maffinity_matrix_from_pointset_to_pointset\u001b[0;34m(pointset1, pointset2, flows, n_neighbors, sigma, flow_strength)\u001b[0m\n\u001b[1;32m     23\u001b[0m P3 \u001b[38;5;241m=\u001b[39m P3\u001b[38;5;241m.\u001b[39mtranspose(\u001b[38;5;241m1\u001b[39m,\u001b[38;5;241m2\u001b[39m)\n\u001b[1;32m     24\u001b[0m \u001b[38;5;66;03m# dimension 1 represents directions to point i\u001b[39;00m\n\u001b[1;32m     25\u001b[0m \u001b[38;5;66;03m# dimension 2 represents direction from point j\u001b[39;00m\n\u001b[1;32m     26\u001b[0m \u001b[38;5;66;03m# dimension 3 represents direction in each dimension (R^n)\u001b[39;00m\n\u001b[1;32m     27\u001b[0m \u001b[38;5;66;03m# compute affinities from flows and directions\u001b[39;00m\n\u001b[0;32m---> 28\u001b[0m affinities \u001b[38;5;241m=\u001b[39m \u001b[43maffinity_from_flow\u001b[49m\u001b[43m(\u001b[49m\u001b[43mflows\u001b[49m\u001b[43m,\u001b[49m\u001b[43mP3\u001b[49m\u001b[43m,\u001b[49m\u001b[43msigma\u001b[49m\u001b[38;5;241;43m=\u001b[39;49m\u001b[43msigma\u001b[49m\u001b[43m,\u001b[49m\u001b[43mflow_strength\u001b[49m\u001b[38;5;241;43m=\u001b[39;49m\u001b[43mflow_strength\u001b[49m\u001b[43m)\u001b[49m\n\u001b[1;32m     29\u001b[0m \u001b[38;5;28;01mreturn\u001b[39;00m affinities\n",
      "Input \u001b[0;32mIn [2]\u001b[0m, in \u001b[0;36maffinity_from_flow\u001b[0;34m(flows, directions_array, flow_strength, sigma)\u001b[0m\n\u001b[1;32m     24\u001b[0m   directions_array \u001b[38;5;241m=\u001b[39m directions_array[:,\u001b[38;5;28;01mNone\u001b[39;00m] \n\u001b[1;32m     25\u001b[0m \u001b[38;5;66;03m# scale directions to have same norm as flow\u001b[39;00m\n\u001b[1;32m     26\u001b[0m \u001b[38;5;66;03m# scaled_directions = normed_directions * flow_lengths[:,None].repeat(directions_array.shape[0],1,directions_array.shape[2])\u001b[39;00m\n\u001b[1;32m     27\u001b[0m \u001b[38;5;66;03m# compute dot products as matrix multiplication\u001b[39;00m\n\u001b[0;32m---> 28\u001b[0m dot_products \u001b[38;5;241m=\u001b[39m (\u001b[43mnormed_directions\u001b[49m\u001b[43m \u001b[49m\u001b[38;5;241;43m*\u001b[39;49m\u001b[43m \u001b[49m\u001b[43mflows\u001b[49m)\u001b[38;5;241m.\u001b[39msum(\u001b[38;5;241m-\u001b[39m\u001b[38;5;241m1\u001b[39m)\n\u001b[1;32m     29\u001b[0m \u001b[38;5;66;03m# take distance between flow projected onto direction and the direction\u001b[39;00m\n\u001b[1;32m     30\u001b[0m distance_from_flow \u001b[38;5;241m=\u001b[39m (torch\u001b[38;5;241m.\u001b[39mlinalg\u001b[38;5;241m.\u001b[39mnorm(flows,dim\u001b[38;5;241m=\u001b[39m\u001b[38;5;241m1\u001b[39m))\u001b[38;5;241m.\u001b[39mrepeat(n_directions,\u001b[38;5;241m1\u001b[39m) \u001b[38;5;241m-\u001b[39m dot_products\n",
      "\u001b[0;31mRuntimeError\u001b[0m: The size of tensor a (3) must match the size of tensor b (2) at non-singleton dimension 2"
     ]
    }
   ],
   "source": [
    "FE = FlowEmbedder(X,\n",
    "                  flows,\n",
    "                  FAShape=(2, 4, 8, 4, 2),\n",
    "                  EncShape=(3, 4, 8, 4, 2),\n",
    "                  knn = 10,\n",
    "                  device = device).to(device)"
   ]
  },
  {
   "cell_type": "code",
   "execution_count": null,
   "id": "fbd92ce5",
   "metadata": {},
   "outputs": [],
   "source": []
  }
 ],
 "metadata": {
  "kernelspec": {
   "display_name": "Python 3 (ipykernel)",
   "language": "python",
   "name": "python3"
  },
  "language_info": {
   "codemirror_mode": {
    "name": "ipython",
    "version": 3
   },
   "file_extension": ".py",
   "mimetype": "text/x-python",
   "name": "python",
   "nbconvert_exporter": "python",
   "pygments_lexer": "ipython3",
   "version": "3.9.13"
  }
 },
 "nbformat": 4,
 "nbformat_minor": 5
}
