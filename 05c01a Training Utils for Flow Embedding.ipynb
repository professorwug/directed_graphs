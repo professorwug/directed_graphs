{
 "cells": [
  {
   "cell_type": "code",
   "execution_count": null,
   "metadata": {},
   "outputs": [],
   "source": [
    "# default_exp flow_embedding_training_utils\n",
    "from nbdev.showdoc import *\n",
    "import numpy as np\n",
    "import matplotlib.pyplot as plt\n",
    "import torch\n",
    "import directed_graphs\n",
    "device = torch.device(\"cuda\" if torch.cuda.is_available() else \"cpu\")\n",
    "%load_ext autoreload\n",
    "%autoreload 2"
   ]
  },
  {
   "cell_type": "markdown",
   "metadata": {},
   "source": [
    "# Visualization Utils for the Flow Embedder\n",
    "\n",
    "In the quest to have maximum code separation, we're separating the of 05c's flow embedder into separate embedding and visualization schemes.\n",
    "\n",
    "This notebook will house barebones code to visualize the losses and embedded points of the MFE concurrently with training, as well as tools for saving and creating GIFs from the embedding trainings.\n",
    "\n",
    "A general philosophy here is to avoid printing ad naseum as much as possible, by compressing the form of information served to the most appropriate condensed form for efficient summarization."
   ]
  },
  {
   "cell_type": "markdown",
   "metadata": {},
   "source": [
    "We'll start with the meat and bones of the flow embedder: visualizing the embedded points, with a grid to visualize flow arrows."
   ]
  },
  {
   "cell_type": "code",
   "execution_count": null,
   "metadata": {},
   "outputs": [],
   "source": [
    "# export\n",
    "from directed_graphs.multiscale_flow_embedder import compute_grid\n",
    "device = torch.device(\"cuda\" if torch.has_cuda else \"cpu\")\n",
    "def visualize_points(embedded_points, flow_artist, labels = None, device = device):\n",
    "\t\t# computes grid around points\n",
    "\t\t# TODO: This might create CUDA errors\n",
    "\t\tgrid = compute_grid(embedded_points.to(device))\n",
    "\t\t# controls the x and y axes of the plot\n",
    "\t\t# linspace(min on axis, max on axis, spacing on plot -- large number = more field arrows)\n",
    "\t\tuv = flow_artist(grid).detach().cpu()\n",
    "\t\tu = uv[:,0].cpu()\n",
    "\t\tv = uv[:,1].cpu()\n",
    "\t\tx = grid.detach().cpu()[:,0]\n",
    "\t\ty = grid.detach().cpu()[:,1]\n",
    "\t\t# quiver \n",
    "\t\t# \tplots a 2D field of arrows\n",
    "\t\t# \tquiver([X, Y], U, V, [C], **kw); \n",
    "\t\t# \tX, Y define the arrow locations, U, V define the arrow directions, and C optionally sets the color.\n",
    "\t\tif labels is not None:\n",
    "\t\t\tsc = plt.scatter(embedded_points[:,0].detach().cpu(),embedded_points[:,1].detach().cpu(), c=labels)\n",
    "\t\t\tplt.legend()\n",
    "\t\telse:\n",
    "\t\t\tsc = plt.scatter(embedded_points[:,0].detach().cpu(),embedded_points[:,1].detach().cpu())\n",
    "\t\tplt.suptitle(\"Flow Embedding\")\n",
    "\t\tplt.quiver(x,y,u,v)\n",
    "\t\t# Display all open figures.\n",
    "\t\tplt.show()"
   ]
  },
  {
   "cell_type": "markdown",
   "metadata": {},
   "source": [
    "# Training Scheme\n",
    "\n",
    "This class will instantiate the Flow Embedder with preset parameters, and will train for a few hundred epochs while calling in these visualization functions, like swappable modules.\n",
    "\n",
    "The base class will take a list of visualization functions as input, and will iterate over them whenever it is called to visualize.\n",
    "\n",
    "Subsequent notebooks (05c0n) will inherit from this class."
   ]
  },
  {
   "cell_type": "code",
   "execution_count": null,
   "metadata": {},
   "outputs": [],
   "source": [
    "# export\n",
    "import torch.nn as nn\n",
    "import torch\n",
    "from directed_graphs.multiscale_flow_embedder import MultiscaleDiffusionFlowEmbedder\n",
    "\n",
    "class FETrainer(nn.Module):\n",
    "  def __init__(self, X, flows):\n",
    "    self.vizfiz = [\n",
    "      visualize_points,\n",
    "    ]\n",
    "    self.FE = MultiscaleDiffusionFlowEmbedder(\n",
    "      X = X,\n",
    "      flows = flows,\n",
    "      ts = (1, 2, 4, 8),\n",
    "      sigma_graph = 0.5,\n",
    "      flow_strength_graph = 5\n",
    "    )\n",
    "    self.epochs_between_visualization = 100\n",
    "    self.total_epochs = 10000\n",
    "  \n",
    "  def fit(self, X, flows):\n",
    "    for epoch_num in self.total_epochs // self.epochs_between_visualization:\n",
    "      FE.fit(n_steps = )\n",
    "    \n",
    "  def visualize(self):\n",
    "\n",
    "\n",
    "  "
   ]
  },
  {
   "cell_type": "code",
   "execution_count": null,
   "metadata": {},
   "outputs": [
    {
     "data": {
      "text/plain": [
       "667279"
      ]
     },
     "execution_count": null,
     "metadata": {},
     "output_type": "execute_result"
    }
   ],
   "source": [
    "10009195//15"
   ]
  },
  {
   "cell_type": "code",
   "execution_count": null,
   "metadata": {},
   "outputs": [],
   "source": []
  }
 ],
 "metadata": {
  "kernelspec": {
   "display_name": "Python 3.9.13 ('pyg_from_source')",
   "language": "python",
   "name": "python3"
  }
 },
 "nbformat": 4,
 "nbformat_minor": 2
}
