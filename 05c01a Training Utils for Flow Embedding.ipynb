{
 "cells": [
  {
   "cell_type": "code",
   "execution_count": null,
   "metadata": {},
   "outputs": [
    {
     "name": "stdout",
     "output_type": "stream",
     "text": [
      "The autoreload extension is already loaded. To reload it, use:\n",
      "  %reload_ext autoreload\n"
     ]
    }
   ],
   "source": [
    "# default_exp flow_embedding_training_utils\n",
    "from nbdev.showdoc import *\n",
    "import numpy as np\n",
    "import matplotlib.pyplot as plt\n",
    "import torch\n",
    "import directed_graphs\n",
    "device = torch.device(\"cuda\" if torch.cuda.is_available() else \"cpu\")\n",
    "%load_ext autoreload\n",
    "%autoreload 2"
   ]
  },
  {
   "cell_type": "markdown",
   "metadata": {},
   "source": [
    "# Visualization Utils for the Flow Embedder\n",
    "\n",
    "In the quest to have maximum code separation, we're separating the of 05c's flow embedder into separate embedding and visualization schemes.\n",
    "\n",
    "This notebook will house barebones code to visualize the losses and embedded points of the MFE concurrently with training, as well as tools for saving and creating GIFs from the embedding trainings.\n",
    "\n",
    "A general philosophy here is to avoid printing ad naseum as much as possible, by compressing the form of information served to the most appropriate condensed form for efficient summarization."
   ]
  },
  {
   "cell_type": "markdown",
   "metadata": {},
   "source": [
    "We'll start with the meat and bones of the flow embedder: visualizing the embedded points, with a grid to visualize flow arrows."
   ]
  },
  {
   "cell_type": "code",
   "execution_count": null,
   "metadata": {},
   "outputs": [],
   "source": [
    "# export\n",
    "from directed_graphs.multiscale_flow_embedder import compute_grid\n",
    "device = torch.device(\"cuda\" if torch.has_cuda else \"cpu\")\n",
    "def visualize_points(embedded_points, flow_artist, labels = None, device = device):\n",
    "\t\t# computes grid around points\n",
    "\t\t# TODO: This might create CUDA errors\n",
    "\t\tgrid = compute_grid(embedded_points.to(device))\n",
    "\t\t# controls the x and y axes of the plot\n",
    "\t\t# linspace(min on axis, max on axis, spacing on plot -- large number = more field arrows)\n",
    "\t\tuv = flow_artist(grid).detach().cpu()\n",
    "\t\tu = uv[:,0].cpu()\n",
    "\t\tv = uv[:,1].cpu()\n",
    "\t\tx = grid.detach().cpu()[:,0]\n",
    "\t\ty = grid.detach().cpu()[:,1]\n",
    "\t\t# quiver \n",
    "\t\t# \tplots a 2D field of arrows\n",
    "\t\t# \tquiver([X, Y], U, V, [C], **kw); \n",
    "\t\t# \tX, Y define the arrow locations, U, V define the arrow directions, and C optionally sets the color.\n",
    "\t\tif labels is not None:\n",
    "\t\t\tsc = plt.scatter(embedded_points[:,0].detach().cpu(),embedded_points[:,1].detach().cpu(), c=labels)\n",
    "\t\t\tplt.legend()\n",
    "\t\telse:\n",
    "\t\t\tsc = plt.scatter(embedded_points[:,0].detach().cpu(),embedded_points[:,1].detach().cpu())\n",
    "\t\tplt.suptitle(\"Flow Embedding\")\n",
    "\t\tplt.quiver(x,y,u,v)\n",
    "\t\t# Display all open figures.\n",
    "\t\tplt.show()"
   ]
  },
  {
   "cell_type": "code",
   "execution_count": null,
   "metadata": {},
   "outputs": [],
   "source": [
    "def visualize_loss(self, loss_type = \"total\"):\n",
    "\t\t# diffusion_loss,reconstruction_loss, smoothness_loss\n",
    "\t\tx = []\n",
    "\t\tk = \"\"\n",
    "\t\tlosses = {}\n",
    "\t\tfor key in self.losses.keys():\n",
    "\t\t\tlosses[key] = []\n",
    "\t\t\tk = key\n",
    "\t\tlosses[\"total\"] = []\n",
    "\t\tfor i in range(len(self.losses[\"diffusion\"])):\n",
    "\t\t\tx.append(i)\n",
    "\t\t\tfor key in self.losses.keys():\n",
    "\t\t\t\ttry:\n",
    "\t\t\t\t\tlosses[key].append(self.losses[key][i].detach().cpu().numpy())\n",
    "\t\t\t\texcept:\n",
    "\t\t\t\t\tlosses[key].append(0)\n",
    "\t\tif loss_type == \"all\":\n",
    "\t\t\tfor key in self.losses.keys():\n",
    "\t\t\t\tplt.plot(x, losses[key])\n",
    "\t\t\tplt.legend(self.losses.keys(), loc='upper right')\n",
    "\t\t\tplt.title(\"loss\")\n",
    "\t\telse:\n",
    "\t\t\tplt.plot(x, losses[loss_type])\n",
    "\t\t\tplt.title(loss_type)"
   ]
  },
  {
   "cell_type": "markdown",
   "metadata": {},
   "source": [
    "# Training Scheme\n",
    "\n",
    "This class will instantiate the Flow Embedder with preset parameters, and will train for a few hundred epochs while calling in these visualization functions, like swappable modules.\n",
    "\n",
    "The base class will take a list of visualization functions as input, and will iterate over them whenever it is called to visualize.\n",
    "\n",
    "Subsequent notebooks (05c0n) will inherit from this class."
   ]
  },
  {
   "cell_type": "code",
   "execution_count": null,
   "metadata": {},
   "outputs": [],
   "source": [
    "# export\n",
    "import torch.nn as nn\n",
    "import torch\n",
    "from directed_graphs.multiscale_flow_embedder import MultiscaleDiffusionFlowEmbedder\n",
    "\n",
    "class FETrainer(nn.Module):\n",
    "  def __init__(self, X, flows):\n",
    "    self.vizfiz = [\n",
    "      visualize_points,\n",
    "    ]\n",
    "    self.FE = MultiscaleDiffusionFlowEmbedder(\n",
    "      X = X,\n",
    "      flows = flows,\n",
    "      ts = (1, 2, 4, 8),\n",
    "      sigma_graph = 0.5,\n",
    "      flow_strength_graph = 5\n",
    "    )\n",
    "    self.epochs_between_visualization = 100\n",
    "    self.total_epochs = 10000\n",
    "  \n",
    "  def fit(self):\n",
    "    for epoch_num in self.total_epochs // self.epochs_between_visualization:\n",
    "      emb_X, emb_flows, losses = self.FE.fit(n_steps = self.epochs_between_visualization)\n",
    "      self.visualze(emb_X, emb_flows, losses)\n",
    "\n",
    "  def visualize(self, X, flows, losses):\n",
    "    for viz_f in self.vizfiz:\n",
    "      viz_f(X = X, flows = flows, losses = losses)\n",
    "      \n",
    "\n",
    "  "
   ]
  },
  {
   "cell_type": "code",
   "execution_count": null,
   "metadata": {},
   "outputs": [],
   "source": []
  }
 ],
 "metadata": {
  "kernelspec": {
   "display_name": "Python 3.9.13 ('pyg_from_source')",
   "language": "python",
   "name": "python3"
  }
 },
 "nbformat": 4,
 "nbformat_minor": 2
}
