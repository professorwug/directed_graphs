{
 "cells": [
  {
   "cell_type": "code",
   "execution_count": 1,
   "id": "67fd7595",
   "metadata": {},
   "outputs": [],
   "source": [
    "import torch"
   ]
  },
  {
   "cell_type": "code",
   "execution_count": 2,
   "id": "5351d241",
   "metadata": {},
   "outputs": [
    {
     "name": "stdout",
     "output_type": "stream",
     "text": [
      "tensor([[0., 0.],\n",
      "        [2., 0.],\n",
      "        [1., 1.],\n",
      "        [1., 0.]])\n"
     ]
    }
   ],
   "source": [
    "A = torch.Tensor([[0,0],[2,0],[1,1],[1,0]])\n",
    "n = A.shape[0]\n",
    "print(A)"
   ]
  },
  {
   "cell_type": "code",
   "execution_count": 3,
   "id": "b70068c0",
   "metadata": {},
   "outputs": [
    {
     "data": {
      "text/plain": [
       "tensor([[[0., 2., 1., 1.],\n",
       "         [0., 0., 1., 0.]],\n",
       "\n",
       "        [[0., 2., 1., 1.],\n",
       "         [0., 0., 1., 0.]],\n",
       "\n",
       "        [[0., 2., 1., 1.],\n",
       "         [0., 0., 1., 0.]],\n",
       "\n",
       "        [[0., 2., 1., 1.],\n",
       "         [0., 0., 1., 0.]]])"
      ]
     },
     "execution_count": 3,
     "metadata": {},
     "output_type": "execute_result"
    }
   ],
   "source": [
    "A1 = A.T.repeat(n,1,1)\n",
    "A1"
   ]
  },
  {
   "cell_type": "code",
   "execution_count": 4,
   "id": "e1c0e1d1",
   "metadata": {},
   "outputs": [
    {
     "data": {
      "text/plain": [
       "tensor([[[0., 0., 0., 0.],\n",
       "         [0., 0., 0., 0.]],\n",
       "\n",
       "        [[2., 2., 2., 2.],\n",
       "         [0., 0., 0., 0.]],\n",
       "\n",
       "        [[1., 1., 1., 1.],\n",
       "         [1., 1., 1., 1.]],\n",
       "\n",
       "        [[1., 1., 1., 1.],\n",
       "         [0., 0., 0., 0.]]])"
      ]
     },
     "execution_count": 4,
     "metadata": {},
     "output_type": "execute_result"
    }
   ],
   "source": [
    "A2 = A[:,:,None].repeat(1,1,n)\n",
    "A2"
   ]
  },
  {
   "cell_type": "code",
   "execution_count": 5,
   "id": "2a4f0055",
   "metadata": {},
   "outputs": [
    {
     "data": {
      "text/plain": [
       "tensor([[[ 0., -2., -1., -1.],\n",
       "         [ 0.,  0., -1.,  0.]],\n",
       "\n",
       "        [[ 2.,  0.,  1.,  1.],\n",
       "         [ 0.,  0., -1.,  0.]],\n",
       "\n",
       "        [[ 1., -1.,  0.,  0.],\n",
       "         [ 1.,  1.,  0.,  1.]],\n",
       "\n",
       "        [[ 1., -1.,  0.,  0.],\n",
       "         [ 0.,  0., -1.,  0.]]])"
      ]
     },
     "execution_count": 5,
     "metadata": {},
     "output_type": "execute_result"
    }
   ],
   "source": [
    "A3 = (A2-A1)\n",
    "A3"
   ]
  },
  {
   "cell_type": "code",
   "execution_count": 6,
   "id": "0171ea28",
   "metadata": {},
   "outputs": [
    {
     "data": {
      "text/plain": [
       "tensor([[[ 0.,  0.],\n",
       "         [-2.,  0.],\n",
       "         [-1., -1.],\n",
       "         [-1.,  0.]],\n",
       "\n",
       "        [[ 2.,  0.],\n",
       "         [ 0.,  0.],\n",
       "         [ 1., -1.],\n",
       "         [ 1.,  0.]],\n",
       "\n",
       "        [[ 1.,  1.],\n",
       "         [-1.,  1.],\n",
       "         [ 0.,  0.],\n",
       "         [ 0.,  1.]],\n",
       "\n",
       "        [[ 1.,  0.],\n",
       "         [-1.,  0.],\n",
       "         [ 0., -1.],\n",
       "         [ 0.,  0.]]])"
      ]
     },
     "execution_count": 6,
     "metadata": {},
     "output_type": "execute_result"
    }
   ],
   "source": [
    "A3 = A3.transpose(1,2)\n",
    "A3"
   ]
  },
  {
   "cell_type": "code",
   "execution_count": 7,
   "id": "701ea799",
   "metadata": {},
   "outputs": [
    {
     "data": {
      "text/plain": [
       "tensor([[0.0000, 2.0000, 1.4142, 1.0000],\n",
       "        [2.0000, 0.0000, 1.4142, 1.0000],\n",
       "        [1.4142, 1.4142, 0.0000, 1.0000],\n",
       "        [1.0000, 1.0000, 1.0000, 0.0000]])"
      ]
     },
     "execution_count": 7,
     "metadata": {},
     "output_type": "execute_result"
    }
   ],
   "source": [
    "length_of_directions = torch.linalg.norm(A3,dim=-1)\n",
    "length_of_directions"
   ]
  },
  {
   "cell_type": "code",
   "execution_count": 8,
   "id": "e770340a",
   "metadata": {},
   "outputs": [
    {
     "data": {
      "text/plain": [
       "tensor([[[ 0.0000,  0.0000],\n",
       "         [-1.0000,  0.0000],\n",
       "         [-0.7071, -0.7071],\n",
       "         [-1.0000,  0.0000]],\n",
       "\n",
       "        [[ 1.0000,  0.0000],\n",
       "         [ 0.0000,  0.0000],\n",
       "         [ 0.7071, -0.7071],\n",
       "         [ 1.0000,  0.0000]],\n",
       "\n",
       "        [[ 0.7071,  0.7071],\n",
       "         [-0.7071,  0.7071],\n",
       "         [ 0.0000,  0.0000],\n",
       "         [ 0.0000,  1.0000]],\n",
       "\n",
       "        [[ 1.0000,  0.0000],\n",
       "         [-1.0000,  0.0000],\n",
       "         [ 0.0000, -1.0000],\n",
       "         [ 0.0000,  0.0000]]])"
      ]
     },
     "execution_count": 8,
     "metadata": {},
     "output_type": "execute_result"
    }
   ],
   "source": [
    "import torch.nn.functional as F\n",
    "normed_directions = F.normalize(A3,dim=-1)\n",
    "normed_directions"
   ]
  },
  {
   "cell_type": "code",
   "execution_count": 10,
   "id": "0141c34b",
   "metadata": {},
   "outputs": [
    {
     "data": {
      "text/plain": [
       "tensor([[1., 0.],\n",
       "        [1., 0.],\n",
       "        [0., 1.],\n",
       "        [1., 0.]])"
      ]
     },
     "execution_count": 10,
     "metadata": {},
     "output_type": "execute_result"
    }
   ],
   "source": [
    "flows = torch.tensor([[1,0],[1,0],[0,1],[1,0]]).float()\n",
    "flows"
   ]
  },
  {
   "cell_type": "code",
   "execution_count": 11,
   "id": "8c8d5ad4",
   "metadata": {},
   "outputs": [
    {
     "data": {
      "text/plain": [
       "tensor([[[ 0.0000,  0.0000],\n",
       "         [-1.0000,  0.0000],\n",
       "         [-0.0000, -0.7071],\n",
       "         [-1.0000,  0.0000]],\n",
       "\n",
       "        [[ 1.0000,  0.0000],\n",
       "         [ 0.0000,  0.0000],\n",
       "         [ 0.0000, -0.7071],\n",
       "         [ 1.0000,  0.0000]],\n",
       "\n",
       "        [[ 0.7071,  0.0000],\n",
       "         [-0.7071,  0.0000],\n",
       "         [ 0.0000,  0.0000],\n",
       "         [ 0.0000,  0.0000]],\n",
       "\n",
       "        [[ 1.0000,  0.0000],\n",
       "         [-1.0000,  0.0000],\n",
       "         [ 0.0000, -1.0000],\n",
       "         [ 0.0000,  0.0000]]])"
      ]
     },
     "execution_count": 11,
     "metadata": {},
     "output_type": "execute_result"
    }
   ],
   "source": [
    "dot_products = normed_directions*flows\n",
    "dot_products"
   ]
  },
  {
   "cell_type": "code",
   "execution_count": 12,
   "id": "5dc08d28",
   "metadata": {},
   "outputs": [
    {
     "data": {
      "text/plain": [
       "tensor([[ 0.0000, -1.0000, -0.7071, -1.0000],\n",
       "        [ 1.0000,  0.0000, -0.7071,  1.0000],\n",
       "        [ 0.7071, -0.7071,  0.0000,  0.0000],\n",
       "        [ 1.0000, -1.0000, -1.0000,  0.0000]])"
      ]
     },
     "execution_count": 12,
     "metadata": {},
     "output_type": "execute_result"
    }
   ],
   "source": [
    "projections = dot_products.sum(-1)\n",
    "projections\n",
    "# rows = destination\n",
    "# columns = origin"
   ]
  },
  {
   "cell_type": "code",
   "execution_count": null,
   "id": "f652412f",
   "metadata": {},
   "outputs": [],
   "source": [
    "flow_mag = torch.linalg.norm(flows,dim=1)\n",
    "flow_mag"
   ]
  },
  {
   "cell_type": "code",
   "execution_count": null,
   "id": "02419a9d",
   "metadata": {},
   "outputs": [],
   "source": [
    "flow_mag_directions = flow_mag.repeat(n,1)\n",
    "flow_mag_directions"
   ]
  },
  {
   "cell_type": "code",
   "execution_count": null,
   "id": "c6744472",
   "metadata": {},
   "outputs": [],
   "source": []
  }
 ],
 "metadata": {
  "kernelspec": {
   "display_name": "Python 3 (ipykernel)",
   "language": "python",
   "name": "python3"
  },
  "language_info": {
   "codemirror_mode": {
    "name": "ipython",
    "version": 3
   },
   "file_extension": ".py",
   "mimetype": "text/x-python",
   "name": "python",
   "nbconvert_exporter": "python",
   "pygments_lexer": "ipython3",
   "version": "3.9.13"
  }
 },
 "nbformat": 4,
 "nbformat_minor": 5
}
