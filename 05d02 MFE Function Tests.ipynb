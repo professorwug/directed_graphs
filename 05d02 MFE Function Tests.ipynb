{
 "cells": [
  {
   "cell_type": "code",
   "execution_count": null,
   "id": "4eb53587",
   "metadata": {},
   "outputs": [],
   "source": [
    "import torch"
   ]
  },
  {
   "cell_type": "markdown",
   "id": "6cfb95ec",
   "metadata": {},
   "source": [
    "-----"
   ]
  },
  {
   "cell_type": "markdown",
   "id": "43707ff1",
   "metadata": {},
   "source": [
    "## Kernel"
   ]
  },
  {
   "cell_type": "markdown",
   "id": "8d37f3ff",
   "metadata": {},
   "source": [
    "affinity_from_flow() and affinity_matrix_from_pointset_to_pointset()"
   ]
  },
  {
   "cell_type": "code",
   "execution_count": null,
   "id": "9d45a894",
   "metadata": {},
   "outputs": [
    {
     "name": "stdout",
     "output_type": "stream",
     "text": [
      "tensor([[0., 0.],\n",
      "        [2., 0.],\n",
      "        [1., 1.],\n",
      "        [1., 0.]])\n"
     ]
    }
   ],
   "source": [
    "A = torch.Tensor([[0,0],[2,0],[1,1],[1,0]])\n",
    "n = A.shape[0]\n",
    "print(A)"
   ]
  },
  {
   "cell_type": "code",
   "execution_count": null,
   "id": "ad0b37a5",
   "metadata": {},
   "outputs": [
    {
     "data": {
      "text/plain": [
       "tensor([[[0., 2., 1., 1.],\n",
       "         [0., 0., 1., 0.]],\n",
       "\n",
       "        [[0., 2., 1., 1.],\n",
       "         [0., 0., 1., 0.]],\n",
       "\n",
       "        [[0., 2., 1., 1.],\n",
       "         [0., 0., 1., 0.]],\n",
       "\n",
       "        [[0., 2., 1., 1.],\n",
       "         [0., 0., 1., 0.]]])"
      ]
     },
     "execution_count": null,
     "metadata": {},
     "output_type": "execute_result"
    }
   ],
   "source": [
    "A1 = A.T.repeat(n,1,1)\n",
    "A1"
   ]
  },
  {
   "cell_type": "code",
   "execution_count": null,
   "id": "583e48bb",
   "metadata": {},
   "outputs": [
    {
     "data": {
      "text/plain": [
       "tensor([[[0., 0., 0., 0.],\n",
       "         [0., 0., 0., 0.]],\n",
       "\n",
       "        [[2., 2., 2., 2.],\n",
       "         [0., 0., 0., 0.]],\n",
       "\n",
       "        [[1., 1., 1., 1.],\n",
       "         [1., 1., 1., 1.]],\n",
       "\n",
       "        [[1., 1., 1., 1.],\n",
       "         [0., 0., 0., 0.]]])"
      ]
     },
     "execution_count": null,
     "metadata": {},
     "output_type": "execute_result"
    }
   ],
   "source": [
    "A2 = A[:,:,None].repeat(1,1,n)\n",
    "A2"
   ]
  },
  {
   "cell_type": "code",
   "execution_count": null,
   "id": "0aab3a3d",
   "metadata": {},
   "outputs": [
    {
     "data": {
      "text/plain": [
       "tensor([[[ 0., -2., -1., -1.],\n",
       "         [ 0.,  0., -1.,  0.]],\n",
       "\n",
       "        [[ 2.,  0.,  1.,  1.],\n",
       "         [ 0.,  0., -1.,  0.]],\n",
       "\n",
       "        [[ 1., -1.,  0.,  0.],\n",
       "         [ 1.,  1.,  0.,  1.]],\n",
       "\n",
       "        [[ 1., -1.,  0.,  0.],\n",
       "         [ 0.,  0., -1.,  0.]]])"
      ]
     },
     "execution_count": null,
     "metadata": {},
     "output_type": "execute_result"
    }
   ],
   "source": [
    "A3 = (A2-A1)\n",
    "A3"
   ]
  },
  {
   "cell_type": "code",
   "execution_count": null,
   "id": "887b24c8",
   "metadata": {},
   "outputs": [
    {
     "data": {
      "text/plain": [
       "tensor([[[ 0.,  0.],\n",
       "         [-2.,  0.],\n",
       "         [-1., -1.],\n",
       "         [-1.,  0.]],\n",
       "\n",
       "        [[ 2.,  0.],\n",
       "         [ 0.,  0.],\n",
       "         [ 1., -1.],\n",
       "         [ 1.,  0.]],\n",
       "\n",
       "        [[ 1.,  1.],\n",
       "         [-1.,  1.],\n",
       "         [ 0.,  0.],\n",
       "         [ 0.,  1.]],\n",
       "\n",
       "        [[ 1.,  0.],\n",
       "         [-1.,  0.],\n",
       "         [ 0., -1.],\n",
       "         [ 0.,  0.]]])"
      ]
     },
     "execution_count": null,
     "metadata": {},
     "output_type": "execute_result"
    }
   ],
   "source": [
    "A3 = A3.transpose(1,2)\n",
    "A3"
   ]
  },
  {
   "cell_type": "code",
   "execution_count": null,
   "id": "c2169832",
   "metadata": {},
   "outputs": [
    {
     "data": {
      "text/plain": [
       "tensor([[0.0000, 2.0000, 1.4142, 1.0000],\n",
       "        [2.0000, 0.0000, 1.4142, 1.0000],\n",
       "        [1.4142, 1.4142, 0.0000, 1.0000],\n",
       "        [1.0000, 1.0000, 1.0000, 0.0000]])"
      ]
     },
     "execution_count": null,
     "metadata": {},
     "output_type": "execute_result"
    }
   ],
   "source": [
    "length_of_directions = torch.linalg.norm(A3,dim=-1)\n",
    "length_of_directions"
   ]
  },
  {
   "cell_type": "code",
   "execution_count": null,
   "id": "7fcc0d43",
   "metadata": {},
   "outputs": [
    {
     "data": {
      "text/plain": [
       "tensor([[[ 0.0000,  0.0000],\n",
       "         [-1.0000,  0.0000],\n",
       "         [-0.7071, -0.7071],\n",
       "         [-1.0000,  0.0000]],\n",
       "\n",
       "        [[ 1.0000,  0.0000],\n",
       "         [ 0.0000,  0.0000],\n",
       "         [ 0.7071, -0.7071],\n",
       "         [ 1.0000,  0.0000]],\n",
       "\n",
       "        [[ 0.7071,  0.7071],\n",
       "         [-0.7071,  0.7071],\n",
       "         [ 0.0000,  0.0000],\n",
       "         [ 0.0000,  1.0000]],\n",
       "\n",
       "        [[ 1.0000,  0.0000],\n",
       "         [-1.0000,  0.0000],\n",
       "         [ 0.0000, -1.0000],\n",
       "         [ 0.0000,  0.0000]]])"
      ]
     },
     "execution_count": null,
     "metadata": {},
     "output_type": "execute_result"
    }
   ],
   "source": [
    "import torch.nn.functional as F\n",
    "normed_directions = F.normalize(A3,dim=-1)\n",
    "normed_directions"
   ]
  },
  {
   "cell_type": "code",
   "execution_count": null,
   "id": "5faf3111",
   "metadata": {},
   "outputs": [
    {
     "data": {
      "text/plain": [
       "tensor([[1., 0.],\n",
       "        [1., 0.],\n",
       "        [0., 2.],\n",
       "        [1., 0.]])"
      ]
     },
     "execution_count": null,
     "metadata": {},
     "output_type": "execute_result"
    }
   ],
   "source": [
    "flows = torch.tensor([[1,0],[1,0],[0,2],[1,0]]).float()\n",
    "flows"
   ]
  },
  {
   "cell_type": "code",
   "execution_count": null,
   "id": "5fc622c5",
   "metadata": {},
   "outputs": [
    {
     "data": {
      "text/plain": [
       "tensor([[[ 0.0000,  0.0000],\n",
       "         [-1.0000,  0.0000],\n",
       "         [-0.0000, -1.4142],\n",
       "         [-1.0000,  0.0000]],\n",
       "\n",
       "        [[ 1.0000,  0.0000],\n",
       "         [ 0.0000,  0.0000],\n",
       "         [ 0.0000, -1.4142],\n",
       "         [ 1.0000,  0.0000]],\n",
       "\n",
       "        [[ 0.7071,  0.0000],\n",
       "         [-0.7071,  0.0000],\n",
       "         [ 0.0000,  0.0000],\n",
       "         [ 0.0000,  0.0000]],\n",
       "\n",
       "        [[ 1.0000,  0.0000],\n",
       "         [-1.0000,  0.0000],\n",
       "         [ 0.0000, -2.0000],\n",
       "         [ 0.0000,  0.0000]]])"
      ]
     },
     "execution_count": null,
     "metadata": {},
     "output_type": "execute_result"
    }
   ],
   "source": [
    "dot_products = normed_directions*flows\n",
    "dot_products"
   ]
  },
  {
   "cell_type": "code",
   "execution_count": null,
   "id": "a0414558",
   "metadata": {},
   "outputs": [
    {
     "data": {
      "text/plain": [
       "tensor([[ 0.0000, -1.0000, -1.4142, -1.0000],\n",
       "        [ 1.0000,  0.0000, -1.4142,  1.0000],\n",
       "        [ 0.7071, -0.7071,  0.0000,  0.0000],\n",
       "        [ 1.0000, -1.0000, -2.0000,  0.0000]])"
      ]
     },
     "execution_count": null,
     "metadata": {},
     "output_type": "execute_result"
    }
   ],
   "source": [
    "projections = dot_products.sum(-1)\n",
    "projections\n",
    "# rows = destination\n",
    "# columns = origin"
   ]
  },
  {
   "cell_type": "code",
   "execution_count": null,
   "id": "ff77b871",
   "metadata": {},
   "outputs": [
    {
     "data": {
      "text/plain": [
       "tensor([1., 1., 2., 1.])"
      ]
     },
     "execution_count": null,
     "metadata": {},
     "output_type": "execute_result"
    }
   ],
   "source": [
    "flow_mag = torch.linalg.norm(flows,dim=1)\n",
    "flow_mag"
   ]
  },
  {
   "cell_type": "code",
   "execution_count": null,
   "id": "cd9df080",
   "metadata": {},
   "outputs": [
    {
     "data": {
      "text/plain": [
       "tensor([[1., 1., 2., 1.],\n",
       "        [1., 1., 2., 1.],\n",
       "        [1., 1., 2., 1.],\n",
       "        [1., 1., 2., 1.]])"
      ]
     },
     "execution_count": null,
     "metadata": {},
     "output_type": "execute_result"
    }
   ],
   "source": [
    "flow_mag_directions = flow_mag.repeat(n,1)\n",
    "flow_mag_directions"
   ]
  },
  {
   "cell_type": "code",
   "execution_count": null,
   "id": "75d6bfd4",
   "metadata": {},
   "outputs": [
    {
     "data": {
      "text/plain": [
       "tensor([[1.0000, 2.0000, 3.4142, 2.0000],\n",
       "        [0.0000, 1.0000, 3.4142, 0.0000],\n",
       "        [0.2929, 1.7071, 2.0000, 1.0000],\n",
       "        [0.0000, 2.0000, 4.0000, 1.0000]])"
      ]
     },
     "execution_count": null,
     "metadata": {},
     "output_type": "execute_result"
    }
   ],
   "source": [
    "cost_from_flow = flow_mag_directions - projections\n",
    "cost_from_flow = torch.abs(cost_from_flow)\n",
    "cost_from_flow"
   ]
  },
  {
   "cell_type": "code",
   "execution_count": null,
   "id": "3737e379",
   "metadata": {},
   "outputs": [
    {
     "data": {
      "text/plain": [
       "tensor([[1.0000, 2.0000, 1.7071, 1.0000],\n",
       "        [4.0000, 1.0000, 3.1213, 3.0000],\n",
       "        [4.8284, 4.8284, 2.0000, 5.0000],\n",
       "        [3.0000, 1.0000, 2.0000, 1.0000]])"
      ]
     },
     "execution_count": null,
     "metadata": {},
     "output_type": "execute_result"
    }
   ],
   "source": [
    "cost_with_flow = cost_from_flow + length_of_directions\n",
    "cost_with_flow = cost_with_flow.T\n",
    "cost_with_flow"
   ]
  },
  {
   "cell_type": "code",
   "execution_count": null,
   "id": "415eb977",
   "metadata": {},
   "outputs": [
    {
     "data": {
      "text/plain": [
       "tensor([[  2.7183,   7.3891,   5.5130,   2.7183],\n",
       "        [ 54.5981,   2.7183,  22.6763,  20.0855],\n",
       "        [125.0142, 125.0142,   7.3891, 148.4132],\n",
       "        [ 20.0855,   2.7183,   7.3891,   2.7183]])"
      ]
     },
     "execution_count": null,
     "metadata": {},
     "output_type": "execute_result"
    }
   ],
   "source": [
    "kernel = torch.exp(cost_with_flow)\n",
    "kernel"
   ]
  },
  {
   "cell_type": "markdown",
   "id": "a9c42ce0",
   "metadata": {},
   "source": [
    "---"
   ]
  },
  {
   "cell_type": "markdown",
   "id": "91fa192e",
   "metadata": {},
   "source": [
    "### MultiscaleDiffusionFlowEmbedder() Functions"
   ]
  },
  {
   "cell_type": "markdown",
   "id": "6ec1fec2",
   "metadata": {},
   "source": [
    "diffusion_loss()"
   ]
  },
  {
   "cell_type": "code",
   "execution_count": null,
   "id": "6fcf5ca6",
   "metadata": {},
   "outputs": [],
   "source": []
  }
 ],
 "metadata": {
  "kernelspec": {
   "display_name": "Python 3 (ipykernel)",
   "language": "python",
   "name": "python3"
  }
 },
 "nbformat": 4,
 "nbformat_minor": 5
}
