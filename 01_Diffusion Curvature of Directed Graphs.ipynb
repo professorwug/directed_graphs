{
 "cells": [
  {
   "cell_type": "code",
   "execution_count": null,
   "metadata": {},
   "outputs": [],
   "source": [
    "# default_exp curvature\n",
    "from nbdev.showdoc import *\n",
    "import numpy as np\n",
    "%load_ext autoreload\n",
    "%autoreload 2"
   ]
  },
  {
   "cell_type": "markdown",
   "metadata": {},
   "source": [
    "# Porting Diffusion Curvature to Directed Graphs\n",
    "\n",
    "First, let us address the obvious question: *what does curvature mean in a directed graph?* Dislodged from the comfortable basis of a Riemannian manifold, we are adrift from our classical intuitions. At most, directed graphs might be used to model flow on a manifold; but many directed graphs (like social networks) have no analog to a manifold, and hence no classical notions of curvature to rest upon.\n",
    "\n",
    "All the same, there are indications of curvature in networks which we can stand upon to build intuition:\n",
    "1. *Communities*: We should expect communities to exhibit positive curvature. Rays traced between friend groups should tend to converge, and resonate within the group (hence the phenomenon of the echo chamber).\n",
    "2. Influence: People of high influence within a social network.\n",
    "\n",
    "This notebook will document the effort to port Diffusion Curvature to directed graphs."
   ]
  },
  {
   "cell_type": "markdown",
   "metadata": {},
   "source": [
    "# Diffusion Curvature\n",
    "The chief difference between diffusion curvature in the directed graphs setting And the regular seven is the adjacency matrix of a directed graph is a symmetric. However, nothing about diffusion curvature requires symmetry, hence we must simply be a little careful with the definition of the diffusion matrix, taking pains not to divide by zero during normalization. This is handled by the diffusion matrix function in `utils.py`. Thus, we need only provide a wrapper around the diffusion curvature function in the `diffusion_curvature` package."
   ]
  },
  {
   "cell_type": "code",
   "execution_count": null,
   "metadata": {},
   "outputs": [
    {
     "ename": "",
     "evalue": "",
     "output_type": "error",
     "traceback": [
      "\u001b[1;31mThe Kernel crashed while executing code in the the current cell or a previous cell. Please review the code in the cell(s) to identify a possible cause of the failure. Click <a href='https://aka.ms/vscodeJupyterKernelCrash'>here</a> for more info. View Jupyter <a href='command:jupyter.viewOutput'>log</a> for further details."
     ]
    }
   ],
   "source": [
    "# export\n",
    "from directed_graphs.differentiable_laziness import curvature\n",
    "from directed_graphs.utils import diffusion_matrix_from_graph\n",
    "import warnings\n",
    "def diffusion_curvature(G = None, t = 8, A = None):\n",
    "  \"\"\"Computes diffusion curvature of graph (or raw adjacency matrix), with tunable parameter t\"\"\"\n",
    "  assert (G is not None) or (A is not None)\n",
    "  if G is not None:\n",
    "    P = diffusion_matrix_from_graph(G)\n",
    "  if A is not None:\n",
    "    P = diffusion_matrix_from_graph(A)\n",
    "  ks = curvature(P,t = t)\n",
    "  return ks"
   ]
  },
  {
   "cell_type": "markdown",
   "metadata": {},
   "source": [
    "## Testing on karate club"
   ]
  },
  {
   "cell_type": "code",
   "execution_count": null,
   "metadata": {},
   "outputs": [],
   "source": [
    "from torch_geometric.datasets import KarateClub"
   ]
  }
 ],
 "metadata": {
  "kernelspec": {
   "display_name": "Python 3.8.13 ('stable_graph')",
   "language": "python",
   "name": "python3"
  }
 },
 "nbformat": 4,
 "nbformat_minor": 2
}
