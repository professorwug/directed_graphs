{
 "cells": [
  {
   "cell_type": "code",
   "execution_count": null,
   "metadata": {},
   "outputs": [
    {
     "name": "stdout",
     "output_type": "stream",
     "text": [
      "The autoreload extension is already loaded. To reload it, use:\n",
      "  %reload_ext autoreload\n"
     ]
    }
   ],
   "source": [
    "# default_exp directed_diffusion_maps \n",
    "from nbdev.showdoc import *\n",
    "import numpy as np\n",
    "from sklearn.metrics import pairwise_distances\n",
    "%load_ext autoreload\n",
    "%autoreload 2"
   ]
  },
  {
   "cell_type": "markdown",
   "metadata": {},
   "source": [
    "# Perrault-Jonas2011's Directed Graph Embeddings\n",
    "### Re-implemented for benchmarking against our techniques\n",
    "\n",
    "[Perrault-Jonas 2011 - Directed Graph Embeddings](x-devonthink-item://58E9930C-8189-403E-8EF0-8D0D545EDA54) gives one compelling way to embed directed graphs. Whereas work on the Magnetic Laplacian and other means of working with directed graphs approaches the problem from a graph-theoretic viewpoint, Perrault and Jonas view the problem as a *manifold problem*: just as diffusion maps embed undirected graphs as if they are points drawn from a manifold, the proposed algorithm embeds points as if they come from a manifold covered by a flowing vector field.\n",
    "\n",
    "Think of it as diffusion maps for manifolds with flow.\n",
    "\n",
    "This approach has the merits of theoretical cleanliness, but inherits some practical issues from diffusion maps: \n",
    "\n",
    "1. The embedding of the points has *nothing to do* with the flow. Diffusion maps reproduce the manifold without any consideration of the directed information.\n",
    "\n",
    "2. Diffusion coordinates are not optimized for visualization. Diffusion vectors represent branches of the manifold, but each branch is given its own dimension."
   ]
  },
  {
   "cell_type": "code",
   "execution_count": null,
   "metadata": {},
   "outputs": [],
   "source": [
    "#export\n",
    "import logging\n",
    "def directed_diffusion_map(W, t = 1, kernel_type = \"anisotropic\", alpha = 0.5, sigma = \"automatic\", k = 10):\n",
    "  \n",
    "  Dists = distance_matrix(X)\n",
    "  if sigma == \"automatic\":\n",
    "    # Heuristic for sigma: median of the distance to the kth nearest neighbor\n",
    "    sigma = np.median(np.partition(Dists,k)[:,k])\n",
    "    print(\"using sigma = \",sigma)\n",
    "  W = anisotropic_kernel(Dists, sigma=sigma, alpha = alpha)\n",
    "  P_symmetric, D = diffusion_matrix(W, symmetric=True, return_degree=True)\n",
    "  diff_map = diffusion_coordinates(P_symmetric, D, t = t)\n",
    "  diff_map = diff_map[:,::-1]\n",
    "  diff_map = diff_map.T\n",
    "  return diff_map"
   ]
  }
 ],
 "metadata": {
  "kernelspec": {
   "display_name": "Python 3.9.13 ('pyg_from_source')",
   "language": "python",
   "name": "python3"
  }
 },
 "nbformat": 4,
 "nbformat_minor": 2
}
