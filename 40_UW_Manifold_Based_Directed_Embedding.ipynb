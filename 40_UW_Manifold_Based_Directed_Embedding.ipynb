{
 "cells": [
  {
   "cell_type": "code",
   "execution_count": null,
   "metadata": {},
   "outputs": [],
   "source": [
    "# default_exp directed_diffusion_maps \n",
    "from nbdev.showdoc import *\n",
    "import numpy as np\n",
    "from sklearn.metrics import pairwise_distances\n",
    "import numpy as np\n",
    "import scipy\n",
    "%load_ext autoreload\n",
    "%autoreload 2"
   ]
  },
  {
   "cell_type": "markdown",
   "metadata": {},
   "source": [
    "# Perrault-Jonas2011's Directed Graph Embeddings\n",
    "### Re-implemented for benchmarking against our techniques\n",
    "\n",
    "[Perrault-Jonas 2011 - Directed Graph Embeddings](x-devonthink-item://58E9930C-8189-403E-8EF0-8D0D545EDA54) gives one compelling way to embed directed graphs. Whereas work on the Magnetic Laplacian and other means of working with directed graphs approaches the problem from a graph-theoretic viewpoint, Perrault and Jonas view the problem as a *manifold problem*: just as diffusion maps embed undirected graphs as if they are points drawn from a manifold, the proposed algorithm embeds points as if they come from a manifold covered by a flowing vector field.\n",
    "\n",
    "Think of it as diffusion maps for manifolds with flow.\n",
    "\n",
    "This approach has the merits of theoretical cleanliness, but inherits some practical issues from diffusion maps: \n",
    "\n",
    "1. The embedding of the points has *nothing to do* with the flow. Diffusion maps reproduce the manifold without any consideration of the directed information.\n",
    "\n",
    "2. Diffusion coordinates are not optimized for visualization. Diffusion vectors represent branches of the manifold, but each branch is given its own dimension."
   ]
  },
  {
   "cell_type": "code",
   "execution_count": null,
   "metadata": {},
   "outputs": [],
   "source": [
    "#export\n",
    "import logging\n",
    "def directed_diffusion_map(W, t = 1, kernel_type = \"anisotropic\", alpha = 0.5, sigma = \"automatic\", k = 10):\n",
    "  \n",
    "  Dists = distance_matrix(X)\n",
    "  if sigma == \"automatic\":\n",
    "    # Heuristic for sigma: median of the distance to the kth nearest neighbor\n",
    "    sigma = np.median(np.partition(Dists,k)[:,k])\n",
    "    print(\"using sigma = \",sigma)\n",
    "  W = anisotropic_kernel(Dists, sigma=sigma, alpha = alpha)\n",
    "  P_symmetric, D = diffusion_matrix(W, symmetric=True, return_degree=True)\n",
    "  diff_map = diffusion_coordinates(P_symmetric, D, t = t)\n",
    "  diff_map = diff_map[:,::-1]\n",
    "  diff_map = diff_map.T\n",
    "  return diff_map"
   ]
  },
  {
   "cell_type": "markdown",
   "metadata": {},
   "source": [
    "## UW Directed Graph Embedding Algorithm"
   ]
  },
  {
   "cell_type": "markdown",
   "metadata": {},
   "source": [
    "![UW Directed Embedding Algorithm](./images/UW_directed_embedding_alg.png)"
   ]
  },
  {
   "cell_type": "code",
   "execution_count": null,
   "metadata": {},
   "outputs": [],
   "source": [
    "\"\"\"\n",
    "UW directed embedding algorithm\n",
    "input: W affinity matrix, m embedding dimension\n",
    "\"\"\"\n",
    "def UW_directed_embedding(W, m):\n",
    "    # steps 1-6 (estimate coordinates according to diffusion map)\n",
    "    # step 1\n",
    "    S = (W + np.transpose(W))/2 # symmetric affinity matrix\n",
    "\n",
    "    # step 2\n",
    "    q = [np.sum(row) for row in S]\n",
    "    Q = np.diag(q) # degree matrix\n",
    "\n",
    "    # step 3\n",
    "    Qinv = np.linalg.inv(Q)\n",
    "    V = Qinv@S@Qinv # anisotropic normalized affinity matrix\n",
    "\n",
    "    # step 4\n",
    "    q1 = [np.sum(row) for row in V]\n",
    "    Q1 = np.diag(q) # normalized degree matrix\n",
    "    Q1inv = np.linalg.inv(Q1) # \n",
    "    \n",
    "    # step 5\n",
    "    Hss = Q1inv@V # diffusion matrix (dividing affinity matrix by row sums)\n",
    "\n",
    "    # step 6\n",
    "    eig_vals, eig_vecs = np.linalg.eig(Hss)\n",
    "    idx = eig_vals.argsort()[::-1]   \n",
    "    eig_vals = eig_vals[idx]\n",
    "    eig_vecs = eig_vecs[:,idx]\n",
    "\n",
    "    phi = eig_vecs[:(m+1)] # first (m+1) right eigenvalues\n",
    "    coords = eig_vecs[:,1:(m+1)] # first m significant right eigenvectors (coordinates of points in embedding)\n",
    "    A = np.diag(eig_vals) # diagonal matrix of (m+1) significant eigenvalues\n",
    "\n",
    "\n",
    "    # step 7-8: estimate the density\n",
    "    evals, evecs = scipy.linalg.eig(Hss, left = True, right = False)\n",
    "    pi = evecs[np.where(evals == 1)] # left eigenvector of Hss with eigenvalue 1\n",
    "    density = pi/sum(pi) # normalize\n",
    "\n",
    "    # step 9-13: estimate vector field r\n",
    "    # step 9\n",
    "    p = [np.sum(row) for row in W]\n",
    "    P = np.diag(p)\n",
    "\n",
    "    # step 10\n",
    "    Pinv = np.linalg.inv(P)\n",
    "    T = Pinv@W@Pinv\n",
    "    p1 = [np.sum(row) for row in T]\n",
    "    P1 = np.diag(p1)\n",
    "\n",
    "    # step 11\n",
    "    P1inv = np.linalg.inv(P1)\n",
    "    Haa = P1@T\n",
    "    R = ((Haa - Hss)@phi)/2\n",
    "    fields = R[1:] # vector field components in the direction of the corresponding coordinates of the embedding\n",
    "\n",
    "    return coords, density, fields"
   ]
  },
  {
   "cell_type": "code",
   "execution_count": null,
   "metadata": {},
   "outputs": [
    {
     "data": {
      "image/png": "[encoded data removed]",
      "text/plain": [
       "<Figure size 432x288 with 1 Axes>"
      ]
     },
     "metadata": {},
     "output_type": "display_data"
    }
   ],
   "source": [
    "from directed_graphs.datasets import SmallRandom, visualize_graph, ChainGraph2, ChainGraph3\n",
    "import torch_geometric\n",
    "from torch_geometric.utils import to_networkx\n",
    "dataset = ChainGraph2(num_nodes=3)\n",
    "data = dataset[0]\n",
    "visualize_graph(data)"
   ]
  },
  {
   "cell_type": "code",
   "execution_count": null,
   "metadata": {},
   "outputs": [
    {
     "data": {
      "text/plain": [
       "<matplotlib.quiver.Quiver at 0x215bd93beb0>"
      ]
     },
     "execution_count": null,
     "metadata": {},
     "output_type": "execute_result"
    },
    {
     "data": {
      "image/png": "[encoded data removed]",
      "text/plain": [
       "<Figure size 432x288 with 1 Axes>"
      ]
     },
     "metadata": {
      "needs_background": "light"
     },
     "output_type": "display_data"
    }
   ],
   "source": [
    "W = [[0, 1, 0],\n",
    "     [0, 0, 1],\n",
    "     [1, 0, 0]]\n",
    "coords, density, fields = UW_directed_embedding(W, 2)\n",
    "\n",
    "x = [a[0] for a in coords]\n",
    "y = [a[1] for a in coords]\n",
    "plt.scatter(x, y)\n",
    "plt.quiver(x, y, fields[0], fields[1])"
   ]
  },
  {
   "cell_type": "code",
   "execution_count": null,
   "metadata": {},
   "outputs": [
    {
     "name": "stdout",
     "output_type": "stream",
     "text": [
      "[[ 0.07993158 -0.13258252  0.01325062]\n",
      " [ 0.20048443 -0.24879683  0.18060364]]\n"
     ]
    }
   ],
   "source": [
    "print(fields)"
   ]
  }
 ],
 "metadata": {
  "kernelspec": {
   "display_name": "Python 3.9.12 ('final')",
   "language": "python",
   "name": "python3"
  }
 },
 "nbformat": 4,
 "nbformat_minor": 2
}
