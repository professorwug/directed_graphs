{
 "cells": [
  {
   "cell_type": "code",
   "execution_count": null,
   "metadata": {},
   "outputs": [
    {
     "name": "stdout",
     "output_type": "stream",
     "text": [
      "The autoreload extension is already loaded. To reload it, use:\n",
      "  %reload_ext autoreload\n"
     ]
    }
   ],
   "source": [
    "# default_exp backwards\n",
    "# hide\n",
    "from nbdev.showdoc import *\n",
    "%load_ext autoreload\n",
    "%autoreload 2"
   ]
  },
  {
   "cell_type": "code",
   "execution_count": null,
   "metadata": {},
   "outputs": [],
   "source": [
    "from directed_graphs.datasets import DirectedStochasticBlockModelHelper, visualize_heatmap, visualize_graph\n",
    "import torch\n",
    "import numpy as np"
   ]
  },
  {
   "cell_type": "code",
   "execution_count": null,
   "metadata": {},
   "outputs": [],
   "source": [
    "num_clusters = 7\n",
    "num_nodes=5*num_clusters\n",
    "# create graph\n",
    "start = [0,1,0,3,4,3]\n",
    "end = [1,2,3,4,5,6]\n",
    "edge_index = torch.tensor([start, end])\n",
    "data = DirectedStochasticBlockModelHelper(num_nodes=num_nodes, num_clusters=7, edge_index=edge_index)[0]\n"
   ]
  },
  {
   "cell_type": "code",
   "execution_count": null,
   "metadata": {},
   "outputs": [],
   "source": [
    "# save the graph\n",
    "import os\n",
    "\n",
    "folder = \"trees\"\n",
    "file = \"rootedtree_7clusters_35nodes.pt\"\n",
    "\n",
    "if folder not in os.listdir():\n",
    "    os.makedirs(folder)\n",
    "\n",
    "torch.save(data, f\"{folder}/{file}\")"
   ]
  },
  {
   "cell_type": "code",
   "execution_count": null,
   "metadata": {},
   "outputs": [],
   "source": [
    "# load presaved data\n",
    "data = torch.load(\"trees/rootedtree_7clusters_35nodes.pt\")"
   ]
  },
  {
   "cell_type": "code",
   "execution_count": null,
   "metadata": {},
   "outputs": [
    {
     "data": {
      "image/png": "[encoded data removed]",
      "text/plain": [
       "<Figure size 432x288 with 1 Axes>"
      ]
     },
     "metadata": {
      "needs_background": "light"
     },
     "output_type": "display_data"
    }
   ],
   "source": [
    "visualize_heatmap(data.edge_index)"
   ]
  },
  {
   "cell_type": "code",
   "execution_count": null,
   "metadata": {},
   "outputs": [
    {
     "data": {
      "image/png": "[encoded data removed]",
      "text/plain": [
       "<Figure size 432x288 with 1 Axes>"
      ]
     },
     "metadata": {},
     "output_type": "display_data"
    }
   ],
   "source": [
    "from directed_graphs.datasets import visualize_edge_index\n",
    "visualizes_edge_index(num_clusters, edge_index)"
   ]
  },
  {
   "cell_type": "markdown",
   "metadata": {},
   "source": [
    "# Apply Backward node2vec"
   ]
  },
  {
   "cell_type": "code",
   "execution_count": null,
   "metadata": {},
   "outputs": [
    {
     "data": {
      "application/vnd.jupyter.widget-view+json": {
       "model_id": "4da90da0f92c4b1da85d8a1061d11e32",
       "version_major": 2,
       "version_minor": 0
      },
      "text/plain": [
       "Computing transition probabilities:   0%|          | 0/35 [00:00<?, ?it/s]"
      ]
     },
     "metadata": {},
     "output_type": "display_data"
    },
    {
     "name": "stderr",
     "output_type": "stream",
     "text": [
      "Generating walks (CPU: 3): 100%|██████████| 250/250 [00:04<00:00, 50.76it/s]\n",
      "Generating walks (CPU: 1): 100%|██████████| 250/250 [00:04<00:00, 50.63it/s]\n",
      "Generating walks (CPU: 2): 100%|██████████| 250/250 [00:04<00:00, 50.27it/s] \n",
      "Generating walks (CPU: 4): 100%|██████████| 250/250 [00:04<00:00, 50.78it/s]\n"
     ]
    },
    {
     "name": "stdout",
     "output_type": "stream",
     "text": [
      "backward_discount = 0.1, dimension = 2, walk_length = 20, num_walks = 1000, window = 1\n"
     ]
    },
    {
     "data": {
      "text/plain": [
       "(35, 2)"
      ]
     },
     "execution_count": null,
     "metadata": {},
     "output_type": "execute_result"
    }
   ],
   "source": [
    "from torch_geometric.utils import to_networkx\n",
    "from directed_graphs.backwards import BackwardsNode2Vec\n",
    "from torch_geometric.utils import to_networkx\n",
    "\n",
    "G_nx = to_networkx(data, to_undirected=False)\n",
    "node2vec2_model = BackwardsNode2Vec(G_nx, backward_discount=0.1, dimensions=2, walk_length=20, num_walks=1000, workers=4)\n",
    "emb = node2vec2_model.get_embeddings(window=1)\n",
    "emb.shape"
   ]
  },
  {
   "cell_type": "code",
   "execution_count": null,
   "metadata": {},
   "outputs": [
    {
     "data": {
      "image/png": "[encoded data removed]",
      "text/plain": [
       "<Figure size 432x288 with 1 Axes>"
      ]
     },
     "metadata": {
      "needs_background": "light"
     },
     "output_type": "display_data"
    }
   ],
   "source": [
    "from directed_graphs.datasets import plot_embeddings\n",
    "plot_embeddings(emb, num_nodes, num_clusters)"
   ]
  },
  {
   "cell_type": "markdown",
   "metadata": {},
   "source": [
    "# Same data with regular node2vec"
   ]
  },
  {
   "cell_type": "code",
   "execution_count": null,
   "metadata": {},
   "outputs": [
    {
     "data": {
      "application/vnd.jupyter.widget-view+json": {
       "model_id": "8902a0df2fa740bfba75d65880d52936",
       "version_major": 2,
       "version_minor": 0
      },
      "text/plain": [
       "Computing transition probabilities:   0%|          | 0/35 [00:00<?, ?it/s]"
      ]
     },
     "metadata": {},
     "output_type": "display_data"
    },
    {
     "name": "stderr",
     "output_type": "stream",
     "text": [
      "Generating walks (CPU: 2): 100%|██████████| 250/250 [00:02<00:00, 108.73it/s]\n",
      "Generating walks (CPU: 1): 100%|██████████| 250/250 [00:02<00:00, 107.53it/s]\n",
      "Generating walks (CPU: 4): 100%|██████████| 250/250 [00:02<00:00, 108.72it/s]\n",
      "Generating walks (CPU: 3): 100%|██████████| 250/250 [00:02<00:00, 105.27it/s]\n"
     ]
    },
    {
     "name": "stdout",
     "output_type": "stream",
     "text": [
      "backward_discount = 0.0, dimension = 2, walk_length = 20, num_walks = 1000, window = 1\n"
     ]
    },
    {
     "data": {
      "text/plain": [
       "(35, 2)"
      ]
     },
     "execution_count": null,
     "metadata": {},
     "output_type": "execute_result"
    }
   ],
   "source": [
    "G_nx = to_networkx(data, to_undirected=False)\n",
    "node2vec2_model = BackwardsNode2Vec(G_nx, backward_discount=0.0, p=10, q=0.5, dimensions=2, walk_length=20, num_walks=1000, workers=4)\n",
    "emb = node2vec2_model.get_embeddings(window=1)\n",
    "emb.shape"
   ]
  },
  {
   "cell_type": "code",
   "execution_count": null,
   "metadata": {},
   "outputs": [
    {
     "data": {
      "image/png": "[encoded data removed]",
      "text/plain": [
       "<Figure size 432x288 with 1 Axes>"
      ]
     },
     "metadata": {
      "needs_background": "light"
     },
     "output_type": "display_data"
    }
   ],
   "source": [
    "plot_embeddings(emb, num_node=s, num_clusters)"
   ]
  },
  {
   "cell_type": "markdown",
   "metadata": {},
   "source": [
    "# Grid search for parameters\n",
    "Let's study the effects of different parameters: walk length, number of walks, neighborhood size, dimension of embedding, return parameter p, in-out parameter q."
   ]
  },
  {
   "cell_type": "code",
   "execution_count": null,
   "metadata": {},
   "outputs": [],
   "source": [
    "Ls = [1, 2, 5, 10, 15, 20] # walk lengths\n",
    "Ns = [10, 100, 500, 1000] # number of walks\n",
    "Cs = [1, 2, 5, 10, 15]\n",
    "Ds = [2, 10, 50, 64]\n",
    "ps = [2, 5, 10]\n",
    "qs = [0.5, 0.25]"
   ]
  }
 ],
 "metadata": {
  "kernelspec": {
   "display_name": "Python 3.10.4 ('plswork')",
   "language": "python",
   "name": "python3"
  }
 },
 "nbformat": 4,
 "nbformat_minor": 2
}
