{
 "cells": [
  {
   "cell_type": "code",
   "execution_count": null,
   "metadata": {},
   "outputs": [],
   "source": [
    "# default_exp backwards\n",
    "# hide\n",
    "from nbdev.showdoc import *\n",
    "%load_ext autoreload\n",
    "%autoreload 2"
   ]
  },
  {
   "cell_type": "code",
   "execution_count": null,
   "metadata": {},
   "outputs": [],
   "source": [
    "from directed_graphs.datasets import DirectedStochasticBlockModelHelper\n",
    "import torch\n",
    "\n",
    "num_clusters = 7\n",
    "num_nodes = 5*num_clusters\n",
    "\n",
    "edge_index = np.ndarray([[0,1,0,3,4,3], [1,2,4,4,5,6]])\n",
    "datasets = DirectedStochasticBlockModelHelper(num_nodes, num_clusters, edge_index, undir_prob=[0.8])\n"
   ]
  }
 ],
 "metadata": {
  "kernelspec": {
   "display_name": "Python 3.10.4 ('sumry-directed-graphs')",
   "language": "python",
   "name": "python3"
  }
 },
 "nbformat": 4,
 "nbformat_minor": 2
}
