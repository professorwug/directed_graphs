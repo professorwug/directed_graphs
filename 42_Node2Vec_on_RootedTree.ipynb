{
 "cells": [
  {
   "cell_type": "code",
   "execution_count": null,
   "metadata": {},
   "outputs": [],
   "source": [
    "# default_exp backwards\n",
    "# hide\n",
    "from nbdev.showdoc import *\n",
    "%load_ext autoreload\n",
    "%autoreload 2"
   ]
  },
  {
   "cell_type": "code",
   "execution_count": null,
   "metadata": {},
   "outputs": [
    {
     "ename": "NameError",
     "evalue": "name 'num_clusters' is not defined",
     "output_type": "error",
     "traceback": [
      "\u001b[0;31m---------------------------------------------------------------------------\u001b[0m",
      "\u001b[0;31mNameError\u001b[0m                                 Traceback (most recent call last)",
      "\u001b[1;32m/Users/joiazhang/Documents/GitHub/directed_graphs/42_Node2Vec_on_RootedTree.ipynb Cell 2'\u001b[0m in \u001b[0;36m<cell line: 1>\u001b[0;34m()\u001b[0m\n\u001b[0;32m----> <a href='vscode-notebook-cell:/Users/joiazhang/Documents/GitHub/directed_graphs/42_Node2Vec_on_RootedTree.ipynb#ch0000001?line=0'>1</a>\u001b[0m \u001b[39mfrom\u001b[39;00m \u001b[39mdirected_graphs\u001b[39;00m\u001b[39m.\u001b[39;00m\u001b[39mdatasets\u001b[39;00m \u001b[39mimport\u001b[39;00m DirectedStochasticBlockModelHelper, visualize_graph, visualize_heatmap\n\u001b[1;32m      <a href='vscode-notebook-cell:/Users/joiazhang/Documents/GitHub/directed_graphs/42_Node2Vec_on_RootedTree.ipynb#ch0000001?line=1'>2</a>\u001b[0m \u001b[39mimport\u001b[39;00m \u001b[39mtorch\u001b[39;00m\n\u001b[1;32m      <a href='vscode-notebook-cell:/Users/joiazhang/Documents/GitHub/directed_graphs/42_Node2Vec_on_RootedTree.ipynb#ch0000001?line=2'>3</a>\u001b[0m \u001b[39mimport\u001b[39;00m \u001b[39mnumpy\u001b[39;00m \u001b[39mas\u001b[39;00m \u001b[39mnp\u001b[39;00m\n",
      "File \u001b[0;32m~/Documents/GitHub/directed_graphs/directed_graphs/datasets.py:483\u001b[0m, in \u001b[0;36m<module>\u001b[0;34m\u001b[0m\n\u001b[1;32m    480\u001b[0m   data \u001b[39m=\u001b[39m Data(x\u001b[39m=\u001b[39mtorch\u001b[39m.\u001b[39meye(num_clusters), edge_index\u001b[39m=\u001b[39medge_index)\n\u001b[1;32m    481\u001b[0m   visualize_graph(data)\n\u001b[0;32m--> 483\u001b[0m visualize_edge_index(num_clusters, edge_index)\n",
      "\u001b[0;31mNameError\u001b[0m: name 'num_clusters' is not defined"
     ]
    }
   ],
   "source": [
    "from directed_graphs.datasets import DirectedStochasticBlockModelHelper\n",
    "import torch\n",
    "import numpy as np\n",
    "\n",
    "start = [0,1,0,3,4,3]\n",
    "end = [1,2,4,4,5,6]\n",
    "edge_index = np.ndarray([start, end])\n",
    "data = DirectedStochasticBlockModelHelper(num_nodes=35, num_clusters=7, edge_index=edge_index)[0]\n",
    "\n",
    "\n",
    "\n"
   ]
  },
  {
   "cell_type": "code",
   "execution_count": null,
   "metadata": {},
   "outputs": [],
   "source": []
  }
 ],
 "metadata": {
  "kernelspec": {
   "display_name": "Python 3.10.4 ('plswork')",
   "language": "python",
   "name": "python3"
  }
 },
 "nbformat": 4,
 "nbformat_minor": 2
}
