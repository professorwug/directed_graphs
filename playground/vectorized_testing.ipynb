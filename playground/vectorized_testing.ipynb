{
 "cells": [
  {
   "cell_type": "code",
   "execution_count": null,
   "metadata": {},
   "outputs": [],
   "source": [
    "import torch\n",
    "X = torch.tensor([\n",
    "  [1,2],\n",
    "  [2,4],\n",
    "  [3,8]\n",
    "])"
   ]
  },
  {
   "cell_type": "code",
   "execution_count": null,
   "metadata": {},
   "outputs": [
    {
     "data": {
      "text/plain": [
       "torch.Size([3, 3, 2])"
      ]
     },
     "execution_count": null,
     "metadata": {},
     "output_type": "execute_result"
    }
   ],
   "source": [
    "XX = X.repeat(3,1,1)\n",
    "XX.shape"
   ]
  },
  {
   "cell_type": "code",
   "execution_count": null,
   "metadata": {},
   "outputs": [
    {
     "data": {
      "text/plain": [
       "tensor([[[1, 2],\n",
       "         [2, 4],\n",
       "         [3, 8]],\n",
       "\n",
       "        [[1, 2],\n",
       "         [2, 4],\n",
       "         [3, 8]],\n",
       "\n",
       "        [[1, 2],\n",
       "         [2, 4],\n",
       "         [3, 8]]])"
      ]
     },
     "execution_count": null,
     "metadata": {},
     "output_type": "execute_result"
    }
   ],
   "source": [
    "XX"
   ]
  },
  {
   "cell_type": "code",
   "execution_count": null,
   "metadata": {},
   "outputs": [],
   "source": [
    "XXT = XX.transpose(0,1)"
   ]
  },
  {
   "cell_type": "code",
   "execution_count": null,
   "metadata": {},
   "outputs": [],
   "source": [
    "deltaX = XXT - XX"
   ]
  },
  {
   "cell_type": "code",
   "execution_count": null,
   "metadata": {},
   "outputs": [],
   "source": [
    "steps = XXT[None,:,:,:].repeat(4,1,1,1)"
   ]
  },
  {
   "cell_type": "code",
   "execution_count": null,
   "metadata": {},
   "outputs": [
    {
     "data": {
      "text/plain": [
       "torch.Size([4, 3, 3, 2])"
      ]
     },
     "execution_count": null,
     "metadata": {},
     "output_type": "execute_result"
    }
   ],
   "source": [
    "steps.shape"
   ]
  },
  {
   "cell_type": "code",
   "execution_count": null,
   "metadata": {},
   "outputs": [
    {
     "data": {
      "text/plain": [
       "tensor([[[1., 2.],\n",
       "         [1., 2.],\n",
       "         [1., 2.]],\n",
       "\n",
       "        [[2., 4.],\n",
       "         [2., 4.],\n",
       "         [2., 4.]],\n",
       "\n",
       "        [[3., 8.],\n",
       "         [3., 8.],\n",
       "         [3., 8.]]])"
      ]
     },
     "execution_count": null,
     "metadata": {},
     "output_type": "execute_result"
    }
   ],
   "source": [
    "XXT"
   ]
  },
  {
   "cell_type": "code",
   "execution_count": null,
   "metadata": {},
   "outputs": [
    {
     "data": {
      "text/plain": [
       "tensor([[[1., 2.],\n",
       "         [1., 2.],\n",
       "         [1., 2.]],\n",
       "\n",
       "        [[2., 4.],\n",
       "         [2., 4.],\n",
       "         [2., 4.]],\n",
       "\n",
       "        [[3., 8.],\n",
       "         [3., 8.],\n",
       "         [3., 8.]]])"
      ]
     },
     "execution_count": null,
     "metadata": {},
     "output_type": "execute_result"
    }
   ],
   "source": [
    "steps[2,:,:,:]"
   ]
  },
  {
   "cell_type": "code",
   "execution_count": null,
   "metadata": {},
   "outputs": [
    {
     "data": {
      "text/plain": [
       "torch.Size([4, 3, 3, 2])"
      ]
     },
     "execution_count": null,
     "metadata": {},
     "output_type": "execute_result"
    }
   ],
   "source": [
    "step_distances = deltaX[None,:,:,:].repeat(4,1,1,1)\n",
    "step_distances.shape"
   ]
  },
  {
   "cell_type": "code",
   "execution_count": null,
   "metadata": {},
   "outputs": [
    {
     "data": {
      "text/plain": [
       "torch.Size([4, 3, 3, 2])"
      ]
     },
     "execution_count": null,
     "metadata": {},
     "output_type": "execute_result"
    }
   ],
   "source": [
    "stepnums = torch.arange(4)[None,None,None,:].T.repeat(1,3,3,2)\n",
    "stepnums.shape"
   ]
  },
  {
   "cell_type": "code",
   "execution_count": null,
   "metadata": {},
   "outputs": [
    {
     "data": {
      "text/plain": [
       "tensor([[[[0, 0],\n",
       "          [0, 0],\n",
       "          [0, 0]],\n",
       "\n",
       "         [[0, 0],\n",
       "          [0, 0],\n",
       "          [0, 0]],\n",
       "\n",
       "         [[0, 0],\n",
       "          [0, 0],\n",
       "          [0, 0]]],\n",
       "\n",
       "\n",
       "        [[[1, 1],\n",
       "          [1, 1],\n",
       "          [1, 1]],\n",
       "\n",
       "         [[1, 1],\n",
       "          [1, 1],\n",
       "          [1, 1]],\n",
       "\n",
       "         [[1, 1],\n",
       "          [1, 1],\n",
       "          [1, 1]]],\n",
       "\n",
       "\n",
       "        [[[2, 2],\n",
       "          [2, 2],\n",
       "          [2, 2]],\n",
       "\n",
       "         [[2, 2],\n",
       "          [2, 2],\n",
       "          [2, 2]],\n",
       "\n",
       "         [[2, 2],\n",
       "          [2, 2],\n",
       "          [2, 2]]],\n",
       "\n",
       "\n",
       "        [[[3, 3],\n",
       "          [3, 3],\n",
       "          [3, 3]],\n",
       "\n",
       "         [[3, 3],\n",
       "          [3, 3],\n",
       "          [3, 3]],\n",
       "\n",
       "         [[3, 3],\n",
       "          [3, 3],\n",
       "          [3, 3]]]])"
      ]
     },
     "execution_count": null,
     "metadata": {},
     "output_type": "execute_result"
    }
   ],
   "source": [
    "stepnums"
   ]
  },
  {
   "cell_type": "code",
   "execution_count": null,
   "metadata": {},
   "outputs": [
    {
     "data": {
      "text/plain": [
       "tensor([[[[1, 1, 1, 1],\n",
       "          [2, 2, 2, 2]],\n",
       "\n",
       "         [[1, 1, 1, 1],\n",
       "          [2, 2, 2, 2]],\n",
       "\n",
       "         [[1, 1, 1, 1],\n",
       "          [2, 2, 2, 2]]],\n",
       "\n",
       "\n",
       "        [[[2, 2, 2, 2],\n",
       "          [4, 4, 4, 4]],\n",
       "\n",
       "         [[2, 2, 2, 2],\n",
       "          [4, 4, 4, 4]],\n",
       "\n",
       "         [[2, 2, 2, 2],\n",
       "          [4, 4, 4, 4]]],\n",
       "\n",
       "\n",
       "        [[[3, 3, 3, 3],\n",
       "          [8, 8, 8, 8]],\n",
       "\n",
       "         [[3, 3, 3, 3],\n",
       "          [8, 8, 8, 8]],\n",
       "\n",
       "         [[3, 3, 3, 3],\n",
       "          [8, 8, 8, 8]]]])"
      ]
     },
     "execution_count": null,
     "metadata": {},
     "output_type": "execute_result"
    }
   ],
   "source": [
    "steps"
   ]
  },
  {
   "cell_type": "code",
   "execution_count": null,
   "metadata": {},
   "outputs": [],
   "source": [
    "steps_to_take = step_distances * stepnums"
   ]
  },
  {
   "cell_type": "code",
   "execution_count": null,
   "metadata": {},
   "outputs": [
    {
     "data": {
      "text/plain": [
       "tensor([[[[  1,   1,   1,   1],\n",
       "          [  2,   2,   2,   2]],\n",
       "\n",
       "         [[  1,   0,  -1,  -2],\n",
       "          [  2,   0,  -2,  -4]],\n",
       "\n",
       "         [[  1,  -1,  -3,  -5],\n",
       "          [  2,  -4, -10, -16]]],\n",
       "\n",
       "\n",
       "        [[[  2,   3,   4,   5],\n",
       "          [  4,   6,   8,  10]],\n",
       "\n",
       "         [[  2,   2,   2,   2],\n",
       "          [  4,   4,   4,   4]],\n",
       "\n",
       "         [[  2,   1,   0,  -1],\n",
       "          [  4,   0,  -4,  -8]]],\n",
       "\n",
       "\n",
       "        [[[  3,   5,   7,   9],\n",
       "          [  8,  14,  20,  26]],\n",
       "\n",
       "         [[  3,   4,   5,   6],\n",
       "          [  8,  12,  16,  20]],\n",
       "\n",
       "         [[  3,   3,   3,   3],\n",
       "          [  8,   8,   8,   8]]]])"
      ]
     },
     "execution_count": null,
     "metadata": {},
     "output_type": "execute_result"
    }
   ],
   "source": [
    "pos = steps + steps_to_take\n",
    "pos"
   ]
  },
  {
   "cell_type": "code",
   "execution_count": null,
   "metadata": {},
   "outputs": [
    {
     "data": {
      "text/plain": [
       "tensor([[[  1,   2],\n",
       "         [ -1,  -2],\n",
       "         [ -3, -10]],\n",
       "\n",
       "        [[  4,   8],\n",
       "         [  2,   4],\n",
       "         [  0,  -4]],\n",
       "\n",
       "        [[  7,  20],\n",
       "         [  5,  16],\n",
       "         [  3,   8]]])"
      ]
     },
     "execution_count": null,
     "metadata": {},
     "output_type": "execute_result"
    }
   ],
   "source": [
    "pos[:,:,:,2]"
   ]
  },
  {
   "cell_type": "code",
   "execution_count": null,
   "metadata": {},
   "outputs": [],
   "source": [
    "pos_in = pos.transpose(2,3)"
   ]
  },
  {
   "cell_type": "code",
   "execution_count": null,
   "metadata": {},
   "outputs": [
    {
     "data": {
      "text/plain": [
       "torch.Size([3, 3, 4, 2])"
      ]
     },
     "execution_count": null,
     "metadata": {},
     "output_type": "execute_result"
    }
   ],
   "source": [
    "pos_in.shape"
   ]
  },
  {
   "cell_type": "code",
   "execution_count": null,
   "metadata": {},
   "outputs": [
    {
     "data": {
      "text/plain": [
       "tensor([[[1, 2],\n",
       "         [1, 2],\n",
       "         [1, 2]],\n",
       "\n",
       "        [[2, 4],\n",
       "         [2, 4],\n",
       "         [2, 4]],\n",
       "\n",
       "        [[3, 8],\n",
       "         [3, 8],\n",
       "         [3, 8]]])"
      ]
     },
     "execution_count": null,
     "metadata": {},
     "output_type": "execute_result"
    }
   ],
   "source": [
    "pos_in[:,:,0,:]"
   ]
  },
  {
   "cell_type": "code",
   "execution_count": null,
   "metadata": {},
   "outputs": [
    {
     "name": "stderr",
     "output_type": "stream",
     "text": [
      "/Users/adjourner/Projects/directed_graphs/directed_graphs/flow_embedding.py:57: UserWarning: Graph is not strongly connected. Embedding results are not guaranteed. Consider tweaking the constant for 'disconnected distance'.\n",
      "  warnings.warn(\"Graph is not strongly connected. Embedding results are not guaranteed. Consider tweaking the constant for 'disconnected distance'.\")\n"
     ]
    }
   ],
   "source": [
    "from directed_graphs.flow_embedding import FlowEmbedder\n",
    "from directed_graphs.datasets import SmallRandom, visualize_graph, ChainGraph\n",
    "import torch_geometric\n",
    "from torch_geometric.utils import to_networkx\n",
    "dataset = ChainGraph()\n",
    "data = dataset[0]\n",
    "fe = FlowEmbedder(data, \"euclidean\",1)"
   ]
  },
  {
   "cell_type": "code",
   "execution_count": null,
   "metadata": {},
   "outputs": [],
   "source": [
    "pos_in = pos_in.float()"
   ]
  },
  {
   "cell_type": "code",
   "execution_count": null,
   "metadata": {},
   "outputs": [],
   "source": [
    "flow_out = fe.flowfield(pos_in)"
   ]
  },
  {
   "cell_type": "code",
   "execution_count": null,
   "metadata": {},
   "outputs": [],
   "source": [
    "flow_out = flow_out.transpose(2,3)"
   ]
  },
  {
   "cell_type": "code",
   "execution_count": null,
   "metadata": {},
   "outputs": [
    {
     "data": {
      "text/plain": [
       "torch.Size([3, 3, 2, 4])"
      ]
     },
     "execution_count": null,
     "metadata": {},
     "output_type": "execute_result"
    }
   ],
   "source": [
    "flow_out.shape"
   ]
  },
  {
   "cell_type": "code",
   "execution_count": null,
   "metadata": {},
   "outputs": [
    {
     "data": {
      "text/plain": [
       "torch.Size([3, 3, 2])"
      ]
     },
     "execution_count": null,
     "metadata": {},
     "output_type": "execute_result"
    }
   ],
   "source": [
    "deltaX.shape"
   ]
  },
  {
   "cell_type": "code",
   "execution_count": null,
   "metadata": {},
   "outputs": [
    {
     "ename": "RuntimeError",
     "evalue": "contracted dimensions need to match, but first has size 2 in dim -2 and second has size 3 in dim 0",
     "output_type": "error",
     "traceback": [
      "\u001b[0;31m---------------------------------------------------------------------------\u001b[0m",
      "\u001b[0;31mRuntimeError\u001b[0m                              Traceback (most recent call last)",
      "\u001b[1;32mUntitled-1.ipynb Cell 26'\u001b[0m in \u001b[0;36m<cell line: 1>\u001b[0;34m()\u001b[0m\n\u001b[0;32m----> <a href='vscode-notebook-cell:Untitled-1.ipynb?jupyter-notebook#ch0000025untitled?line=0'>1</a>\u001b[0m torch\u001b[39m.\u001b[39;49mtensordot(flow_out,deltaX,dims\u001b[39m=\u001b[39;49m\u001b[39m2\u001b[39;49m)\n",
      "File \u001b[0;32m~/miniforge3/envs/pyg_from_source/lib/python3.9/site-packages/torch/functional.py:1064\u001b[0m, in \u001b[0;36mtensordot\u001b[0;34m(a, b, dims, out)\u001b[0m\n\u001b[1;32m   1061\u001b[0m     dims_b \u001b[39m=\u001b[39m \u001b[39mlist\u001b[39m(\u001b[39mrange\u001b[39m(dims))\n\u001b[1;32m   1063\u001b[0m \u001b[39mif\u001b[39;00m out \u001b[39mis\u001b[39;00m \u001b[39mNone\u001b[39;00m:\n\u001b[0;32m-> 1064\u001b[0m     \u001b[39mreturn\u001b[39;00m _VF\u001b[39m.\u001b[39;49mtensordot(a, b, dims_a, dims_b)  \u001b[39m# type: ignore[attr-defined]\u001b[39;00m\n\u001b[1;32m   1065\u001b[0m \u001b[39melse\u001b[39;00m:\n\u001b[1;32m   1066\u001b[0m     \u001b[39mreturn\u001b[39;00m _VF\u001b[39m.\u001b[39mtensordot(a, b, dims_a, dims_b, out\u001b[39m=\u001b[39mout)\n",
      "\u001b[0;31mRuntimeError\u001b[0m: contracted dimensions need to match, but first has size 2 in dim -2 and second has size 3 in dim 0"
     ]
    }
   ],
   "source": [
    "torch.tensordot(flow_out,deltaX,dims=2)"
   ]
  },
  {
   "cell_type": "code",
   "execution_count": null,
   "metadata": {},
   "outputs": [
    {
     "data": {
      "text/plain": [
       "torch.Size([3, 4, 3])"
      ]
     },
     "execution_count": null,
     "metadata": {},
     "output_type": "execute_result"
    }
   ],
   "source": [
    "a = torch.rand(3,3,2,4)\n",
    "b = torch.rand(3,3,2)\n",
    "c = torch.tensordot(a,b,dims=[[1,2],[0,1,2]])\n",
    "c.shape"
   ]
  },
  {
   "cell_type": "code",
   "execution_count": null,
   "metadata": {},
   "outputs": [
    {
     "data": {
      "text/plain": [
       "tensor([[[0.9905, 0.2605, 0.6550],\n",
       "         [0.1738, 0.8838, 0.5504],\n",
       "         [0.6923, 0.0247, 0.5766]],\n",
       "\n",
       "        [[0.3302, 0.1403, 0.8270],\n",
       "         [0.7124, 0.4523, 0.8484],\n",
       "         [0.6972, 0.2148, 0.3862]],\n",
       "\n",
       "        [[0.5117, 0.3420, 0.0667],\n",
       "         [0.1627, 0.5445, 0.0698],\n",
       "         [0.0639, 0.1406, 0.7387]],\n",
       "\n",
       "        [[0.3382, 0.0722, 0.4617],\n",
       "         [0.7326, 0.1880, 0.1645],\n",
       "         [0.1589, 0.3219, 0.6908]]])"
      ]
     },
     "execution_count": null,
     "metadata": {},
     "output_type": "execute_result"
    }
   ],
   "source": [
    "a[0,:,:,:,0]"
   ]
  },
  {
   "cell_type": "code",
   "execution_count": null,
   "metadata": {},
   "outputs": [
    {
     "data": {
      "text/plain": [
       "tensor([[0.5923, 0.1850, 0.3997],\n",
       "        [0.0681, 0.0649, 0.2206],\n",
       "        [0.9665, 0.8905, 0.9769]])"
      ]
     },
     "execution_count": null,
     "metadata": {},
     "output_type": "execute_result"
    }
   ],
   "source": [
    "b[:,:,0]"
   ]
  },
  {
   "cell_type": "code",
   "execution_count": null,
   "metadata": {},
   "outputs": [
    {
     "data": {
      "text/plain": [
       "tensor([[1.4605, 0.9869, 0.8526],\n",
       "        [0.7624, 1.3999, 1.2721],\n",
       "        [0.4276, 0.9280, 0.5488],\n",
       "        [0.6807, 1.1729, 0.8598]])"
      ]
     },
     "execution_count": null,
     "metadata": {},
     "output_type": "execute_result"
    }
   ],
   "source": [
    "c[:,:,0]"
   ]
  },
  {
   "cell_type": "code",
   "execution_count": null,
   "metadata": {},
   "outputs": [],
   "source": [
    "import torch\n",
    "embedded_points = torch.tensor([\n",
    "  [1,2],\n",
    "  [2,4],\n",
    "  [3,8]\n",
    "]).float()"
   ]
  },
  {
   "cell_type": "code",
   "execution_count": null,
   "metadata": {},
   "outputs": [
    {
     "data": {
      "text/plain": [
       "'torch.FloatTensor'"
      ]
     },
     "execution_count": null,
     "metadata": {},
     "output_type": "execute_result"
    }
   ],
   "source": [
    "embedded_points.type()"
   ]
  },
  {
   "cell_type": "code",
   "execution_count": null,
   "metadata": {},
   "outputs": [],
   "source": [
    "def cost_normalizer(dot):\n",
    "\t\treturn 3*torch.exp(dot)/((3 - 1) + torch.exp(dot))"
   ]
  },
  {
   "cell_type": "code",
   "execution_count": null,
   "metadata": {},
   "outputs": [],
   "source": [
    "nnodes = 3\n",
    "num_steps = 4\n",
    "embedding_dimension = 2\n",
    "embedding_D = torch.empty(nnodes,nnodes)\n",
    "# Find matrix of delta x\n",
    "XX = embedded_points.repeat(nnodes,1,1)\n",
    "XXT = XX.transpose(0,1)\n",
    "deltaX = XXT - XX\n",
    "# Discretize the line between the points \n",
    "# This is an array with copies of the points\n",
    "steps = XXT[None,:,:,:].repeat(num_steps,1,1,1)\n",
    "# Now add to this the distance travelled in each step\n",
    "stepnums = torch.arange(num_steps)[None,None,None,:].T.repeat(1,nnodes,nnodes,embedding_dimension)\n",
    "step_distances = deltaX[None,:,:,:].repeat(num_steps,1,1,1) * stepnums\n",
    "steps = steps + step_distances\n",
    "# Evaluate the flows at each step\n",
    "flows_per_step = fe.flowfield(steps)\n",
    "# Take the dot product between the flows per step and the delta x directions\n",
    "rdx = deltaX[None,:,:,:].repeat(num_steps,1,1,1)\n",
    "dots_with_flow = (rdx*flows_per_step).sum(-1)\n",
    "# Calculate cost based on dot products\n",
    "embedding_D = cost_normalizer(dots_with_flow)\n"
   ]
  },
  {
   "cell_type": "code",
   "execution_count": null,
   "metadata": {},
   "outputs": [
    {
     "data": {
      "text/plain": [
       "tensor([[[ 0.0000, -0.1583, -0.3225],\n",
       "         [ 0.2375,  0.0000, -0.3109],\n",
       "         [ 0.3695,  0.1996,  0.0000]],\n",
       "\n",
       "        [[ 0.0000, -0.1012,  0.2026],\n",
       "         [ 0.2531,  0.0000, -0.5354],\n",
       "         [ 0.0919,  0.0566,  0.0000]],\n",
       "\n",
       "        [[ 0.0000,  0.0471,  0.2875],\n",
       "         [ 0.2291,  0.0000, -0.0830],\n",
       "         [-0.0706, -0.0461,  0.0000]],\n",
       "\n",
       "        [[ 0.0000,  0.1327,  0.2686],\n",
       "         [ 0.1918,  0.0000,  0.1812],\n",
       "         [-0.1276, -0.0998,  0.0000]]], grad_fn=<SumBackward1>)"
      ]
     },
     "execution_count": null,
     "metadata": {},
     "output_type": "execute_result"
    }
   ],
   "source": [
    "dots_with_flow"
   ]
  },
  {
   "cell_type": "code",
   "execution_count": null,
   "metadata": {},
   "outputs": [
    {
     "data": {
      "text/plain": [
       "tensor([[ 0.0000, -0.0797,  0.4361],\n",
       "        [ 0.9116,  0.0000, -0.7481],\n",
       "        [ 0.2633,  0.1103,  0.0000]], grad_fn=<SumBackward1>)"
      ]
     },
     "execution_count": null,
     "metadata": {},
     "output_type": "execute_result"
    }
   ],
   "source": [
    "dots_with_flow.sum(0)"
   ]
  },
  {
   "cell_type": "code",
   "execution_count": null,
   "metadata": {},
   "outputs": [
    {
     "data": {
      "text/plain": [
       "tensor([[[1.0000, 0.8974, 0.7976],\n",
       "         [1.1641, 1.0000, 0.8044],\n",
       "         [1.2593, 1.1372, 1.0000]],\n",
       "\n",
       "        [[1.0000, 0.9337, 1.1393],\n",
       "         [1.1752, 1.0000, 0.6793],\n",
       "         [1.0622, 1.0381, 1.0000]],\n",
       "\n",
       "        [[1.0000, 1.0317, 1.1998],\n",
       "         [1.1581, 1.0000, 0.9455],\n",
       "         [0.9535, 0.9695, 1.0000]],\n",
       "\n",
       "        [[1.0000, 1.0903, 1.1863],\n",
       "         [1.1317, 1.0000, 1.1242],\n",
       "         [0.9168, 0.9346, 1.0000]]], grad_fn=<DivBackward0>)"
      ]
     },
     "execution_count": null,
     "metadata": {},
     "output_type": "execute_result"
    }
   ],
   "source": [
    "embedding_D"
   ]
  },
  {
   "cell_type": "code",
   "execution_count": null,
   "metadata": {},
   "outputs": [
    {
     "data": {
      "text/plain": [
       "torch.Size([4, 3, 3, 2])"
      ]
     },
     "execution_count": null,
     "metadata": {},
     "output_type": "execute_result"
    }
   ],
   "source": [
    "flows_per_step.shape"
   ]
  },
  {
   "cell_type": "code",
   "execution_count": null,
   "metadata": {},
   "outputs": [
    {
     "data": {
      "text/plain": [
       "torch.Size([3, 3, 2])"
      ]
     },
     "execution_count": null,
     "metadata": {},
     "output_type": "execute_result"
    }
   ],
   "source": [
    "deltaX.shape"
   ]
  },
  {
   "cell_type": "code",
   "execution_count": null,
   "metadata": {},
   "outputs": [
    {
     "data": {
      "text/plain": [
       "torch.Size([4, 3, 3])"
      ]
     },
     "execution_count": null,
     "metadata": {},
     "output_type": "execute_result"
    }
   ],
   "source": [
    "dot_products_with_flows = torch.tensordot(flows_per_step,deltaX,dims=[[2,3],[1,2]])\n",
    "dot_products_with_flows.shape"
   ]
  },
  {
   "cell_type": "code",
   "execution_count": null,
   "metadata": {},
   "outputs": [
    {
     "data": {
      "text/plain": [
       "tensor([[[-0.4808, -0.0059,  0.4867],\n",
       "         [-0.7859, -0.0734,  0.8593],\n",
       "         [-0.5393, -0.0297,  0.5691]],\n",
       "\n",
       "        [[ 0.1013,  0.3581,  0.3420],\n",
       "         [-1.1830, -0.2823,  0.9074],\n",
       "         [-0.4626, -0.1262,  0.1485]],\n",
       "\n",
       "        [[ 0.3346,  0.4114,  0.0528],\n",
       "         [-0.4853,  0.1462,  0.8426],\n",
       "         [-0.4087, -0.1822, -0.1166]],\n",
       "\n",
       "        [[ 0.4013,  0.3991, -0.0928],\n",
       "         [-0.0636,  0.3730,  0.7385],\n",
       "         [-0.3806, -0.2018, -0.2273]]], grad_fn=<ReshapeAliasBackward0>)"
      ]
     },
     "execution_count": null,
     "metadata": {},
     "output_type": "execute_result"
    }
   ],
   "source": [
    "dot_products_with_flows"
   ]
  },
  {
   "cell_type": "code",
   "execution_count": null,
   "metadata": {},
   "outputs": [
    {
     "data": {
      "text/plain": [
       "tensor([[[[ 0.1524,  0.0030],\n",
       "          [ 0.1524,  0.0030],\n",
       "          [ 0.1524,  0.0030]],\n",
       "\n",
       "         [[ 0.1641,  0.0367],\n",
       "          [ 0.1641,  0.0367],\n",
       "          [ 0.1641,  0.0367]],\n",
       "\n",
       "         [[ 0.1401,  0.0149],\n",
       "          [ 0.1401,  0.0149],\n",
       "          [ 0.1401,  0.0149]]],\n",
       "\n",
       "\n",
       "        [[[ 0.1524,  0.0030],\n",
       "          [ 0.1830, -0.0409],\n",
       "          [ 0.1943, -0.0985]],\n",
       "\n",
       "         [[ 0.1629,  0.0451],\n",
       "          [ 0.1641,  0.0367],\n",
       "          [ 0.2849,  0.0626]],\n",
       "\n",
       "         [[ 0.1282, -0.0274],\n",
       "          [ 0.1298, -0.0183],\n",
       "          [ 0.1401,  0.0149]]],\n",
       "\n",
       "\n",
       "        [[[ 0.1524,  0.0030],\n",
       "          [ 0.1754, -0.1113],\n",
       "          [ 0.1844, -0.1094]],\n",
       "\n",
       "         [[ 0.1557,  0.0367],\n",
       "          [ 0.1641,  0.0367],\n",
       "          [ 0.2467, -0.0409]],\n",
       "\n",
       "         [[ 0.1228, -0.0527],\n",
       "          [ 0.1246, -0.0427],\n",
       "          [ 0.1401,  0.0149]]],\n",
       "\n",
       "\n",
       "        [[[ 0.1524,  0.0030],\n",
       "          [ 0.1499, -0.1413],\n",
       "          [ 0.1853, -0.1065]],\n",
       "\n",
       "         [[ 0.1480,  0.0219],\n",
       "          [ 0.1641,  0.0367],\n",
       "          [ 0.1957, -0.0942]],\n",
       "\n",
       "         [[ 0.1210, -0.0616],\n",
       "          [ 0.1221, -0.0555],\n",
       "          [ 0.1401,  0.0149]]]], grad_fn=<AddBackward0>)"
      ]
     },
     "execution_count": null,
     "metadata": {},
     "output_type": "execute_result"
    }
   ],
   "source": [
    "flows_per_step"
   ]
  },
  {
   "cell_type": "code",
   "execution_count": null,
   "metadata": {},
   "outputs": [
    {
     "data": {
      "text/plain": [
       "torch.Size([4, 3, 3, 2])"
      ]
     },
     "execution_count": null,
     "metadata": {},
     "output_type": "execute_result"
    }
   ],
   "source": [
    "rdx = deltaX[None,:,:,:].repeat(4,1,1,1)\n",
    "rdx.shape"
   ]
  },
  {
   "cell_type": "code",
   "execution_count": null,
   "metadata": {},
   "outputs": [],
   "source": [
    "a = torch.rand(3,3,2)\n",
    "b = torch.rand(3,3,2)"
   ]
  },
  {
   "cell_type": "code",
   "execution_count": null,
   "metadata": {},
   "outputs": [
    {
     "data": {
      "text/plain": [
       "tensor([[[0.3343, 0.4113],\n",
       "         [0.2596, 0.6749],\n",
       "         [0.7037, 0.1405]],\n",
       "\n",
       "        [[0.4813, 0.7053],\n",
       "         [0.2458, 0.9340],\n",
       "         [0.6074, 0.0353]],\n",
       "\n",
       "        [[0.5028, 0.9178],\n",
       "         [0.8514, 0.8103],\n",
       "         [0.5991, 0.8338]]])"
      ]
     },
     "execution_count": null,
     "metadata": {},
     "output_type": "execute_result"
    }
   ],
   "source": [
    "a"
   ]
  },
  {
   "cell_type": "code",
   "execution_count": null,
   "metadata": {},
   "outputs": [
    {
     "data": {
      "text/plain": [
       "tensor([[[0.4312, 0.1273],\n",
       "         [0.1215, 0.2547],\n",
       "         [0.1485, 0.1774]],\n",
       "\n",
       "        [[0.1105, 0.8145],\n",
       "         [0.6118, 0.9752],\n",
       "         [0.5687, 0.7572]],\n",
       "\n",
       "        [[0.9022, 0.6650],\n",
       "         [0.5273, 0.7363],\n",
       "         [0.2966, 0.0496]]])"
      ]
     },
     "execution_count": null,
     "metadata": {},
     "output_type": "execute_result"
    }
   ],
   "source": [
    "b"
   ]
  },
  {
   "cell_type": "code",
   "execution_count": null,
   "metadata": {},
   "outputs": [
    {
     "data": {
      "text/plain": [
       "torch.Size([3, 3])"
      ]
     },
     "execution_count": null,
     "metadata": {},
     "output_type": "execute_result"
    }
   ],
   "source": [
    "c = torch.tensordot(a,b,dims=[[1,2],[1,2]])\n",
    "c.shape"
   ]
  },
  {
   "cell_type": "code",
   "execution_count": null,
   "metadata": {},
   "outputs": [
    {
     "data": {
      "text/plain": [
       "tensor([[0.1965, 0.2034, 0.1294],\n",
       "        [0.6277, 1.0612, 0.3722],\n",
       "        [1.0640, 1.0456, 0.2191]])"
      ]
     },
     "execution_count": null,
     "metadata": {},
     "output_type": "execute_result"
    }
   ],
   "source": [
    "(a*b).sum(dim=-1)"
   ]
  },
  {
   "cell_type": "code",
   "execution_count": null,
   "metadata": {},
   "outputs": [],
   "source": []
  }
 ],
 "metadata": {
  "kernelspec": {
   "display_name": "Python 3.9.13 ('pyg_from_source')",
   "language": "python",
   "name": "python3"
  }
 },
 "nbformat": 4,
 "nbformat_minor": 2
}
