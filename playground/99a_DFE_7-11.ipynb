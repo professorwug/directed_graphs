{
 "cells": [
  {
   "cell_type": "code",
   "execution_count": 1,
   "id": "d17b5c64",
   "metadata": {},
   "outputs": [],
   "source": [
    "import numpy as np\n",
    "import torch\n",
    "import torch.nn as nn"
   ]
  },
  {
   "cell_type": "markdown",
   "id": "6ff36696",
   "metadata": {},
   "source": [
    "# Network on 7/11"
   ]
  },
  {
   "cell_type": "markdown",
   "id": "bdf85164",
   "metadata": {},
   "source": [
    "### Affinity from Flow"
   ]
  },
  {
   "cell_type": "code",
   "execution_count": 2,
   "id": "07a003ed",
   "metadata": {},
   "outputs": [],
   "source": [
    "import torch.nn.functional as F\n",
    "def affinity_from_flow(flows, directions_array, flow_strength = 1, sigma=1):\n",
    "  \"\"\"Compute probabilities of transition in the given directions based on the flow. \n",
    "\n",
    "  Parameters\n",
    "  ----------\n",
    "  flows : torch tensor of shape n_points x n_dims\n",
    "      _description_\n",
    "  directions_array : torch tensor of shape n_directions x n_points x n_dims. Assumed to be normalized.\n",
    "      _description_\n",
    "  sigma : int, optional\n",
    "      kernel bandwidth, by default 1\n",
    "  returns (n_points)\n",
    "  \"\"\"\n",
    "  assert len(flows.shape) == 2 # flows should only have one dimension\n",
    "  assert len(directions_array.shape) > 1 and len(directions_array.shape) < 4\n",
    "  n_directions = directions_array.shape[0]\n",
    "  # Normalize directions\n",
    "  length_of_directions = torch.linalg.norm(directions_array,dim=-1)\n",
    "  normed_directions = F.normalize(directions_array,dim=-1)\n",
    "  # and normalize flows # TODO: Perhaps reconsider\n",
    "  # Calculate flow lengths, used to scale directions to flow\n",
    "  flow_lengths = torch.linalg.norm(flows,dim=-1)\n",
    "  if len(directions_array) == 1: # convert to 2d array if necessary\n",
    "    directions_array = directions_array[:,None] \n",
    "  # scale directions to have same norm as flow\n",
    "  # scaled_directions = normed_directions * flow_lengths[:,None].repeat(directions_array.shape[0],1,directions_array.shape[2])\n",
    "  # compute dot products as matrix multiplication\n",
    "  dot_products = (normed_directions * flows).sum(-1)\n",
    "  # take distance between flow projected onto direction and the direction\n",
    "  distance_from_flow = (torch.linalg.norm(flows,dim=1)).repeat(n_directions,1) - dot_products\n",
    "  # take absolute value\n",
    "  distance_from_flow = torch.abs(distance_from_flow)\n",
    "  # print('shape of dff',distance_from_flow.shape)\n",
    "  # add to this the length of each direction\n",
    "  distance_from_flow = flow_strength*distance_from_flow + length_of_directions\n",
    "  # put the points on rows, directions in columns\n",
    "  distance_from_flow = distance_from_flow.T\n",
    "  # take kernel of distances\n",
    "  kernel =  torch.exp(-distance_from_flow/sigma)\n",
    "  # normalize kernel\n",
    "  # kernel /= torch.sum(kernel,axis=1)\n",
    "  return kernel"
   ]
  },
  {
   "cell_type": "markdown",
   "id": "46fb3606",
   "metadata": {},
   "source": [
    "### Affinity Matrix from Pointset to Pointset"
   ]
  },
  {
   "cell_type": "code",
   "execution_count": 3,
   "id": "ac29bbff",
   "metadata": {},
   "outputs": [],
   "source": [
    "def affinity_matrix_from_pointset_to_pointset(pointset1, pointset2, flows,n_neighbors=None,sigma=0.5, flow_strength=1):\n",
    "  \"\"\"Compute affinity matrix between the points of pointset1 and pointset2, using the provided flow.\n",
    "\n",
    "  Parameters\n",
    "  ----------\n",
    "  pointset1 : torch tensor, n1 x d\n",
    "      The first pointset, to calculate affinities *from*\n",
    "  pointset2 : torch tensor, n2 x d\n",
    "      The second pointset, to calculate affinities *to* (from pointset1)\n",
    "  flow : a function that, when called at a point, gives the flow at that point\n",
    "  n_neighbors : number of neighbors to include in affinity computations. All neighbors beyond it are given affinity zero\n",
    "  (currently not implemented)\n",
    "\n",
    "  Returns:\n",
    "  Affinity matrix: torch tensor of shape n1 x n2\n",
    "  \"\"\"\n",
    "  # Calculate the directions from point i in pointset 1 to point j in pointset 2\n",
    "  n1 = pointset1.shape[0]\n",
    "  n2 = pointset2.shape[0]\n",
    "  P2 = pointset2[:,:,None].repeat(1,1,n1)\n",
    "  P1 = pointset1.T.repeat(n2,1,1)\n",
    "  P3 = (P2 - P1)\n",
    "  P3 = P3.transpose(1,2)\n",
    "  # compute affinities from flows and directions\n",
    "  affinities = affinity_from_flow(flows,P3,sigma=sigma,flow_strength=flow_strength)\n",
    "  return affinities"
   ]
  },
  {
   "cell_type": "markdown",
   "id": "6c4e065d",
   "metadata": {},
   "source": [
    "### Gaussian Vector Field"
   ]
  },
  {
   "cell_type": "code",
   "execution_count": 4,
   "id": "d80e8599",
   "metadata": {},
   "outputs": [],
   "source": [
    "class GaussianVectorField(nn.Module):\n",
    "  def __init__(self,n_dims, n_gaussians, device):\n",
    "    super(GaussianVectorField, self).__init__()\n",
    "    self.n_dims = n_dims\n",
    "    # each gaussian has a mean and a variance, which are initialized randomly, but\n",
    "    # are afterwards tuned by the network\n",
    "    self.means = torch.nn.Parameter(torch.rand(n_gaussians,n_dims)*8 - 4).to(device)\n",
    "    vecs = torch.randn(n_gaussians,n_dims)\n",
    "    \n",
    "    vecs = vecs / torch.linalg.norm(vecs, dim=1)[:,None]\n",
    "    self.vectors = torch.nn.Parameter(vecs).to(device)\n",
    "  def forward(self,points):\n",
    "    # evaluates the vector field at each point\n",
    "    # First, take distances between the points and the means\n",
    "    dist_between_pts_and_means = torch.cdist(points,self.means)\n",
    "    # print(\"distances between points and means\",dist_between_pts_and_means)\n",
    "    # apply kernel to this\n",
    "    # creates n_points x n_means array\n",
    "    kernel_from_mean = torch.exp(-(dist_between_pts_and_means**2))\n",
    "    # print(\"kernalized\",kernel_from_mean)\n",
    "    # multiply kernel value by vectors associated with each Gaussian\n",
    "    kernel_repeated = kernel_from_mean[:,:,None].repeat(1,1,self.n_dims)\n",
    "    # print('kernel repeated has shape',kernel_repeated.shape, 'and vecs has shape', self.vectors.shape)\n",
    "    kernel_times_vectors = kernel_repeated * self.vectors\n",
    "    # creates tensor of shape\n",
    "    # n_points x n_means x n_dims\n",
    "    # collapse along dim 1 to sum vectors along dimension\n",
    "    vector_field = kernel_times_vectors.sum(dim=1)\n",
    "    return vector_field"
   ]
  },
  {
   "cell_type": "markdown",
   "id": "be173143",
   "metadata": {},
   "source": [
    "### Anisotropic Kernel"
   ]
  },
  {
   "cell_type": "code",
   "execution_count": 5,
   "id": "08a77bbe",
   "metadata": {},
   "outputs": [],
   "source": [
    "def anisotropic_kernel(D, sigma=0.7, alpha = 1):\n",
    "  \"\"\"Computes anisotropic kernel of given distances matrix.\n",
    "\n",
    "  Parameters\n",
    "  ----------\n",
    "  D : ndarray or sparse\n",
    "  sigma : float, optional\n",
    "      Kernel bandwidth, by default 0.7\n",
    "  alpha : int, optional\n",
    "      Degree of density normalization, from 0 to 1; by default 1\n",
    "  This is a good function.\n",
    "  \"\"\"\n",
    "  W = torch.exp(-D**2/(2*sigma**2))\n",
    "  # Additional normalization step for density\n",
    "  D = torch.diag(1/(torch.sum(W,axis=1)**alpha)) \n",
    "  W = D @ W @ D\n",
    "  return W"
   ]
  },
  {
   "cell_type": "markdown",
   "id": "8c2d8f32",
   "metadata": {},
   "source": [
    "### Smoothness of Vector Field"
   ]
  },
  {
   "cell_type": "code",
   "execution_count": 6,
   "id": "5d863bd1",
   "metadata": {},
   "outputs": [],
   "source": [
    "def smoothness_of_vector_field(embedded_points, vector_field_function, device, grid_width = 20):\n",
    "  # find support of points\n",
    "  minx = (min(embedded_points[:,0])-1).detach().to(device)\n",
    "  maxx = (max(embedded_points[:,0])+1).detach().to(device)\n",
    "  miny = (min(embedded_points[:,1])-1).detach().to(device)\n",
    "  maxy = (max(embedded_points[:,1])+1).detach().to(device)\n",
    "  # form grid around points\n",
    "  x, y = torch.meshgrid(torch.linspace(minx,maxx,steps=grid_width),torch.linspace(miny,maxy,steps=grid_width))\n",
    "  xy_t = torch.concat([x[:,:,None],y[:,:,None]],dim=2).float()\n",
    "  xy_t = xy_t.reshape(grid_width**2,2).to(device)\n",
    "  # Compute distances between points\n",
    "  # TODO: Can compute A analytically for grid graph, don't need to run kernel\n",
    "  Dists = torch.cdist(xy_t,xy_t)\n",
    "  A = anisotropic_kernel(Dists)\n",
    "  # comment this out in production\n",
    "  # plt.imshow(A)\n",
    "  # Get degree matrix and build graph laplacian\n",
    "  D = A.sum(axis=1)\n",
    "  L = D - A\n",
    "  # compute vector field at each grid point\n",
    "  vecs = vector_field_function(xy_t)\n",
    "  x_vecs = vecs[:,0]\n",
    "  y_vecs = vecs[:,1]\n",
    "  # compute smoothness of each x and y and add them # TODO: There are other ways this could be done\n",
    "  x_smoothness = (x_vecs.T @ L @ x_vecs) #/ torch.linalg.norm(x_vecs)**2\n",
    "  y_smoothness = (y_vecs.T @ L @ y_vecs) #/ torch.linalg.norm(y_vecs)**2\n",
    "  total_smoothness = x_smoothness + y_smoothness\n",
    "  return total_smoothness"
   ]
  },
  {
   "cell_type": "markdown",
   "id": "362d199d",
   "metadata": {},
   "source": [
    "### Flow Artist"
   ]
  },
  {
   "cell_type": "code",
   "execution_count": 34,
   "id": "42d690b8",
   "metadata": {},
   "outputs": [],
   "source": [
    "import torch\n",
    "from torch import nn\n",
    "\n",
    "def FlowArtist(FA_type, dim, num_gauss, device):\n",
    "    \n",
    "    if FA_type == 0: # default = Gaussian model\n",
    "        FA = GaussianVectorField(dim,num_gauss, device=device).to(device)\n",
    "    elif FA_type == 1: # ReLu dim,2,4,8,4,2,dim\n",
    "        shape = [2,4,8,4,2]\n",
    "        FA = nn.Sequential(nn.Linear(self.embedding_dimension, shape[0]),\n",
    "                           nn.LeakyReLU(),\n",
    "                           nn.Linear(shape[0], shape[1]),\n",
    "                           nn.LeakyReLU(),\n",
    "                           nn.Linear(shape[1], shape[2]),\n",
    "                           nn.LeakyReLU(),\n",
    "                           nn.Linear(shape[2], shape[3]),\n",
    "                           nn.LeakyReLU(),\n",
    "                           nn.Linear(shape[3], shape[4]),\n",
    "                           nn.LeakyReLU(),\n",
    "                           nn.Linear(shape[4], self.embedding_dimension))\n",
    "    elif FA_type == 2: # ReLu dim,2,4,8,4,2,dim\n",
    "        shape = [2,4,8,4,2]\n",
    "        FA = nn.Sequential(nn.Linear(self.embedding_dimension, shape[0]),\n",
    "                           nn.tanh(),\n",
    "                           nn.Linear(shape[0], shape[1]),\n",
    "                           nn.tanh(),\n",
    "                           nn.Linear(shape[1], shape[2]),\n",
    "                           nn.tanh(),\n",
    "                           nn.Linear(shape[2], shape[3]),\n",
    "                           nn.tanh(),\n",
    "                           nn.Linear(shape[3], shape[4]),\n",
    "                           nn.tanh(),\n",
    "                           nn.Linear(shape[4], self.embedding_dimension))\n",
    "        \n",
    "    return FA"
   ]
  },
  {
   "cell_type": "code",
   "execution_count": 84,
   "id": "edbd4ee9",
   "metadata": {},
   "outputs": [],
   "source": [
    "import torch\n",
    "from torch import nn\n",
    "from collections import OrderedDict\n",
    "\n",
    "def FlowArtist(FA_type, device,dim = 2, num_gauss = 0, shape = [2,4,8,4,2]):\n",
    "\n",
    "    FA = nn.Sequential()\n",
    "    \n",
    "    if FA_type == \"gaussian\": # default = Gaussian model\n",
    "        device = self.device\n",
    "        FA = GaussianVectorField(dim,num_gauss, device=device).to(device)\n",
    "    elif FA_type == \"ReLU\": # ReLu\n",
    "        \n",
    "        d_len = len(shape)*2\n",
    "        d = OrderedDict()\n",
    "        d[str(0)] = nn.Linear(2, shape[0])\n",
    "        for i in range(1,d_len):\n",
    "            if i%2 == 1:\n",
    "                d[str(i)] = nn.LeakyReLU()\n",
    "            else:\n",
    "                d[str(i)] = nn.Linear(shape[int(i/2)-1], shape[int(i/2)])\n",
    "        d[str(i)] = nn.Linear(shape[len(shape)-1], 2)\n",
    "        \n",
    "        # create MLP\n",
    "        FA = nn.Sequential(d)\n",
    "        \n",
    "    elif FA_type == \"tanh\": # ReLu dim,2,4,8,4,2,dim\n",
    "        shape = [2,4,8,4,2]\n",
    "        FA = nn.Sequential(nn.Linear(dim, shape[0]),\n",
    "                           nn.tanh(),\n",
    "                           nn.Linear(shape[0], shape[1]),\n",
    "                           nn.tanh(),\n",
    "                           nn.Linear(shape[1], shape[2]),\n",
    "                           nn.tanh(),\n",
    "                           nn.Linear(shape[2], shape[3]),\n",
    "                           nn.tanh(),\n",
    "                           nn.Linear(shape[3], shape[4]),\n",
    "                           nn.tanh(),\n",
    "                           nn.Linear(shape[4], dim))\n",
    "        \n",
    "    return FA"
   ]
  },
  {
   "cell_type": "code",
   "execution_count": 67,
   "id": "3b069cb2",
   "metadata": {},
   "outputs": [
    {
     "name": "stdout",
     "output_type": "stream",
     "text": [
      "Sequential(\n",
      "  (1): Linear(in_features=2, out_features=2, bias=True)\n",
      "  (2): LeakyReLU(negative_slope=0.01)\n",
      "  (3): Conv2d(20, 64, kernel_size=(5, 5), stride=(1, 1))\n",
      "  (4): ReLU()\n",
      ")\n"
     ]
    }
   ],
   "source": [
    "d2 = OrderedDict([\n",
    "                  (\"1\", nn.Linear(2, 2)),\n",
    "                  (\"2\", nn.LeakyReLU()),\n",
    "                  (\"3\", nn.Conv2d(20,64,5)),\n",
    "                  (\"4\", nn.ReLU())\n",
    "                ])\n",
    "model = nn.Sequential(d2)\n",
    "\n",
    "print(model)"
   ]
  },
  {
   "cell_type": "code",
   "execution_count": 70,
   "id": "fa70c520",
   "metadata": {},
   "outputs": [
    {
     "name": "stdout",
     "output_type": "stream",
     "text": [
      "OrderedDict([('0', Linear(in_features=2, out_features=2, bias=True))])\n",
      "Sequential(\n",
      "  (0): Linear(in_features=2, out_features=2, bias=True)\n",
      "  (1): LeakyReLU(negative_slope=0.01)\n",
      "  (2): Linear(in_features=2, out_features=4, bias=True)\n",
      "  (3): LeakyReLU(negative_slope=0.01)\n",
      "  (4): Linear(in_features=4, out_features=8, bias=True)\n",
      "  (5): LeakyReLU(negative_slope=0.01)\n",
      "  (6): Linear(in_features=8, out_features=4, bias=True)\n",
      "  (7): LeakyReLU(negative_slope=0.01)\n",
      "  (8): Linear(in_features=4, out_features=2, bias=True)\n",
      "  (9): Linear(in_features=2, out_features=2, bias=True)\n",
      ")\n"
     ]
    }
   ],
   "source": [
    "shape = [2,4,8,4,2]\n",
    "d_len = len(shape)*2\n",
    "d = OrderedDict()\n",
    "d[str(0)] = nn.Linear(2, shape[0])\n",
    "print(d)\n",
    "for i in range(1,d_len):\n",
    "    if i%2 == 1:\n",
    "        d[str(i)] = nn.LeakyReLU()\n",
    "    else:\n",
    "        d[str(i)] = nn.Linear(shape[int(i/2)-1], shape[int(i/2)])\n",
    "d[str(i)] = nn.Linear(shape[len(shape)-1], 2)\n",
    "\n",
    "FA = nn.Sequential(d)"
   ]
  },
  {
   "cell_type": "markdown",
   "id": "aa92b784",
   "metadata": {},
   "source": [
    "### Main Diffusion Flow Embedder Class"
   ]
  },
  {
   "cell_type": "code",
   "execution_count": 154,
   "id": "56441c5c",
   "metadata": {},
   "outputs": [],
   "source": [
    "import torch\n",
    "from torch import nn\n",
    "import torch.nn.functional as F\n",
    "import torch_geometric\n",
    "from tqdm import trange\n",
    "import numpy as np\n",
    "import matplotlib.pyplot as plt\n",
    "\n",
    "class DiffusionFlowEmbedder(torch.nn.Module):\n",
    "\tdef __init__(self, \n",
    "\t\t\t\t\t\t\tX, \n",
    "\t\t\t\t\t\t\tflows, \n",
    "\t\t\t\t\t\t\tt = 1, \n",
    "\t\t\t\t\t\t\tsigma_graph = 0.5, \n",
    "\t\t\t\t\t\t\tsigma_embedding=0.5, \n",
    "\t\t\t\t\t\t\tembedding_dimension=2, \n",
    "\t\t\t\t\t\t\tdevice=torch.device('cpu'), \n",
    "\t\t\t\t\t\t\tautoencoder_shape = [10,10], \n",
    "\t\t\t\t\t\t\tflow_artist_shape = [30,20,10], \n",
    "\t\t\t\t\t\t\tflow_strength_graph=5, \n",
    "\t\t\t\t\t\t\tflow_strength_embedding=5, \n",
    "\t\t\t\t\t\t\tlearnable_flow_strength=True,\n",
    "\t\t\t\t\t\t\tmultiscale_loss=True,\n",
    "\t\t\t\t\t\t\tweight_of_flow = 0.5,\n",
    "\t\t\t\t\t\t\tlearning_rate = 1e-5,\n",
    "\t\t\t\t\t\t\tsmoothness = 1,\n",
    "\t\t\t\t\t\t\tembedding_bounds = 4,\n",
    "\t\t\t\t\t\t\tnum_gaussians = 25,\n",
    "\t\t\t\t\t\t\tlabels = None,\n",
    "\t\t\t\t\t\t\tFA_type = \"gaussian\"\n",
    "\t\t\t\t\t\t\t):\n",
    "\t\t\"\"\"Flow Embedding with diffusion\n",
    "\n",
    "\t\tParameters\n",
    "\t\t----------\n",
    "\t\tX : torch tensor n_points x n_dim\n",
    "\t\t\tdata matrix\n",
    "\t\tflows : torch tensor n_points x n_dim\n",
    "\t\t\tThe flow at each point\n",
    "\t\tt : int\n",
    "\t\t\tLoss is computed with the diffusion operator powered to this number\n",
    "\t\tsigma in [0,1]\n",
    "\t\t\tKernel bandwidth in the embedding\n",
    "\t\t\"\"\"\n",
    "\t\t# initialize parameters\n",
    "\t\tsuper(DiffusionFlowEmbedder, self).__init__()\n",
    "\t\tself.X = X\n",
    "\t\tself.ground_truth_flows = flows\n",
    "\t\tself.t = t\n",
    "\t\tself.sigma_embedding = sigma_embedding\n",
    "\t\tself.sigma_graph = sigma_graph\n",
    "\t\tself.nnodes = X.shape[0]\n",
    "\t\tself.data_dimension = X.shape[1]\n",
    "\t\tself.losses = []\n",
    "\t\tself.eps = 0.001\n",
    "\t\tself.weight_of_flow = weight_of_flow\n",
    "\t\tself.smoothness = smoothness\n",
    "\t\tself.embedding_bounds = embedding_bounds # will constrain embedding to live in -n, n in each dimension\n",
    "\t\tself.labels = labels\n",
    "\n",
    "\t\tif learnable_flow_strength:\n",
    "\t\t\tself.flow_strength = nn.Parameter(torch.tensor(flow_strength_embedding).float())\n",
    "\t\telse:\n",
    "\t\t\tself.flow_strength = flow_strength_embedding\n",
    "\n",
    "\t\tself.embedding_dimension = embedding_dimension\n",
    "\t\t# set device (used for shuffling points around during visualization)\n",
    "\t\tself.device = device\n",
    "\t\t# Compute P^t of the graph, the powered diffusion matrix\n",
    "\t\t# TODO: This can be optimized using landmarks, etc. For now it's straight sparse matrix multiplication\n",
    "\t\t# TODO: Migrate to a specialized function for dataset affinity calculation, with automatic kernel bandwidth selection, and the like\n",
    "\t\t\n",
    "\t\tself.P_graph = affinity_matrix_from_pointset_to_pointset(X,X,flows,sigma=sigma_graph,flow_strength=flow_strength_graph)\n",
    "\t\tself.P_graph = torch.diag(1/self.P_graph.sum(axis=1)) @ self.P_graph\n",
    "\t\tself.P_graph_t = torch.matrix_power(self.P_graph,self.t)\n",
    "\t\t# if not multiscale_loss:\n",
    "\t\t# \tself.P_graph_t = torch.matrix_power(self.P_graph,self.t)\n",
    "\t\t# else:\n",
    "\t\t# \tfor power in self.t:\n",
    "\t\t\n",
    "\t\t# Flow field\n",
    "\t\t# Initialize Flow Artist\n",
    "\t\tself.FlowArtist = FlowArtist(FA_type = FA_type, \n",
    "                                     dim = self.embedding_dimension, \n",
    "                                     num_gauss=num_gaussians,\n",
    "                                     device=device)\n",
    "\t\t# Gaussian model\n",
    "\t\t# self.FlowArtist = GaussianVectorField(embedding_dimension,num_gaussians, device=device).to(device)\n",
    "\t\t\n",
    "\n",
    "\t\t# self.FlowArtist = nn.Sequential(nn.Linear(self.embedding_dimension, flow_artist_shape[0]),\n",
    "\t\t#                        nn.LeakyReLU(),\n",
    "\t\t#                        nn.Linear(flow_artist_shape[0], flow_artist_shape[1]),\n",
    "\t\t#                        nn.LeakyReLU(),\n",
    "\t\t# \t\t\t\t\t\t\t\t\t\t\t nn.Linear(flow_artist_shape[1], flow_artist_shape[2]),\n",
    "\t\t#                        nn.LeakyReLU(),\n",
    "\t\t#                        nn.Linear(flow_artist_shape[2], self.embedding_dimension)\n",
    "\t\t# \t\t\t\t\t\t\t\t\t\t\t )\n",
    "\t\t# Autoencoder to embed the points into a low dimension\n",
    "\t\tself.encoder = nn.Sequential(nn.Linear(self.data_dimension, autoencoder_shape[0]),\n",
    "\t\t\t\t\t\t\t\t\t\t\t\t\t\t\tnn.LeakyReLU(),\n",
    "\t\t\t\t\t\t\t\t\t\t\t\t\t\t\tnn.Linear(autoencoder_shape[0], autoencoder_shape[1]),\n",
    "\t\t\t\t\t\t\t\t\t\t\t\t\t\t\tnn.LeakyReLU(),\n",
    "\t\t\t\t\t\t\t\t\t\t\t\t\t\t\tnn.Linear(autoencoder_shape[1], self.embedding_dimension))\n",
    "\t\tself.decoder = nn.Sequential(nn.Linear(self.embedding_dimension, autoencoder_shape[1]),\n",
    "\t\t\t\t\t\t\t\t\t\t\t\t\t\t\tnn.LeakyReLU(),\n",
    "\t\t\t\t\t\t\t\t\t\t\t\t\t\t\tnn.Linear(autoencoder_shape[1], autoencoder_shape[0]),\n",
    "\t\t\t\t\t\t\t\t\t\t\t\t\t\t\tnn.LeakyReLU(),\n",
    "\t\t\t\t\t\t\t\t\t\t\t\t\t\t\tnn.Linear(autoencoder_shape[0], self.data_dimension))\n",
    "\t\t# training ops\n",
    "\t\tself.KLD = nn.KLDivLoss(reduction='batchmean',log_target=False)\n",
    "\t\tself.MSE = nn.MSELoss()\n",
    "\t\t# testing\n",
    "\t\t# self.KLD = nn.NLLLoss()\n",
    "\t\tself.optim = torch.optim.Adam(self.parameters(), lr = learning_rate, )\n",
    "\t\t\t\t\t\t\t\t\t\n",
    "\n",
    "\tdef compute_embedding_P(self):\n",
    "\t\tA = affinity_matrix_from_pointset_to_pointset(self.embedded_points,self.embedded_points,flows = self.FlowArtist(self.embedded_points), sigma = self.sigma_embedding, flow_strength=self.flow_strength)\n",
    "\t\t# print(\"affinities \",A)\n",
    "\t\t# flow\n",
    "\t\tself.P_embedding = torch.diag(1/A.sum(axis=1)) @ A\n",
    "\t\t# power it\n",
    "\t\tself.P_embedding_t = torch.matrix_power(self.P_embedding,self.t)\n",
    "\n",
    "\tdef loss(self):\n",
    "\t\tself.embedded_points = self.encoder(self.X)\n",
    "\t\t# normalize embedded points to lie within -self.embedding_bounds, self.embedding_bounds\n",
    "\t\t# if any are trying to escape, constrain them to lie on the edges\n",
    "\t\tself.embedded_points[:,0][torch.abs(self.embedded_points[:,0]) > self.embedding_bounds] = self.embedding_bounds * (self.embedded_points[:,0][torch.abs(self.embedded_points[:,0]) > self.embedding_bounds])/torch.abs(self.embedded_points[:,0][torch.abs(self.embedded_points[:,0]) > self.embedding_bounds])\n",
    "\t\tself.embedded_points[:,1][torch.abs(self.embedded_points[:,1]) > self.embedding_bounds] = self.embedding_bounds * (self.embedded_points[:,1][torch.abs(self.embedded_points[:,1]) > self.embedding_bounds])/torch.abs(self.embedded_points[:,0][torch.abs(self.embedded_points[:,1]) > self.embedding_bounds])\n",
    "\t\t# print(self.embedded_points)\n",
    "\t\t# compute embedding diffusion matrix\n",
    "\t\tself.compute_embedding_P()\n",
    "\t\t# compute autoencoder loss\n",
    "\t\tX_reconstructed = self.decoder(self.embedded_points)\n",
    "\t\treconstruction_loss = self.MSE(X_reconstructed, self.X)\n",
    "\t\t# print(\"recon loss\",reconstruction_loss)\n",
    "\t\t# take KL divergence between it and actual P\n",
    "\t\t# print(\"embedding p\",self.P_embedding_t)\n",
    "\t\tlog_P_embedding_t = torch.log(self.P_embedding_t)\n",
    "\t\t# print(log_P_embedding_t)\n",
    "\t\tif log_P_embedding_t.is_sparse:\n",
    "\t\t\tdiffusion_loss = self.KLD(log_P_embedding_t.to_dense(),self.P_graph_t.to_dense())\n",
    "\t\telse:\n",
    "\t\t\tdiffusion_loss = self.KLD(log_P_embedding_t,self.P_graph_t)\n",
    "\t\t# print(\"diffusion loss is\",diffusion_loss)\n",
    "\t\tsmoothness_loss = self.smoothness*smoothness_of_vector_field(self.embedded_points,self.FlowArtist,device=self.device,grid_width=20)\n",
    "\t\tcost = self.weight_of_flow*diffusion_loss + (1 - self.weight_of_flow)*reconstruction_loss + smoothness_loss\n",
    "\t\t# print(f\"cost is KLD {diffusion_loss} with recon {reconstruction_loss}\")\n",
    "\t\tself.losses.append([diffusion_loss,reconstruction_loss, smoothness_loss])\n",
    "\t\treturn cost\n",
    "\n",
    "\n",
    "\tdef multiscale_loss(self):\n",
    "\t\tself.embedded_points = self.encoder(self.X)\n",
    "\t\t# print(self.embedded_points)\n",
    "\t\t# compute embedding diffusion matrix\n",
    "\t\tself.compute_embedding_P()\n",
    "\t\t# compute autoencoder loss\n",
    "\t\tX_reconstructed = self.decoder(self.embedded_points)\n",
    "\t\treconstruction_loss = self.MSE(X_reconstructed, self.X)\n",
    "\t\t# print(\"recon loss\",reconstruction_loss)\n",
    "\t\t# take KL divergence between it and actual P\n",
    "\t\t# print(\"embedding p\",self.P_embedding_t)\n",
    "\t\tlog_P_embedding_t = torch.log(self.P_embedding_t)\n",
    "\t\t# print(log_P_embedding_t)\n",
    "\t\tif log_P_embedding_t.is_sparse:\n",
    "\t\t\tdiffusion_loss = self.KLD(log_P_embedding_t.to_dense(),self.P_graph_t.to_dense())\n",
    "\t\telse:\n",
    "\t\t\tdiffusion_loss = self.KLD(log_P_embedding_t,self.P_graph_t)\n",
    "\t\t# print(\"diffusion loss is\",diffusion_loss)\n",
    "\t\tcost = self.weight_of_flow*diffusion_loss + (1 - self.weight_of_flow)*reconstruction_loss\n",
    "\t\t# print(f\"cost is KLD {diffusion_loss} with recon {reconstruction_loss}\")\n",
    "\t\tself.losses.append([diffusion_loss,reconstruction_loss,])\n",
    "\t\treturn cost\n",
    "\n",
    "\tdef visualize_points(self, labels = None):\n",
    "\t\t# controls the x and y axes of the plot\n",
    "\t\t# linspace(min on axis, max on axis, spacing on plot -- large number = more field arrows)\n",
    "\t\tif labels is None:\n",
    "\t\t\tlabels = self.labels\n",
    "\t\tminx = min(self.embedded_points[:,0].detach().cpu().numpy())-1\n",
    "\t\tmaxx = max(self.embedded_points[:,0].detach().cpu().numpy())+1\n",
    "\t\tminy = min(self.embedded_points[:,1].detach().cpu().numpy())-1\n",
    "\t\tmaxy = max(self.embedded_points[:,1].detach().cpu().numpy())+1\n",
    "\t\tnum_grid = 20\n",
    "\t\tx, y = np.meshgrid(np.linspace(minx,maxx,num_grid),np.linspace(miny,maxy,num_grid))\n",
    "\t\tx = torch.tensor(x,dtype=float).cpu()\n",
    "\t\ty = torch.tensor(y,dtype=float).cpu()\n",
    "\t\txy_t = torch.concat([x[:,:,None],y[:,:,None]],dim=2).float().to(self.device) # TODO: cuda/cpu issue\n",
    "\t\txy_t = xy_t.reshape(num_grid**2,2)\n",
    "\t\tuv = self.FlowArtist(xy_t).detach()\n",
    "\t\tu = uv[:,0].cpu()\n",
    "\t\tv = uv[:,1].cpu()\n",
    "\t\t\n",
    "\t\t# quiver \n",
    "\t\t# \tplots a 2D field of arrows\n",
    "\t\t# \tquiver([X, Y], U, V, [C], **kw); \n",
    "\t\t# \tX, Y define the arrow locations, U, V define the arrow directions, and C optionally sets the color.\n",
    "\t\tif labels is not None:\n",
    "\t\t\tsc = plt.scatter(self.embedded_points[:,0].detach().cpu(),self.embedded_points[:,1].detach().cpu(), c=labels)\n",
    "\t\t\tplt.legend()\n",
    "\t\telse:\n",
    "\t\t\tsc = plt.scatter(self.embedded_points[:,0].detach().cpu(),self.embedded_points[:,1].detach().cpu())\n",
    "\t\tplt.quiver(x,y,u,v)\n",
    "\t\t# Display all open figures.\n",
    "\t\tplt.show()\n",
    "\tdef visualize_diffusion_matrices(self):\n",
    "\t\tfig, axs = plt.subplots(1,2)\n",
    "\t\taxs[0].set_title(f\"Ambient $P^{self.t}$\")\n",
    "\t\taxs[0].imshow(self.P_graph_t.detach().cpu().numpy())\n",
    "\t\taxs[1].set_title(f\"Embedding $P^{self.t}$\")\n",
    "\t\taxs[1].imshow(self.P_embedding_t.detach().cpu().numpy())\n",
    "\t\tplt.show()\n",
    "        \n",
    "\tdef visualize_loss(self, loss_type = \"total\"):\n",
    "\t\t# diffusion_loss,reconstruction_loss, smoothness_loss\n",
    "\t\tx = []\n",
    "\t\tlosses = {}\n",
    "\t\tlosses[\"total\"] = []\n",
    "\t\tlosses[\"diffusion\"] = []\n",
    "\t\tlosses[\"reconstruction\"] = []\n",
    "\t\tlosses[\"smoothness\"] = []\n",
    "\t\tfor i in range(len(self.losses)):\n",
    "\t\t\tx.append(i)\n",
    "\t\t\tlosses[\"diffusion\"].append(dfe.losses[i][0].detach().cpu().numpy())\n",
    "\t\t\tlosses[\"reconstruction\"].append(dfe.losses[i][1].detach().cpu().numpy())\n",
    "\t\t\tlosses[\"smoothness\"].append(dfe.losses[i][2].detach().cpu().numpy())\n",
    "\t\t\tlosses[\"total\"].append(losses[\"diffusion\"][i] + losses[\"reconstruction\"][i] + losses[\"smoothness\"][i])\n",
    "\t\t\n",
    "\t\tif loss_type == \"all\":\n",
    "\t\t\tplt.plot(x, losses[\"total\"])\n",
    "\t\t\tplt.plot(x, losses[\"diffusion\"])\n",
    "\t\t\tplt.plot(x, losses[\"reconstruction\"])\n",
    "\t\t\tplt.plot(x, losses[\"smoothness\"])\n",
    "\t\t\tplt.legend(('total', 'diffusion', 'reconstruction', 'smoothness'), loc='upper right')\n",
    "\t\t\tplt.title(\"loss\")\n",
    "\t\telse:\n",
    "\t\t\tplt.plot(x, losses[loss_type])\n",
    "\t\t\tplt.title(loss_type)\n",
    "\n",
    "\tdef fit(self,n_steps = 1000):\n",
    "\t\t# train Flow Embedder on the provided graph\n",
    "\t\tself.train()\n",
    "\t\t# self.weight_of_flow = 0\n",
    "\t\tfor step in trange(n_steps):\n",
    "\t\t\t# if step == 100:\n",
    "\t\t\t# \tself.weight_of_flow = 1\n",
    "\t\t\t# if step == 200:\n",
    "\t\t\t# \tself.weight_of_flow = 0.5\n",
    "\t\t\tself.optim.zero_grad()\n",
    "\t\t\t# compute loss\n",
    "\t\t\tloss = self.loss()\n",
    "\t\t\t# print(\"loss is \",loss)\n",
    "\t\t\t# compute gradient and step backwards\n",
    "\t\t\tloss.backward()\n",
    "\t\t\tself.optim.step()\n",
    "\t\t\t#if step % 100 == 0:\n",
    "\t\t\t#\tprint(f\"EPOCH {step}. Loss {loss}. Flow strength {self.flow_strength}. Weight of flow {self.weight_of_flow} Heatmap of P embedding is \")\n",
    "\t\t\t#\tself.visualize_diffusion_matrices()\n",
    "\t\t\t#\tself.visualize_points()\n",
    "\t\t\t# TODO: Criteria to automatically end training\n",
    "\t\tprint(\"Exiting training with loss \",loss)\n",
    "\t\treturn self.embedded_points\n",
    "    \n",
    "if torch.__version__[:4] == \"1.13\":\n",
    "\tdevice = torch.device('cuda' if torch.cuda.is_available() else 'mps' if torch.has_mps else 'cpu')\n",
    "else:\n",
    "\tdevice = torch.device('cuda' if torch.cuda.is_available() else 'cpu')"
   ]
  },
  {
   "cell_type": "markdown",
   "id": "e30b7d66",
   "metadata": {},
   "source": [
    "# Testing"
   ]
  },
  {
   "cell_type": "code",
   "execution_count": 145,
   "id": "ea07f4c5",
   "metadata": {},
   "outputs": [],
   "source": [
    "import numpy as np\n",
    "from random import *\n",
    "\n",
    "def tree():\n",
    "    labels = []\n",
    "    data = np.array([[None,None] for i in range(900)])\n",
    "    flow = np.array([[None,None] for i in range(900)])\n",
    "    \n",
    "    for i in range(100):\n",
    "        data[i][0] = np.random.uniform(0.0, 1.0)\n",
    "        data[i][1] = np.random.uniform(1.0, 2.0)\n",
    "        f = [np.random.uniform(2.0, 3.0) - data[i][0], np.random.uniform(-1.0, 1.0) - data[i][1]]\n",
    "        flow[i] = f/np.linalg.norm(f)\n",
    "        labels.append(0)\n",
    "    for i in range(100,200):\n",
    "        data[i][0] = np.random.uniform(0.0, 1.0)\n",
    "        data[i][1] = np.random.uniform(-2.0, -1.0)\n",
    "        f = [np.random.uniform(2.0, 3.0) - data[i][0], np.random.uniform(-1.0, 1.0) - data[i][1]]\n",
    "        flow[i] = f/np.linalg.norm(f)\n",
    "        labels.append(1)\n",
    "    for i in range(200,300):\n",
    "        data[i][0] = np.random.uniform(2.0, 3.0)\n",
    "        data[i][1] = np.random.uniform(-1.0, 1.0)\n",
    "        if(i < 250):\n",
    "            f = [np.random.uniform(4.0, 5.0) - data[i][0], np.random.uniform(2.0, 3.0) - data[i][1]]\n",
    "            flow[i] = f/np.linalg.norm(f)\n",
    "        else:\n",
    "            f = [np.random.uniform(4.0, 5.0) - data[i][0], np.random.uniform(-2.0, -1.0) - data[i][1]]\n",
    "            flow[i] = f/np.linalg.norm(f)\n",
    "        labels.append(2)\n",
    "    for i in range(300,400):\n",
    "        data[i][0] = np.random.uniform(4.0, 5.0)\n",
    "        data[i][1] = np.random.uniform(2.0, 3.0)\n",
    "        if(i < 250):\n",
    "            f = [np.random.uniform(6.0, 7.0) - data[i][0], np.random.uniform(3.0, 4.0) - data[i][1]]\n",
    "            flow[i] = f/np.linalg.norm(f)\n",
    "        else:\n",
    "            f = [np.random.uniform(6.0, 7.0) - data[i][0], np.random.uniform(1.0, 2.0) - data[i][1]]\n",
    "            flow[i] = f/np.linalg.norm(f)\n",
    "        labels.append(3)\n",
    "    for i in range(400,500):\n",
    "        data[i][0] = np.random.uniform(4.0, 5.0)\n",
    "        data[i][1] = np.random.uniform(-2.0, -1.0)\n",
    "        if(i < 250):\n",
    "            f = [np.random.uniform(6.0, 7.0) - data[i][0], np.random.uniform(-2.0, -1.0) - data[i][1]]\n",
    "            flow[i] = f/np.linalg.norm(f)\n",
    "        else:\n",
    "            f = [np.random.uniform(6.0, 7.0) - data[i][0], np.random.uniform(-4.0, -3.0) - data[i][1]]\n",
    "            flow[i] = f/np.linalg.norm(f)\n",
    "        labels.append(4)\n",
    "    for i in range(500,600):\n",
    "        data[i][0] = np.random.uniform(6.0, 7.0)\n",
    "        data[i][1] = np.random.uniform(3.0, 4.0)\n",
    "        flow[i] = [1,0]\n",
    "        labels.append(5)\n",
    "    for i in range(600,700):\n",
    "        data[i][0] = np.random.uniform(6.0, 7.0)\n",
    "        data[i][1] = np.random.uniform(1.0, 2.0)\n",
    "        flow[i] = [1,0]\n",
    "        labels.append(6)\n",
    "    for i in range(700,800):\n",
    "        data[i][0] = np.random.uniform(6.0, 7.0)\n",
    "        data[i][1] = np.random.uniform(-2.0, -1.0)\n",
    "        flow[i] = [1,0]\n",
    "        labels.append(7)\n",
    "    for i in range(800,900):\n",
    "        data[i][0] = np.random.uniform(6.0, 7.0)\n",
    "        data[i][1] = np.random.uniform(-4.0, -3.0)\n",
    "        flow[i] = [1,0]\n",
    "        labels.append(8)\n",
    "        \n",
    "    return np.array(data, dtype=float), np.array(flow, dtype=float), labels"
   ]
  },
  {
   "cell_type": "code",
   "execution_count": 146,
   "id": "72706a84",
   "metadata": {},
   "outputs": [
    {
     "name": "stdout",
     "output_type": "stream",
     "text": [
      "(900, 2)\n",
      "(900, 2)\n",
      "(900,)\n"
     ]
    }
   ],
   "source": [
    "data, flow, labels = tree()\n",
    "\n",
    "print(np.shape(data))\n",
    "print(np.shape(flow))\n",
    "print(np.shape(labels))"
   ]
  },
  {
   "cell_type": "code",
   "execution_count": 147,
   "id": "58e72d4a",
   "metadata": {},
   "outputs": [
    {
     "data": {
      "text/plain": [
       "<matplotlib.quiver.Quiver at 0x2b09ff433400>"
      ]
     },
     "execution_count": 147,
     "metadata": {},
     "output_type": "execute_result"
    },
    {
     "data": {
      "image/png": "[encoded data removed]",
      "text/plain": [
       "<Figure size 432x288 with 1 Axes>"
      ]
     },
     "metadata": {
      "needs_background": "light"
     },
     "output_type": "display_data"
    }
   ],
   "source": [
    "import matplotlib.pyplot as plt\n",
    "\n",
    "plt.scatter(data[:,0], data[:,1], c = labels)\n",
    "plt.quiver(data[:,0],data[:,1], flow[:,0], flow[:,1])"
   ]
  },
  {
   "cell_type": "code",
   "execution_count": 148,
   "id": "79c7988e",
   "metadata": {},
   "outputs": [],
   "source": [
    "X = torch.tensor(data)\n",
    "flow = torch.tensor(flow)\n",
    "X = X.float().to(device)\n",
    "flow = flow.float().to(device)"
   ]
  },
  {
   "cell_type": "code",
   "execution_count": 155,
   "id": "da78ed65",
   "metadata": {},
   "outputs": [
    {
     "name": "stderr",
     "output_type": "stream",
     "text": [
      "100%|██████████| 200/200 [00:17<00:00, 11.74it/s]"
     ]
    },
    {
     "name": "stdout",
     "output_type": "stream",
     "text": [
      "Exiting training with loss  tensor(895.0668, device='cuda:0', grad_fn=<AddBackward0>)\n"
     ]
    },
    {
     "name": "stderr",
     "output_type": "stream",
     "text": [
      "\n"
     ]
    }
   ],
   "source": [
    "dfe = DiffusionFlowEmbedder(X,flow,t=1,sigma_graph=15,sigma_embedding=15,device=device, FA_type = \"ReLU\")\n",
    "dfe = dfe.to(device)\n",
    "embeddings = dfe.fit(n_steps=200)"
   ]
  },
  {
   "cell_type": "markdown",
   "id": "2f8213b8",
   "metadata": {},
   "source": [
    "# Model Copy"
   ]
  },
  {
   "cell_type": "code",
   "execution_count": 88,
   "id": "6471d99d",
   "metadata": {},
   "outputs": [
    {
     "data": {
      "text/plain": [
       "Sequential(\n",
       "  (0): Linear(in_features=2, out_features=2, bias=True)\n",
       "  (1): LeakyReLU(negative_slope=0.01)\n",
       "  (2): Linear(in_features=2, out_features=4, bias=True)\n",
       "  (3): LeakyReLU(negative_slope=0.01)\n",
       "  (4): Linear(in_features=4, out_features=8, bias=True)\n",
       "  (5): LeakyReLU(negative_slope=0.01)\n",
       "  (6): Linear(in_features=8, out_features=4, bias=True)\n",
       "  (7): LeakyReLU(negative_slope=0.01)\n",
       "  (8): Linear(in_features=4, out_features=2, bias=True)\n",
       "  (9): Linear(in_features=2, out_features=2, bias=True)\n",
       ")"
      ]
     },
     "execution_count": 88,
     "metadata": {},
     "output_type": "execute_result"
    }
   ],
   "source": [
    "dfe.FlowArtist"
   ]
  },
  {
   "cell_type": "code",
   "execution_count": 156,
   "id": "6e0cc549",
   "metadata": {},
   "outputs": [
    {
     "name": "stderr",
     "output_type": "stream",
     "text": [
      "No artists with labels found to put in legend.  Note that artists whose label start with an underscore are ignored when legend() is called with no argument.\n"
     ]
    },
    {
     "data": {
      "image/png": "[encoded data removed]",
      "text/plain": [
       "<Figure size 432x288 with 1 Axes>"
      ]
     },
     "metadata": {
      "needs_background": "light"
     },
     "output_type": "display_data"
    }
   ],
   "source": [
    "dfe.visualize_points(labels = labels)"
   ]
  },
  {
   "cell_type": "code",
   "execution_count": 140,
   "id": "f4819b68",
   "metadata": {},
   "outputs": [
    {
     "data": {
      "text/plain": [
       "[<matplotlib.lines.Line2D at 0x2b09ff1a80a0>]"
      ]
     },
     "execution_count": 140,
     "metadata": {},
     "output_type": "execute_result"
    },
    {
     "data": {
      "image/png": "[encoded data removed]",
      "text/plain": [
       "<Figure size 432x288 with 1 Axes>"
      ]
     },
     "metadata": {
      "needs_background": "light"
     },
     "output_type": "display_data"
    }
   ],
   "source": [
    "x = []\n",
    "losses = []\n",
    "for i in range(len(dfe.losses)):\n",
    "    x.append(i)\n",
    "    losses.append(dfe.losses[i][0].detach().cpu().numpy())\n",
    "\n",
    "plt.plot(x, losses)"
   ]
  },
  {
   "cell_type": "code",
   "execution_count": 141,
   "id": "f90a0d19",
   "metadata": {},
   "outputs": [],
   "source": [
    "def visualize_loss(loss_type = \"total\"):\n",
    "    # diffusion_loss,reconstruction_loss, smoothness_loss\n",
    "    x = []\n",
    "    losses = {}\n",
    "    losses[\"total\"] = []\n",
    "    losses[\"diffusion\"] = []\n",
    "    losses[\"reconstruction\"] = []\n",
    "    losses[\"smoothness\"] = []\n",
    "    for i in range(len(dfe.losses)):\n",
    "        x.append(i)\n",
    "        losses[\"diffusion\"].append(dfe.losses[i][0].detach().cpu().numpy())\n",
    "        losses[\"reconstruction\"].append(dfe.losses[i][1].detach().cpu().numpy())\n",
    "        losses[\"smoothness\"].append(dfe.losses[i][2].detach().cpu().numpy())\n",
    "        losses[\"total\"].append(losses[\"diffusion\"][i] + losses[\"reconstruction\"][i] + losses[\"smoothness\"][i])\n",
    "\n",
    "    if loss_type == \"all\":\n",
    "        plt.plot(x, losses[\"total\"])\n",
    "        plt.title(\"total\")\n",
    "        \n",
    "        plt.plot(x, losses[\"diffusion\"])\n",
    "        plt.title(\"diffusion\")\n",
    "        \n",
    "        plt.plot(x, losses[\"reconstruction\"])\n",
    "        plt.title(\"reconstruction\")\n",
    "        \n",
    "        plt.plot(x, losses[\"smoothness\"])\n",
    "        plt.title(\"smoothness\")\n",
    "    else:\n",
    "        plt.plot(x, losses[loss_type])\n",
    "        plt.title(loss_type)"
   ]
  },
  {
   "cell_type": "code",
   "execution_count": 158,
   "id": "e8477ba6",
   "metadata": {},
   "outputs": [
    {
     "data": {
      "image/png": "[encoded data removed]",
      "text/plain": [
       "<Figure size 432x288 with 1 Axes>"
      ]
     },
     "metadata": {
      "needs_background": "light"
     },
     "output_type": "display_data"
    }
   ],
   "source": [
    "dfe.visualize_loss(\"reconstruction\")"
   ]
  },
  {
   "cell_type": "code",
   "execution_count": null,
   "id": "2791ff75",
   "metadata": {},
   "outputs": [],
   "source": []
  }
 ],
 "metadata": {
  "kernelspec": {
   "display_name": "Python 3 (ipykernel)",
   "language": "python",
   "name": "python3"
  },
  "language_info": {
   "codemirror_mode": {
    "name": "ipython",
    "version": 3
   },
   "file_extension": ".py",
   "mimetype": "text/x-python",
   "name": "python",
   "nbconvert_exporter": "python",
   "pygments_lexer": "ipython3",
   "version": "3.9.13"
  }
 },
 "nbformat": 4,
 "nbformat_minor": 5
}
