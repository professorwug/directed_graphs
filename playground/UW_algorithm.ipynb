{
 "cells": [
  {
   "cell_type": "code",
   "execution_count": null,
   "metadata": {},
   "outputs": [],
   "source": [
    "import numpy as np\n",
    "import scipy"
   ]
  },
  {
   "cell_type": "markdown",
   "metadata": {},
   "source": [
    "## UW Directed Graph Embedding Algorithm"
   ]
  },
  {
   "cell_type": "markdown",
   "metadata": {},
   "source": [
    "![UW Directed Embedding Algorithm](../images/UW_directed_embedding_alg.png)"
   ]
  },
  {
   "cell_type": "code",
   "execution_count": null,
   "metadata": {},
   "outputs": [],
   "source": [
    "\"\"\"\n",
    "UW directed embedding algorithm\n",
    "input: W affinity matrix, m embedding dimension\n",
    "\"\"\"\n",
    "def UW_directed_embedding(W, m):\n",
    "    S = (W + np.transpose(W))/2\n",
    "    q = np.sum(S, axis = 1)\n",
    "    Q = np.diag(q)\n",
    "    Qinv = np.linalg.inv(Q)\n",
    "    V = Qinv@S@Qinv\n",
    "    q1 = np.sum(V, axis=1)\n",
    "    Q1 = np.diag(q)\n",
    "    Q1inv = np.linalg.inv(Q1)\n",
    "    Hss = Q1inv@V\n",
    "    eig_vals, eig_vecs = np.linalg.eig(Hss)\n",
    "    idx = eig_vals.argsort()[::-1]\n",
    "    eig_vals = eig_vals[idx]\n",
    "    eig_vecs = eig_vecs[:,idx]\n",
    "    phi = eig_vecs[:,:(m+1)]\n",
    "    coords = eig_vecs[:,1:(m+1)]\n",
    "    A = np.diag(eig_vals)\n",
    "    \n",
    "    evals, evecs = scipy.linalg.eig(Hss, left = True, right = False)\n",
    "    pi = evecs[np.where(evals == 1)]\n",
    "    density = pi/sum(pi)\n",
    "    p = np.sum(W, axis = 1)\n",
    "    P = np.diag(p)\n",
    "    Pinv = np.linalg.inv(P)\n",
    "    T = Pinv@W@Pinv\n",
    "    p1 = np.sum(T, axis = 1)\n",
    "    P1 = np.diag(p1)\n",
    "    P1inv = np.linalg.inv(P1)\n",
    "    Haa = P1@T\n",
    "    R = ((Haa - Hss)@phi)\n",
    "    fields = R[:,1:]\n",
    "    print(np.shape(Haa))\n",
    "    print(np.shape(R))\n",
    "    print(np.shape(fields))\n",
    "    return coords, density, fields"
   ]
  },
  {
   "cell_type": "code",
   "execution_count": null,
   "metadata": {},
   "outputs": [
    {
     "name": "stdout",
     "output_type": "stream",
     "text": [
      "[ 4.          2.30277564 -1.30277564  1.        ]\n",
      "[[ 0.          0.          0.          0.63799308]\n",
      " [ 0.          0.49471995 -0.39390152 -0.42532872]\n",
      " [ 0.          0.64450909  0.90706684 -0.63799308]\n",
      " [ 1.         -0.5829753   0.14856428  0.07088812]]\n",
      "----\n",
      "[ 4.          2.30277564  1.         -1.30277564]\n",
      "[[ 0.          0.          0.63799308]\n",
      " [ 0.          0.49471995 -0.42532872]\n",
      " [ 0.          0.64450909 -0.63799308]\n",
      " [ 1.         -0.5829753   0.07088812]]\n"
     ]
    }
   ],
   "source": [
    "# Testing Block\n",
    "S = [[1,0,0,0],\n",
    "     [1,1,1,0],\n",
    "     [1,3,0,0],\n",
    "     [1,2,0,4]]\n",
    "q = [np.sum(row) for row in S]\n",
    "Q = np.diag(q)\n",
    "# print(q)\n",
    "# print(Q)\n",
    "# print(Q@S@Q)\n",
    "\n",
    "eig_vals, eig_vecs = np.linalg.eig(S)\n",
    "print(eig_vals)\n",
    "print(eig_vecs)\n",
    "\n",
    "print(\"----\")\n",
    "\n",
    "idx = eig_vals.argsort()[::-1]   \n",
    "eig_vals = eig_vals[idx]\n",
    "eig_vecs = eig_vecs[:,idx]\n",
    "phi = eig_vecs[:,:3]\n",
    "print(eig_vals)\n",
    "print(phi)\n",
    "\n",
    "S2 = [[1,0,0],\n",
    "      [1,0,0],\n",
    "      [1,0,0]]\n",
    "\n",
    "S22 = S2 + np.transpose(S2)\n",
    "# print(S22)\n"
   ]
  }
 ],
 "metadata": {
  "kernelspec": {
   "display_name": "Python 3.9.12 ('final')",
   "language": "python",
   "name": "python3"
  }
 },
 "nbformat": 4,
 "nbformat_minor": 2
}
