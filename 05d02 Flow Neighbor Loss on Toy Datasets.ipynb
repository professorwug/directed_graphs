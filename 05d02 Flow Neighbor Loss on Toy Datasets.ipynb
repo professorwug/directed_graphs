{
 "cells": [
  {
   "cell_type": "markdown",
   "id": "1102d6bf",
   "metadata": {},
   "source": [
    "# Flow Neighbor Loss on Toy Datasets\n",
    "\n"
   ]
  },
  {
   "cell_type": "code",
   "execution_count": null,
   "id": "d2db6e90",
   "metadata": {},
   "outputs": [],
   "source": [
    "# default_exp flow_neighbor_embedder\n",
    "from nbdev.showdoc import *\n",
    "import numpy as np\n",
    "import matplotlib.pyplot as plt\n",
    "import torch\n",
    "import directed_graphs\n",
    "device = torch.device(\"cuda\" if torch.cuda.is_available() else \"cpu\")\n",
    "%load_ext autoreload\n",
    "%autoreload 2"
   ]
  },
  {
   "cell_type": "code",
   "execution_count": null,
   "id": "0c65e018",
   "metadata": {},
   "outputs": [],
   "source": [
    "from directed_graphs.diffusion_distance_flow_embedder import FixedDiffusionMapEmbedding\n",
    "from directed_graphs.multiscale_flow_embedder import MultiscaleDiffusionFlowEmbedder\n",
    "from directed_graphs.flow_embedding_training_utils import (\n",
    "    FETrainer,\n",
    "    visualize_points,\n",
    "    save_embedding_visualization,\n",
    ")\n",
    "from directed_graphs.diffusion_flow_embedding import (\n",
    "    affinity_matrix_from_pointset_to_pointset,\n",
    ")\n",
    "import torch.nn.functional as F\n",
    "import torch\n",
    "\n",
    "class FlowNeighborEmbedder(FETrainer):\n",
    "    def __init__(\n",
    "        self,\n",
    "        X,\n",
    "        flows,\n",
    "        labels,\n",
    "        device=torch.device(\"cuda\" if torch.cuda.is_available() else \"cpu\"),\n",
    "        sigma_graph=2.13,\n",
    "        flow_strength_graph=1,\n",
    "    ):\n",
    "        super().__init__(X, flows, labels, device=device)\n",
    "        self.vizfiz = [\n",
    "            save_embedding_visualization,\n",
    "            visualize_points,\n",
    "        ]\n",
    "        loss_weights = {\n",
    "            \"diffusion\": 0,\n",
    "            \"smoothness\": 0,\n",
    "            \"reconstruction\": 0,\n",
    "            \"diffusion map regularization\": 0,\n",
    "            \"flow cosine loss\": 0,\n",
    "            \"flow neighbor loss\": 1,\n",
    "        }\n",
    "        self.FE = MultiscaleDiffusionFlowEmbedder(\n",
    "            X=X,\n",
    "            flows=flows,\n",
    "            ts=[1],\n",
    "            sigma_graph=sigma_graph,\n",
    "            flow_strength_graph=flow_strength_graph,\n",
    "            device=device,\n",
    "            use_embedding_grid=False,\n",
    "            embedder=FixedDiffusionMapEmbedding(X, t=1, k=18, device=device),\n",
    "        ).to(device)\n",
    "        self.title = \"Flow Neighbor Embeddings without \"\n",
    "        self.epochs_between_visualization = 100\n",
    "        self.total_epochs = 1000"
   ]
  }
 ],
 "metadata": {
  "kernelspec": {
   "display_name": "Python 3 (ipykernel)",
   "language": "python",
   "name": "python3"
  }
 },
 "nbformat": 4,
 "nbformat_minor": 5
}
