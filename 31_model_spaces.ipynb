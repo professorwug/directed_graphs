{
 "cells": [
  {
   "cell_type": "code",
   "execution_count": null,
   "metadata": {},
   "outputs": [],
   "source": [
    "# default_exp \n",
    "from nbdev.showdoc import *\n",
    "import numpy as np\n",
    "%load_ext autoreload\n",
    "%autoreload 2"
   ]
  },
  {
   "cell_type": "markdown",
   "metadata": {},
   "source": [
    "# Model Embedding Spaces\n",
    "For use with the flow embedding network. Each of these classes represents a candidate space for embedding."
   ]
  },
  {
   "cell_type": "markdown",
   "metadata": {},
   "source": [
    "# Shortest Path Distances with NetworkX"
   ]
  },
  {
   "cell_type": "code",
   "execution_count": null,
   "metadata": {},
   "outputs": [],
   "source": [
    "import networkx as nx\n",
    "from directed_graphs.datasets import SmallRandom, visualize_graph\n",
    "import torch_geometric\n",
    "from torch_geometric.utils import to_networkx\n",
    "dataset = SmallRandom(num_nodes=10,prob_edge=0.2)\n",
    "data = dataset[0]\n",
    "G_nx = to_networkx(dataset[0],to_undirected=False)"
   ]
  },
  {
   "cell_type": "code",
   "execution_count": null,
   "metadata": {},
   "outputs": [
    {
     "data": {
      "text/plain": [
       "<networkx.classes.digraph.DiGraph at 0x1371acb80>"
      ]
     },
     "execution_count": null,
     "metadata": {},
     "output_type": "execute_result"
    }
   ],
   "source": [
    "G_nx"
   ]
  },
  {
   "cell_type": "code",
   "execution_count": null,
   "metadata": {},
   "outputs": [],
   "source": [
    "paths = dict(nx.all_pairs_shortest_path_length(G_nx))"
   ]
  },
  {
   "cell_type": "code",
   "execution_count": null,
   "metadata": {},
   "outputs": [
    {
     "data": {
      "text/plain": [
       "{1: 0, 8: 1, 9: 1, 3: 1, 0: 2, 2: 2, 4: 2, 5: 2, 6: 3, 7: 3}"
      ]
     },
     "execution_count": null,
     "metadata": {},
     "output_type": "execute_result"
    }
   ],
   "source": [
    "paths[1]"
   ]
  },
  {
   "cell_type": "code",
   "execution_count": null,
   "metadata": {},
   "outputs": [
    {
     "data": {
      "image/png": "[encoded data removed]",
      "text/plain": [
       "<Figure size 432x288 with 1 Axes>"
      ]
     },
     "metadata": {},
     "output_type": "display_data"
    }
   ],
   "source": [
    "visualize_graph(data)"
   ]
  },
  {
   "cell_type": "code",
   "execution_count": null,
   "metadata": {},
   "outputs": [
    {
     "data": {
      "text/plain": [
       "array(dict_items([(0, {0: 0}), (1, {1: 0, 8: 1, 9: 1, 3: 1, 0: 2, 2: 2, 4: 2, 5: 2, 6: 3, 7: 3}), (2, {2: 0, 8: 1, 6: 1, 7: 1, 0: 2, 3: 2, 4: 2, 9: 2, 1: 3, 5: 3}), (3, {3: 0, 1: 1, 2: 1, 5: 1, 0: 2, 6: 2, 7: 2, 8: 2, 9: 2, 4: 3}), (4, {4: 0, 0: 1, 9: 1, 3: 1, 5: 1, 1: 2, 2: 2, 8: 2, 6: 3, 7: 3}), (5, {5: 0, 0: 1}), (6, {6: 0, 9: 1, 8: 2, 0: 3, 4: 3, 3: 4, 5: 4, 1: 5, 2: 5, 7: 6}), (7, {7: 0, 8: 1, 2: 1, 3: 1, 0: 2, 1: 2, 4: 2, 5: 2, 6: 2, 9: 3}), (8, {8: 0, 0: 1, 4: 1, 9: 2, 3: 2, 5: 2, 1: 3, 2: 3, 6: 4, 7: 4}), (9, {9: 0, 8: 1, 0: 2, 4: 2, 3: 3, 5: 3, 1: 4, 2: 4, 6: 5, 7: 5})]),\n",
       "      dtype=object)"
      ]
     },
     "execution_count": null,
     "metadata": {},
     "output_type": "execute_result"
    }
   ],
   "source": [
    "\n",
    "np.array(paths.items())"
   ]
  },
  {
   "cell_type": "code",
   "execution_count": null,
   "metadata": {},
   "outputs": [
    {
     "data": {
      "text/plain": [
       "array([[0, {0: 0}],\n",
       "       [1, {1: 0, 8: 1, 9: 1, 3: 1, 0: 2, 2: 2, 4: 2, 5: 2, 6: 3, 7: 3}],\n",
       "       [2, {2: 0, 8: 1, 6: 1, 7: 1, 0: 2, 3: 2, 4: 2, 9: 2, 1: 3, 5: 3}],\n",
       "       [3, {3: 0, 1: 1, 2: 1, 5: 1, 0: 2, 6: 2, 7: 2, 8: 2, 9: 2, 4: 3}],\n",
       "       [4, {4: 0, 0: 1, 9: 1, 3: 1, 5: 1, 1: 2, 2: 2, 8: 2, 6: 3, 7: 3}],\n",
       "       [5, {5: 0, 0: 1}],\n",
       "       [6, {6: 0, 9: 1, 8: 2, 0: 3, 4: 3, 3: 4, 5: 4, 1: 5, 2: 5, 7: 6}],\n",
       "       [7, {7: 0, 8: 1, 2: 1, 3: 1, 0: 2, 1: 2, 4: 2, 5: 2, 6: 2, 9: 3}],\n",
       "       [8, {8: 0, 0: 1, 4: 1, 9: 2, 3: 2, 5: 2, 1: 3, 2: 3, 6: 4, 7: 4}],\n",
       "       [9, {9: 0, 8: 1, 0: 2, 4: 2, 3: 3, 5: 3, 1: 4, 2: 4, 6: 5, 7: 5}]],\n",
       "      dtype=object)"
      ]
     },
     "execution_count": null,
     "metadata": {},
     "output_type": "execute_result"
    }
   ],
   "source": [
    "np.array(list(paths.items()))"
   ]
  },
  {
   "cell_type": "markdown",
   "metadata": {},
   "source": [
    "The only hard part here is converting this dictionary to an array without having to loop through entry by entry. Ah well, I suppose computers are fast enough to handle it."
   ]
  },
  {
   "cell_type": "code",
   "execution_count": null,
   "metadata": {},
   "outputs": [],
   "source": [
    "import torch\n",
    "path_distance_array = torch.empty(data.num_nodes, data.num_nodes)\n",
    "for i in range(data.num_nodes):\n",
    "  for j in range(data.num_nodes):\n",
    "    try:\n",
    "      path_distance_array[i][j] = paths[i][j]\n",
    "    except KeyError:\n",
    "      path_distance_array[i][j] = 1000"
   ]
  },
  {
   "cell_type": "code",
   "execution_count": null,
   "metadata": {},
   "outputs": [
    {
     "data": {
      "text/plain": [
       "tensor([[   0., 1000., 1000., 1000., 1000., 1000., 1000., 1000., 1000., 1000.],\n",
       "        [   2.,    0.,    2.,    1.,    2.,    2.,    3.,    3.,    1.,    1.],\n",
       "        [   2.,    3.,    0.,    2.,    2.,    3.,    1.,    1.,    1.,    2.],\n",
       "        [   2.,    1.,    1.,    0.,    3.,    1.,    2.,    2.,    2.,    2.],\n",
       "        [   1.,    2.,    2.,    1.,    0.,    1.,    3.,    3.,    2.,    1.],\n",
       "        [   1., 1000., 1000., 1000., 1000.,    0., 1000., 1000., 1000., 1000.],\n",
       "        [   3.,    5.,    5.,    4.,    3.,    4.,    0.,    6.,    2.,    1.],\n",
       "        [   2.,    2.,    1.,    1.,    2.,    2.,    2.,    0.,    1.,    3.],\n",
       "        [   1.,    3.,    3.,    2.,    1.,    2.,    4.,    4.,    0.,    2.],\n",
       "        [   2.,    4.,    4.,    3.,    2.,    3.,    5.,    5.,    1.,    0.]])"
      ]
     },
     "execution_count": null,
     "metadata": {},
     "output_type": "execute_result"
    }
   ],
   "source": [
    "path_distance_array"
   ]
  },
  {
   "cell_type": "code",
   "execution_count": null,
   "metadata": {},
   "outputs": [
    {
     "ename": "KeyError",
     "evalue": "3",
     "output_type": "error",
     "traceback": [
      "\u001b[0;31m---------------------------------------------------------------------------\u001b[0m",
      "\u001b[0;31mKeyError\u001b[0m                                  Traceback (most recent call last)",
      "\u001b[1;32m/Users/adjourner/Projects/directed_graphs/31_model_spaces.ipynb Cell 13'\u001b[0m in \u001b[0;36m<cell line: 1>\u001b[0;34m()\u001b[0m\n\u001b[0;32m----> <a href='vscode-notebook-cell:/Users/adjourner/Projects/directed_graphs/31_model_spaces.ipynb#ch0000016?line=0'>1</a>\u001b[0m paths[\u001b[39m0\u001b[39;49m][\u001b[39m3\u001b[39;49m]\n",
      "\u001b[0;31mKeyError\u001b[0m: 3"
     ]
    }
   ],
   "source": [
    "paths[0][3]"
   ]
  },
  {
   "cell_type": "code",
   "execution_count": null,
   "metadata": {},
   "outputs": [],
   "source": []
  }
 ],
 "metadata": {
  "kernelspec": {
   "display_name": "Python 3.9.13 ('pyg_from_source')",
   "language": "python",
   "name": "python3"
  }
 },
 "nbformat": 4,
 "nbformat_minor": 2
}
