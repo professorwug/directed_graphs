{
 "cells": [
  {
   "cell_type": "code",
   "execution_count": null,
   "metadata": {},
   "outputs": [],
   "source": [
    "# default_exp differentiable_laziness\n",
    "# from nbdev.showdoc import *\n",
    "import numpy as np\n",
    "%load_ext autoreload\n",
    "%autoreload 2"
   ]
  },
  {
   "cell_type": "markdown",
   "metadata": {},
   "source": [
    "# Differentiable Diffusion Curvature \n",
    "A fast adaptation of diffusion curvature running entirely on pytorch. Additionally allows for GPU acceleration when using large matrices."
   ]
  },
  {
   "cell_type": "code",
   "execution_count": null,
   "metadata": {},
   "outputs": [],
   "source": [
    "#export\n",
    "import torch\n",
    "from torch import sparse\n",
    "def curvature(P, diffusion_powers = 8, aperture = 20, smoothing = 1, avg_transition_probabilities = True, precomputed_powered_P = None):\n",
    "  \"\"\"Same as the `curvature` function, but uses pytorch as backend instead of numpy. \n",
    "  Works on both tensors and COO sparse tensors.\n",
    "  \"\"\"\n",
    "  sample_number = 100\n",
    "  row_partitions = torch.empty(sample_number)\n",
    "  for idx, i in enumerate(torch.randint(P.shape[0]), size = (sample_number,)):\n",
    "    row_partitions[idx] = torch.topk(P[i].dense(), aperture, largest=True, sorted = True)[0]\n",
    "  P_threshold = torch.mean(row_partitions)\n",
    "  # Compute powers of P\n",
    "  if precomputed_powered_P is not None:\n",
    "    P_powered = precomputed_powered_P\n",
    "  else:\n",
    "    P_powered = torch.linalg.matrix_power(P, diffusion_powers)\n",
    "  near_neighbors_only = P_powered * P_threshold\n",
    "  if near_neighbors_only.is_sparse:\n",
    "    laziness_aggregate = sparse.sum(near_neighbors_only,dim=[1]).to_dense()\n",
    "  else:\n",
    "    laziness_aggregate = torch.sum(near_neighbors_only, dim=1)\n",
    "  laziness = laziness_aggregate\n",
    "  if smoothing:\n",
    "    average_laziness = P @ laziness[:,None]\n",
    "    average_laziness = average_laziness.squeeze()\n",
    "    laziness = average_laziness\n",
    "  return laziness\n",
    "\n"
   ]
  },
  {
   "cell_type": "markdown",
   "metadata": {},
   "source": [
    "Testing:"
   ]
  }
 ],
 "metadata": {
  "kernelspec": {
   "display_name": "Python 3.8.13 ('stable_graph')",
   "language": "python",
   "name": "python3"
  }
 },
 "nbformat": 4,
 "nbformat_minor": 2
}
